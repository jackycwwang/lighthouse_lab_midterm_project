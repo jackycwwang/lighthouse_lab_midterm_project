{
 "cells": [
  {
   "cell_type": "markdown",
   "id": "d762ca93-c9bb-4d0a-8e0c-3d60c23cfcd6",
   "metadata": {},
   "source": [
    "## Feature Engineering "
   ]
  },
  {
   "cell_type": "markdown",
   "id": "85c2d3c6-0fb9-49c6-b564-f45ac17c9c2d",
   "metadata": {},
   "source": [
    "Through the process of data analysis, we came across a number of interesting relationships and spread of data.  We hoped to include some of this in the initial baseline model.\n",
    "\n",
    "\n",
    "To model the sample data, , What discovered in initial exploration - why chose to initially encode each feature the way we did and how changed during basline\n",
    "Discuss data sets used, (weather, passengers, etc)\n",
    "how chose to encode and data engineering process\n",
    "\n",
    "PCA, important_features\n",
    "metrics r2 and mae/mse\n",
    "* save pickles \n",
    "\n",
    "import modules.data_processing as dp"
   ]
  },
  {
   "cell_type": "code",
   "execution_count": null,
   "id": "1d9b6a22-8164-4eff-b766-25cabfb70fcc",
   "metadata": {},
   "outputs": [],
   "source": [
    "Airports: There seemed to be teirs of \n",
    "delays with airport size, \n",
    "\n",
    "Time of day \n",
    "etc "
   ]
  }
 ],
 "metadata": {
  "kernelspec": {
   "display_name": "bootcamp_env",
   "language": "python",
   "name": "bootcamp_env"
  },
  "language_info": {
   "codemirror_mode": {
    "name": "ipython",
    "version": 3
   },
   "file_extension": ".py",
   "mimetype": "text/x-python",
   "name": "python",
   "nbconvert_exporter": "python",
   "pygments_lexer": "ipython3",
   "version": "3.8.5"
  }
 },
 "nbformat": 4,
 "nbformat_minor": 5
}
