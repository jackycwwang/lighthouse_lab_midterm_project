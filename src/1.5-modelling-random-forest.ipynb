{
 "cells": [
  {
   "cell_type": "markdown",
   "id": "c0461fdd-79e3-4ced-a20e-7795d37515c8",
   "metadata": {},
   "source": [
    "## Random Forest"
   ]
  },
  {
   "cell_type": "code",
   "execution_count": 19,
   "id": "ab0e0fb9-40d2-45bb-a02d-9dc2ff1229c1",
   "metadata": {},
   "outputs": [],
   "source": [
    "from sklearn.ensemble import RandomForestRegressor\n",
    "\n",
    "from sklearn.model_selection import train_test_split\n",
    "from sklearn.model_selection import GridSearchCV\n",
    "from sklearn.metrics import r2_score, mean_squared_error, mean_absolute_error\n",
    "\n",
    "import pandas as pd\n",
    "import numpy as np\n",
    "\n",
    "import pickle"
   ]
  },
  {
   "cell_type": "code",
   "execution_count": 11,
   "id": "648e056e-f88e-4ea6-8c8e-13dc6d02a9f6",
   "metadata": {},
   "outputs": [],
   "source": [
    "df = pd.read_csv('../data/encoded_training_data_v5.csv')"
   ]
  },
  {
   "cell_type": "code",
   "execution_count": 13,
   "id": "18c9377c-1767-4c52-9330-58fc5147b7e0",
   "metadata": {},
   "outputs": [],
   "source": [
    "y = df.arr_delay.to_numpy()\n",
    "X = df.drop(columns=['arr_delay']).to_numpy()\n",
    "X_train, X_test, y_train, y_test = train_test_split(X, y, test_size=0.2, random_state=88)"
   ]
  },
  {
   "cell_type": "code",
   "execution_count": 14,
   "id": "abd0723a-40ae-4414-afa0-042984a1614a",
   "metadata": {},
   "outputs": [
    {
     "data": {
      "text/plain": [
       "(257219, 133)"
      ]
     },
     "execution_count": 14,
     "metadata": {},
     "output_type": "execute_result"
    }
   ],
   "source": [
    "X_train.shape"
   ]
  },
  {
   "cell_type": "code",
   "execution_count": 17,
   "id": "69875e2c-a6ae-4da2-b354-aaf81f8ec8a1",
   "metadata": {},
   "outputs": [
    {
     "name": "stdout",
     "output_type": "stream",
     "text": [
      " r2: 0.05335998580832646\n",
      " MSE: 278.49980180179136\n",
      " MAE: 12.986750698906787\n",
      "\n"
     ]
    }
   ],
   "source": [
    "# Initial run\n",
    "regr = RandomForestRegressor(max_depth=5, random_state=0)\n",
    "regr.fit(X_train, y_train)\n",
    "\n",
    "# # Save pickle file\n",
    "# model = regr\n",
    "# filename = '../model/random_forest.pkl'\n",
    "# pickle.dump(model, open(filename, 'wb'))\n",
    "\n",
    "y_pred = regr.predict(X_test)\n",
    "\n",
    "r2 = r2_score(y_test, y_pred)\n",
    "MSE = mean_squared_error(y_test,y_pred) \n",
    "RMSE = mean_squared_error(y_test,y_pred,squared=False)\n",
    "MAE = mean_absolute_error(y_test,y_pred)\n",
    "\n",
    "print(f' r2: {r2}\\n MSE: {MSE}\\n MAE: {MAE}\\n')"
   ]
  },
  {
   "cell_type": "code",
   "execution_count": 6,
   "id": "14c303f3-98f9-4ef6-9fcd-1677d07e20d3",
   "metadata": {},
   "outputs": [
    {
     "data": {
      "text/plain": [
       "RandomForestRegressor(max_depth=7, n_estimators=500, random_state=88)"
      ]
     },
     "execution_count": 6,
     "metadata": {},
     "output_type": "execute_result"
    }
   ],
   "source": [
    "# Grid Search 1\n",
    "param_grid = {'n_estimators': [10,500,300], 'max_depth': [3,5,7]}\n",
    "\n",
    "# # no more than 500 mzx!!\n",
    "# # max depth - 10 max!! ideally 3-5\n",
    "# # give combo of low and high, then where is it lying \n",
    "# # 2 step process\n",
    "\n",
    "regr = RandomForestRegressor(random_state=88) \n",
    "grid_search = GridSearchCV(regr, param_grid, cv=3, n_jobs=-1)\n",
    "grid_search.fit(X_train, y_train)\n",
    "\n",
    "# Save pickle file\n",
    "model = grid_search\n",
    "filename = '../model/random_forest_gs.pkl'\n",
    "pickle.dump(model, open(filename, 'wb'))\n",
    "\n",
    "best_result = grid_search.best_estimator_\n",
    "best_result"
   ]
  },
  {
   "cell_type": "code",
   "execution_count": 7,
   "id": "036bd47d-fa27-4cdb-899b-1a898e31c07f",
   "metadata": {},
   "outputs": [
    {
     "name": "stdout",
     "output_type": "stream",
     "text": [
      " r2: 0.06639414547984201\n",
      " MSE: 274.6651753009566\n",
      " MAE: 12.900575969228385\n",
      "\n"
     ]
    }
   ],
   "source": [
    "y_pred = grid_search.predict(X_test)\n",
    "\n",
    "r2 = r2_score(y_test, y_pred)\n",
    "MSE = mean_squared_error(y_test,y_pred) \n",
    "RMSE = mean_squared_error(y_test,y_pred,squared=False)\n",
    "MAE = mean_absolute_error(y_test,y_pred)\n",
    "\n",
    "print(f' r2: {r2}\\n MSE: {MSE}\\n MAE: {MAE}\\n')"
   ]
  },
  {
   "cell_type": "code",
   "execution_count": 8,
   "id": "4bc7daa8-6142-4d22-87d5-30daf18d9920",
   "metadata": {},
   "outputs": [
    {
     "data": {
      "text/plain": [
       "RandomForestRegressor(max_depth=13, n_estimators=800, random_state=88)"
      ]
     },
     "execution_count": 8,
     "metadata": {},
     "output_type": "execute_result"
    }
   ],
   "source": [
    "# Grid Search 2\n",
    "param_grid = {'n_estimators': [400,700, 800], 'max_depth': [7, 10, 13]}\n",
    "\n",
    "regr = RandomForestRegressor(random_state=88) \n",
    "grid_search2 = GridSearchCV(regr, param_grid, cv=3, n_jobs=-1)\n",
    "grid_search2.fit(X_train, y_train)\n",
    "\n",
    "# Save pickle file\n",
    "model = grid_search2\n",
    "filename = '../model/random_forest_gs2.pkl'\n",
    "pickle.dump(model, open(filename, 'wb'))\n",
    "\n",
    "best_result2 = grid_search2.best_estimator_\n",
    "best_result2"
   ]
  },
  {
   "cell_type": "code",
   "execution_count": 9,
   "id": "18a82f79-bd8a-45ee-a08e-2eb219e587cd",
   "metadata": {},
   "outputs": [
    {
     "name": "stdout",
     "output_type": "stream",
     "text": [
      " r2: 0.0999446144084124\n",
      " MSE: 264.7946872517665\n",
      " MAE: 12.655664459528753\n",
      "\n"
     ]
    }
   ],
   "source": [
    "y_pred = grid_search2.predict(X_test)\n",
    "\n",
    "r2 = r2_score(y_test, y_pred)\n",
    "MSE = mean_squared_error(y_test,y_pred) \n",
    "RMSE = mean_squared_error(y_test,y_pred,squared=False)\n",
    "MAE = mean_absolute_error(y_test,y_pred)\n",
    "\n",
    "print(f' r2: {r2}\\n MSE: {MSE}\\n MAE: {MAE}\\n')"
   ]
  },
  {
   "cell_type": "code",
   "execution_count": 18,
   "id": "c0402583-8ee5-4f31-9382-9fd7fa602b6b",
   "metadata": {},
   "outputs": [
    {
     "data": {
      "text/plain": [
       "RandomForestRegressor(max_depth=20, n_estimators=800, random_state=88)"
      ]
     },
     "execution_count": 18,
     "metadata": {},
     "output_type": "execute_result"
    }
   ],
   "source": [
    "# Grid Search 3\n",
    "# (this was a grid search, but then removed parameters to run faster)\n",
    "param_grid = {'n_estimators': [800], 'max_depth': [20]}\n",
    "\n",
    "regr = RandomForestRegressor(random_state=88) \n",
    "grid_search3 = GridSearchCV(regr, param_grid, cv=3, n_jobs=-1)\n",
    "grid_search3.fit(X_train, y_train)\n",
    "\n",
    "# Save pickle file\n",
    "model = grid_search3\n",
    "filename = '../model/random_forest_gs3.pkl'\n",
    "pickle.dump(model, open(filename, 'wb'))\n",
    "\n",
    "best_result3 = grid_search3.best_estimator_\n",
    "best_result3"
   ]
  },
  {
   "cell_type": "code",
   "execution_count": 20,
   "id": "9a040e78-91ba-4bcd-97f3-4920da179e68",
   "metadata": {},
   "outputs": [
    {
     "name": "stdout",
     "output_type": "stream",
     "text": [
      " r2: 0.09580751587853209\n",
      " MSE: 266.0118142518226\n",
      " MAE: 12.642115045289376\n",
      "\n"
     ]
    }
   ],
   "source": [
    "y_pred = grid_search3.predict(X_test)\n",
    "\n",
    "r2 = r2_score(y_test, y_pred)\n",
    "MSE = mean_squared_error(y_test,y_pred) \n",
    "RMSE = mean_squared_error(y_test,y_pred,squared=False)\n",
    "MAE = mean_absolute_error(y_test,y_pred)\n",
    "\n",
    "print(f' r2: {r2}\\n MSE: {MSE}\\n MAE: {MAE}\\n')"
   ]
  },
  {
   "cell_type": "markdown",
   "id": "3e73d776-94cb-4d4f-889c-e82e74f2ad9f",
   "metadata": {},
   "source": [
    "### Added flight number specific delays v6"
   ]
  },
  {
   "cell_type": "code",
   "execution_count": 21,
   "id": "2a4fe01e-f828-4be2-879a-3d3e5f2fd42d",
   "metadata": {},
   "outputs": [],
   "source": [
    "# load file\n",
    "df = pd.read_csv('../data/encoded_training_data_v6.csv')\n",
    "\n",
    "# test train split\n",
    "y = df.arr_delay.to_numpy()\n",
    "X = df.drop(columns=['arr_delay']).to_numpy()\n",
    "X_train, X_test, y_train, y_test = train_test_split(X, y, test_size=0.2, random_state=88)"
   ]
  },
  {
   "cell_type": "code",
   "execution_count": 22,
   "id": "cdd2e99a-3bf9-40e8-ae24-0cd46999f57f",
   "metadata": {},
   "outputs": [
    {
     "data": {
      "text/plain": [
       "(257219, 134)"
      ]
     },
     "execution_count": 22,
     "metadata": {},
     "output_type": "execute_result"
    }
   ],
   "source": [
    "X_train.shape"
   ]
  },
  {
   "cell_type": "code",
   "execution_count": 23,
   "id": "f91bb2b9-ec16-406e-ac93-c794a520ec91",
   "metadata": {},
   "outputs": [
    {
     "name": "stdout",
     "output_type": "stream",
     "text": [
      " r2: 0.05336051916626028\n",
      " MSE: 278.4996448888396\n",
      " MAE: 12.986762937297009\n",
      "\n"
     ]
    }
   ],
   "source": [
    "# Initial run with v6 data\n",
    "regr = RandomForestRegressor(max_depth=5, random_state=0)\n",
    "regr.fit(X_train, y_train)\n",
    "\n",
    "# # Save pickle file\n",
    "# model = regr\n",
    "# filename = '../model/random_forest.pkl'\n",
    "# pickle.dump(model, open(filename, 'wb'))\n",
    "\n",
    "y_pred = regr.predict(X_test)\n",
    "\n",
    "r2 = r2_score(y_test, y_pred)\n",
    "MSE = mean_squared_error(y_test,y_pred) \n",
    "RMSE = mean_squared_error(y_test,y_pred,squared=False)\n",
    "MAE = mean_absolute_error(y_test,y_pred)\n",
    "\n",
    "print(f' r2: {r2}\\n MSE: {MSE}\\n MAE: {MAE}\\n')"
   ]
  },
  {
   "cell_type": "code",
   "execution_count": 24,
   "id": "93a94493-dcfa-4fa6-81d5-801c2b92474d",
   "metadata": {},
   "outputs": [
    {
     "name": "stdout",
     "output_type": "stream",
     "text": [
      " r2: 0.0664023870570919\n",
      " MSE: 274.6627506436463\n",
      " MAE: 12.900544099589858\n",
      "\n"
     ]
    }
   ],
   "source": [
    "# NOT RUN YET\n",
    "# Grid search 2.1\n",
    "param_grid = {'n_estimators': [10,500,300], 'max_depth': [3,5,7]}\n",
    "\n",
    "regr = RandomForestRegressor(random_state=88) \n",
    "grid_search2_1 = GridSearchCV(regr, param_grid, cv=3, n_jobs=-1)\n",
    "grid_search2_1.fit(X_train, y_train)\n",
    "\n",
    "# Save pickle file\n",
    "model = grid_search2_1\n",
    "filename = '../model/random_forest_gs2_1.pkl'\n",
    "pickle.dump(model, open(filename, 'wb'))\n",
    "\n",
    "best_result2_1 = grid_search2_1.best_estimator_\n",
    "best_result2_1\n",
    "\n",
    "y_pred = grid_search2_1.predict(X_test)\n",
    "\n",
    "r2 = r2_score(y_test, y_pred)\n",
    "MSE = mean_squared_error(y_test,y_pred) \n",
    "RMSE = mean_squared_error(y_test,y_pred,squared=False)\n",
    "MAE = mean_absolute_error(y_test,y_pred)\n",
    "\n",
    "print(f' r2: {r2}\\n MSE: {MSE}\\n MAE: {MAE}\\n')"
   ]
  },
  {
   "cell_type": "code",
   "execution_count": 25,
   "id": "46b16c50-6093-4f71-83e2-570665fad203",
   "metadata": {},
   "outputs": [
    {
     "name": "stdout",
     "output_type": "stream",
     "text": [
      "RandomForestRegressor(max_depth=7, n_estimators=500, random_state=88)\n"
     ]
    }
   ],
   "source": [
    "print(best_result2_1)"
   ]
  },
  {
   "cell_type": "code",
   "execution_count": 26,
   "id": "a858a68f-3468-43f0-82f9-c3fa43fe48f2",
   "metadata": {},
   "outputs": [
    {
     "name": "stdout",
     "output_type": "stream",
     "text": [
      "RandomForestRegressor(max_depth=13, n_estimators=800, random_state=88)\n",
      " r2: 0.0997773626549685\n",
      " MSE: 264.84389241897566\n",
      " MAE: 12.656864802677841\n",
      "\n"
     ]
    }
   ],
   "source": [
    "# Grid search 2.2\n",
    "param_grid = {'n_estimators': [400,700, 800], 'max_depth': [7, 10, 13]}\n",
    "\n",
    "regr = RandomForestRegressor(random_state=88) \n",
    "grid_search2_2 = GridSearchCV(regr, param_grid, cv=3, n_jobs=-1)\n",
    "grid_search2_2.fit(X_train, y_train)\n",
    "\n",
    "# Save pickle file\n",
    "model = grid_search2_2\n",
    "filename = '../model/random_forest_gs2_2.pkl'\n",
    "pickle.dump(model, open(filename, 'wb'))\n",
    "\n",
    "best_result2_2 = grid_search2_2.best_estimator_\n",
    "print(best_result2_2)\n",
    "\n",
    "y_pred = grid_search2_2.predict(X_test)\n",
    "\n",
    "r2 = r2_score(y_test, y_pred)\n",
    "MSE = mean_squared_error(y_test,y_pred) \n",
    "RMSE = mean_squared_error(y_test,y_pred,squared=False)\n",
    "MAE = mean_absolute_error(y_test,y_pred)\n",
    "\n",
    "print(f' r2: {r2}\\n MSE: {MSE}\\n MAE: {MAE}\\n')"
   ]
  },
  {
   "cell_type": "code",
   "execution_count": 27,
   "id": "e1ca5849-f289-44ff-94c1-9b6afc5d47d2",
   "metadata": {},
   "outputs": [
    {
     "name": "stdout",
     "output_type": "stream",
     "text": [
      "RandomForestRegressor(max_depth=14, n_estimators=1000, random_state=88)\n",
      " r2: 0.10294572483173192\n",
      " MSE: 263.9117659241767\n",
      " MAE: 12.630414823098759\n",
      "\n"
     ]
    }
   ],
   "source": [
    "# Grid search 2.3\n",
    "param_grid = {'n_estimators': [900,1000], 'max_depth': [13, 14]}\n",
    "\n",
    "regr = RandomForestRegressor(random_state=88) \n",
    "grid_search2_3 = GridSearchCV(regr, param_grid, cv=3, n_jobs=-1)\n",
    "grid_search2_3.fit(X_train, y_train)\n",
    "\n",
    "# Save pickle file\n",
    "model = grid_search2_3\n",
    "filename = '../model/random_forest_gs2_3.pkl'\n",
    "pickle.dump(model, open(filename, 'wb'))\n",
    "\n",
    "best_result2_3 = grid_search2_3.best_estimator_\n",
    "print(best_result2_3)\n",
    "\n",
    "y_pred = grid_search2_3.predict(X_test)\n",
    "\n",
    "r2 = r2_score(y_test, y_pred)\n",
    "MSE = mean_squared_error(y_test,y_pred) \n",
    "RMSE = mean_squared_error(y_test,y_pred,squared=False)\n",
    "MAE = mean_absolute_error(y_test,y_pred)\n",
    "\n",
    "print(f' r2: {r2}\\n MSE: {MSE}\\n MAE: {MAE}\\n')"
   ]
  },
  {
   "cell_type": "code",
   "execution_count": null,
   "id": "ea228643-58a0-4f70-a866-24c28afb34eb",
   "metadata": {},
   "outputs": [],
   "source": [
    "# Grid search 2.4\n",
    "param_grid = {'n_estimators': [1200], 'max_depth': [15, 17, 20]}\n",
    "\n",
    "regr = RandomForestRegressor(random_state=88) \n",
    "grid_search2_4 = GridSearchCV(regr, param_grid, cv=3, n_jobs=-1)\n",
    "grid_search2_4.fit(X_train, y_train)\n",
    "\n",
    "# Save pickle file\n",
    "model = grid_search2_4\n",
    "filename = '../model/random_forest_gs2_4.pkl'\n",
    "pickle.dump(model, open(filename, 'wb'))\n",
    "\n",
    "best_result2_4 = grid_search2_4.best_estimator_\n",
    "print(best_result2_4)\n",
    "\n",
    "y_pred = grid_search2_4.predict(X_test)\n",
    "\n",
    "r2 = r2_score(y_test, y_pred)\n",
    "MSE = mean_squared_error(y_test,y_pred) \n",
    "RMSE = mean_squared_error(y_test,y_pred,squared=False)\n",
    "MAE = mean_absolute_error(y_test,y_pred)\n",
    "\n",
    "print(f' r2: {r2}\\n MSE: {MSE}\\n MAE: {MAE}\\n')"
   ]
  },
  {
   "cell_type": "code",
   "execution_count": null,
   "id": "740ea2b5-d35c-452f-b170-92e5d49196c6",
   "metadata": {},
   "outputs": [],
   "source": []
  }
 ],
 "metadata": {
  "kernelspec": {
   "display_name": "bootcamp_env",
   "language": "python",
   "name": "bootcamp_env"
  },
  "language_info": {
   "codemirror_mode": {
    "name": "ipython",
    "version": 3
   },
   "file_extension": ".py",
   "mimetype": "text/x-python",
   "name": "python",
   "nbconvert_exporter": "python",
   "pygments_lexer": "ipython3",
   "version": "3.8.5"
  }
 },
 "nbformat": 4,
 "nbformat_minor": 5
}
