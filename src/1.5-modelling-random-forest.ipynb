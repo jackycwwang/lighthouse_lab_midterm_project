{
 "cells": [
  {
   "cell_type": "markdown",
   "id": "c0461fdd-79e3-4ced-a20e-7795d37515c8",
   "metadata": {},
   "source": [
    "## Random Forest"
   ]
  },
  {
   "cell_type": "code",
   "execution_count": null,
   "id": "ab0e0fb9-40d2-45bb-a02d-9dc2ff1229c1",
   "metadata": {},
   "outputs": [],
   "source": [
    "from sklearn.ensemble import RandomForestRegressor\n",
    "\n",
    "from sklearn.model_selection import train_test_split\n",
    "from sklearn.model_selection import GridSearchCV\n",
    "from sklearn.metrics import r2_score, mean_squared_error, mean_absolute_error\n",
    "\n",
    "import pandas as pd\n",
    "import numpy as np\n",
    "\n",
    "import pickle"
   ]
  },
  {
   "cell_type": "code",
   "execution_count": 16,
   "id": "648e056e-f88e-4ea6-8c8e-13dc6d02a9f6",
   "metadata": {},
   "outputs": [],
   "source": [
    "df = pd.read_csv('../data/encoded_training_data.csv')"
   ]
  },
  {
   "cell_type": "code",
   "execution_count": 11,
   "id": "69875e2c-a6ae-4da2-b354-aaf81f8ec8a1",
   "metadata": {},
   "outputs": [
    {
     "name": "stdout",
     "output_type": "stream",
     "text": [
      " r2: 0.10206893303974296\n",
      " MSE: 217.12357990956244\n",
      " MAE: 11.579895457444122\n",
      "\n"
     ]
    }
   ],
   "source": [
    "y = df.arr_delay.to_numpy()\n",
    "X = df.drop(columns=['arr_delay']).to_numpy()\n",
    "X_train, X_test, y_train, y_test = train_test_split(X, y, test_size=0.2, random_state=88)\n",
    "\n",
    "regr = RandomForestRegressor(max_depth=5, random_state=0, cv =5)\n",
    "regr.fit(X_train, y_train)\n",
    "\n",
    "# Save pickle file\n",
    "# model = regr\n",
    "# filename = '../model/random_forest.pkl'\n",
    "# pickle.dump(model, open(filename, 'wb'))\n",
    "\n",
    "y_pred = regr.predict(X_test)\n",
    "\n",
    "r2 = r2_score(y_test, y_pred)\n",
    "MSE = mean_squared_error(y_test,y_pred) \n",
    "RMSE = mean_squared_error(y_test,y_pred,squared=False)\n",
    "MAE = mean_absolute_error(y_test,y_pred)\n",
    "\n",
    "print(f' r2: {r2}\\n MSE: {MSE}\\n MAE: {MAE}\\n')"
   ]
  },
  {
   "cell_type": "code",
   "execution_count": null,
   "id": "14c303f3-98f9-4ef6-9fcd-1677d07e20d3",
   "metadata": {},
   "outputs": [],
   "source": [
    "param_grid = {'n_estimators': [10,100,500], 'max_depth': [3,5,7]}\n",
    "\n",
    "# # no more than 500 mzx!!\n",
    "# # max depth - 10 max!! ideally 3-5\n",
    "# # give combo of low and high, then where is it lying \n",
    "# # 2 step process\n",
    "\n",
    "regr = RandomForestRegressor(random_state=88) \n",
    "grid_search = GridSearchCV(regr, param_grid, cv=5, n_jobs=-1)\n",
    "grid_search.fit(X_train, y_train)\n",
    "best_result = grid_search.best_estimator_\n",
    "best_result"
   ]
  },
  {
   "cell_type": "code",
   "execution_count": null,
   "id": "036bd47d-fa27-4cdb-899b-1a898e31c07f",
   "metadata": {},
   "outputs": [],
   "source": []
  }
 ],
 "metadata": {
  "kernelspec": {
   "display_name": "bootcamp_env",
   "language": "python",
   "name": "bootcamp_env"
  },
  "language_info": {
   "codemirror_mode": {
    "name": "ipython",
    "version": 3
   },
   "file_extension": ".py",
   "mimetype": "text/x-python",
   "name": "python",
   "nbconvert_exporter": "python",
   "pygments_lexer": "ipython3",
   "version": "3.8.5"
  }
 },
 "nbformat": 4,
 "nbformat_minor": 5
}
