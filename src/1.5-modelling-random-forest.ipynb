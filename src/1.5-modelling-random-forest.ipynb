{
 "cells": [
  {
   "cell_type": "code",
   "execution_count": 1,
   "id": "ab0e0fb9-40d2-45bb-a02d-9dc2ff1229c1",
   "metadata": {},
   "outputs": [],
   "source": [
    "#Import Random Forest Model\n",
    "from sklearn.ensemble import RandomForestClassifier"
   ]
  },
  {
   "cell_type": "code",
   "execution_count": null,
   "id": "3f8a4a69-dbc4-455a-82e0-a2d229e7870c",
   "metadata": {},
   "outputs": [],
   "source": [
    "param_grid = {'n_estimators': [10,100,200], 'max_depth': [1,5,10,20]}\n",
    "\n",
    "# no more than 500 mzx!!\n",
    "# max depth - 10 max!! ideally 3-5\n",
    "# give combo of low and high, then where is it lying \n",
    "# 2 step process\n",
    "\n",
    "# clf = RandomForestClassifier() use regressor not classifier?\n",
    "grid_search = GridSearchCV(clf, param_grid, cv=10)\n",
    "grid_search.fit(X_train, y_train)\n",
    "best_result = grid_search.best_estimator_\n",
    "best_result"
   ]
  }
 ],
 "metadata": {
  "kernelspec": {
   "display_name": "bootcamp_env",
   "language": "python",
   "name": "bootcamp_env"
  },
  "language_info": {
   "codemirror_mode": {
    "name": "ipython",
    "version": 3
   },
   "file_extension": ".py",
   "mimetype": "text/x-python",
   "name": "python",
   "nbconvert_exporter": "python",
   "pygments_lexer": "ipython3",
   "version": "3.8.5"
  }
 },
 "nbformat": 4,
 "nbformat_minor": 5
}
