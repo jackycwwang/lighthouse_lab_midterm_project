{
 "cells": [
  {
   "cell_type": "markdown",
   "id": "d762ca93-c9bb-4d0a-8e0c-3d60c23cfcd6",
   "metadata": {
    "tags": []
   },
   "source": [
    "# Modeling "
   ]
  },
  {
   "cell_type": "markdown",
   "id": "4fd26ee7-b255-48ed-ab75-d1b084b00d76",
   "metadata": {
    "jp-MarkdownHeadingCollapsed": true,
    "tags": []
   },
   "source": [
    "## Loading modules and data"
   ]
  },
  {
   "cell_type": "code",
   "execution_count": 3,
   "id": "c6b2d1e8-7fcd-41df-8279-7ad7a6081d3e",
   "metadata": {
    "tags": []
   },
   "outputs": [],
   "source": [
    "import numpy as np\n",
    "import pandas as pd\n",
    "from scipy import stats\n",
    "import modules.help_functions as hf\n",
    "import sklearn\n",
    "from sklearn.preprocessing import StandardScaler\n",
    "from sklearn.preprocessing import MinMaxScaler\n",
    "from sklearn.linear_model import LinearRegression\n",
    "from sklearn.model_selection import train_test_split\n",
    "from sklearn.model_selection import cross_validate\n",
    "from sklearn.model_selection import KFold\n",
    "from sklearn.model_selection import cross_val_score\n",
    "from sklearn.model_selection import GridSearchCV\n",
    "from sklearn.preprocessing import PolynomialFeatures\n",
    "\n",
    "from sklearn.feature_selection import VarianceThreshold\n",
    "from sklearn.feature_selection import RFE\n",
    "\n",
    "import pickle\n",
    "\n",
    "from sklearn.pipeline import make_pipeline\n",
    "import matplotlib.pyplot as plt\n",
    "import seaborn as sns"
   ]
  },
  {
   "cell_type": "code",
   "execution_count": 91,
   "id": "dbb17ee8-0353-44f0-8975-d72d4dd314d4",
   "metadata": {
    "tags": []
   },
   "outputs": [],
   "source": [
    "# read in file\n",
    "df = pd.read_csv('../data/encoded_training_data_v7.csv')"
   ]
  },
  {
   "cell_type": "code",
   "execution_count": null,
   "id": "af422d83-dea4-4f8b-ac71-e728aac49836",
   "metadata": {},
   "outputs": [],
   "source": []
  },
  {
   "cell_type": "markdown",
   "id": "5fa9e30f",
   "metadata": {
    "jp-MarkdownHeadingCollapsed": true,
    "tags": []
   },
   "source": [
    "## XGBOOST"
   ]
  },
  {
   "cell_type": "markdown",
   "id": "2aab8eaa-26b6-49e0-947f-418659a843c7",
   "metadata": {
    "jp-MarkdownHeadingCollapsed": true,
    "tags": []
   },
   "source": [
    "### XGboost Model"
   ]
  },
  {
   "cell_type": "code",
   "execution_count": 85,
   "id": "ccf614a1-090d-4c3d-b19c-ea2772f759ea",
   "metadata": {
    "tags": []
   },
   "outputs": [
    {
     "name": "stdout",
     "output_type": "stream",
     "text": [
      "MSE(test): 254.28943528355336\n",
      "R2(test): 0.1364009119288616\n",
      "MAE(test): 12.336826289482662\n"
     ]
    }
   ],
   "source": [
    "import xgboost as xgb\n",
    "from sklearn.metrics import mean_squared_error, r2_score, mean_absolute_error\n",
    "from sklearn.model_selection import train_test_split\n",
    "\n",
    "y = df.arr_delay.to_numpy()\n",
    "X = df.drop(columns=['arr_delay']).to_numpy()\n",
    "X_train, X_test, y_train, y_test = train_test_split(X, y, test_size=0.2)\n",
    "data_dmatrix = xgb.DMatrix(data=X_train, label=y_train)\n",
    "\n",
    "xgb_reg = xgb.XGBRegressor(objective = 'reg:squarederror',\n",
    "                           max_depth = 8,\n",
    "                           learning_rate = 0.40,\n",
    "                           alpha = 67,  \n",
    "                           n_estimators = 210,\n",
    "                           colsample_bytree = 0.75,\n",
    "                           reg_lambda = 47                           \n",
    "                          )\n",
    "\n",
    "\n",
    "\n",
    "xgb_reg.fit(X_train, y_train)\n",
    "y_pred = xgb_reg.predict(X_test)\n",
    "\n",
    "print(f'MSE(test): {mean_squared_error(y_test, y_pred)}')\n",
    "print(f'R2(test): {r2_score(y_test, y_pred)}') \n",
    "print(f'MAE(test): {mean_absolute_error(y_test, y_pred)}')"
   ]
  },
  {
   "cell_type": "markdown",
   "id": "e35f5181-9ab1-464f-8fa4-db3917a60093",
   "metadata": {},
   "source": [
    "['origin_state_PA', 'dest_state_PA']"
   ]
  },
  {
   "cell_type": "code",
   "execution_count": 118,
   "id": "ba3d0ed3-f781-4d39-b8c1-239f0059ce7d",
   "metadata": {},
   "outputs": [
    {
     "data": {
      "text/plain": [
       "27.358557"
      ]
     },
     "execution_count": 118,
     "metadata": {},
     "output_type": "execute_result"
    }
   ],
   "source": [
    "y_pred.max()"
   ]
  },
  {
   "cell_type": "code",
   "execution_count": 119,
   "id": "3cad5166-9e6e-4b9c-a1c0-d4c26bb5e325",
   "metadata": {},
   "outputs": [
    {
     "data": {
      "text/plain": [
       "-9.536758"
      ]
     },
     "execution_count": 119,
     "metadata": {},
     "output_type": "execute_result"
    }
   ],
   "source": [
    "y_pred.mean()"
   ]
  },
  {
   "cell_type": "code",
   "execution_count": 121,
   "id": "deb284ee-b2a1-4c3d-986e-f83f930152a7",
   "metadata": {},
   "outputs": [
    {
     "data": {
      "text/plain": [
       "-9.452347"
      ]
     },
     "execution_count": 121,
     "metadata": {},
     "output_type": "execute_result"
    }
   ],
   "source": [
    "np.median(y_pred)"
   ]
  },
  {
   "cell_type": "code",
   "execution_count": 117,
   "id": "0105b36e-9d14-45a7-afb0-252a9044d7fb",
   "metadata": {},
   "outputs": [
    {
     "data": {
      "text/plain": [
       "27.358557"
      ]
     },
     "execution_count": 117,
     "metadata": {},
     "output_type": "execute_result"
    }
   ],
   "source": []
  },
  {
   "cell_type": "code",
   "execution_count": 139,
   "id": "aabdfb5c-c9e1-4732-a1c9-f51ff012e363",
   "metadata": {},
   "outputs": [],
   "source": [
    "pickle.dump(xgb_reg, open('xgboost_regressor_flight_delay_prediction.pkl', 'wb'))"
   ]
  },
  {
   "cell_type": "markdown",
   "id": "847c9c6c-7c53-44c1-8cc2-a7e9e59afe41",
   "metadata": {},
   "source": [
    "                           max_depth = 8,\n",
    "                           learning_rate = 0.40,\n",
    "                           alpha = 67,  \n",
    "                           n_estimators = 210,\n",
    "                           colsample_bytree = 0.75,\n",
    "                           reg_lambda = 47  \n",
    "\n",
    "MSE(test): 254.28943528355336\n",
    "R2(test): 0.1364009119288616\n",
    "MAE(test): 12.336826289482662"
   ]
  },
  {
   "cell_type": "markdown",
   "id": "4486a5ed-d60b-4e69-bb36-c77576aed307",
   "metadata": {
    "jp-MarkdownHeadingCollapsed": true,
    "tags": []
   },
   "source": [
    "### XGboost Cross Validation"
   ]
  },
  {
   "cell_type": "code",
   "execution_count": 5,
   "id": "6921bf3b-e006-4647-92c0-cfcf274f7e64",
   "metadata": {
    "tags": []
   },
   "outputs": [],
   "source": [
    "\n",
    "import xgboost as xgb\n",
    "from sklearn.metrics import mean_squared_error, r2_score\n",
    "from sklearn.model_selection import train_test_split\n",
    "from numpy import absolute\n",
    "from sklearn.model_selection import cross_val_score\n",
    "from sklearn.model_selection import RepeatedKFold\n",
    "from sklearn.model_selection import KFold\n",
    "from sklearn.model_selection import cross_validate\n",
    "\n",
    "y = df.arr_delay.to_numpy()\n",
    "X = df.drop(columns=['arr_delay']).to_numpy()\n",
    "X_train, X_test, y_train, y_test = train_test_split(X, y, test_size=0.20, random_state=88)\n",
    "data_dmatrix = xgb.DMatrix(data=X_train,label=y_train)\n",
    "\n",
    "xgb = xgb.XGBRegressor(max_depth=8\n",
    "                        )\n",
    "\n",
    "# do the split\n",
    "cv = KFold(n_splits=5)\n",
    "\n",
    "# perform validation\n",
    "scorers = ['neg_mean_absolute_error', 'neg_mean_squared_error', 'r2']\n",
    "scores = cross_validate(xgb, X_train, y_train, scoring=scorers, cv=cv, n_jobs=5)\n",
    "\n",
    "# Display the CV result\n",
    "mse = absolute(scores['test_neg_mean_squared_error']).mean()\n",
    "r2 = scores['test_r2'].mean()\n",
    "mae = absolute(scores['test_neg_mean_absolute_error'].mean())\n",
    "print(f'MSE(train_cv): {mse}',\n",
    "      f'R2(train_cv): {r2}',\n",
    "      f'MAE(train_cv): {mae}')"
   ]
  },
  {
   "cell_type": "markdown",
   "id": "6db20d33-ad00-412e-9872-b37fb9d3bc4c",
   "metadata": {
    "tags": []
   },
   "source": [
    "### XGBoost Grid Search"
   ]
  },
  {
   "cell_type": "code",
   "execution_count": 141,
   "id": "14007a82",
   "metadata": {
    "scrolled": true,
    "tags": []
   },
   "outputs": [
    {
     "name": "stdout",
     "output_type": "stream",
     "text": [
      "Fitting 5 folds for each of 1 candidates, totalling 5 fits\n",
      "\n",
      "TRAINING RESULTS: \n",
      "\n",
      "Best Training Score:  0.11872217665583107 \n",
      "\n",
      "Best Training Params:  {'alpha': 67, 'colsample_bytree': 0.75, 'learning_rate': 0.4, 'max_depth': 9, 'n_estimators': 215, 'reg_lambda': 47} \n",
      "\n",
      "\n",
      "TESTING RESULTS: \n",
      "\n",
      "MSE(test): 258.2332949830316\n",
      "\n",
      "R2(test): 0.12655033237352886\n",
      "\n",
      "MAE(test): 12.458929761800258\n"
     ]
    }
   ],
   "source": [
    "from sklearn.model_selection import GridSearchCV\n",
    "import xgboost as xgb\n",
    "\n",
    "y = df.arr_delay.to_numpy()\n",
    "X = df.drop(columns=['arr_delay']).to_numpy()\n",
    "\n",
    "X_train, X_test, y_train, y_test = train_test_split(X, y, test_size=0.20)\n",
    "data_dmatrix = xgb.DMatrix(data=X_train, label=y_train)\n",
    "\n",
    "xgb_estimator = xgb.XGBRegressor()\n",
    "\n",
    "\n",
    "params = {\n",
    "       'learning_rate': [0.4],\n",
    "       'max_depth': [8],\n",
    "       'alpha': [67],\n",
    "       'n_estimators': [210],\n",
    "       'colsample_bytree': [0.75],\n",
    "       'reg_lambda': [47],\n",
    "#        'subsample': [0.85],\n",
    "    \n",
    "#     'learning_rate': np.arange(0.39, 0.41, 0.05),\n",
    "#     'max_depth': np.arange(2, 7, 1),\n",
    "#     'alpha': np.arange(70, 75, 1),\n",
    "#     'n_estimators': np.arange(110, 240, 100),\n",
    "#     'colsample_bytree': np.arange(0.4, 0.6, 0.1),\n",
    "#     'reg_lambda': np.arange(46, 47, 0.2),\n",
    "#     'subsample': np.arange(0.5, 0.8, 0.1)\n",
    "    }\n",
    "\n",
    "# scorers = ['r2']\n",
    "grid_search_xg = GridSearchCV(xgb_estimator, \n",
    "                              param_grid=params, \n",
    "                              cv=5, \n",
    "                              n_jobs=7, \n",
    "                              error_score='raise', \n",
    "#                               scoring=scorers,\n",
    "#                               refit='r2',\n",
    "                              verbose=True\n",
    "                              )\n",
    "\n",
    "grid_search_xg.fit(X_train, y_train)\n",
    "\n",
    "# display the training results\n",
    "print('\\nTRAINING RESULTS: \\n')\n",
    "print('Best Training Score: ', grid_search_xg.best_score_, '\\n')\n",
    "print('Best Training Params: ', grid_search_xg.best_params_, '\\n')\n",
    "\n",
    "# predict the test set\n",
    "y_pred = grid_search_xg.predict(X_test)\n",
    "\n",
    "# display the test results\n",
    "print('\\nTESTING RESULTS: \\n')\n",
    "print(f'MSE(test): {mean_squared_error(y_test, y_pred)}\\n')\n",
    "print(f'R2(test): {r2_score(y_test, y_pred)}\\n')\n",
    "print(f'MAE(test): {mean_absolute_error(y_test, y_pred)}')"
   ]
  },
  {
   "cell_type": "markdown",
   "id": "f155da5b-4701-4cef-a891-08d13a55a63b",
   "metadata": {},
   "source": [
    "TRAINING RESULTS: \n",
    "\n",
    "Best Training Score:  0.12707881846818264 \n",
    "\n",
    "Best Training Params:  {'alpha': 67, 'colsample_bytree': 0.75, 'learning_rate': 0.4, 'max_depth': 8, 'n_estimators': 210, 'reg_lambda': 47} \n",
    "\n",
    "\n",
    "TESTING RESULTS: \n",
    "\n",
    "MSE(test): 256.0030885554617\n",
    "\n",
    "R2(test): 0.1387974194963002\n",
    "\n",
    "MAE(test): 12.371004241235651"
   ]
  },
  {
   "cell_type": "markdown",
   "id": "91096d2d-aebe-4ffb-988d-3cc82c79dde6",
   "metadata": {},
   "source": [
    "TRAINING RESULTS: \n",
    "\n",
    "Best Training Score:  0.12976675549019118 \n",
    "\n",
    "Best Training Params:  {'alpha': 67, 'colsample_bytree': 0.75, 'learning_rate': 0.4, 'max_depth': 8, 'n_estimators': 150, 'reg_lambda': 47} \n",
    "\n",
    "\n",
    "TESTING RESULTS: \n",
    "\n",
    "MSE(test): 257.5834202293785\n",
    "\n",
    "R2(test): 0.1350875364320151\n",
    "\n",
    "MAE(test): 12.428264899925443"
   ]
  },
  {
   "cell_type": "markdown",
   "id": "030bfa03-8d7b-451e-a14a-326a87ccfbdc",
   "metadata": {},
   "source": [
    "TRAINING RESULTS: \n",
    "\n",
    "Best Training Score:  0.12712034854855964 \n",
    "\n",
    "Best Training Params:  {'alpha': 67, 'colsample_bytree': 0.75, 'learning_rate': 0.4, 'max_depth': 8, 'n_estimators': 98, 'reg_lambda': 47} \n",
    "\n",
    "\n",
    "TESTING RESULTS: \n",
    "\n",
    "MSE(test): 254.77896373729288\n",
    "\n",
    "R2(test): 0.13461637547722827\n",
    "\n",
    "MAE(test): 12.39622662771655"
   ]
  },
  {
   "cell_type": "markdown",
   "id": "7df37165-5f20-4cfa-b3da-35b1d22065ca",
   "metadata": {},
   "source": [
    "TRAINING RESULTS: \n",
    "\n",
    "Best Training Score:  0.12695598410296655 \n",
    "\n",
    "Best Training Params:  {'alpha': 67, 'colsample_bytree': 0.75, 'learning_rate': 0.4, 'max_depth': 8, 'n_estimators': 95, 'reg_lambda': 47} \n",
    "\n",
    "\n",
    "TESTING RESULTS: \n",
    "\n",
    "MSE(test): 254.5986314126004\n",
    "\n",
    "R2(test): 0.13475513521485982\n",
    "\n",
    "MAE(test): 12.37124815463066"
   ]
  },
  {
   "cell_type": "markdown",
   "id": "2db73d0c-55f1-486e-8a6d-831c802fd14d",
   "metadata": {},
   "source": [
    "TRAINING RESULTS: \n",
    "\n",
    "Best Training Score:  0.12740440831402772 \n",
    "\n",
    "Best Training Params:  {'alpha': 67, 'colsample_bytree': 0.75, 'learning_rate': 0.4, 'max_depth': 8, 'n_estimators': 95, 'reg_lambda': 48} \n",
    "\n",
    "\n",
    "TESTING RESULTS: \n",
    "\n",
    "MSE(test): 255.33450792199608\n",
    "\n",
    "R2(test): 0.13356728212474045\n",
    "\n",
    "MAE(test): 12.367355220133263"
   ]
  },
  {
   "cell_type": "markdown",
   "id": "b4815438-7609-4ee9-87c0-dc5499d1114a",
   "metadata": {},
   "source": [
    "TRAINING RESULTS: \n",
    "\n",
    "Best Training Score:  0.11666210635790775 \n",
    "\n",
    "Best Training Params:  {'alpha': 66, 'colsample_bytree': 0.75, 'learning_rate': 0.4, 'max_depth': 8, 'n_estimators': 95, 'subsample': 0.7999999999999999} \n",
    "\n",
    "\n",
    "TESTING RESULTS: \n",
    "\n",
    "MSE(test): 259.1570317268451\n",
    "\n",
    "R2(test): 0.13046664778186456\n",
    "\n",
    "MAE(test): 12.464682652738391"
   ]
  },
  {
   "cell_type": "markdown",
   "id": "f6be1e7d-37d7-45e7-9a95-a617738c04b3",
   "metadata": {},
   "source": [
    "TRAINING RESULTS: \n",
    "\n",
    "Best Training Score:  0.12021755236706036 \n",
    "\n",
    "Best Training Params:  {'alpha': 66, 'colsample_bytree': 0.75, 'learning_rate': 0.4, 'max_depth': 8, 'n_estimators': 95, 'subsample': 0.9} \n",
    "\n",
    "\n",
    "TESTING RESULTS: \n",
    "\n",
    "MSE(test): 256.1074340949077\n",
    "\n",
    "R2(test): 0.12963970581453366\n",
    "\n",
    "MAE(test): 12.389870936478864"
   ]
  },
  {
   "cell_type": "markdown",
   "id": "7847268f-5f11-4710-a6fb-84d09b6084d8",
   "metadata": {},
   "source": [
    "Fitting 5 folds for each of 2 candidates, totalling 10 fits\n",
    "\n",
    "TRAINING RESULTS: \n",
    "\n",
    "Best Training Score:  0.12751638841283003 \n",
    "\n",
    "Best Training Params:  {'alpha': 66, 'colsample_bytree': 0.75, 'learning_rate': 0.4, 'max_depth': 8, 'n_estimators': 89, 'reg_lambda': 50} \n",
    "\n",
    "\n",
    "TESTING RESULTS: \n",
    "\n",
    "MSE(test): 258.0654389585468\n",
    "\n",
    "R2(test): 0.13102962457716028\n",
    "\n",
    "MAE(test): 12.442337417718852"
   ]
  },
  {
   "cell_type": "markdown",
   "id": "4ae4b5b4-37f1-437f-ac6a-2fb14e4219b7",
   "metadata": {},
   "source": [
    "Fitting 5 folds for each of 3 candidates, totalling 15 fits\n",
    "\n",
    "TRAINING RESULTS: \n",
    "\n",
    "Best Training Score:  0.12923086543391069 \n",
    "\n",
    "Best Training Params:  {'alpha': 66, 'colsample_bytree': 0.75, 'learning_rate': 0.4, 'max_depth': 8, 'n_estimators': 89, 'reg_lambda': 50} \n",
    "\n",
    "\n",
    "TESTING RESULTS: \n",
    "\n",
    "MSE(test): 255.50967649063617\n",
    "\n",
    "R2(test): 0.1276314184474704\n",
    "\n",
    "MAE(test): 12.381488035703404"
   ]
  },
  {
   "cell_type": "markdown",
   "id": "d9f04dd7-7405-4250-9df6-6f5dadc3bb2d",
   "metadata": {},
   "source": [
    "Best Training Params:  {'alpha': 66, 'colsample_bytree': 0.7, 'learning_rate': 0.4, 'max_depth': 8, 'n_estimators': 89} \n",
    "\n",
    "\n",
    "TESTING RESULTS: \n",
    "\n",
    "MSE(test): 258.93913444282003\n",
    "\n",
    "R2(test): 0.13097904773991476\n",
    "\n",
    "MAE(test): 12.446733791732251"
   ]
  },
  {
   "cell_type": "markdown",
   "id": "bb75ddff-99d4-4019-bb94-604da7644538",
   "metadata": {},
   "source": [
    "Best Training Params:  {'alpha': 66, 'learning_rate': 0.4, 'max_depth': 8, 'n_estimators': 89} \n",
    "\n",
    "\n",
    "TESTING RESULTS: \n",
    "\n",
    "MSE(test): 257.8733703365043\n",
    "\n",
    "R2(test): 0.13188754725021345\n",
    "\n",
    "MAE(test): 12.443249307597307"
   ]
  },
  {
   "cell_type": "markdown",
   "id": "49c3672f-ce79-42fe-a2a1-355af8f854be",
   "metadata": {},
   "source": [
    "Best Training Params:  {'alpha': 82, 'learning_rate': 0.4, 'max_depth': 6} \n",
    "\n",
    "\n",
    "TESTING RESULTS: \n",
    "\n",
    "MSE(test): 258.33438266944904\n",
    "\n",
    "R2(test): 0.12594918248523412\n",
    "\n",
    "MAE(test): 12.461076971570323"
   ]
  },
  {
   "cell_type": "markdown",
   "id": "6e5fe9e6-e78f-4ed4-b9c4-3c189d5922dd",
   "metadata": {},
   "source": [
    "TRAINING RESULTS: \n",
    "\n",
    "Best Training Score:  0.1271900214900052 \n",
    "\n",
    "Best Training Params:  {'alpha': 67, 'colsample_bytree': 0.799, 'learning_rate': 0.5, 'max_depth': 9, 'n_estimators': 84, 'reg_lambda': 50} \n",
    "\n",
    "\n",
    "TESTING RESULTS: \n",
    "\n",
    "MSE(test): 256.1002528751888\n",
    "\n",
    "R2(test): 0.13422303610153852"
   ]
  },
  {
   "cell_type": "markdown",
   "id": "d9902d41-8ac4-4c11-93e3-054786a9fb87",
   "metadata": {},
   "source": [
    "### XGboost Unseen Data Testing"
   ]
  },
  {
   "cell_type": "code",
   "execution_count": 112,
   "id": "83f77694-efad-4b97-a139-f17be2b68d15",
   "metadata": {},
   "outputs": [],
   "source": [
    "df_t = pd.read_csv('../data/testing_test_data_v2.csv')\n",
    "df_t.drop(columns=['origin_state_PA', 'dest_state_PA'], inplace=True, errors='ignore')\n",
    "test_data = df_t.to_numpy()\n",
    "y_pred = xgb_reg.predict(test_data)\n",
    "df_flights_test = pd.read_csv('../data/flights_test.csv')\n",
    "s_pred = pd.Series(y_pred, name='predicted_delay')\n",
    "df_results = pd.concat([df_flights_test, s_pred], axis=1)\n",
    "df_results.to_csv('../data/submission.csv', index=False)"
   ]
  },
  {
   "cell_type": "markdown",
   "id": "ec30a655-9d44-4a78-904a-e938abb8c078",
   "metadata": {
    "jp-MarkdownHeadingCollapsed": true,
    "tags": []
   },
   "source": [
    "## AdaBoost Regressor"
   ]
  },
  {
   "cell_type": "code",
   "execution_count": 25,
   "id": "6178dc33-3aa4-41ca-9b28-a16bfbc8ccee",
   "metadata": {},
   "outputs": [
    {
     "name": "stdout",
     "output_type": "stream",
     "text": [
      "MSE(test): 299.1954934737365 R2(test): -0.016231253066080198 MAE(test): 14.059891568429437\n"
     ]
    }
   ],
   "source": [
    "from sklearn.ensemble import AdaBoostRegressor \n",
    "from sklearn.metrics import mean_squared_error, r2_score, mean_absolute_error\n",
    "from sklearn.model_selection import train_test_split\n",
    "\n",
    "y = df.arr_delay.to_numpy()\n",
    "X = df.drop(columns=['arr_delay']).to_numpy()\n",
    "X_train, X_test, y_train, y_test = train_test_split(X, y, test_size=0.25, random_state=88)\n",
    "\n",
    "ada = AdaBoostRegressor()\n",
    "\n",
    "ada.fit(X_train, y_train)\n",
    "y_pred = ada.predict(X_test)\n",
    "\n",
    "print(f'MSE(test): {mean_squared_error(y_test, y_pred)}',\n",
    "      f'R2(test): {r2_score(y_test, y_pred)}', \n",
    "      f'MAE(test): {mean_absolute_error(y_test, y_pred)}')"
   ]
  },
  {
   "cell_type": "markdown",
   "id": "e8d8ac6f-8f65-4051-80c5-e6c70b02ef4e",
   "metadata": {
    "tags": []
   },
   "source": [
    "## SVM"
   ]
  },
  {
   "cell_type": "code",
   "execution_count": null,
   "id": "5a5fb50c-278d-4d7f-a560-c488038ded08",
   "metadata": {},
   "outputs": [],
   "source": [
    "from sklearn.svm import SVR\n",
    "from sklearn.metrics import mean_squared_error, r2_score, mean_absolute_error\n",
    "from sklearn.model_selection import train_test_split\n",
    "\n",
    "y = df.arr_delay.to_numpy()\n",
    "X = df.drop(columns=['arr_delay']).to_numpy()\n",
    "X_train, X_test, y_train, y_test = train_test_split(X, y, test_size=0.20)\n",
    "\n",
    "svr = SVR()\n",
    "\n",
    "svr.fit(X_train, y_train)\n",
    "y_pred = svr.predict(X_test)\n",
    "\n",
    "print(f'MSE(test): {mean_squared_error(y_test, y_pred)}',\n",
    "      f'R2(test): {r2_score(y_test, y_pred)}', \n",
    "      f'MAE(test): {mean_absolute_error(y_test, y_pred)}')"
   ]
  },
  {
   "cell_type": "markdown",
   "id": "693d9faf-b4e5-4315-9641-8239289e2fab",
   "metadata": {
    "jp-MarkdownHeadingCollapsed": true,
    "tags": []
   },
   "source": [
    "# Random Forest"
   ]
  },
  {
   "cell_type": "code",
   "execution_count": 27,
   "id": "84edabf9-bcd0-4cd2-8875-64f634adf963",
   "metadata": {},
   "outputs": [
    {
     "name": "stdout",
     "output_type": "stream",
     "text": [
      "MSE(test): 317.7557421592085 R2(test): -0.07927199127997642 MAE(test): 13.726514526508495\n"
     ]
    }
   ],
   "source": [
    "from sklearn.ensemble import RandomForestRegressor\n",
    "from sklearn.metrics import mean_squared_error, r2_score, mean_absolute_error\n",
    "from sklearn.model_selection import train_test_split\n",
    "\n",
    "y = df.arr_delay.to_numpy()\n",
    "X = df.drop(columns=['arr_delay']).to_numpy()\n",
    "X_train, X_test, y_train, y_test = train_test_split(X, y, test_size=0.25, random_state=88)\n",
    "\n",
    "rfr = RandomForestRegressor()\n",
    "\n",
    "rfr.fit(X_train, y_train)\n",
    "y_pred = rfr.predict(X_test)\n",
    "\n",
    "print(f'MSE(test): {mean_squared_error(y_test, y_pred)}',\n",
    "      f'R2(test): {r2_score(y_test, y_pred)}', \n",
    "      f'MAE(test): {mean_absolute_error(y_test, y_pred)}')"
   ]
  },
  {
   "cell_type": "markdown",
   "id": "f2e022b7-9dcc-485d-92f0-0db8177885ef",
   "metadata": {},
   "source": [
    "## Bagging Regressor"
   ]
  },
  {
   "cell_type": "code",
   "execution_count": 28,
   "id": "c3741fe8-5947-4ecb-a052-be5ca793ab58",
   "metadata": {},
   "outputs": [
    {
     "name": "stdout",
     "output_type": "stream",
     "text": [
      "MSE(test): 335.0010462906602 R2(test): -0.1378464598441198 MAE(test): 14.09878593390384\n"
     ]
    }
   ],
   "source": [
    "from sklearn.ensemble import BaggingRegressor\n",
    "from sklearn.metrics import mean_squared_error, r2_score, mean_absolute_error\n",
    "from sklearn.model_selection import train_test_split\n",
    "\n",
    "y = df.arr_delay.to_numpy()\n",
    "X = df.drop(columns=['arr_delay']).to_numpy()\n",
    "X_train, X_test, y_train, y_test = train_test_split(X, y, test_size=0.25, random_state=88)\n",
    "\n",
    "bag = BaggingRegressor()\n",
    "\n",
    "bag.fit(X_train, y_train)\n",
    "y_pred = bag.predict(X_test)\n",
    "\n",
    "print(f'MSE(test): {mean_squared_error(y_test, y_pred)}',\n",
    "      f'R2(test): {r2_score(y_test, y_pred)}', \n",
    "      f'MAE(test): {mean_absolute_error(y_test, y_pred)}')"
   ]
  },
  {
   "cell_type": "markdown",
   "id": "211ae256-1634-4f52-9ca0-b8a602cc9abe",
   "metadata": {},
   "source": [
    "## GradientBoosting Regressor"
   ]
  },
  {
   "cell_type": "code",
   "execution_count": 29,
   "id": "ae382ccf-5868-4e3b-8f53-84f607a9775c",
   "metadata": {},
   "outputs": [
    {
     "name": "stdout",
     "output_type": "stream",
     "text": [
      "MSE(test): 272.3731765263293 R2(test): 0.07487197995768824 MAE(test): 12.850633238016195\n"
     ]
    }
   ],
   "source": [
    "from sklearn.ensemble import GradientBoostingRegressor\n",
    "from sklearn.metrics import mean_squared_error, r2_score, mean_absolute_error\n",
    "from sklearn.model_selection import train_test_split\n",
    "\n",
    "y = df.arr_delay.to_numpy()\n",
    "X = df.drop(columns=['arr_delay']).to_numpy()\n",
    "X_train, X_test, y_train, y_test = train_test_split(X, y, test_size=0.25, random_state=88)\n",
    "\n",
    "gb_reg = GradientBoostingRegressor()\n",
    "\n",
    "gb_reg.fit(X_train, y_train)\n",
    "y_pred = gb_reg.predict(X_test)\n",
    "\n",
    "print(f'MSE(test): {mean_squared_error(y_test, y_pred)}',\n",
    "      f'R2(test): {r2_score(y_test, y_pred)}', \n",
    "      f'MAE(test): {mean_absolute_error(y_test, y_pred)}')"
   ]
  },
  {
   "cell_type": "markdown",
   "id": "1d52648e-49dd-437e-b024-9ff8f9412fed",
   "metadata": {},
   "source": [
    "## Voting Regressor"
   ]
  },
  {
   "cell_type": "code",
   "execution_count": 30,
   "id": "b7509603-3e1d-4885-89fa-734f30d9dbd4",
   "metadata": {},
   "outputs": [
    {
     "ename": "TypeError",
     "evalue": "__init__() missing 1 required positional argument: 'estimators'",
     "output_type": "error",
     "traceback": [
      "\u001b[1;31m---------------------------------------------------------------------------\u001b[0m",
      "\u001b[1;31mTypeError\u001b[0m                                 Traceback (most recent call last)",
      "\u001b[1;32m<ipython-input-30-c5c6aeab0685>\u001b[0m in \u001b[0;36m<module>\u001b[1;34m\u001b[0m\n\u001b[0;32m      7\u001b[0m \u001b[0mX_train\u001b[0m\u001b[1;33m,\u001b[0m \u001b[0mX_test\u001b[0m\u001b[1;33m,\u001b[0m \u001b[0my_train\u001b[0m\u001b[1;33m,\u001b[0m \u001b[0my_test\u001b[0m \u001b[1;33m=\u001b[0m \u001b[0mtrain_test_split\u001b[0m\u001b[1;33m(\u001b[0m\u001b[0mX\u001b[0m\u001b[1;33m,\u001b[0m \u001b[0my\u001b[0m\u001b[1;33m,\u001b[0m \u001b[0mtest_size\u001b[0m\u001b[1;33m=\u001b[0m\u001b[1;36m0.25\u001b[0m\u001b[1;33m,\u001b[0m \u001b[0mrandom_state\u001b[0m\u001b[1;33m=\u001b[0m\u001b[1;36m88\u001b[0m\u001b[1;33m)\u001b[0m\u001b[1;33m\u001b[0m\u001b[1;33m\u001b[0m\u001b[0m\n\u001b[0;32m      8\u001b[0m \u001b[1;33m\u001b[0m\u001b[0m\n\u001b[1;32m----> 9\u001b[1;33m \u001b[0mv_reg\u001b[0m \u001b[1;33m=\u001b[0m \u001b[0mVotingRegressor\u001b[0m\u001b[1;33m(\u001b[0m\u001b[1;33m)\u001b[0m\u001b[1;33m\u001b[0m\u001b[1;33m\u001b[0m\u001b[0m\n\u001b[0m\u001b[0;32m     10\u001b[0m \u001b[1;33m\u001b[0m\u001b[0m\n\u001b[0;32m     11\u001b[0m \u001b[0mv_reg\u001b[0m\u001b[1;33m.\u001b[0m\u001b[0mfit\u001b[0m\u001b[1;33m(\u001b[0m\u001b[0mX_train\u001b[0m\u001b[1;33m,\u001b[0m \u001b[0my_train\u001b[0m\u001b[1;33m)\u001b[0m\u001b[1;33m\u001b[0m\u001b[1;33m\u001b[0m\u001b[0m\n",
      "\u001b[1;31mTypeError\u001b[0m: __init__() missing 1 required positional argument: 'estimators'"
     ]
    }
   ],
   "source": [
    "from sklearn.ensemble import VotingRegressor\n",
    "from sklearn.metrics import mean_squared_error, r2_score, mean_absolute_error\n",
    "from sklearn.model_selection import train_test_split\n",
    "\n",
    "y = df.arr_delay.to_numpy()\n",
    "X = df.drop(columns=['arr_delay']).to_numpy()\n",
    "X_train, X_test, y_train, y_test = train_test_split(X, y, test_size=0.25, random_state=88)\n",
    "\n",
    "v_reg = VotingRegressor(estimators=)\n",
    "\n",
    "v_reg.fit(X_train, y_train)\n",
    "y_pred = v_reg.predict(X_test)\n",
    "\n",
    "print(f'MSE(test): {mean_squared_error(y_test, y_pred)}',\n",
    "      f'R2(test): {r2_score(y_test, y_pred)}', \n",
    "      f'MAE(test): {mean_absolute_error(y_test, y_pred)}')"
   ]
  },
  {
   "cell_type": "markdown",
   "id": "25a2a8cb-1812-4476-bb84-cd8490cfbbeb",
   "metadata": {},
   "source": [
    "## HistGradientBoosting Regressor"
   ]
  },
  {
   "cell_type": "code",
   "execution_count": 40,
   "id": "9b3fcdd5-5aae-4a12-b25d-7430b5b06ad2",
   "metadata": {},
   "outputs": [
    {
     "name": "stdout",
     "output_type": "stream",
     "text": [
      "MSE(test): 263.30785151482485 R2(test): 0.10566277325785911 MAE(test): 12.628034138924694\n"
     ]
    }
   ],
   "source": [
    "from sklearn.ensemble import HistGradientBoostingRegressor\n",
    "from sklearn.metrics import mean_squared_error, r2_score, mean_absolute_error\n",
    "from sklearn.model_selection import train_test_split\n",
    "\n",
    "y = df.arr_delay.to_numpy()\n",
    "X = df.drop(columns=['arr_delay']).to_numpy()\n",
    "X_train, X_test, y_train, y_test = train_test_split(X, y, test_size=0.25, random_state=88)\n",
    "\n",
    "hgb_reg = HistGradientBoostingRegressor(learning_rate=0.1,\n",
    "                                        max_iter=100,\n",
    "                                        max_leaf_nodes=31,\n",
    "                                        max_depth=20,\n",
    "                                        min_samples_leaf=20,\n",
    "                                        l2_regularization=0.1)\n",
    "\n",
    "hgb_reg.fit(X_train, y_train)\n",
    "y_pred = hgb_reg.predict(X_test)\n",
    "\n",
    "print(f'MSE(test): {mean_squared_error(y_test, y_pred)}',\n",
    "      f'R2(test): {r2_score(y_test, y_pred)}', \n",
    "      f'MAE(test): {mean_absolute_error(y_test, y_pred)}')"
   ]
  },
  {
   "cell_type": "markdown",
   "id": "dfc60175-259a-4fb4-bd35-aef5208ff990",
   "metadata": {},
   "source": [
    "## Stacking Regressor"
   ]
  },
  {
   "cell_type": "code",
   "execution_count": 38,
   "id": "44c3492c-8ec0-4d9e-8b1c-2d0ed5d15251",
   "metadata": {},
   "outputs": [
    {
     "ename": "TypeError",
     "evalue": "'numpy.int32' object is not iterable",
     "output_type": "error",
     "traceback": [
      "\u001b[1;31m---------------------------------------------------------------------------\u001b[0m",
      "\u001b[1;31mTypeError\u001b[0m                                 Traceback (most recent call last)",
      "\u001b[1;32m<ipython-input-38-074cc3988a7e>\u001b[0m in \u001b[0;36m<module>\u001b[1;34m\u001b[0m\n\u001b[0;32m      9\u001b[0m \u001b[0mst_reg\u001b[0m \u001b[1;33m=\u001b[0m \u001b[0mStackingRegressor\u001b[0m\u001b[1;33m(\u001b[0m\u001b[0mestimators\u001b[0m\u001b[1;33m=\u001b[0m\u001b[0mnp\u001b[0m\u001b[1;33m.\u001b[0m\u001b[0marange\u001b[0m\u001b[1;33m(\u001b[0m\u001b[1;36m20\u001b[0m\u001b[1;33m)\u001b[0m\u001b[1;33m)\u001b[0m\u001b[1;33m\u001b[0m\u001b[1;33m\u001b[0m\u001b[0m\n\u001b[0;32m     10\u001b[0m \u001b[1;33m\u001b[0m\u001b[0m\n\u001b[1;32m---> 11\u001b[1;33m \u001b[0mst_reg\u001b[0m\u001b[1;33m.\u001b[0m\u001b[0mfit\u001b[0m\u001b[1;33m(\u001b[0m\u001b[0mX_train\u001b[0m\u001b[1;33m,\u001b[0m \u001b[0my_train\u001b[0m\u001b[1;33m)\u001b[0m\u001b[1;33m\u001b[0m\u001b[1;33m\u001b[0m\u001b[0m\n\u001b[0m\u001b[0;32m     12\u001b[0m \u001b[0my_pred\u001b[0m \u001b[1;33m=\u001b[0m \u001b[0mst_reg\u001b[0m\u001b[1;33m.\u001b[0m\u001b[0mpredict\u001b[0m\u001b[1;33m(\u001b[0m\u001b[0mX_test\u001b[0m\u001b[1;33m)\u001b[0m\u001b[1;33m\u001b[0m\u001b[1;33m\u001b[0m\u001b[0m\n\u001b[0;32m     13\u001b[0m \u001b[1;33m\u001b[0m\u001b[0m\n",
      "\u001b[1;32m~\\anaconda3\\envs\\bootcamp\\lib\\site-packages\\sklearn\\ensemble\\_stacking.py\u001b[0m in \u001b[0;36mfit\u001b[1;34m(self, X, y, sample_weight)\u001b[0m\n\u001b[0;32m    751\u001b[0m         \"\"\"\n\u001b[0;32m    752\u001b[0m         \u001b[0my\u001b[0m \u001b[1;33m=\u001b[0m \u001b[0mcolumn_or_1d\u001b[0m\u001b[1;33m(\u001b[0m\u001b[0my\u001b[0m\u001b[1;33m,\u001b[0m \u001b[0mwarn\u001b[0m\u001b[1;33m=\u001b[0m\u001b[1;32mTrue\u001b[0m\u001b[1;33m)\u001b[0m\u001b[1;33m\u001b[0m\u001b[1;33m\u001b[0m\u001b[0m\n\u001b[1;32m--> 753\u001b[1;33m         \u001b[1;32mreturn\u001b[0m \u001b[0msuper\u001b[0m\u001b[1;33m(\u001b[0m\u001b[1;33m)\u001b[0m\u001b[1;33m.\u001b[0m\u001b[0mfit\u001b[0m\u001b[1;33m(\u001b[0m\u001b[0mX\u001b[0m\u001b[1;33m,\u001b[0m \u001b[0my\u001b[0m\u001b[1;33m,\u001b[0m \u001b[0msample_weight\u001b[0m\u001b[1;33m)\u001b[0m\u001b[1;33m\u001b[0m\u001b[1;33m\u001b[0m\u001b[0m\n\u001b[0m\u001b[0;32m    754\u001b[0m \u001b[1;33m\u001b[0m\u001b[0m\n\u001b[0;32m    755\u001b[0m     \u001b[1;32mdef\u001b[0m \u001b[0mtransform\u001b[0m\u001b[1;33m(\u001b[0m\u001b[0mself\u001b[0m\u001b[1;33m,\u001b[0m \u001b[0mX\u001b[0m\u001b[1;33m)\u001b[0m\u001b[1;33m:\u001b[0m\u001b[1;33m\u001b[0m\u001b[1;33m\u001b[0m\u001b[0m\n",
      "\u001b[1;32m~\\anaconda3\\envs\\bootcamp\\lib\\site-packages\\sklearn\\ensemble\\_stacking.py\u001b[0m in \u001b[0;36mfit\u001b[1;34m(self, X, y, sample_weight)\u001b[0m\n\u001b[0;32m    148\u001b[0m         \u001b[1;31m# all_estimators contains all estimators, the one to be fitted and the\u001b[0m\u001b[1;33m\u001b[0m\u001b[1;33m\u001b[0m\u001b[1;33m\u001b[0m\u001b[0m\n\u001b[0;32m    149\u001b[0m         \u001b[1;31m# 'drop' string.\u001b[0m\u001b[1;33m\u001b[0m\u001b[1;33m\u001b[0m\u001b[1;33m\u001b[0m\u001b[0m\n\u001b[1;32m--> 150\u001b[1;33m         \u001b[0mnames\u001b[0m\u001b[1;33m,\u001b[0m \u001b[0mall_estimators\u001b[0m \u001b[1;33m=\u001b[0m \u001b[0mself\u001b[0m\u001b[1;33m.\u001b[0m\u001b[0m_validate_estimators\u001b[0m\u001b[1;33m(\u001b[0m\u001b[1;33m)\u001b[0m\u001b[1;33m\u001b[0m\u001b[1;33m\u001b[0m\u001b[0m\n\u001b[0m\u001b[0;32m    151\u001b[0m         \u001b[0mself\u001b[0m\u001b[1;33m.\u001b[0m\u001b[0m_validate_final_estimator\u001b[0m\u001b[1;33m(\u001b[0m\u001b[1;33m)\u001b[0m\u001b[1;33m\u001b[0m\u001b[1;33m\u001b[0m\u001b[0m\n\u001b[0;32m    152\u001b[0m \u001b[1;33m\u001b[0m\u001b[0m\n",
      "\u001b[1;32m~\\anaconda3\\envs\\bootcamp\\lib\\site-packages\\sklearn\\ensemble\\_base.py\u001b[0m in \u001b[0;36m_validate_estimators\u001b[1;34m(self)\u001b[0m\n\u001b[0;32m    245\u001b[0m                 \u001b[1;34m\" of (string, estimator) tuples.\"\u001b[0m\u001b[1;33m\u001b[0m\u001b[1;33m\u001b[0m\u001b[0m\n\u001b[0;32m    246\u001b[0m             )\n\u001b[1;32m--> 247\u001b[1;33m         \u001b[0mnames\u001b[0m\u001b[1;33m,\u001b[0m \u001b[0mestimators\u001b[0m \u001b[1;33m=\u001b[0m \u001b[0mzip\u001b[0m\u001b[1;33m(\u001b[0m\u001b[1;33m*\u001b[0m\u001b[0mself\u001b[0m\u001b[1;33m.\u001b[0m\u001b[0mestimators\u001b[0m\u001b[1;33m)\u001b[0m\u001b[1;33m\u001b[0m\u001b[1;33m\u001b[0m\u001b[0m\n\u001b[0m\u001b[0;32m    248\u001b[0m         \u001b[1;31m# defined by MetaEstimatorMixin\u001b[0m\u001b[1;33m\u001b[0m\u001b[1;33m\u001b[0m\u001b[1;33m\u001b[0m\u001b[0m\n\u001b[0;32m    249\u001b[0m         \u001b[0mself\u001b[0m\u001b[1;33m.\u001b[0m\u001b[0m_validate_names\u001b[0m\u001b[1;33m(\u001b[0m\u001b[0mnames\u001b[0m\u001b[1;33m)\u001b[0m\u001b[1;33m\u001b[0m\u001b[1;33m\u001b[0m\u001b[0m\n",
      "\u001b[1;31mTypeError\u001b[0m: 'numpy.int32' object is not iterable"
     ]
    }
   ],
   "source": [
    "# DONT' RUN\n",
    "from sklearn.ensemble import StackingRegressor\n",
    "from sklearn.metrics import mean_squared_error, r2_score, mean_absolute_error\n",
    "from sklearn.model_selection import train_test_split\n",
    "\n",
    "y = df.arr_delay.to_numpy()\n",
    "X = df.drop(columns=['arr_delay']).to_numpy()\n",
    "X_train, X_test, y_train, y_test = train_test_split(X, y, test_size=0.25, random_state=88)\n",
    "\n",
    "st_reg = StackingRegressor(estimators=)\n",
    "\n",
    "st_reg.fit(X_train, y_train)\n",
    "y_pred = st_reg.predict(X_test)\n",
    "\n",
    "print(f'MSE(test): {mean_squared_error(y_test, y_pred)}',\n",
    "      f'R2(test): {r2_score(y_test, y_pred)}', \n",
    "      f'MAE(test): {mean_absolute_error(y_test, y_pred)}')"
   ]
  },
  {
   "cell_type": "code",
   "execution_count": null,
   "id": "81f9d363",
   "metadata": {},
   "outputs": [],
   "source": []
  }
 ],
 "metadata": {
  "kernelspec": {
   "display_name": "bootcamp",
   "language": "python",
   "name": "bootcamp"
  },
  "language_info": {
   "codemirror_mode": {
    "name": "ipython",
    "version": 3
   },
   "file_extension": ".py",
   "mimetype": "text/x-python",
   "name": "python",
   "nbconvert_exporter": "python",
   "pygments_lexer": "ipython3",
   "version": "3.8.5"
  }
 },
 "nbformat": 4,
 "nbformat_minor": 5
}
