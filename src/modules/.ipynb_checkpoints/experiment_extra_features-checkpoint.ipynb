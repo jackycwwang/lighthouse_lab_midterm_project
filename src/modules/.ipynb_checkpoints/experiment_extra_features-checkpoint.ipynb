{
 "cells": [
  {
   "cell_type": "code",
   "execution_count": null,
   "id": "758af787-adc4-4bc0-8bbd-da9de96f5bdb",
   "metadata": {},
   "outputs": [],
   "source": [
    "def add_is_weekend_feature(df):\n",
    "    \"\"\" creates boolean column to indicate if week is weekend \n",
    "        https://pandas.pydata.org/docs/reference/api/pandas.DatetimeIndex.weekday.html\n",
    "        week starts 0 with monday - 0-5 are weekdays (0) and 6,7 weekends (1) \"\"\"\n",
    "\n",
    "    df['weekend'] = df['fl_date'].astype('datetime64[ns]')\n",
    "\n",
    "    f = lambda x: x.weekday()     \n",
    "    df['weekend'] = df['weekend'].apply(f).astype('int32')\n",
    "    df['weekend'].replace({\n",
    "            0:0,\n",
    "            1:0,\n",
    "            2:0,\n",
    "            3:0,\n",
    "            4:0,\n",
    "            5:0,\n",
    "            6:1,\n",
    "            7:1\n",
    "        }, inplace=True)\n",
    "    return df\n",
    "\n",
    "def add_is_hub(df):\n",
    "    pass\n",
    "\n",
    "def add_weather(df):\n",
    "    pass\n",
    "\n",
    "def add_passenger_airport_load(df):\n",
    "    pass\n",
    "\n",
    "# PICKLE - USE IN FILE\n",
    "# # https://machinelearningmastery.com/save-load-machine-learning-models-python-scikit-learn/\n",
    "# def train_model(X, y):\n",
    "#     ...\n",
    "#     if os.path.exists(model_filepath):\n",
    "#         model = pickle.load(open(model_filepath, 'rb'))\n",
    "#     else:\n",
    "#         model = SVM()\n",
    "#         model.fit(X_train, y_train)\n",
    "\n",
    "#     y_pred = model.predict(X_test)\n",
    "    \n",
    "# # load the model from disk\n",
    "# loaded_model = pickle.load(open(filename, 'rb'))\n",
    "# result = loaded_model.score(X_test, Y_test)\n",
    "# print(result)\n"
   ]
  }
 ],
 "metadata": {
  "kernelspec": {
   "display_name": "bootcamp_env",
   "language": "python",
   "name": "bootcamp_env"
  },
  "language_info": {
   "codemirror_mode": {
    "name": "ipython",
    "version": 3
   },
   "file_extension": ".py",
   "mimetype": "text/x-python",
   "name": "python",
   "nbconvert_exporter": "python",
   "pygments_lexer": "ipython3",
   "version": "3.8.5"
  }
 },
 "nbformat": 4,
 "nbformat_minor": 5
}
