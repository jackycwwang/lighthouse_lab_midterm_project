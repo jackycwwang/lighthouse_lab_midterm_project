{
 "cells": [
  {
   "cell_type": "code",
   "execution_count": 3,
   "id": "dd9c6291",
   "metadata": {},
   "outputs": [],
   "source": [
    "import numpy as np\n",
    "import pandas as pd\n",
    "import seaborn as sns\n",
    "import matplotlib.pyplot as plt\n",
    "import requests\n",
    "from sklearn.preprocessing import StandardScaler\n",
    "import config as cfg\n",
    "import modules.help_functions as hf"
   ]
  },
  {
   "cell_type": "code",
   "execution_count": 4,
   "id": "0136e947",
   "metadata": {},
   "outputs": [],
   "source": [
    "df = pd.read_csv('../data/flights_samp.csv')"
   ]
  },
  {
   "cell_type": "code",
   "execution_count": 18,
   "id": "b433df97",
   "metadata": {},
   "outputs": [],
   "source": [
    "def split_numeric_categorical(df, numeric=True):\n",
    "    '''    \n",
    "    Return either numerical columns, or categorical columns in a data frame\n",
    "    numeric: default True, return dataframe of all numerical columns    \n",
    "    input: a data frame\n",
    "    output: a data frame    \n",
    "    '''\n",
    "    numeric_data = df.select_dtypes(include=[np.number])\n",
    "    categorical_data = df.select_dtypes(include='category')\n",
    "    if numeric:\n",
    "        return numeric_data\n",
    "    else:\n",
    "        return categorical_data"
   ]
  },
  {
   "cell_type": "code",
   "execution_count": 82,
   "id": "7a18b2f3",
   "metadata": {},
   "outputs": [],
   "source": [
    "def make_categorical(df, cols):\n",
    "    '''\n",
    "    Convert columns in `cols` to type `categorical`\n",
    "    input: df - data frame, cols - a list of columns\n",
    "    output: a copy of the data frame with the converted columns\n",
    "    '''\n",
    "    col_dict = {col:'category' for col in cols}\n",
    "    df = df.astype(col_dict)\n",
    "    return df"
   ]
  },
  {
   "cell_type": "code",
   "execution_count": null,
   "id": "36de403c",
   "metadata": {},
   "outputs": [],
   "source": [
    "def to_hhmmss(df_time_col):\n",
    "    '''\n",
    "    Change the format of the time in hhmm\n",
    "    to hh:mm:ss, where ss is 00 in this case\n",
    "    Input: `df_time_col`: a Pandas Series\n",
    "    Return: a Pandas Series\n",
    "    '''\n",
    "    \n",
    "    hhmm = []\n",
    "    crs_hm = df_time_col.astype('str')\n",
    "    for t in crs_hm:\n",
    "        if len(t) == 1:\n",
    "            hhmm.append('0' + t + ':00:00')\n",
    "        elif (len(t) == 2) & (t < '24'):\n",
    "            hhmm.append(t + ':00:00')\n",
    "        elif (len(t) == 2) & (t > '24'):\n",
    "            hhmm.append('00:' + t + ':00')\n",
    "        elif len(t) == 3:\n",
    "            hhmm.append('0' + t[0] + ':' + t[1:] + ':00')\n",
    "        else:\n",
    "            hhmm.append(t[:2] + ':' + t[2:] + \":00\")\n",
    "    return hhmm"
   ]
  },
  {
   "cell_type": "code",
   "execution_count": null,
   "id": "09c4d68e",
   "metadata": {},
   "outputs": [],
   "source": [
    "def to_city_state(city_state_col):\n",
    "    '''\n",
    "    Change the format of `city1/city2, state`\n",
    "    to `city1, state` \n",
    "    Input: A Pandas Series\n",
    "    Output: A Pandas Series\n",
    "    '''\n",
    "    return pd.Series(map(lambda x: x[0].split('/')[0] + ',' + x[-1].strip() ,\n",
    "                    city_state_col.str.split(',')))"
   ]
  },
  {
   "cell_type": "code",
   "execution_count": 83,
   "id": "e2d33a31",
   "metadata": {},
   "outputs": [],
   "source": [
    "def to_hhmmss(df_time_col):\n",
    "    '''\n",
    "    Change the format of the time in hhmm\n",
    "    to hh:mm:ss, where ss is 00 in this case\n",
    "    Input: `df_time_col`: a Pandas Series\n",
    "    Return: a Pandas Series\n",
    "    '''\n",
    "    \n",
    "    hhmm = []\n",
    "    crs_hm = df_time_col.astype('str')\n",
    "    for t in crs_hm:\n",
    "        if len(t) == 1:\n",
    "            hhmm.append('0' + t + ':00:00')\n",
    "        elif (len(t) == 2) & (t < '24'):\n",
    "            hhmm.append(t + ':00:00')\n",
    "        elif (len(t) == 2) & (t > '24'):\n",
    "            hhmm.append('00:' + t + ':00')\n",
    "        elif len(t) == 3:\n",
    "            hhmm.append('0' + t[0] + ':' + t[1:] + ':00')\n",
    "        else:\n",
    "            hhmm.append(t[:2] + ':' + t[2:] + \":00\")\n",
    "    return hhmm"
   ]
  },
  {
   "cell_type": "code",
   "execution_count": null,
   "id": "3bebd71f",
   "metadata": {},
   "outputs": [],
   "source": [
    "def merge_df_dict(df_time_ll, dic):\n",
    "    '''\n",
    "    Make a new dataframe with weather column,\n",
    "    then merge the new dataframe with original dataframe\n",
    "    input: df_time_ll, the dataframe where the `dic` is going to be concatenated on\n",
    "    return: The joined version of original dataframe\n",
    "    '''\n",
    "    df_time_ll = pd.concat([df_time_ll, pd.DataFrame.from_dict(dic)], axis=1)\n",
    "    df = df.merge(df_time_ll, on=['fl_date', 'll'], how='left')\n",
    "    return df"
   ]
  },
  {
   "cell_type": "code",
   "execution_count": 29,
   "id": "83bc0da3",
   "metadata": {},
   "outputs": [],
   "source": [
    "def to_dummies(df, col_array):\n",
    "    '''\n",
    "    change the given columns into dummy variables\n",
    "    and return the dataframe\n",
    "    '''\n",
    "    return pd.get_dummies(df, columns= col_array, drop_first=True)"
   ]
  },
  {
   "cell_type": "code",
   "execution_count": 55,
   "id": "5868d295",
   "metadata": {},
   "outputs": [],
   "source": [
    "def to_scale(df, col_array):\n",
    "    '''\n",
    "    scale the numeric variables to center around 0\n",
    "    and standard deviation of 1\n",
    "    '''\n",
    "    sc = StandardScaler()\n",
    "    df[col_array] = pd.DataFrame(sc.fit_transform(df[col_array]))   "
   ]
  },
  {
   "cell_type": "code",
   "execution_count": 56,
   "id": "d859839b",
   "metadata": {},
   "outputs": [],
   "source": [
    "def inverse_scale(df, col_array, sc):\n",
    "    '''\n",
    "    inverse scale back to the original numeric values\n",
    "    '''\n",
    "    df[col_array] = pd.DataFrame(sc.inverse_transform(df[col_array]))"
   ]
  },
  {
   "cell_type": "code",
   "execution_count": 70,
   "id": "2ecec435",
   "metadata": {},
   "outputs": [],
   "source": [
    "def make_qbin_column(df, col_name, n_bin_range):\n",
    "    '''\n",
    "    Convert a numeric column to a ordinal column based on quantiles.\n",
    "    Assumption: the column that is going to be binned\n",
    "    must be positive numeric numbers\n",
    "    input:\n",
    "      - df: data frame\n",
    "      - col_name: column in string\n",
    "      - q_list: a list of quantiles to be binned, \n",
    "        eg., [0, 0.25, 0.50, 0.75, 1] for 4-quantiles\n",
    "    return: a data frame with the newly binned column  \n",
    "    '''\n",
    "    # make bins and bin labels\n",
    "    bin_names = list(range(1, len(q_list)))\n",
    "    \n",
    "    # perform the binning\n",
    "    new_col_name = col_name + '_bin'\n",
    "    df[new_col_name] = pd.qcut(np.array(df[col_name]), \n",
    "                               q=n_bin_range,\n",
    "                               labels=bin_names, \n",
    "                               duplicates='drop')\n",
    "    return df\n"
   ]
  },
  {
   "cell_type": "code",
   "execution_count": 81,
   "id": "3773f845",
   "metadata": {},
   "outputs": [],
   "source": [
    "def make_col_value_qbins(df, col_name, new_col_bin_name, n_bin_range):\n",
    "    type_count = df[col_name].value_counts()\n",
    "    df1 = pd.DataFrame(type_count).reset_index()\n",
    "    df1 = df1.rename(columns={'index': 'bin_on', col_name: 'count'})       \n",
    "    df1 = make_qbin_column(df1, 'count', n_bin_range)\n",
    "    df = df.merge(df1, left_on=col_name, right_on='bin_on', how='left')\n",
    "    df = df.rename(columns ={'count_bin': new_col_bin_name})\n",
    "    df.drop(columns=['count', col_name], inplace=True)\n",
    "    return df"
   ]
  },
  {
   "cell_type": "code",
   "execution_count": 83,
   "id": "35dbe74c",
   "metadata": {},
   "outputs": [
    {
     "data": {
      "text/plain": [
       "0       (28.0, 227.0]\n",
       "1       (28.0, 227.0]\n",
       "2       (28.0, 227.0]\n",
       "3       (28.0, 227.0]\n",
       "4       (28.0, 227.0]\n",
       "            ...      \n",
       "271    (0.999, 2.667]\n",
       "272    (0.999, 2.667]\n",
       "273    (0.999, 2.667]\n",
       "274    (0.999, 2.667]\n",
       "275    (0.999, 2.667]\n",
       "Name: count, Length: 276, dtype: category\n",
       "Categories (5, interval[float64, right]): [(0.999, 2.667] < (2.667, 4.0] < (4.0, 9.0] < (9.0, 28.0] < (28.0, 227.0]]"
      ]
     },
     "execution_count": 83,
     "metadata": {},
     "output_type": "execute_result"
    }
   ],
   "source": [
    "pd.qcut(df1['count'], q=6, duplicates='drop')"
   ]
  },
  {
   "cell_type": "code",
   "execution_count": 21,
   "id": "54cb6b7c",
   "metadata": {},
   "outputs": [],
   "source": [
    "def get_avg_dep_delay(df, col_list):\n",
    "    df.loc[:, col_list] = df.loc[:, col_list].fillna(0)\n",
    "    df_avg_delay = pd.DataFrame(df.dest.unique(), columns=['origin'])\n",
    "    for col in col_list:\n",
    "        s = df.groupby('origin')[col].mean()\n",
    "        s.name = 'avg_' + col\n",
    "        df_avg_delay = df_avg_delay.merge(s.to_frame(), on='origin', how='left')\n",
    "    return df_avg_delay"
   ]
  },
  {
   "cell_type": "code",
   "execution_count": 22,
   "id": "c780eb28",
   "metadata": {},
   "outputs": [
    {
     "data": {
      "text/plain": [
       "Index(['index', 'fl_date', 'mkt_unique_carrier', 'branded_code_share',\n",
       "       'mkt_carrier', 'mkt_carrier_fl_num', 'op_unique_carrier', 'tail_num',\n",
       "       'op_carrier_fl_num', 'origin_airport_id', 'origin', 'origin_city_name',\n",
       "       'dest_airport_id', 'dest', 'dest_city_name', 'crs_dep_time', 'dep_time',\n",
       "       'dep_delay', 'taxi_out', 'wheels_off', 'wheels_on', 'taxi_in',\n",
       "       'crs_arr_time', 'arr_time', 'arr_delay', 'cancelled',\n",
       "       'cancellation_code', 'diverted', 'dup', 'crs_elapsed_time',\n",
       "       'actual_elapsed_time', 'air_time', 'flights', 'distance',\n",
       "       'carrier_delay', 'weather_delay', 'nas_delay', 'security_delay',\n",
       "       'late_aircraft_delay', 'first_dep_time', 'total_add_gtime',\n",
       "       'longest_add_gtime', 'no_name'],\n",
       "      dtype='object')"
      ]
     },
     "execution_count": 22,
     "metadata": {},
     "output_type": "execute_result"
    }
   ],
   "source": [
    "df.columns"
   ]
  },
  {
   "cell_type": "code",
   "execution_count": 23,
   "id": "9691c8ff",
   "metadata": {},
   "outputs": [
    {
     "data": {
      "text/html": [
       "<div>\n",
       "<style scoped>\n",
       "    .dataframe tbody tr th:only-of-type {\n",
       "        vertical-align: middle;\n",
       "    }\n",
       "\n",
       "    .dataframe tbody tr th {\n",
       "        vertical-align: top;\n",
       "    }\n",
       "\n",
       "    .dataframe thead th {\n",
       "        text-align: right;\n",
       "    }\n",
       "</style>\n",
       "<table border=\"1\" class=\"dataframe\">\n",
       "  <thead>\n",
       "    <tr style=\"text-align: right;\">\n",
       "      <th></th>\n",
       "      <th>origin</th>\n",
       "      <th>avg_dep_delay</th>\n",
       "    </tr>\n",
       "  </thead>\n",
       "  <tbody>\n",
       "    <tr>\n",
       "      <th>0</th>\n",
       "      <td>ORD</td>\n",
       "      <td>10.775120</td>\n",
       "    </tr>\n",
       "    <tr>\n",
       "      <th>1</th>\n",
       "      <td>AZO</td>\n",
       "      <td>4.000000</td>\n",
       "    </tr>\n",
       "    <tr>\n",
       "      <th>2</th>\n",
       "      <td>PHX</td>\n",
       "      <td>5.223214</td>\n",
       "    </tr>\n",
       "    <tr>\n",
       "      <th>3</th>\n",
       "      <td>MSY</td>\n",
       "      <td>1.952381</td>\n",
       "    </tr>\n",
       "    <tr>\n",
       "      <th>4</th>\n",
       "      <td>DCA</td>\n",
       "      <td>10.344828</td>\n",
       "    </tr>\n",
       "    <tr>\n",
       "      <th>...</th>\n",
       "      <td>...</td>\n",
       "      <td>...</td>\n",
       "    </tr>\n",
       "    <tr>\n",
       "      <th>274</th>\n",
       "      <td>ABY</td>\n",
       "      <td>NaN</td>\n",
       "    </tr>\n",
       "    <tr>\n",
       "      <th>275</th>\n",
       "      <td>PGV</td>\n",
       "      <td>-10.000000</td>\n",
       "    </tr>\n",
       "    <tr>\n",
       "      <th>276</th>\n",
       "      <td>PQI</td>\n",
       "      <td>NaN</td>\n",
       "    </tr>\n",
       "    <tr>\n",
       "      <th>277</th>\n",
       "      <td>AVP</td>\n",
       "      <td>-3.333333</td>\n",
       "    </tr>\n",
       "    <tr>\n",
       "      <th>278</th>\n",
       "      <td>FAY</td>\n",
       "      <td>-1.750000</td>\n",
       "    </tr>\n",
       "  </tbody>\n",
       "</table>\n",
       "<p>279 rows × 2 columns</p>\n",
       "</div>"
      ],
      "text/plain": [
       "    origin  avg_dep_delay\n",
       "0      ORD      10.775120\n",
       "1      AZO       4.000000\n",
       "2      PHX       5.223214\n",
       "3      MSY       1.952381\n",
       "4      DCA      10.344828\n",
       "..     ...            ...\n",
       "274    ABY            NaN\n",
       "275    PGV     -10.000000\n",
       "276    PQI            NaN\n",
       "277    AVP      -3.333333\n",
       "278    FAY      -1.750000\n",
       "\n",
       "[279 rows x 2 columns]"
      ]
     },
     "execution_count": 23,
     "metadata": {},
     "output_type": "execute_result"
    }
   ],
   "source": [
    "get_avg_dep_delay(df, ['dep_delay'])"
   ]
  },
  {
   "cell_type": "code",
   "execution_count": null,
   "id": "c9aaec72",
   "metadata": {},
   "outputs": [],
   "source": []
  }
 ],
 "metadata": {
  "kernelspec": {
   "display_name": "bootcamp",
   "language": "python",
   "name": "bootcamp"
  },
  "language_info": {
   "codemirror_mode": {
    "name": "ipython",
    "version": 3
   },
   "file_extension": ".py",
   "mimetype": "text/x-python",
   "name": "python",
   "nbconvert_exporter": "python",
   "pygments_lexer": "ipython3",
   "version": "3.8.5"
  }
 },
 "nbformat": 4,
 "nbformat_minor": 5
}
