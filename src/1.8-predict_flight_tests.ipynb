{
 "cells": [
  {
   "cell_type": "markdown",
   "id": "370e4a25-47e4-48b1-933d-1dd809a20bcd",
   "metadata": {},
   "source": [
    "## Predict Test Data\n",
    "After running a variety of models, the best one has been selected and will be used to predict the flight delays of the flights one week in advance. (From the past time for the first week of January) \n"
   ]
  },
  {
   "cell_type": "code",
   "execution_count": 13,
   "id": "c6b2d1e8-7fcd-41df-8279-7ad7a6081d3e",
   "metadata": {},
   "outputs": [],
   "source": [
    "import numpy as np\n",
    "import pandas as pd\n",
    "\n",
    "import modules.help_functions as hf\n",
    "\n",
    "from sklearn.preprocessing import StandardScaler\n",
    "from sklearn.preprocessing import MinMaxScaler\n",
    "from sklearn.feature_selection import VarianceThreshold\n",
    "\n",
    "# from sklearn.linear_model import LinearRegression\n"
   ]
  },
  {
   "cell_type": "code",
   "execution_count": 50,
   "id": "5d7a6734-775b-4303-88fe-6033faf8f176",
   "metadata": {},
   "outputs": [],
   "source": [
    "# Load and form dataframes\n",
    "\n",
    "df_training = pd.read_csv('../data/flights.csv')\n",
    "df_dep_delays = hf.get_avg_dep_delay(df_training, ['dep_delay'])\n",
    "df_dest_delays = hf.get_avg_dest_delay(df_training, ['carrier_delay', 'weather_delay', 'nas_delay', 'security_delay', 'late_aircraft_delay'])\n",
    "\n",
    "df = pd.read_csv('../data/flights_test.csv')"
   ]
  },
  {
   "cell_type": "code",
   "execution_count": null,
   "id": "cfe2cf4f-8743-4e6e-9356-948c7cb0e4ef",
   "metadata": {},
   "outputs": [],
   "source": [
    "\n"
   ]
  },
  {
   "cell_type": "code",
   "execution_count": 51,
   "id": "7c4e3a2a-67db-41db-8c6f-d941b3696536",
   "metadata": {},
   "outputs": [],
   "source": [
    "# encode arrival and departure hours\n",
    "\n",
    "# Split crs_arr_time and crs_dep_time into hour of day (local)\n",
    "df = hf.split_time_of_day_departure(df)\n",
    "df = hf.split_time_of_day_arrival(df)\n",
    "df.drop(columns=['crs_dep_time', 'crs_arr_time'], inplace=True)\n",
    "\n",
    "# encode hour of day departure\n",
    "f = lambda x: str(int(np.floor(x)))\n",
    "\n",
    "df['dep_hour'] = df['dep_hour'].apply(f)\n",
    "df['arr_hour'] = df['arr_hour'].apply(f)\n",
    "df.rename({'dep_hour_enc': 'dep_hour', 'arr_hour_enc': 'arr_hour'})\n",
    "df = hf.encode_and_bind(df, 'dep_hour')\n",
    "df = hf.encode_and_bind(df, 'arr_hour')"
   ]
  },
  {
   "cell_type": "code",
   "execution_count": 53,
   "id": "74edf1b5-e7e4-44aa-a3d8-ba656a880997",
   "metadata": {},
   "outputs": [],
   "source": [
    "# encode weekday\n",
    "\n",
    "# Convert fl_date into day of week  \n",
    "df = hf.add_weekday(df)\n",
    "#     df.drop(columns=['fl_date'], inplace=True) # drop at end\n",
    "df = hf.make_categorical(df, ['weekday'])\n",
    "df = hf.encode_and_bind(df, 'weekday')\n",
    "df.drop(columns=['weekday'], inplace=True)\n",
    "    "
   ]
  },
  {
   "cell_type": "code",
   "execution_count": 55,
   "id": "c95fca67-0cf5-41c2-8892-7b80a34e1b2d",
   "metadata": {},
   "outputs": [],
   "source": [
    "#  add  average delays\n",
    "\n",
    "# Add average delays (weather, carrier, NAS, late aircraft)\n",
    "df = df.merge(df_dest_delays, on='dest', how='left')\n",
    "df = df.merge(df_dep_delays, on='origin', how='left')\n"
   ]
  },
  {
   "cell_type": "code",
   "execution_count": 56,
   "id": "a1fb7705-b777-41d6-bc25-858b7597e646",
   "metadata": {},
   "outputs": [],
   "source": [
    "#  encode top states (for number of flights)\n",
    "\n",
    "# Split city and state \n",
    "hf.split_origin_city_state(df)\n",
    "hf.split_dest_city_state(df)\n",
    "df.drop(columns=['dest_city_name', 'origin_city_name'], inplace=True)"
   ]
  },
  {
   "cell_type": "code",
   "execution_count": 57,
   "id": "567fd34d-25d6-4d75-b429-7e6ddcb79bb0",
   "metadata": {},
   "outputs": [],
   "source": [
    "# Encode top 10 cities in terms of traffic \n",
    "\n",
    "city_list = ['Chicago','Atlanta','New York','Dallas/Fort Worth','Denver','Charlotte','Houston','Washington','Los Angeles','Seattle']    \n",
    "df.dest_city = np.where(df.dest_city.isin(city_list),df.dest_city, '0')\n",
    "df.origin_city = np.where(df.origin_city.isin(city_list),df.origin_city, '0')\n",
    "df = hf.encode_and_bind(df, 'origin_city')\n",
    "df = hf.encode_and_bind(df, 'dest_city')\n",
    "df.drop(columns=['dest_city', 'origin_city'], inplace=True)"
   ]
  },
  {
   "cell_type": "code",
   "execution_count": 58,
   "id": "09edd395-2cd7-4f80-8b43-4733c4082c2e",
   "metadata": {},
   "outputs": [],
   "source": [
    "# encode top 20 airport codes - in terms of number of flights\n",
    "\n",
    "top20_airport_code = ['LAX', 'ORD', 'EWR', 'SFO', 'LGA', 'DFW', 'LAS', 'CLT', 'DEN',\n",
    "                  'PHL', 'IAH', 'SEA', 'ATL', 'PHX', 'MCO', 'DTW', 'SLC', 'BOS',\n",
    "                  'JFK', 'MSP']\n",
    "df.dest = np.where(df.dest.isin(top20_airport_code),df.dest, '0')\n",
    "df.origin = np.where(df.origin.isin(top20_airport_code),df.origin, '0')\n",
    "df = hf.encode_and_bind(df, 'dest')\n",
    "df = hf.encode_and_bind(df, 'origin')"
   ]
  },
  {
   "cell_type": "code",
   "execution_count": 59,
   "id": "1be6233a-7f39-42bb-ac6e-69bfd4da3be1",
   "metadata": {},
   "outputs": [],
   "source": [
    "# State - Encode (based on # flights)\n",
    "\n",
    "state_list = ['CA','TX', 'FL', 'IL', 'NY', 'GA', 'NC', 'CO', 'PA', 'WA']\n",
    "df.dest_state = np.where(df.dest_state.isin(state_list),df.dest_state, '0')\n",
    "df.origin_state = np.where(df.origin_state.isin(state_list),df.origin_state, '0')\n",
    "df = hf.encode_and_bind(df, 'origin_state')\n",
    "df = hf.encode_and_bind(df, 'dest_state')\n",
    "df.drop(columns=['dest_state', 'origin_state'], inplace=True)"
   ]
  },
  {
   "cell_type": "code",
   "execution_count": 60,
   "id": "28f0ca6f-fc85-4776-ae3f-f7e1b8c3c2fa",
   "metadata": {},
   "outputs": [],
   "source": [
    "# Convert Airline Carrier - Encode \n",
    "\n",
    "df = hf.encode_and_bind(df, 'mkt_unique_carrier')\n",
    "df.drop(columns = ['mkt_unique_carrier'], inplace=True)"
   ]
  },
  {
   "cell_type": "code",
   "execution_count": 61,
   "id": "cfbcb38a-c1c6-42d8-9a5a-9fcaf0e40d34",
   "metadata": {},
   "outputs": [],
   "source": [
    "# Origin Airport Busyness - Encode top 10 (rest in 'other') OR BIN according to passenger or flight volume\n",
    "df = hf.make_col_value_bins(df, 'origin', 'origin_airport_fl_amt_bin', 7) \n",
    "\n",
    "# Dest Airport Busyness- Encode top 10 or bin according to passenger of flight volume \n",
    "df = hf.make_col_value_bins(df, 'dest', 'dest_airport_fl_amt_bin', 7) "
   ]
  },
  {
   "cell_type": "code",
   "execution_count": 64,
   "id": "26de9c34-ae2b-46da-834b-9db71ff0e0cc",
   "metadata": {},
   "outputs": [],
   "source": [
    "# Flight number\n",
    "\n",
    "df_fl_num_delay = hf.fl_arr_delay(df_training)\n",
    "df = df.merge(df_fl_num_delay, on=\"mkt_carrier_fl_num\", how='left')\n",
    "\n",
    "# deal with nulls\n",
    "arr_delay_all_flights_median = -8.0 # this is median of whole sample\n",
    "df.fl_num_delay.fillna(arr_delay_all_flights_median, inplace=True)\n",
    "df.drop(columns = ['mkt_carrier_fl_num'], inplace=True)\n"
   ]
  },
  {
   "cell_type": "code",
   "execution_count": 65,
   "id": "86526410-e3a4-4848-aecc-0efce50eca33",
   "metadata": {},
   "outputs": [],
   "source": [
    "# scheduled flight time - encode log of crs_elapsed \n",
    "\n",
    "df['log_crs_elapsed_time'] = np.log(df.crs_elapsed_time.abs())\n",
    "df = hf.make_bin_column(df, 'log_crs_elapsed_time', 20) \n",
    "df = hf.make_categorical(df, ['log_crs_elapsed_time_bin'])\n",
    "df = hf.encode_and_bind(df, 'log_crs_elapsed_time_bin')\n",
    "df.drop(columns = ['crs_elapsed_time','log_crs_elapsed_time', 'log_crs_elapsed_time_bin' ], inplace=True)"
   ]
  },
  {
   "cell_type": "code",
   "execution_count": 66,
   "id": "ae6573c0-f0a9-4314-a740-0d63974465b5",
   "metadata": {},
   "outputs": [],
   "source": [
    "\n",
    "# Drop rest that (that didn't plan to use)\n",
    "df.drop(columns=['branded_code_share', 'mkt_carrier','op_unique_carrier', 'tail_num', 'op_carrier_fl_num',\n",
    "                  'origin_airport_id', 'dest_airport_id', 'dep_hour','arr_hour', 'dup', 'flights', 'fl_date'], errors='ignore', inplace = True)\n",
    "\n",
    "\n",
    "# Drop features from LDA \n",
    "df.drop(columns=['origin_airport_fl_amt_bin', \n",
    "            'dest_airport_fl_amt_bin', \n",
    "            'dest_0', \n",
    "#             'weekday_0', 'weekday_1', 'weekday_2', \n",
    "#             'weekday_3', 'weekday_4', \n",
    "#             'weekday_5', 'weekday_6', \n",
    "            'origin_city_0', \n",
    "            'origin_state_0','origin_state_PA', 'dest_state_PA'], errors='ignore', inplace = True)\n",
    "\n"
   ]
  },
  {
   "cell_type": "code",
   "execution_count": 67,
   "id": "ad6a6ab1-f54b-4d2d-b782-3f1846d42357",
   "metadata": {},
   "outputs": [],
   "source": [
    "def scale(df):\n",
    "#     scaler = MinMaxScaler()\n",
    "    scaler = StandardScaler()\n",
    "\n",
    "    # apply scaler() to all the numeric columns \n",
    "    numeric_vars = ['avg_carrier_delay', \n",
    "                     'avg_weather_delay', \n",
    "                     'avg_nas_delay', \n",
    "                     'avg_security_delay', \n",
    "                     'avg_late_aircraft_delay', 'avg_dep_delay', 'distance', 'fl_num_delay'\n",
    "                     ]\n",
    "    df[numeric_vars] = scaler.fit_transform(df[numeric_vars])\n",
    "    return df"
   ]
  },
  {
   "cell_type": "code",
   "execution_count": 68,
   "id": "5e03a20d-8bc8-468b-b1a5-a12fa5c5e706",
   "metadata": {},
   "outputs": [],
   "source": [
    "def remove_highly_correlated_features(df, correlation_threshold=0.8):\n",
    "    \"\"\" Any pair above the correlation threshold, one feature will be removed \"\"\"\n",
    "    \n",
    "    df_corr = df.corr().abs()\n",
    "\n",
    "    indices = np.where(df_corr > correlation_threshold)\n",
    "    indices = [(df_corr.index[x], df_corr.columns[y])\n",
    "    for x, y in zip(*indices)\n",
    "        if x != y and x < y]\n",
    "\n",
    "    for idx in indices: #each pair\n",
    "        try:\n",
    "            df.drop(idx[1], axis = 1, inplace=True)\n",
    "        except KeyError:\n",
    "            pass\n",
    "    return df\n"
   ]
  },
  {
   "cell_type": "code",
   "execution_count": 69,
   "id": "9f593e1d-80bf-4eab-ab65-3e898d7e5916",
   "metadata": {},
   "outputs": [
    {
     "data": {
      "text/plain": [
       "Index(['distance', 'dep_hour_1', 'dep_hour_10', 'dep_hour_11', 'dep_hour_12',\n",
       "       'dep_hour_13', 'dep_hour_14', 'dep_hour_15', 'dep_hour_16',\n",
       "       'dep_hour_17',\n",
       "       ...\n",
       "       'log_crs_elapsed_time_bin_11', 'log_crs_elapsed_time_bin_12',\n",
       "       'log_crs_elapsed_time_bin_13', 'log_crs_elapsed_time_bin_14',\n",
       "       'log_crs_elapsed_time_bin_15', 'log_crs_elapsed_time_bin_16',\n",
       "       'log_crs_elapsed_time_bin_17', 'log_crs_elapsed_time_bin_18',\n",
       "       'log_crs_elapsed_time_bin_19', 'log_crs_elapsed_time_bin_20'],\n",
       "      dtype='object', length=169)"
      ]
     },
     "execution_count": 69,
     "metadata": {},
     "output_type": "execute_result"
    }
   ],
   "source": [
    "df.columns"
   ]
  },
  {
   "cell_type": "code",
   "execution_count": 70,
   "id": "6883740e-f1a4-4aa5-a70f-c09ec50e462b",
   "metadata": {},
   "outputs": [],
   "source": [
    "df = scale(df)\n",
    "df = remove_highly_correlated_features(df)"
   ]
  },
  {
   "cell_type": "code",
   "execution_count": 72,
   "id": "0b9717b0-5c5b-4b5e-862b-40e074e27b5c",
   "metadata": {},
   "outputs": [],
   "source": [
    "# Save to data folder\n",
    "df.to_csv(\"../data/testing_test_data_v2.csv\", index=False)"
   ]
  },
  {
   "cell_type": "code",
   "execution_count": 71,
   "id": "498ed1be-239d-46f3-8629-0829abf7426d",
   "metadata": {},
   "outputs": [
    {
     "data": {
      "text/plain": [
       "Index(['distance', 'dep_hour_1', 'dep_hour_10', 'dep_hour_11', 'dep_hour_12',\n",
       "       'dep_hour_13', 'dep_hour_14', 'dep_hour_15', 'dep_hour_16',\n",
       "       'dep_hour_17',\n",
       "       ...\n",
       "       'log_crs_elapsed_time_bin_11', 'log_crs_elapsed_time_bin_12',\n",
       "       'log_crs_elapsed_time_bin_13', 'log_crs_elapsed_time_bin_14',\n",
       "       'log_crs_elapsed_time_bin_15', 'log_crs_elapsed_time_bin_16',\n",
       "       'log_crs_elapsed_time_bin_17', 'log_crs_elapsed_time_bin_18',\n",
       "       'log_crs_elapsed_time_bin_19', 'log_crs_elapsed_time_bin_20'],\n",
       "      dtype='object', length=141)"
      ]
     },
     "execution_count": 71,
     "metadata": {},
     "output_type": "execute_result"
    }
   ],
   "source": [
    "df.columns"
   ]
  },
  {
   "cell_type": "markdown",
   "id": "708b7822-5936-4e68-ac1e-d0ae755892ed",
   "metadata": {},
   "source": [
    "#### Fit Model"
   ]
  },
  {
   "cell_type": "code",
   "execution_count": 73,
   "id": "a382e85f-7e09-4cc7-bf63-a3d5b80a46b1",
   "metadata": {},
   "outputs": [
    {
     "ename": "NameError",
     "evalue": "name 'model' is not defined",
     "output_type": "error",
     "traceback": [
      "\u001b[0;31m---------------------------------------------------------------------------\u001b[0m",
      "\u001b[0;31mNameError\u001b[0m                                 Traceback (most recent call last)",
      "\u001b[0;32m<ipython-input-73-50c10dacbd95>\u001b[0m in \u001b[0;36m<module>\u001b[0;34m\u001b[0m\n\u001b[1;32m      8\u001b[0m \u001b[0;31m# pickle.dump(model, open(filename, 'wb'))\u001b[0m\u001b[0;34m\u001b[0m\u001b[0;34m\u001b[0m\u001b[0;34m\u001b[0m\u001b[0m\n\u001b[1;32m      9\u001b[0m \u001b[0;34m\u001b[0m\u001b[0m\n\u001b[0;32m---> 10\u001b[0;31m \u001b[0mpredicted_delay\u001b[0m \u001b[0;34m=\u001b[0m \u001b[0mmodel\u001b[0m\u001b[0;34m.\u001b[0m\u001b[0mpredict\u001b[0m\u001b[0;34m(\u001b[0m\u001b[0mX_test\u001b[0m\u001b[0;34m)\u001b[0m\u001b[0;34m\u001b[0m\u001b[0;34m\u001b[0m\u001b[0m\n\u001b[0m\u001b[1;32m     11\u001b[0m \u001b[0;34m\u001b[0m\u001b[0m\n\u001b[1;32m     12\u001b[0m \u001b[0;31m# ***MERGE y_pred to original test_df, drop all the non-delayed flights?\u001b[0m\u001b[0;34m\u001b[0m\u001b[0;34m\u001b[0m\u001b[0;34m\u001b[0m\u001b[0m\n",
      "\u001b[0;31mNameError\u001b[0m: name 'model' is not defined"
     ]
    }
   ],
   "source": [
    "X_test = df.to_numpy()\n",
    "\n",
    "# Load model from pickle file\n",
    "\n",
    "# Save pickle file\n",
    "# model = lr_baseline\n",
    "# filename = '../model/linear_regression_all_features_except_neg_target.pkl'\n",
    "# pickle.dump(model, open(filename, 'wb'))\n",
    "\n",
    "predicted_delay = model.predict(X_test)\n",
    "\n",
    "# ***MERGE y_pred to original test_df, drop all the non-delayed flights?\n",
    "\n",
    "df_pred = df[['fl_date', 'mkt_carrier', 'mkt_carrier_fl_num', 'origin', 'dest', 'predicted_delay']]\n",
    "\n",
    "# save to file \n",
    "# Save to data folder\n",
    "df_pred.to_csv(\"../data/submission.csv\", index=False)"
   ]
  },
  {
   "cell_type": "code",
   "execution_count": null,
   "id": "70d2afef",
   "metadata": {},
   "outputs": [],
   "source": [
    " r2: 0.07588064956536089\n",
    " MSE: 271.8742627386297\n",
    " MAE: 12.848907195090016 \n",
    "    \n",
    "    r2: 0.08013667354836995\n",
    " MSE: 270.622148082623\n",
    " MAE: 12.81701225015653"
   ]
  },
  {
   "cell_type": "code",
   "execution_count": null,
   "id": "5857b8c0-2ead-4cfe-9725-15ddea06b76c",
   "metadata": {},
   "outputs": [],
   "source": [
    "# Predict test delays\n",
    "\n",
    "df_t = pd.read_csv('../data/testing_test_data_v2.csv')\n",
    "df_t.drop(columns=['origin_state_PA', 'dest_state_PA'], inplace=True, errors='ignore')\n",
    "test_data = df_t.to_numpy()\n",
    "y_pred = xgb_reg.predict(test_data)\n",
    "df_flights_test = pd.read_csv('../data/flights_test.csv')\n",
    "s_pred = pd.Series(y_pred, name='predicted_delay')\n",
    "df_results = pd.concat([df_flights_test, s_pred], axis=1)\n",
    "df_results.to_csv('../data/submission.csv', index=False)"
   ]
  },
  {
   "cell_type": "code",
   "execution_count": null,
   "id": "8fe5f470-ed45-4390-bfed-baa510883691",
   "metadata": {},
   "outputs": [],
   "source": []
  }
 ],
 "metadata": {
  "kernelspec": {
   "display_name": "bootcamp_env",
   "language": "python",
   "name": "bootcamp_env"
  },
  "language_info": {
   "codemirror_mode": {
    "name": "ipython",
    "version": 3
   },
   "file_extension": ".py",
   "mimetype": "text/x-python",
   "name": "python",
   "nbconvert_exporter": "python",
   "pygments_lexer": "ipython3",
   "version": "3.8.5"
  }
 },
 "nbformat": 4,
 "nbformat_minor": 5
}
