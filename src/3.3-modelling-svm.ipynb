{
 "cells": [
  {
   "cell_type": "markdown",
   "id": "1bb0027b",
   "metadata": {},
   "source": [
    "### SVM Regressor\n",
    "\n",
    "Note this has been running in various iterations and paired down versions on google colab paid plan, and has timed out ever single time. Will keep trying, but not sure it will complete on time for the submission "
   ]
  },
  {
   "cell_type": "code",
   "execution_count": null,
   "id": "1c1686ec-06c3-45c0-a733-33bab172313c",
   "metadata": {
    "colab": {
     "base_uri": "https://localhost:8080/"
    },
    "id": "1c1686ec-06c3-45c0-a733-33bab172313c",
    "outputId": "0477b666-f558-4ce4-c62b-fe3c0da9ae13"
   },
   "outputs": [
    {
     "name": "stdout",
     "output_type": "stream",
     "text": [
      "Mounted at /content/drive\n"
     ]
    }
   ],
   "source": [
    "import numpy as np\n",
    "import pandas as pd\n",
    "from sklearn.model_selection import train_test_split\n",
    "from sklearn.model_selection import GridSearchCV\n",
    "from sklearn.metrics import make_scorer\n",
    "from sklearn import svm\n",
    "from sklearn.metrics import r2_score, mean_squared_error, mean_absolute_error\n",
    "import pickle\n",
    "from google.colab import drive\n",
    "drive.mount('/content/drive')"
   ]
  },
  {
   "cell_type": "code",
   "execution_count": null,
   "id": "E5aVFdickAAF",
   "metadata": {
    "colab": {
     "base_uri": "https://localhost:8080/"
    },
    "id": "E5aVFdickAAF",
    "outputId": "634b12f2-e843-4a00-af80-c6c31b7aff33"
   },
   "outputs": [
    {
     "data": {
      "text/plain": [
       "(321524, 135)"
      ]
     },
     "execution_count": 3,
     "metadata": {},
     "output_type": "execute_result"
    }
   ],
   "source": [
    "# df = pd.read_csv(\"drive/MyDrive/Colab Notebooks/encoded_training_data_v6.csv\",low_memory=False, error_bad_lines=False )\n",
    "df = pd.read_csv(\"drive/MyDrive/lhl-midterm-data/encoded_training_data_v6.csv\" )\n",
    "df.shape"
   ]
  },
  {
   "cell_type": "code",
   "execution_count": null,
   "id": "GxZ8VLQ24k9-",
   "metadata": {
    "id": "GxZ8VLQ24k9-"
   },
   "outputs": [],
   "source": [
    "y = df.arr_delay.to_numpy()\n",
    "X = df.drop(columns=['arr_delay']).to_numpy()\n",
    "X_train, X_test, y_train, y_test = train_test_split(X, y, test_size=0.2, random_state=88)"
   ]
  },
  {
   "cell_type": "code",
   "execution_count": null,
   "id": "lwtDJ4WM4m1z",
   "metadata": {
    "colab": {
     "base_uri": "https://localhost:8080/"
    },
    "id": "lwtDJ4WM4m1z",
    "outputId": "37dbf385-f777-464a-e994-585c6a59ee66"
   },
   "outputs": [
    {
     "data": {
      "text/plain": [
       "(257219, 134)"
      ]
     },
     "execution_count": 22,
     "metadata": {},
     "output_type": "execute_result"
    }
   ],
   "source": [
    "X_train.shape"
   ]
  },
  {
   "cell_type": "code",
   "execution_count": null,
   "id": "248123cb-e2b3-447f-a8ae-6f8359d9d561",
   "metadata": {
    "colab": {
     "base_uri": "https://localhost:8080/"
    },
    "id": "248123cb-e2b3-447f-a8ae-6f8359d9d561",
    "outputId": "c59d4977-4f52-48c6-b348-c2b8e217d4fd"
   },
   "outputs": [
    {
     "name": "stdout",
     "output_type": "stream",
     "text": [
      "Fitting 3 folds for each of 1 candidates, totalling 3 fits\n"
     ]
    },
    {
     "name": "stderr",
     "output_type": "stream",
     "text": [
      "[Parallel(n_jobs=-1)]: Using backend LokyBackend with 2 concurrent workers.\n",
      "[Parallel(n_jobs=-1)]: Done   3 out of   3 | elapsed: 516.9min finished\n"
     ]
    }
   ],
   "source": [
    "\n",
    "scorer = make_scorer(mean_squared_error, greater_is_better=False)\n",
    "# svr_gs = GridSearchCV(SVR(epsilon = 0.01), parameters, cv = K, scoring=scorer)\n",
    "\n",
    "param_grid = {'C': [1], 'gamma': [0.1],'kernel': ['rbf']}\n",
    "\n",
    "regr = svm.SVR(epsilon = 0.01) \n",
    "grid_search = GridSearchCV(regr, param_grid, cv=3, n_jobs = -1, verbose = 2, scoring=scorer)\n",
    "grid_search.fit(X_train, y_train)\n",
    "\n",
    "# Save pickle file\n",
    "filename = 'svm.pk2'\n",
    "pickle.dump(grid_search, open(filename, 'wb'))\n",
    "\n",
    "best_result = grid_search.best_estimator_\n",
    "print(best_result)\n",
    "\n",
    "r2 = r2_score(y_test, y_pred)\n",
    "MSE = mean_squared_error(y_test,y_pred) \n",
    "RMSE = mean_squared_error(y_test,y_pred,squared=False)\n",
    "MAE = mean_absolute_error(y_test,y_pred)\n",
    "\n",
    "print(f' r2: {r2}\\n MSE: {MSE}\\n MAE: {MAE}\\n')\n"
   ]
  },
  {
   "cell_type": "code",
   "execution_count": null,
   "id": "7a533191-eb2d-42e1-844e-330c611d570e",
   "metadata": {
    "id": "7a533191-eb2d-42e1-844e-330c611d570e"
   },
   "outputs": [],
   "source": []
  },
  {
   "cell_type": "code",
   "execution_count": null,
   "id": "4011b91b-1956-4561-8ef2-1743724424b2",
   "metadata": {
    "id": "4011b91b-1956-4561-8ef2-1743724424b2"
   },
   "outputs": [],
   "source": []
  },
  {
   "cell_type": "code",
   "execution_count": null,
   "id": "c8092f50-5dca-4e47-af57-faf5a0a693c4",
   "metadata": {
    "id": "c8092f50-5dca-4e47-af57-faf5a0a693c4"
   },
   "outputs": [],
   "source": []
  }
 ],
 "metadata": {
  "colab": {
   "collapsed_sections": [],
   "name": "1.6-modelling-svm.ipynb",
   "provenance": []
  },
  "kernelspec": {
   "display_name": "bootcamp_env",
   "language": "python",
   "name": "bootcamp_env"
  },
  "language_info": {
   "codemirror_mode": {
    "name": "ipython",
    "version": 3
   },
   "file_extension": ".py",
   "mimetype": "text/x-python",
   "name": "python",
   "nbconvert_exporter": "python",
   "pygments_lexer": "ipython3",
   "version": "3.8.5"
  }
 },
 "nbformat": 4,
 "nbformat_minor": 5
}
