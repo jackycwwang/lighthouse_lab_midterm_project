{
 "cells": [
  {
   "cell_type": "markdown",
   "metadata": {},
   "source": [
    "## Exploratory Data Analysis\n",
    "\n",
    "Use this notebook to get familiar with the datasets we have. There is 10 questions we need to answer during the EDA.\n",
    "\n",
    "\n",
    "We shouldn't limit our EDA to these 10 questions. Let's be creative :)."
   ]
  },
  {
   "cell_type": "code",
   "execution_count": 1,
   "metadata": {},
   "outputs": [],
   "source": [
    "import numpy as np\n",
    "import pandas as pd\n",
    "import seaborn as sns\n",
    "import matplotlib.pyplot as plt"
   ]
  },
  {
   "cell_type": "code",
   "execution_count": 2,
   "metadata": {},
   "outputs": [],
   "source": [
    "df = pd.read_csv('flights_samp.csv')"
   ]
  },
  {
   "cell_type": "code",
   "execution_count": null,
   "metadata": {},
   "outputs": [],
   "source": []
  },
  {
   "cell_type": "code",
   "execution_count": null,
   "metadata": {},
   "outputs": [],
   "source": []
  },
  {
   "cell_type": "markdown",
   "metadata": {},
   "source": [
    "#### **Task 1**: Test the hypothesis that the delay is from Normal distribution. and that **mean** of the delay is 0. Be careful about the outliers."
   ]
  },
  {
   "cell_type": "code",
   "execution_count": 8,
   "metadata": {},
   "outputs": [
    {
     "data": {
      "text/plain": [
       "0       -6.0\n",
       "1       -1.0\n",
       "2        6.0\n",
       "3       -3.0\n",
       "4       16.0\n",
       "        ... \n",
       "4995    -1.0\n",
       "4996   -10.0\n",
       "4997    -6.0\n",
       "4998    -6.0\n",
       "4999    12.0\n",
       "Name: dep_delay, Length: 5000, dtype: float64"
      ]
     },
     "execution_count": 8,
     "metadata": {},
     "output_type": "execute_result"
    }
   ],
   "source": [
    "df.dep_delay"
   ]
  },
  {
   "cell_type": "code",
   "execution_count": 18,
   "metadata": {},
   "outputs": [
    {
     "data": {
      "image/png": "[encoded data removed]",
      "text/plain": [
       "<Figure size 432x288 with 1 Axes>"
      ]
     },
     "metadata": {
      "needs_background": "light"
     },
     "output_type": "display_data"
    }
   ],
   "source": [
    "plt.hist(df.dep_delay, bins=np.arange(-30,90, 1.6));"
   ]
  },
  {
   "cell_type": "code",
   "execution_count": 3,
   "metadata": {},
   "outputs": [],
   "source": [
    "col_index_drop = df.isnull().sum() / df.shape[0] > 0.5\n",
    "col_to_drop = np.append(df.columns[col_index_drop], ['index', 'dup', 'tail_num', 'crs_elapsed_time'])"
   ]
  },
  {
   "cell_type": "code",
   "execution_count": 4,
   "metadata": {},
   "outputs": [
    {
     "data": {
      "text/plain": [
       "array(['cancellation_code', 'carrier_delay', 'weather_delay', 'nas_delay',\n",
       "       'security_delay', 'late_aircraft_delay', 'first_dep_time',\n",
       "       'total_add_gtime', 'longest_add_gtime', 'no_name', 'index', 'dup',\n",
       "       'tail_num', 'crs_elapsed_time'], dtype=object)"
      ]
     },
     "execution_count": 4,
     "metadata": {},
     "output_type": "execute_result"
    }
   ],
   "source": [
    "col_to_drop"
   ]
  },
  {
   "cell_type": "code",
   "execution_count": 5,
   "metadata": {},
   "outputs": [],
   "source": [
    "df = df.drop(columns=col_to_drop, axis=1)"
   ]
  },
  {
   "cell_type": "code",
   "execution_count": 6,
   "metadata": {},
   "outputs": [
    {
     "data": {
      "text/plain": [
       "Index(['fl_date', 'mkt_unique_carrier', 'branded_code_share', 'mkt_carrier',\n",
       "       'mkt_carrier_fl_num', 'op_unique_carrier', 'op_carrier_fl_num',\n",
       "       'origin_airport_id', 'origin', 'origin_city_name', 'dest_airport_id',\n",
       "       'dest', 'dest_city_name', 'crs_dep_time', 'dep_time', 'dep_delay',\n",
       "       'taxi_out', 'wheels_off', 'wheels_on', 'taxi_in', 'crs_arr_time',\n",
       "       'arr_time', 'arr_delay', 'cancelled', 'diverted', 'actual_elapsed_time',\n",
       "       'air_time', 'flights', 'distance'],\n",
       "      dtype='object')"
      ]
     },
     "execution_count": 6,
     "metadata": {},
     "output_type": "execute_result"
    }
   ],
   "source": [
    "df.columns"
   ]
  },
  {
   "cell_type": "markdown",
   "metadata": {},
   "source": [
    "#### **Task 2**: Is average/median monthly delay different during the year? If yes, which are months with the biggest delays and what could be the reason?"
   ]
  },
  {
   "cell_type": "code",
   "execution_count": null,
   "metadata": {},
   "outputs": [],
   "source": [
    "# We've chosen to take a more narrow sample to closely represent what model will be testing (first week of January, and 5 days on either side - not including Dec 25)\n",
    "# However, the day of week/ holiday phenomenon would be interesting to look at"
   ]
  },
  {
   "cell_type": "code",
   "execution_count": null,
   "metadata": {},
   "outputs": [],
   "source": []
  },
  {
   "cell_type": "markdown",
   "metadata": {},
   "source": [
    "#### **Task 3**: Does the weather affect the delay? \n",
    "Use the API to pull the weather information for flights. There is no need to get weather for ALL flights. We can choose the right representative sample. Let's focus on four weather types:\n",
    "- sunny\n",
    "- cloudy\n",
    "- rainy\n",
    "- snow.\n",
    "Test the hypothesis that these 4 delays are from the same distribution. If they are not, which ones are significantly different?"
   ]
  },
  {
   "cell_type": "code",
   "execution_count": null,
   "metadata": {},
   "outputs": [],
   "source": []
  },
  {
   "cell_type": "markdown",
   "metadata": {},
   "source": [
    "#### **Task 4**: How taxi times changing during the day? Does higher traffic lead to bigger taxi times?"
   ]
  },
  {
   "cell_type": "code",
   "execution_count": 4,
   "metadata": {},
   "outputs": [],
   "source": [
    "def split_time_of_day_departure(df):\n",
    "    \"\"\" takes estimated time of departure and splits in to hours 24 hour clock (local time) \"\"\"\n",
    "    df['dep_hour'] = df['crs_dep_time']\n",
    "    df['dep_hour'] = np.floor(df['dep_hour']/100).astype(\"int\")\n",
    "    return df\n",
    "df = split_time_of_day_departure(df)\n",
    "\n",
    "def split_time_of_day_arrival(df):\n",
    "    \"\"\" takes estimated time of arrival and splits in to hours 24 hour clock (local time) \"\"\"\n",
    "    df['arr_hour'] = df['crs_arr_time']\n",
    "    df['arr_hour'] = np.floor(df['arr_hour']/100).astype(\"int\")\n",
    "    return df\n",
    "df = split_time_of_day_arrival(df)\n",
    "\n"
   ]
  },
  {
   "cell_type": "code",
   "execution_count": null,
   "metadata": {},
   "outputs": [],
   "source": []
  },
  {
   "cell_type": "markdown",
   "metadata": {},
   "source": [
    "#### **Task 5**: What is the average percentage of delays that is already created before departure? (aka are arrival delays caused by departure delays?) Are airlines able to lower the delay during the flights?"
   ]
  },
  {
   "cell_type": "code",
   "execution_count": 2,
   "metadata": {},
   "outputs": [],
   "source": []
  },
  {
   "cell_type": "code",
   "execution_count": null,
   "metadata": {},
   "outputs": [],
   "source": []
  },
  {
   "cell_type": "markdown",
   "metadata": {},
   "source": [
    "#### **Task 6**: How many states cover 50% of US air traffic? "
   ]
  },
  {
   "cell_type": "code",
   "execution_count": null,
   "metadata": {},
   "outputs": [],
   "source": [
    "# SPLIT DATA INTO STATES AND CITIES\n",
    "def split_dest_city_state(df):\n",
    "    \"\"\" separates destination city and states into own columns\"\"\"\n",
    "    df['dest_state'] = df['dest_city_name']\n",
    "    df['dest_city'] = df['dest_city_name']\n",
    "    \n",
    "    f_state= lambda x: x.split(sep=', ')[1]\n",
    "    f_city= lambda x: x.split(sep=', ')[0]\n",
    "\n",
    "    df['dest_state'] = df['dest_state'].apply(f_state)\n",
    "    df['dest_city'] = df['dest_city'].apply(f_city)\n",
    "    return df\n",
    "\n",
    "def split_origin_city_state(df):\n",
    "    \"\"\" separates origin city and states into own columns\"\"\"\n",
    "    df['origin_state'] = df['origin_city_name']\n",
    "    df['origin_city'] = df['origin_city_name']\n",
    "    \n",
    "    f_state= lambda x: x.split(sep=', ')[1]\n",
    "    f_city= lambda x: x.split(sep=', ')[0]\n",
    "\n",
    "    df['origin_state'] = df['origin_state'].apply(f_state)\n",
    "    df['origin_city'] = df['origin_city'].apply(f_city)\n",
    "    return df\n",
    "\n",
    "df = split_dest_city_state(df)\n",
    "df = split_origin_city_state(df)\n",
    "\n",
    "# CALCULATE FLIGHT COUNTS PER STATES\n",
    "state_count_orig = df[['origin_state', 'index']].groupby('origin_state', as_index=False).count().sort_values(by='index')\n",
    "state_count_dest = df[['dest_state', 'index']].groupby('dest_state', as_index=False).count().sort_values(by='index')\n",
    "state_count= state_count_orig.merge(state_count_dest, left_on='origin_state', right_on='dest_state')\n",
    "\n",
    "state_count['total_flights'] = state_count['index_x']+state_count['index_y']\n",
    "state_count.rename(columns = {'origin_state': 'state'}, inplace=True)\n",
    "state_count.drop(['index_x', 'dest_state', 'index_y'], axis=1, inplace=True)\n",
    "\n",
    "state_count= state_count.sort_values(by='total_flights', ascending=False)\n",
    "\n",
    "# CALULATE HOW MANY STATES ACCOUNT FOR 50% OF ALL TRAFFIC IN USA\n",
    "state_list = list(state_count.state)\n",
    "flight_count_list = list(state_count.total_flights)\n",
    "\n",
    "total_flights = state_count.total_flights.sum()\n",
    "total_flights\n",
    "\n",
    "top_state=[]\n",
    "flight_counts=0\n",
    "i=0\n",
    "while flight_counts < total_flights/2:\n",
    "    top_state.append(state_list[i])\n",
    "\n",
    "    flight_counts += flight_count_list[i]\n",
    "    i+=1\n",
    "\n",
    "\n",
    "print(\"Number of top trafficed states accounting for 50% of traffic: \", len(top_state))\n",
    "top_state\n"
   ]
  },
  {
   "cell_type": "code",
   "execution_count": null,
   "metadata": {},
   "outputs": [],
   "source": [
    "# PLOT NUMBER OF FLIGHTS PER STATE\n",
    "# import matplotlib\n",
    "import matplotlib.pyplot as plt\n",
    "\n",
    "x1 = state_count_orig['origin_state']\n",
    "x2 = state_count_dest['dest_state']\n",
    "\n",
    "y1 = state_count_orig['index']\n",
    "y2 = state_count_dest['index']\n",
    "\n",
    "fig, [ax1, ax2] = plt.subplots(nrows=1, ncols=2, figsize = (20,15))\n",
    "\n",
    "ax1.barh(x1,y1)\n",
    "ax1.set_ylabel('Number of Flights Outbound per State', fontsize=12)\n",
    "ax1.set_xlabel('State', fontsize=12)\n",
    "ax1.set_title('Number of OUTBOUND Flights STATE', fontsize=20, y=1.05)\n",
    "\n",
    "ax2.barh(x2,y2)\n",
    "ax2.set_ylabel('Number of  Flights Inbound per State', fontsize=12)\n",
    "ax2.set_xlabel('State', fontsize=12)\n",
    "ax2.set_title('Number of INBOUND Flights STATE', fontsize=20, y=1.05)\n",
    "# add legend\n",
    "\n",
    "plt.show()\n",
    "\n",
    "# Can see 3 teirs of aiport size (CA-CO, PA-MD, and VA-and below)"
   ]
  },
  {
   "cell_type": "markdown",
   "metadata": {},
   "source": [
    "#### **Task 7**: Test the hypothesis whether planes fly faster when there is the departure delay? "
   ]
  },
  {
   "cell_type": "code",
   "execution_count": null,
   "metadata": {},
   "outputs": [],
   "source": []
  },
  {
   "cell_type": "code",
   "execution_count": null,
   "metadata": {},
   "outputs": [],
   "source": []
  },
  {
   "cell_type": "markdown",
   "metadata": {},
   "source": [
    "#### **Task 8**: When (which hour) do most 'LONG', 'SHORT', 'MEDIUM' haul flights take off?"
   ]
  },
  {
   "cell_type": "code",
   "execution_count": null,
   "metadata": {},
   "outputs": [],
   "source": [
    "# CREATE HOUR OF DAY AND HAUL TYPE COLUMNS\n",
    "\n",
    "def split_time_of_day_departure(df):\n",
    "    \"\"\" takes estimated time of departure and splits in to hours 24 hour clock (local time) \"\"\"\n",
    "    df['dep_hour'] = df['crs_dep_time']\n",
    "    df['dep_hour'] = np.floor(df['dep_hour']/100).astype(\"int\")\n",
    "    return df\n",
    "  \n",
    "def create_haul_type(df):\n",
    "    \"\"\" adds short:0, mid:1, long:2 range haul types from crs_elapsed_time (scheduled) \"\"\"\n",
    "\n",
    "    df[\"haul_type\"] = df['crs_elapsed_time']\n",
    "    df[\"haul_type\"].mask(df[\"haul_type\"].values < 180, 0, inplace=True)\n",
    "    df[\"haul_type\"].mask((df[\"haul_type\"] >= 180) & (df[\"haul_type\"] < 360), 1, inplace=True)\n",
    "    df[\"haul_type\"].mask((df[\"haul_type\"] >= 360), 2, inplace=True) \n",
    "    df[\"haul_type\"]= df[\"haul_type\"].astype('int')\n",
    "    return df  \n",
    "\n",
    "df = split_time_of_day_departure(df)\n",
    "df = create_haul_type(df)\n",
    "df.haul_type.unique()\n",
    "\n",
    "\n"
   ]
  },
  {
   "cell_type": "code",
   "execution_count": null,
   "metadata": {},
   "outputs": [],
   "source": [
    "# want departure time for each category - SPLIT APART\n",
    "\n",
    "df_haul_type = df[['haul_type', 'dep_hour', 'index']]\n",
    "df_haul_type = df_haul_type.groupby(['dep_hour','haul_type'], as_index=False).count()\n",
    "\n",
    "short_haul = df_haul_type[df_haul_type.haul_type == 0]\n",
    "med_haul = df_haul_type[df_haul_type.haul_type == 1]\n",
    "long_haul = df_haul_type[df_haul_type.haul_type == 2]"
   ]
  },
  {
   "cell_type": "code",
   "execution_count": null,
   "metadata": {},
   "outputs": [],
   "source": [
    "# PLOT EACH HAUL TYPE TO VISULIZE\n",
    "import matplotlib.pyplot as plt\n",
    "# Long Haul Plot\n",
    "\n",
    "x = long_haul.dep_hour\n",
    "y = long_haul['index']\n",
    "\n",
    "fig, ax = plt.subplots( figsize = (7,7))\n",
    "\n",
    "ax.bar(x,y)\n",
    "ax.set_ylabel('Number of flights departing', fontsize=12)\n",
    "ax.set_xlabel('Hour of Day', fontsize=12)\n",
    "ax.set_title('Long Haul Departure time', fontsize=20, y=1.05)\n",
    "\n",
    "plt.show()"
   ]
  },
  {
   "cell_type": "code",
   "execution_count": null,
   "metadata": {},
   "outputs": [],
   "source": [
    "# Mid Haul Plot\n",
    "\n",
    "x = med_haul.dep_hour\n",
    "y = med_haul['index']\n",
    "\n",
    "fig, ax = plt.subplots( figsize = (7,7))\n",
    "\n",
    "ax.bar(x,y)\n",
    "ax.set_ylabel('Number of flights departing', fontsize=12)\n",
    "ax.set_xlabel('Hour of Day', fontsize=12)\n",
    "ax.set_title('Med Haul Departure time', fontsize=20, y=1.05)\n",
    "\n",
    "plt.show()"
   ]
  },
  {
   "cell_type": "code",
   "execution_count": null,
   "metadata": {},
   "outputs": [],
   "source": [
    "# short Haul Plot\n",
    "\n",
    "x = short_haul.dep_hour\n",
    "y = short_haul['index']\n",
    "\n",
    "fig, ax = plt.subplots( figsize = (7,7))\n",
    "\n",
    "ax.bar(x,y)\n",
    "ax.set_ylabel('Number of flights departing', fontsize=12)\n",
    "ax.set_xlabel('Hour of Day', fontsize=12)\n",
    "ax.set_title('Short Haul Departure time', fontsize=20, y=1.05)\n",
    "\n",
    "plt.show()"
   ]
  },
  {
   "cell_type": "markdown",
   "metadata": {},
   "source": [
    "#### **Task 9**: Find the top 10 the bussiest airports. Does the biggest number of flights mean that the biggest number of passengers went through the particular airport? How much traffic do these 10 airports cover?"
   ]
  },
  {
   "cell_type": "code",
   "execution_count": null,
   "metadata": {},
   "outputs": [],
   "source": [
    "# CALCULATE FLIGHT COUNTS PER AIRPORTS\n",
    "airport_count_orig = df[['origin_airport_id', 'index']].groupby('origin_airport_id', as_index=False).count().sort_values(by='index', ascending = False)\n",
    "airport_count_dest = df[['dest_airport_id', 'index']].groupby('dest_airport_id', as_index=False).count().sort_values(by='index')\n",
    "airport_count= airport_count_orig.merge(airport_count_dest, left_on='origin_airport_id', right_on='dest_airport_id')\n",
    "\n",
    "airport_count['total_flights'] = airport_count['index_x']+airport_count['index_y']\n",
    "airport_count.rename(columns = {'origin_airport_id': 'airport_id'}, inplace=True)\n",
    "airport_count.drop(['index_x', 'dest_airport_id', 'index_y'], axis=1, inplace=True)\n",
    "airport_count.head()"
   ]
  },
  {
   "cell_type": "code",
   "execution_count": null,
   "metadata": {},
   "outputs": [],
   "source": [
    "# CALULATE TOP 10 AIRPORTS\n",
    "top_airport_counts = airport_count.sort_values(by='total_flights', ascending=False).head(50)\n",
    "\n",
    "top_airport_counts.airport_id= top_airport_counts.airport_id.astype('string')\n",
    "top_airport_counts.head()\n",
    "\n",
    "# TRY TO GET HUMAN READABLE AIRPORT CODE\n",
    "# airport_code = []\n",
    "# for i in range(len(top_airport_counts)):\n",
    "#     airport_code.append(df[df['origin_airport_id'] == top_airport_counts.iloc[i].airport_id].origin)\n",
    "# top_airport_counts.airport_code "
   ]
  },
  {
   "cell_type": "code",
   "execution_count": null,
   "metadata": {},
   "outputs": [],
   "source": [
    "# PLOT AIRPORT FLIGHT VOLUME\n",
    "\n",
    "import matplotlib.pyplot as plt\n",
    "\n",
    "x = top_airport_counts.airport_id\n",
    "\n",
    "y = top_airport_counts.total_flights\n",
    "\n",
    "fig, ax = plt.subplots( figsize = (10,10))\n",
    "\n",
    "ax.bar(x,y)\n",
    "ax.set_ylabel('Total Number of Flights per Airport', fontsize=12)\n",
    "ax.set_xlabel('Airport', fontsize=12)\n",
    "ax.set_title('Number of Flights', fontsize=20, y=1.05)\n",
    "\n",
    "plt.show()\n",
    "\n",
    "# Can split into 3 teirs as well"
   ]
  },
  {
   "cell_type": "markdown",
   "metadata": {},
   "source": [
    "#### **Task 10**: Do bigger delays lead to bigger fuel comsumption per passenger? \n",
    "We need to do four things to answer this as accurate as possible:\n",
    "- Find out average monthly delay per air carrier (monthly delay is sum of all delays in 1 month)\n",
    "- Find out distance covered monthly by different air carriers\n",
    "- Find out number of passengers that were carried by different air carriers\n",
    "- Find out total fuel comsumption per air carrier.\n",
    "\n",
    "Use this information to get the average fuel comsumption per passenger per km. Is this higher for the airlines with bigger average delays?"
   ]
  },
  {
   "cell_type": "code",
   "execution_count": null,
   "metadata": {},
   "outputs": [],
   "source": []
  },
  {
   "cell_type": "code",
   "execution_count": null,
   "metadata": {},
   "outputs": [],
   "source": []
  }
 ],
 "metadata": {
  "kernelspec": {
   "display_name": "bootcamp",
   "language": "python",
   "name": "bootcamp"
  },
  "language_info": {
   "codemirror_mode": {
    "name": "ipython",
    "version": 3
   },
   "file_extension": ".py",
   "mimetype": "text/x-python",
   "name": "python",
   "nbconvert_exporter": "python",
   "pygments_lexer": "ipython3",
   "version": "3.8.5"
  },
  "toc": {
   "base_numbering": 1,
   "nav_menu": {},
   "number_sections": true,
   "sideBar": true,
   "skip_h1_title": false,
   "title_cell": "Table of Contents",
   "title_sidebar": "Contents",
   "toc_cell": false,
   "toc_position": {},
   "toc_section_display": true,
   "toc_window_display": false
  },
  "varInspector": {
   "cols": {
    "lenName": 16,
    "lenType": 16,
    "lenVar": 40
   },
   "kernels_config": {
    "python": {
     "delete_cmd_postfix": "",
     "delete_cmd_prefix": "del ",
     "library": "var_list.py",
     "varRefreshCmd": "print(var_dic_list())"
    },
    "r": {
     "delete_cmd_postfix": ") ",
     "delete_cmd_prefix": "rm(",
     "library": "var_list.r",
     "varRefreshCmd": "cat(var_dic_list()) "
    }
   },
   "types_to_exclude": [
    "module",
    "function",
    "builtin_function_or_method",
    "instance",
    "_Feature"
   ],
   "window_display": false
  }
 },
 "nbformat": 4,
 "nbformat_minor": 4
}
