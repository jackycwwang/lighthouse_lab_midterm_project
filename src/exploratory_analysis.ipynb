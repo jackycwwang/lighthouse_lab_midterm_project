{
 "cells": [
  {
   "cell_type": "markdown",
   "metadata": {},
   "source": [
    "## Exploratory Data Analysis\n",
    "\n",
    "Use this notebook to get familiar with the datasets we have. There is 10 questions we need to answer during the EDA.\n",
    "\n",
    "\n",
    "We shouldn't limit our EDA to these 10 questions. Let's be creative :)."
   ]
  },
  {
   "cell_type": "code",
   "execution_count": 36,
   "metadata": {},
   "outputs": [],
   "source": [
    "import numpy as np\n",
    "import pandas as pd\n",
    "import seaborn as sns\n",
    "import matplotlib.pyplot as plt"
   ]
  },
  {
   "cell_type": "code",
   "execution_count": 37,
   "metadata": {},
   "outputs": [],
   "source": [
    "df = pd.read_csv('../data/flights_samp.csv')"
   ]
  },
  {
   "cell_type": "code",
   "execution_count": null,
   "metadata": {},
   "outputs": [],
   "source": []
  },
  {
   "cell_type": "code",
   "execution_count": null,
   "metadata": {},
   "outputs": [],
   "source": []
  },
  {
   "cell_type": "markdown",
   "metadata": {},
   "source": [
    "#### **Task 1**: Test the hypothesis that the delay is from Normal distribution. and that **mean** of the delay is 0. Be careful about the outliers."
   ]
  },
  {
   "cell_type": "code",
   "execution_count": 38,
   "metadata": {},
   "outputs": [
    {
     "data": {
      "text/plain": [
       "0       -6.0\n",
       "1       -1.0\n",
       "2        6.0\n",
       "3       -3.0\n",
       "4       16.0\n",
       "        ... \n",
       "4995    -1.0\n",
       "4996   -10.0\n",
       "4997    -6.0\n",
       "4998    -6.0\n",
       "4999    12.0\n",
       "Name: dep_delay, Length: 5000, dtype: float64"
      ]
     },
     "execution_count": 38,
     "metadata": {},
     "output_type": "execute_result"
    }
   ],
   "source": [
    "df.dep_delay"
   ]
  },
  {
   "cell_type": "code",
   "execution_count": 39,
   "metadata": {},
   "outputs": [
    {
     "data": {
      "image/png": "[encoded data removed]",
      "text/plain": [
       "<Figure size 432x288 with 1 Axes>"
      ]
     },
     "metadata": {
      "needs_background": "light"
     },
     "output_type": "display_data"
    }
   ],
   "source": [
    "plt.hist(df.arr_delay, bins=np.arange(-30,90, 1.6));"
   ]
  },
  {
   "cell_type": "code",
   "execution_count": 40,
   "metadata": {},
   "outputs": [],
   "source": [
    "col_index_drop = df.isnull().sum() / df.shape[0] > 0.5\n",
    "col_to_drop = np.append(df.columns[col_index_drop], ['index', 'dup', 'tail_num', 'crs_elapsed_time'])"
   ]
  },
  {
   "cell_type": "code",
   "execution_count": 41,
   "metadata": {},
   "outputs": [
    {
     "data": {
      "text/plain": [
       "array(['cancellation_code', 'carrier_delay', 'weather_delay', 'nas_delay',\n",
       "       'security_delay', 'late_aircraft_delay', 'first_dep_time',\n",
       "       'total_add_gtime', 'longest_add_gtime', 'no_name', 'index', 'dup',\n",
       "       'tail_num', 'crs_elapsed_time'], dtype=object)"
      ]
     },
     "execution_count": 41,
     "metadata": {},
     "output_type": "execute_result"
    }
   ],
   "source": [
    "col_to_drop"
   ]
  },
  {
   "cell_type": "code",
   "execution_count": 42,
   "metadata": {},
   "outputs": [],
   "source": [
    "df = df.drop(columns=col_to_drop, axis=1)"
   ]
  },
  {
   "cell_type": "code",
   "execution_count": 43,
   "metadata": {},
   "outputs": [
    {
     "data": {
      "text/plain": [
       "Index(['fl_date', 'mkt_unique_carrier', 'branded_code_share', 'mkt_carrier',\n",
       "       'mkt_carrier_fl_num', 'op_unique_carrier', 'op_carrier_fl_num',\n",
       "       'origin_airport_id', 'origin', 'origin_city_name', 'dest_airport_id',\n",
       "       'dest', 'dest_city_name', 'crs_dep_time', 'dep_time', 'dep_delay',\n",
       "       'taxi_out', 'wheels_off', 'wheels_on', 'taxi_in', 'crs_arr_time',\n",
       "       'arr_time', 'arr_delay', 'cancelled', 'diverted', 'actual_elapsed_time',\n",
       "       'air_time', 'flights', 'distance'],\n",
       "      dtype='object')"
      ]
     },
     "execution_count": 43,
     "metadata": {},
     "output_type": "execute_result"
    }
   ],
   "source": [
    "df.columns"
   ]
  },
  {
   "cell_type": "markdown",
   "metadata": {},
   "source": [
    "#### **Task 2**: Is average/median monthly delay different during the year? If yes, which are months with the biggest delays and what could be the reason?"
   ]
  },
  {
   "cell_type": "code",
   "execution_count": 44,
   "metadata": {},
   "outputs": [
    {
     "data": {
      "text/html": [
       "<div>\n",
       "<style scoped>\n",
       "    .dataframe tbody tr th:only-of-type {\n",
       "        vertical-align: middle;\n",
       "    }\n",
       "\n",
       "    .dataframe tbody tr th {\n",
       "        vertical-align: top;\n",
       "    }\n",
       "\n",
       "    .dataframe thead th {\n",
       "        text-align: right;\n",
       "    }\n",
       "</style>\n",
       "<table border=\"1\" class=\"dataframe\">\n",
       "  <thead>\n",
       "    <tr style=\"text-align: right;\">\n",
       "      <th></th>\n",
       "      <th>fl_date</th>\n",
       "      <th>mkt_unique_carrier</th>\n",
       "      <th>branded_code_share</th>\n",
       "      <th>mkt_carrier</th>\n",
       "      <th>mkt_carrier_fl_num</th>\n",
       "      <th>op_unique_carrier</th>\n",
       "      <th>op_carrier_fl_num</th>\n",
       "      <th>origin_airport_id</th>\n",
       "      <th>origin</th>\n",
       "      <th>origin_city_name</th>\n",
       "      <th>...</th>\n",
       "      <th>crs_arr_time</th>\n",
       "      <th>arr_time</th>\n",
       "      <th>arr_delay</th>\n",
       "      <th>cancelled</th>\n",
       "      <th>diverted</th>\n",
       "      <th>actual_elapsed_time</th>\n",
       "      <th>air_time</th>\n",
       "      <th>flights</th>\n",
       "      <th>distance</th>\n",
       "      <th>weekday</th>\n",
       "    </tr>\n",
       "  </thead>\n",
       "  <tbody>\n",
       "    <tr>\n",
       "      <th>0</th>\n",
       "      <td>2019-01-07</td>\n",
       "      <td>AA</td>\n",
       "      <td>AA</td>\n",
       "      <td>AA</td>\n",
       "      <td>362</td>\n",
       "      <td>AA</td>\n",
       "      <td>362</td>\n",
       "      <td>12892</td>\n",
       "      <td>LAX</td>\n",
       "      <td>Los Angeles, CA</td>\n",
       "      <td>...</td>\n",
       "      <td>710</td>\n",
       "      <td>635.0</td>\n",
       "      <td>-35.0</td>\n",
       "      <td>0.0</td>\n",
       "      <td>0.0</td>\n",
       "      <td>222.0</td>\n",
       "      <td>189.0</td>\n",
       "      <td>1.0</td>\n",
       "      <td>1744.0</td>\n",
       "      <td>0</td>\n",
       "    </tr>\n",
       "    <tr>\n",
       "      <th>1</th>\n",
       "      <td>2019-01-04</td>\n",
       "      <td>UA</td>\n",
       "      <td>UA_CODESHARE</td>\n",
       "      <td>UA</td>\n",
       "      <td>3788</td>\n",
       "      <td>ZW</td>\n",
       "      <td>3788</td>\n",
       "      <td>13930</td>\n",
       "      <td>ORD</td>\n",
       "      <td>Chicago, IL</td>\n",
       "      <td>...</td>\n",
       "      <td>2333</td>\n",
       "      <td>2328.0</td>\n",
       "      <td>-5.0</td>\n",
       "      <td>0.0</td>\n",
       "      <td>0.0</td>\n",
       "      <td>54.0</td>\n",
       "      <td>25.0</td>\n",
       "      <td>1.0</td>\n",
       "      <td>122.0</td>\n",
       "      <td>4</td>\n",
       "    </tr>\n",
       "    <tr>\n",
       "      <th>2</th>\n",
       "      <td>2018-12-29</td>\n",
       "      <td>WN</td>\n",
       "      <td>WN</td>\n",
       "      <td>WN</td>\n",
       "      <td>5741</td>\n",
       "      <td>WN</td>\n",
       "      <td>5741</td>\n",
       "      <td>13871</td>\n",
       "      <td>OMA</td>\n",
       "      <td>Omaha, NE</td>\n",
       "      <td>...</td>\n",
       "      <td>1835</td>\n",
       "      <td>1807.0</td>\n",
       "      <td>-28.0</td>\n",
       "      <td>0.0</td>\n",
       "      <td>0.0</td>\n",
       "      <td>141.0</td>\n",
       "      <td>126.0</td>\n",
       "      <td>1.0</td>\n",
       "      <td>1037.0</td>\n",
       "      <td>5</td>\n",
       "    </tr>\n",
       "    <tr>\n",
       "      <th>3</th>\n",
       "      <td>2019-01-01</td>\n",
       "      <td>WN</td>\n",
       "      <td>WN</td>\n",
       "      <td>WN</td>\n",
       "      <td>1641</td>\n",
       "      <td>WN</td>\n",
       "      <td>1641</td>\n",
       "      <td>15304</td>\n",
       "      <td>TPA</td>\n",
       "      <td>Tampa, FL</td>\n",
       "      <td>...</td>\n",
       "      <td>1050</td>\n",
       "      <td>1041.0</td>\n",
       "      <td>-9.0</td>\n",
       "      <td>0.0</td>\n",
       "      <td>0.0</td>\n",
       "      <td>89.0</td>\n",
       "      <td>79.0</td>\n",
       "      <td>1.0</td>\n",
       "      <td>488.0</td>\n",
       "      <td>1</td>\n",
       "    </tr>\n",
       "    <tr>\n",
       "      <th>4</th>\n",
       "      <td>2019-01-02</td>\n",
       "      <td>UA</td>\n",
       "      <td>UA_CODESHARE</td>\n",
       "      <td>UA</td>\n",
       "      <td>4233</td>\n",
       "      <td>EV</td>\n",
       "      <td>4233</td>\n",
       "      <td>11618</td>\n",
       "      <td>EWR</td>\n",
       "      <td>Newark, NJ</td>\n",
       "      <td>...</td>\n",
       "      <td>1951</td>\n",
       "      <td>2013.0</td>\n",
       "      <td>22.0</td>\n",
       "      <td>0.0</td>\n",
       "      <td>0.0</td>\n",
       "      <td>92.0</td>\n",
       "      <td>47.0</td>\n",
       "      <td>1.0</td>\n",
       "      <td>199.0</td>\n",
       "      <td>2</td>\n",
       "    </tr>\n",
       "    <tr>\n",
       "      <th>...</th>\n",
       "      <td>...</td>\n",
       "      <td>...</td>\n",
       "      <td>...</td>\n",
       "      <td>...</td>\n",
       "      <td>...</td>\n",
       "      <td>...</td>\n",
       "      <td>...</td>\n",
       "      <td>...</td>\n",
       "      <td>...</td>\n",
       "      <td>...</td>\n",
       "      <td>...</td>\n",
       "      <td>...</td>\n",
       "      <td>...</td>\n",
       "      <td>...</td>\n",
       "      <td>...</td>\n",
       "      <td>...</td>\n",
       "      <td>...</td>\n",
       "      <td>...</td>\n",
       "      <td>...</td>\n",
       "      <td>...</td>\n",
       "      <td>...</td>\n",
       "    </tr>\n",
       "    <tr>\n",
       "      <th>4995</th>\n",
       "      <td>2019-01-01</td>\n",
       "      <td>DL</td>\n",
       "      <td>DL</td>\n",
       "      <td>DL</td>\n",
       "      <td>2173</td>\n",
       "      <td>DL</td>\n",
       "      <td>2173</td>\n",
       "      <td>12892</td>\n",
       "      <td>LAX</td>\n",
       "      <td>Los Angeles, CA</td>\n",
       "      <td>...</td>\n",
       "      <td>1640</td>\n",
       "      <td>1640.0</td>\n",
       "      <td>0.0</td>\n",
       "      <td>0.0</td>\n",
       "      <td>0.0</td>\n",
       "      <td>221.0</td>\n",
       "      <td>197.0</td>\n",
       "      <td>1.0</td>\n",
       "      <td>1535.0</td>\n",
       "      <td>1</td>\n",
       "    </tr>\n",
       "    <tr>\n",
       "      <th>4996</th>\n",
       "      <td>2019-01-10</td>\n",
       "      <td>G4</td>\n",
       "      <td>G4</td>\n",
       "      <td>G4</td>\n",
       "      <td>1608</td>\n",
       "      <td>G4</td>\n",
       "      <td>1608</td>\n",
       "      <td>14082</td>\n",
       "      <td>PGD</td>\n",
       "      <td>Punta Gorda, FL</td>\n",
       "      <td>...</td>\n",
       "      <td>948</td>\n",
       "      <td>942.0</td>\n",
       "      <td>-6.0</td>\n",
       "      <td>0.0</td>\n",
       "      <td>0.0</td>\n",
       "      <td>152.0</td>\n",
       "      <td>140.0</td>\n",
       "      <td>1.0</td>\n",
       "      <td>963.0</td>\n",
       "      <td>3</td>\n",
       "    </tr>\n",
       "    <tr>\n",
       "      <th>4997</th>\n",
       "      <td>2019-01-10</td>\n",
       "      <td>DL</td>\n",
       "      <td>DL_CODESHARE</td>\n",
       "      <td>DL</td>\n",
       "      <td>3289</td>\n",
       "      <td>9E</td>\n",
       "      <td>3289</td>\n",
       "      <td>11003</td>\n",
       "      <td>CID</td>\n",
       "      <td>Cedar Rapids/Iowa City, IA</td>\n",
       "      <td>...</td>\n",
       "      <td>1942</td>\n",
       "      <td>1932.0</td>\n",
       "      <td>-10.0</td>\n",
       "      <td>0.0</td>\n",
       "      <td>0.0</td>\n",
       "      <td>112.0</td>\n",
       "      <td>84.0</td>\n",
       "      <td>1.0</td>\n",
       "      <td>694.0</td>\n",
       "      <td>3</td>\n",
       "    </tr>\n",
       "    <tr>\n",
       "      <th>4998</th>\n",
       "      <td>2019-01-12</td>\n",
       "      <td>AA</td>\n",
       "      <td>AA</td>\n",
       "      <td>AA</td>\n",
       "      <td>2809</td>\n",
       "      <td>AA</td>\n",
       "      <td>2809</td>\n",
       "      <td>12953</td>\n",
       "      <td>LGA</td>\n",
       "      <td>New York, NY</td>\n",
       "      <td>...</td>\n",
       "      <td>2249</td>\n",
       "      <td>2220.0</td>\n",
       "      <td>-29.0</td>\n",
       "      <td>0.0</td>\n",
       "      <td>0.0</td>\n",
       "      <td>177.0</td>\n",
       "      <td>151.0</td>\n",
       "      <td>1.0</td>\n",
       "      <td>1096.0</td>\n",
       "      <td>5</td>\n",
       "    </tr>\n",
       "    <tr>\n",
       "      <th>4999</th>\n",
       "      <td>2019-01-02</td>\n",
       "      <td>AA</td>\n",
       "      <td>AA_CODESHARE</td>\n",
       "      <td>AA</td>\n",
       "      <td>5981</td>\n",
       "      <td>YV</td>\n",
       "      <td>5981</td>\n",
       "      <td>11298</td>\n",
       "      <td>DFW</td>\n",
       "      <td>Dallas/Fort Worth, TX</td>\n",
       "      <td>...</td>\n",
       "      <td>110</td>\n",
       "      <td>116.0</td>\n",
       "      <td>6.0</td>\n",
       "      <td>0.0</td>\n",
       "      <td>0.0</td>\n",
       "      <td>120.0</td>\n",
       "      <td>101.0</td>\n",
       "      <td>1.0</td>\n",
       "      <td>674.0</td>\n",
       "      <td>2</td>\n",
       "    </tr>\n",
       "  </tbody>\n",
       "</table>\n",
       "<p>5000 rows × 30 columns</p>\n",
       "</div>"
      ],
      "text/plain": [
       "         fl_date mkt_unique_carrier branded_code_share mkt_carrier  \\\n",
       "0     2019-01-07                 AA                 AA          AA   \n",
       "1     2019-01-04                 UA       UA_CODESHARE          UA   \n",
       "2     2018-12-29                 WN                 WN          WN   \n",
       "3     2019-01-01                 WN                 WN          WN   \n",
       "4     2019-01-02                 UA       UA_CODESHARE          UA   \n",
       "...          ...                ...                ...         ...   \n",
       "4995  2019-01-01                 DL                 DL          DL   \n",
       "4996  2019-01-10                 G4                 G4          G4   \n",
       "4997  2019-01-10                 DL       DL_CODESHARE          DL   \n",
       "4998  2019-01-12                 AA                 AA          AA   \n",
       "4999  2019-01-02                 AA       AA_CODESHARE          AA   \n",
       "\n",
       "      mkt_carrier_fl_num op_unique_carrier  op_carrier_fl_num  \\\n",
       "0                    362                AA                362   \n",
       "1                   3788                ZW               3788   \n",
       "2                   5741                WN               5741   \n",
       "3                   1641                WN               1641   \n",
       "4                   4233                EV               4233   \n",
       "...                  ...               ...                ...   \n",
       "4995                2173                DL               2173   \n",
       "4996                1608                G4               1608   \n",
       "4997                3289                9E               3289   \n",
       "4998                2809                AA               2809   \n",
       "4999                5981                YV               5981   \n",
       "\n",
       "      origin_airport_id origin            origin_city_name  ...  crs_arr_time  \\\n",
       "0                 12892    LAX             Los Angeles, CA  ...           710   \n",
       "1                 13930    ORD                 Chicago, IL  ...          2333   \n",
       "2                 13871    OMA                   Omaha, NE  ...          1835   \n",
       "3                 15304    TPA                   Tampa, FL  ...          1050   \n",
       "4                 11618    EWR                  Newark, NJ  ...          1951   \n",
       "...                 ...    ...                         ...  ...           ...   \n",
       "4995              12892    LAX             Los Angeles, CA  ...          1640   \n",
       "4996              14082    PGD             Punta Gorda, FL  ...           948   \n",
       "4997              11003    CID  Cedar Rapids/Iowa City, IA  ...          1942   \n",
       "4998              12953    LGA                New York, NY  ...          2249   \n",
       "4999              11298    DFW       Dallas/Fort Worth, TX  ...           110   \n",
       "\n",
       "     arr_time arr_delay  cancelled  diverted  actual_elapsed_time  air_time  \\\n",
       "0       635.0     -35.0        0.0       0.0                222.0     189.0   \n",
       "1      2328.0      -5.0        0.0       0.0                 54.0      25.0   \n",
       "2      1807.0     -28.0        0.0       0.0                141.0     126.0   \n",
       "3      1041.0      -9.0        0.0       0.0                 89.0      79.0   \n",
       "4      2013.0      22.0        0.0       0.0                 92.0      47.0   \n",
       "...       ...       ...        ...       ...                  ...       ...   \n",
       "4995   1640.0       0.0        0.0       0.0                221.0     197.0   \n",
       "4996    942.0      -6.0        0.0       0.0                152.0     140.0   \n",
       "4997   1932.0     -10.0        0.0       0.0                112.0      84.0   \n",
       "4998   2220.0     -29.0        0.0       0.0                177.0     151.0   \n",
       "4999    116.0       6.0        0.0       0.0                120.0     101.0   \n",
       "\n",
       "      flights  distance  weekday  \n",
       "0         1.0    1744.0        0  \n",
       "1         1.0     122.0        4  \n",
       "2         1.0    1037.0        5  \n",
       "3         1.0     488.0        1  \n",
       "4         1.0     199.0        2  \n",
       "...       ...       ...      ...  \n",
       "4995      1.0    1535.0        1  \n",
       "4996      1.0     963.0        3  \n",
       "4997      1.0     694.0        3  \n",
       "4998      1.0    1096.0        5  \n",
       "4999      1.0     674.0        2  \n",
       "\n",
       "[5000 rows x 30 columns]"
      ]
     },
     "execution_count": 44,
     "metadata": {},
     "output_type": "execute_result"
    }
   ],
   "source": [
    "# We've chosen to take a more narrow sample to closely represent what model will be testing (first week of January, and 5 days on either side - not including Dec 25)\n",
    "# However, the day of week/ holiday phenomenon would be interesting to look at\n",
    "def add_weekday(df):\n",
    "    \"\"\" creates boolean column to indicate day of week \n",
    "        https://pandas.pydata.org/docs/reference/api/pandas.DatetimeIndex.weekday.html\n",
    "        week starts 0 with monday) \"\"\"\n",
    "\n",
    "    df['weekday'] = df['fl_date'].astype('datetime64[ns]')\n",
    "\n",
    "    f = lambda x: x.weekday()     \n",
    "    df['weekday'] = df['weekday'].apply(f).astype('int32')\n",
    "    return df\n",
    "\n",
    "add_weekday(df)"
   ]
  },
  {
   "cell_type": "code",
   "execution_count": 45,
   "metadata": {},
   "outputs": [
    {
     "data": {
      "text/html": [
       "<div>\n",
       "<style scoped>\n",
       "    .dataframe tbody tr th:only-of-type {\n",
       "        vertical-align: middle;\n",
       "    }\n",
       "\n",
       "    .dataframe tbody tr th {\n",
       "        vertical-align: top;\n",
       "    }\n",
       "\n",
       "    .dataframe thead th {\n",
       "        text-align: right;\n",
       "    }\n",
       "</style>\n",
       "<table border=\"1\" class=\"dataframe\">\n",
       "  <thead>\n",
       "    <tr style=\"text-align: right;\">\n",
       "      <th></th>\n",
       "      <th>weekday</th>\n",
       "      <th>avg_arr_delay</th>\n",
       "    </tr>\n",
       "  </thead>\n",
       "  <tbody>\n",
       "    <tr>\n",
       "      <th>0</th>\n",
       "      <td>M</td>\n",
       "      <td>4.451327</td>\n",
       "    </tr>\n",
       "    <tr>\n",
       "      <th>1</th>\n",
       "      <td>Tu</td>\n",
       "      <td>0.657986</td>\n",
       "    </tr>\n",
       "    <tr>\n",
       "      <th>2</th>\n",
       "      <td>W</td>\n",
       "      <td>1.334507</td>\n",
       "    </tr>\n",
       "    <tr>\n",
       "      <th>3</th>\n",
       "      <td>Th</td>\n",
       "      <td>10.921986</td>\n",
       "    </tr>\n",
       "    <tr>\n",
       "      <th>4</th>\n",
       "      <td>F</td>\n",
       "      <td>7.058885</td>\n",
       "    </tr>\n",
       "    <tr>\n",
       "      <th>5</th>\n",
       "      <td>Sa</td>\n",
       "      <td>4.023486</td>\n",
       "    </tr>\n",
       "    <tr>\n",
       "      <th>6</th>\n",
       "      <td>Su</td>\n",
       "      <td>4.179739</td>\n",
       "    </tr>\n",
       "  </tbody>\n",
       "</table>\n",
       "</div>"
      ],
      "text/plain": [
       "  weekday  avg_arr_delay\n",
       "0       M       4.451327\n",
       "1      Tu       0.657986\n",
       "2       W       1.334507\n",
       "3      Th      10.921986\n",
       "4       F       7.058885\n",
       "5      Sa       4.023486\n",
       "6      Su       4.179739"
      ]
     },
     "execution_count": 45,
     "metadata": {},
     "output_type": "execute_result"
    }
   ],
   "source": [
    "# CALCULATE MEAN FLIGHT DELAY PER DAY OF WEEK\n",
    "weekday_mean = df[['weekday', 'arr_delay']]\n",
    "weekday_mean = weekday_mean.groupby(['weekday'], as_index=False).mean()\n",
    "weekday_mean=weekday_mean.rename(columns={'arr_delay': 'avg_arr_delay'})\n",
    "weekday_mean=weekday_mean.replace({0: 'M', 1:'Tu',2:'W',3:'Th',4:'F',5:'Sa',6:'Su'})\n",
    "weekday_mean"
   ]
  },
  {
   "cell_type": "code",
   "execution_count": 46,
   "metadata": {},
   "outputs": [
    {
     "data": {
      "image/png": "[encoded data removed]",
      "text/plain": [
       "<Figure size 360x360 with 1 Axes>"
      ]
     },
     "metadata": {
      "needs_background": "light"
     },
     "output_type": "display_data"
    }
   ],
   "source": [
    "# PLOT WEEKDAY AVG DELAY\n",
    "\n",
    "x = weekday_mean.weekday\n",
    "y = weekday_mean.avg_arr_delay\n",
    "\n",
    "fig, ax = plt.subplots( figsize = (5,5))\n",
    "\n",
    "ax.bar(x,y)\n",
    "ax.set_ylabel('Average flight delay (minutes)', fontsize=12)\n",
    "ax.set_xlabel('', fontsize=12)\n",
    "ax.set_title('Delays per Day of Week', fontsize=20, y=1.05)\n",
    "\n",
    "plt.show()"
   ]
  },
  {
   "cell_type": "code",
   "execution_count": 47,
   "metadata": {},
   "outputs": [
    {
     "data": {
      "text/html": [
       "<div>\n",
       "<style scoped>\n",
       "    .dataframe tbody tr th:only-of-type {\n",
       "        vertical-align: middle;\n",
       "    }\n",
       "\n",
       "    .dataframe tbody tr th {\n",
       "        vertical-align: top;\n",
       "    }\n",
       "\n",
       "    .dataframe thead th {\n",
       "        text-align: right;\n",
       "    }\n",
       "</style>\n",
       "<table border=\"1\" class=\"dataframe\">\n",
       "  <thead>\n",
       "    <tr style=\"text-align: right;\">\n",
       "      <th></th>\n",
       "      <th>weekday</th>\n",
       "      <th>median_arr_delay</th>\n",
       "    </tr>\n",
       "  </thead>\n",
       "  <tbody>\n",
       "    <tr>\n",
       "      <th>0</th>\n",
       "      <td>M</td>\n",
       "      <td>-6.0</td>\n",
       "    </tr>\n",
       "    <tr>\n",
       "      <th>1</th>\n",
       "      <td>Tu</td>\n",
       "      <td>-8.0</td>\n",
       "    </tr>\n",
       "    <tr>\n",
       "      <th>2</th>\n",
       "      <td>W</td>\n",
       "      <td>-5.0</td>\n",
       "    </tr>\n",
       "    <tr>\n",
       "      <th>3</th>\n",
       "      <td>Th</td>\n",
       "      <td>-5.0</td>\n",
       "    </tr>\n",
       "    <tr>\n",
       "      <th>4</th>\n",
       "      <td>F</td>\n",
       "      <td>-5.0</td>\n",
       "    </tr>\n",
       "    <tr>\n",
       "      <th>5</th>\n",
       "      <td>Sa</td>\n",
       "      <td>-7.0</td>\n",
       "    </tr>\n",
       "    <tr>\n",
       "      <th>6</th>\n",
       "      <td>Su</td>\n",
       "      <td>-4.0</td>\n",
       "    </tr>\n",
       "  </tbody>\n",
       "</table>\n",
       "</div>"
      ],
      "text/plain": [
       "  weekday  median_arr_delay\n",
       "0       M              -6.0\n",
       "1      Tu              -8.0\n",
       "2       W              -5.0\n",
       "3      Th              -5.0\n",
       "4       F              -5.0\n",
       "5      Sa              -7.0\n",
       "6      Su              -4.0"
      ]
     },
     "execution_count": 47,
     "metadata": {},
     "output_type": "execute_result"
    }
   ],
   "source": [
    "# CALCULATE MEDIAN FLIGHT DELAY PER DAY OF WEEK\n",
    "weekday_med = df[['weekday', 'arr_delay']]\n",
    "weekday_med = weekday_med.groupby(['weekday'], as_index=False).median()\n",
    "weekday_med=weekday_med.rename(columns={'arr_delay': 'median_arr_delay'})\n",
    "weekday_med=weekday_med.replace({0: 'M', 1:'Tu',2:'W',3:'Th',4:'F',5:'Sa',6:'Su'})\n",
    "weekday_med"
   ]
  },
  {
   "cell_type": "code",
   "execution_count": 48,
   "metadata": {},
   "outputs": [
    {
     "data": {
      "image/png": "[encoded data removed]",
      "text/plain": [
       "<Figure size 360x360 with 1 Axes>"
      ]
     },
     "metadata": {
      "needs_background": "light"
     },
     "output_type": "display_data"
    }
   ],
   "source": [
    "# PLOT WEEKDAY MEDIAN DELAY\n",
    "\n",
    "x = weekday_med.weekday\n",
    "y = weekday_med.median_arr_delay\n",
    "\n",
    "fig, ax = plt.subplots( figsize = (5,5))\n",
    "\n",
    "ax.bar(x,y)\n",
    "ax.set_ylabel('Average flight delay (minutes)', fontsize=12)\n",
    "ax.set_xlabel('', fontsize=12)\n",
    "ax.set_title('Delays per Day of Week', fontsize=20, y=1.05)\n",
    "\n",
    "plt.show()"
   ]
  },
  {
   "cell_type": "code",
   "execution_count": 49,
   "metadata": {},
   "outputs": [],
   "source": [
    "# Interesting - Looks Like theres different factors comming into play here - will plot together... must be a number of outliers affecting the mean"
   ]
  },
  {
   "cell_type": "code",
   "execution_count": 50,
   "metadata": {},
   "outputs": [
    {
     "data": {
      "image/png": "[encoded data removed]",
      "text/plain": [
       "<Figure size 432x288 with 1 Axes>"
      ]
     },
     "metadata": {
      "needs_background": "light"
     },
     "output_type": "display_data"
    }
   ],
   "source": [
    "# PLOT BOTH MEASURES OF MIDDLE TOGETHER\n",
    "\n",
    "X = weekday_mean.weekday\n",
    "y_med = weekday_med.median_arr_delay\n",
    "y_mean = weekday_mean.avg_arr_delay\n",
    "\n",
    "  \n",
    "X_axis = np.arange(len(X))\n",
    "  \n",
    "plt.bar(X_axis - 0.2, y_med, 0.4, label = 'Median')\n",
    "plt.bar(X_axis + 0.2, y_mean, 0.4, label = 'Mean')\n",
    "  \n",
    "plt.xticks(X_axis, X)\n",
    "plt.xlabel(\"Days Of Week\")\n",
    "plt.ylabel(\"Arrival Delay (minutes)\")\n",
    "plt.title(\"Flight Delay Per Day of Week\")\n",
    "plt.legend()\n",
    "plt.show()"
   ]
  },
  {
   "cell_type": "markdown",
   "metadata": {},
   "source": [
    "#### **Task 3**: Does the weather affect the delay? \n",
    "Use the API to pull the weather information for flights. There is no need to get weather for ALL flights. We can choose the right representative sample. Let's focus on four weather types:\n",
    "- sunny\n",
    "- cloudy\n",
    "- rainy\n",
    "- snow.\n",
    "Test the hypothesis that these 4 delays are from the same distribution. If they are not, which ones are significantly different?"
   ]
  },
  {
   "cell_type": "code",
   "execution_count": null,
   "metadata": {},
   "outputs": [],
   "source": []
  },
  {
   "cell_type": "markdown",
   "metadata": {},
   "source": [
    "#### **Task 4**: How taxi times changing during the day? Does higher traffic lead to bigger taxi times?"
   ]
  },
  {
   "cell_type": "code",
   "execution_count": 51,
   "metadata": {},
   "outputs": [],
   "source": [
    "def split_time_of_day_departure(df):\n",
    "    \"\"\" takes estimated time of departure and splits in to hours 24 hour clock (local time) \"\"\"\n",
    "    df['dep_hour'] = df['crs_dep_time']\n",
    "    df['dep_hour'] = np.floor(df['dep_hour']/100).astype(\"int\")\n",
    "    return df\n",
    "df = split_time_of_day_departure(df)\n",
    "\n",
    "def split_time_of_day_arrival(df):\n",
    "    \"\"\" takes estimated time of arrival and splits in to hours 24 hour clock (local time) \"\"\"\n",
    "    df['arr_hour'] = df['crs_arr_time']\n",
    "    df['arr_hour'] = np.floor(df['arr_hour']/100).astype(\"int\")\n",
    "    return df\n",
    "df = split_time_of_day_arrival(df)\n",
    "\n"
   ]
  },
  {
   "cell_type": "code",
   "execution_count": 52,
   "metadata": {},
   "outputs": [],
   "source": [
    "# sample from diff airports for taxi times"
   ]
  },
  {
   "cell_type": "markdown",
   "metadata": {},
   "source": [
    "#### **Task 5**: What is the average percentage of delays that is already created before departure? (aka are arrival delays caused by departure delays?) Are airlines able to lower the delay during the flights?"
   ]
  },
  {
   "cell_type": "code",
   "execution_count": null,
   "metadata": {},
   "outputs": [],
   "source": []
  },
  {
   "cell_type": "code",
   "execution_count": 55,
   "metadata": {
    "scrolled": true
   },
   "outputs": [
    {
     "data": {
      "text/html": [
       "<div>\n",
       "<style scoped>\n",
       "    .dataframe tbody tr th:only-of-type {\n",
       "        vertical-align: middle;\n",
       "    }\n",
       "\n",
       "    .dataframe tbody tr th {\n",
       "        vertical-align: top;\n",
       "    }\n",
       "\n",
       "    .dataframe thead th {\n",
       "        text-align: right;\n",
       "    }\n",
       "</style>\n",
       "<table border=\"1\" class=\"dataframe\">\n",
       "  <thead>\n",
       "    <tr style=\"text-align: right;\">\n",
       "      <th></th>\n",
       "      <th>fl_date</th>\n",
       "      <th>mkt_unique_carrier</th>\n",
       "      <th>branded_code_share</th>\n",
       "      <th>mkt_carrier</th>\n",
       "      <th>mkt_carrier_fl_num</th>\n",
       "      <th>op_unique_carrier</th>\n",
       "      <th>op_carrier_fl_num</th>\n",
       "      <th>origin_airport_id</th>\n",
       "      <th>origin</th>\n",
       "      <th>origin_city_name</th>\n",
       "      <th>...</th>\n",
       "      <th>arr_delay</th>\n",
       "      <th>cancelled</th>\n",
       "      <th>diverted</th>\n",
       "      <th>actual_elapsed_time</th>\n",
       "      <th>air_time</th>\n",
       "      <th>flights</th>\n",
       "      <th>distance</th>\n",
       "      <th>weekday</th>\n",
       "      <th>dep_hour</th>\n",
       "      <th>arr_hour</th>\n",
       "    </tr>\n",
       "  </thead>\n",
       "  <tbody>\n",
       "    <tr>\n",
       "      <th>4</th>\n",
       "      <td>2019-01-02</td>\n",
       "      <td>UA</td>\n",
       "      <td>UA_CODESHARE</td>\n",
       "      <td>UA</td>\n",
       "      <td>4233</td>\n",
       "      <td>EV</td>\n",
       "      <td>4233</td>\n",
       "      <td>11618</td>\n",
       "      <td>EWR</td>\n",
       "      <td>Newark, NJ</td>\n",
       "      <td>...</td>\n",
       "      <td>22.0</td>\n",
       "      <td>0.0</td>\n",
       "      <td>0.0</td>\n",
       "      <td>92.0</td>\n",
       "      <td>47.0</td>\n",
       "      <td>1.0</td>\n",
       "      <td>199.0</td>\n",
       "      <td>2</td>\n",
       "      <td>18</td>\n",
       "      <td>19</td>\n",
       "    </tr>\n",
       "  </tbody>\n",
       "</table>\n",
       "<p>1 rows × 32 columns</p>\n",
       "</div>"
      ],
      "text/plain": [
       "      fl_date mkt_unique_carrier branded_code_share mkt_carrier  \\\n",
       "4  2019-01-02                 UA       UA_CODESHARE          UA   \n",
       "\n",
       "   mkt_carrier_fl_num op_unique_carrier  op_carrier_fl_num  origin_airport_id  \\\n",
       "4                4233                EV               4233              11618   \n",
       "\n",
       "  origin origin_city_name  ...  arr_delay cancelled diverted  \\\n",
       "4    EWR       Newark, NJ  ...       22.0       0.0      0.0   \n",
       "\n",
       "   actual_elapsed_time  air_time  flights  distance  weekday  dep_hour  \\\n",
       "4                 92.0      47.0      1.0     199.0        2        18   \n",
       "\n",
       "   arr_hour  \n",
       "4        19  \n",
       "\n",
       "[1 rows x 32 columns]"
      ]
     },
     "execution_count": 55,
     "metadata": {},
     "output_type": "execute_result"
    }
   ],
   "source": [
    "total_delayed = df[df['arr_delay'] >0].copy()\n",
    "total_delayed.head(1)"
   ]
  },
  {
   "cell_type": "code",
   "execution_count": 59,
   "metadata": {},
   "outputs": [
    {
     "data": {
      "text/plain": [
       "1817"
      ]
     },
     "execution_count": 59,
     "metadata": {},
     "output_type": "execute_result"
    }
   ],
   "source": [
    "total_delayed['dep_delay'].count()"
   ]
  },
  {
   "cell_type": "code",
   "execution_count": 61,
   "metadata": {},
   "outputs": [
    {
     "data": {
      "text/plain": [
       "fl_date                1338\n",
       "mkt_unique_carrier     1338\n",
       "branded_code_share     1338\n",
       "mkt_carrier            1338\n",
       "mkt_carrier_fl_num     1338\n",
       "op_unique_carrier      1338\n",
       "op_carrier_fl_num      1338\n",
       "origin_airport_id      1338\n",
       "origin                 1338\n",
       "origin_city_name       1338\n",
       "dest_airport_id        1338\n",
       "dest                   1338\n",
       "dest_city_name         1338\n",
       "crs_dep_time           1338\n",
       "dep_time               1338\n",
       "dep_delay              1338\n",
       "taxi_out               1338\n",
       "wheels_off             1338\n",
       "wheels_on              1338\n",
       "taxi_in                1338\n",
       "crs_arr_time           1338\n",
       "arr_time               1338\n",
       "arr_delay              1338\n",
       "cancelled              1338\n",
       "diverted               1338\n",
       "actual_elapsed_time    1338\n",
       "air_time               1338\n",
       "flights                1338\n",
       "distance               1338\n",
       "weekday                1338\n",
       "dep_hour               1338\n",
       "arr_hour               1338\n",
       "dtype: int64"
      ]
     },
     "execution_count": 61,
     "metadata": {},
     "output_type": "execute_result"
    }
   ],
   "source": [
    "total_delayed[total_delayed['dep_delay'] > 0].count()"
   ]
  },
  {
   "cell_type": "code",
   "execution_count": 53,
   "metadata": {},
   "outputs": [
    {
     "ename": "KeyError",
     "evalue": "'index'",
     "output_type": "error",
     "traceback": [
      "\u001b[1;31m---------------------------------------------------------------------------\u001b[0m",
      "\u001b[1;31mKeyError\u001b[0m                                  Traceback (most recent call last)",
      "\u001b[1;32m~\\anaconda3\\lib\\site-packages\\pandas\\core\\indexes\\base.py\u001b[0m in \u001b[0;36mget_loc\u001b[1;34m(self, key, method, tolerance)\u001b[0m\n\u001b[0;32m   3360\u001b[0m             \u001b[1;32mtry\u001b[0m\u001b[1;33m:\u001b[0m\u001b[1;33m\u001b[0m\u001b[1;33m\u001b[0m\u001b[0m\n\u001b[1;32m-> 3361\u001b[1;33m                 \u001b[1;32mreturn\u001b[0m \u001b[0mself\u001b[0m\u001b[1;33m.\u001b[0m\u001b[0m_engine\u001b[0m\u001b[1;33m.\u001b[0m\u001b[0mget_loc\u001b[0m\u001b[1;33m(\u001b[0m\u001b[0mcasted_key\u001b[0m\u001b[1;33m)\u001b[0m\u001b[1;33m\u001b[0m\u001b[1;33m\u001b[0m\u001b[0m\n\u001b[0m\u001b[0;32m   3362\u001b[0m             \u001b[1;32mexcept\u001b[0m \u001b[0mKeyError\u001b[0m \u001b[1;32mas\u001b[0m \u001b[0merr\u001b[0m\u001b[1;33m:\u001b[0m\u001b[1;33m\u001b[0m\u001b[1;33m\u001b[0m\u001b[0m\n",
      "\u001b[1;32m~\\anaconda3\\lib\\site-packages\\pandas\\_libs\\index.pyx\u001b[0m in \u001b[0;36mpandas._libs.index.IndexEngine.get_loc\u001b[1;34m()\u001b[0m\n",
      "\u001b[1;32m~\\anaconda3\\lib\\site-packages\\pandas\\_libs\\index.pyx\u001b[0m in \u001b[0;36mpandas._libs.index.IndexEngine.get_loc\u001b[1;34m()\u001b[0m\n",
      "\u001b[1;32mpandas\\_libs\\hashtable_class_helper.pxi\u001b[0m in \u001b[0;36mpandas._libs.hashtable.PyObjectHashTable.get_item\u001b[1;34m()\u001b[0m\n",
      "\u001b[1;32mpandas\\_libs\\hashtable_class_helper.pxi\u001b[0m in \u001b[0;36mpandas._libs.hashtable.PyObjectHashTable.get_item\u001b[1;34m()\u001b[0m\n",
      "\u001b[1;31mKeyError\u001b[0m: 'index'",
      "\nThe above exception was the direct cause of the following exception:\n",
      "\u001b[1;31mKeyError\u001b[0m                                  Traceback (most recent call last)",
      "\u001b[1;32m~\\AppData\\Local\\Temp/ipykernel_20472/624748673.py\u001b[0m in \u001b[0;36m<module>\u001b[1;34m\u001b[0m\n\u001b[0;32m      6\u001b[0m \u001b[1;31m# calculate percentage of departure delays from total delays\u001b[0m\u001b[1;33m\u001b[0m\u001b[1;33m\u001b[0m\u001b[1;33m\u001b[0m\u001b[0m\n\u001b[0;32m      7\u001b[0m \u001b[0mpercentage_dep_delay\u001b[0m \u001b[1;33m=\u001b[0m \u001b[0mtotal_delayed\u001b[0m\u001b[1;33m[\u001b[0m\u001b[0mtotal_delayed\u001b[0m\u001b[1;33m[\u001b[0m\u001b[1;34m'dep_delay'\u001b[0m\u001b[1;33m]\u001b[0m \u001b[1;33m>\u001b[0m \u001b[1;36m0\u001b[0m\u001b[1;33m]\u001b[0m\u001b[1;33m.\u001b[0m\u001b[0mcount\u001b[0m\u001b[1;33m(\u001b[0m\u001b[1;33m)\u001b[0m\u001b[1;33m/\u001b[0m\u001b[0mtotal_delayed\u001b[0m\u001b[1;33m[\u001b[0m\u001b[1;34m'dep_delay'\u001b[0m\u001b[1;33m]\u001b[0m\u001b[1;33m.\u001b[0m\u001b[0mcount\u001b[0m\u001b[1;33m(\u001b[0m\u001b[1;33m)\u001b[0m\u001b[1;33m\u001b[0m\u001b[1;33m\u001b[0m\u001b[0m\n\u001b[1;32m----> 8\u001b[1;33m \u001b[0mprint\u001b[0m\u001b[1;33m(\u001b[0m\u001b[1;34m\" Percentage of flights delayed before departure is {:.2%}\"\u001b[0m\u001b[1;33m.\u001b[0m\u001b[0mformat\u001b[0m\u001b[1;33m(\u001b[0m\u001b[0mpercentage_dep_delay\u001b[0m\u001b[1;33m[\u001b[0m\u001b[1;34m'index'\u001b[0m\u001b[1;33m]\u001b[0m\u001b[1;33m)\u001b[0m\u001b[1;33m)\u001b[0m\u001b[1;33m\u001b[0m\u001b[1;33m\u001b[0m\u001b[0m\n\u001b[0m",
      "\u001b[1;32m~\\anaconda3\\lib\\site-packages\\pandas\\core\\series.py\u001b[0m in \u001b[0;36m__getitem__\u001b[1;34m(self, key)\u001b[0m\n\u001b[0;32m    940\u001b[0m \u001b[1;33m\u001b[0m\u001b[0m\n\u001b[0;32m    941\u001b[0m         \u001b[1;32melif\u001b[0m \u001b[0mkey_is_scalar\u001b[0m\u001b[1;33m:\u001b[0m\u001b[1;33m\u001b[0m\u001b[1;33m\u001b[0m\u001b[0m\n\u001b[1;32m--> 942\u001b[1;33m             \u001b[1;32mreturn\u001b[0m \u001b[0mself\u001b[0m\u001b[1;33m.\u001b[0m\u001b[0m_get_value\u001b[0m\u001b[1;33m(\u001b[0m\u001b[0mkey\u001b[0m\u001b[1;33m)\u001b[0m\u001b[1;33m\u001b[0m\u001b[1;33m\u001b[0m\u001b[0m\n\u001b[0m\u001b[0;32m    943\u001b[0m \u001b[1;33m\u001b[0m\u001b[0m\n\u001b[0;32m    944\u001b[0m         \u001b[1;32mif\u001b[0m \u001b[0mis_hashable\u001b[0m\u001b[1;33m(\u001b[0m\u001b[0mkey\u001b[0m\u001b[1;33m)\u001b[0m\u001b[1;33m:\u001b[0m\u001b[1;33m\u001b[0m\u001b[1;33m\u001b[0m\u001b[0m\n",
      "\u001b[1;32m~\\anaconda3\\lib\\site-packages\\pandas\\core\\series.py\u001b[0m in \u001b[0;36m_get_value\u001b[1;34m(self, label, takeable)\u001b[0m\n\u001b[0;32m   1049\u001b[0m \u001b[1;33m\u001b[0m\u001b[0m\n\u001b[0;32m   1050\u001b[0m         \u001b[1;31m# Similar to Index.get_value, but we do not fall back to positional\u001b[0m\u001b[1;33m\u001b[0m\u001b[1;33m\u001b[0m\u001b[1;33m\u001b[0m\u001b[0m\n\u001b[1;32m-> 1051\u001b[1;33m         \u001b[0mloc\u001b[0m \u001b[1;33m=\u001b[0m \u001b[0mself\u001b[0m\u001b[1;33m.\u001b[0m\u001b[0mindex\u001b[0m\u001b[1;33m.\u001b[0m\u001b[0mget_loc\u001b[0m\u001b[1;33m(\u001b[0m\u001b[0mlabel\u001b[0m\u001b[1;33m)\u001b[0m\u001b[1;33m\u001b[0m\u001b[1;33m\u001b[0m\u001b[0m\n\u001b[0m\u001b[0;32m   1052\u001b[0m         \u001b[1;32mreturn\u001b[0m \u001b[0mself\u001b[0m\u001b[1;33m.\u001b[0m\u001b[0mindex\u001b[0m\u001b[1;33m.\u001b[0m\u001b[0m_get_values_for_loc\u001b[0m\u001b[1;33m(\u001b[0m\u001b[0mself\u001b[0m\u001b[1;33m,\u001b[0m \u001b[0mloc\u001b[0m\u001b[1;33m,\u001b[0m \u001b[0mlabel\u001b[0m\u001b[1;33m)\u001b[0m\u001b[1;33m\u001b[0m\u001b[1;33m\u001b[0m\u001b[0m\n\u001b[0;32m   1053\u001b[0m \u001b[1;33m\u001b[0m\u001b[0m\n",
      "\u001b[1;32m~\\anaconda3\\lib\\site-packages\\pandas\\core\\indexes\\base.py\u001b[0m in \u001b[0;36mget_loc\u001b[1;34m(self, key, method, tolerance)\u001b[0m\n\u001b[0;32m   3361\u001b[0m                 \u001b[1;32mreturn\u001b[0m \u001b[0mself\u001b[0m\u001b[1;33m.\u001b[0m\u001b[0m_engine\u001b[0m\u001b[1;33m.\u001b[0m\u001b[0mget_loc\u001b[0m\u001b[1;33m(\u001b[0m\u001b[0mcasted_key\u001b[0m\u001b[1;33m)\u001b[0m\u001b[1;33m\u001b[0m\u001b[1;33m\u001b[0m\u001b[0m\n\u001b[0;32m   3362\u001b[0m             \u001b[1;32mexcept\u001b[0m \u001b[0mKeyError\u001b[0m \u001b[1;32mas\u001b[0m \u001b[0merr\u001b[0m\u001b[1;33m:\u001b[0m\u001b[1;33m\u001b[0m\u001b[1;33m\u001b[0m\u001b[0m\n\u001b[1;32m-> 3363\u001b[1;33m                 \u001b[1;32mraise\u001b[0m \u001b[0mKeyError\u001b[0m\u001b[1;33m(\u001b[0m\u001b[0mkey\u001b[0m\u001b[1;33m)\u001b[0m \u001b[1;32mfrom\u001b[0m \u001b[0merr\u001b[0m\u001b[1;33m\u001b[0m\u001b[1;33m\u001b[0m\u001b[0m\n\u001b[0m\u001b[0;32m   3364\u001b[0m \u001b[1;33m\u001b[0m\u001b[0m\n\u001b[0;32m   3365\u001b[0m         \u001b[1;32mif\u001b[0m \u001b[0mis_scalar\u001b[0m\u001b[1;33m(\u001b[0m\u001b[0mkey\u001b[0m\u001b[1;33m)\u001b[0m \u001b[1;32mand\u001b[0m \u001b[0misna\u001b[0m\u001b[1;33m(\u001b[0m\u001b[0mkey\u001b[0m\u001b[1;33m)\u001b[0m \u001b[1;32mand\u001b[0m \u001b[1;32mnot\u001b[0m \u001b[0mself\u001b[0m\u001b[1;33m.\u001b[0m\u001b[0mhasnans\u001b[0m\u001b[1;33m:\u001b[0m\u001b[1;33m\u001b[0m\u001b[1;33m\u001b[0m\u001b[0m\n",
      "\u001b[1;31mKeyError\u001b[0m: 'index'"
     ]
    }
   ],
   "source": [
    "# CALCULATE DIFF BETWEEN ACTUAL DEPARTURE AND SCHEDULED DEPARTURE AND RELATE TO TYPES OF DELAYS - 'dep_delay' column contains this\n",
    "\n",
    "# delayed have positive delay values\n",
    "total_delayed = df[df['arr_delay'] >0].copy()\n",
    "\n",
    "# calculate percentage of departure delays from total delays\n",
    "percentage_dep_delay = total_delayed[total_delayed['dep_delay'] > 0].count()/total_delayed['dep_delay'].count()\n",
    "print(\" Percentage of flights delayed before departure is {:.2%}\".format(percentage_dep_delay['index']))"
   ]
  },
  {
   "cell_type": "code",
   "execution_count": null,
   "metadata": {},
   "outputs": [],
   "source": []
  },
  {
   "cell_type": "code",
   "execution_count": null,
   "metadata": {},
   "outputs": [],
   "source": [
    "# Find diff of dep delay vs arr delay \n",
    "\n",
    "total_delayed['delay_diff'] = total_delayed.dep_delay - total_delayed.arr_delay # if this value is negative, then reduced delay in air\n",
    "total_delayed['delay_diff'].mean()\n",
    "total_delayed['delay_diff'].median()\n",
    "print(f\"Mean difference between departure delay and arrival delay is {dep_delayed['delay_diff'].mean():.2} minutes and median is {dep_delayed['delay_diff'].median()} minutes, but airlines are able to have negative values indicating they are able to make up time during flights\" )"
   ]
  },
  {
   "cell_type": "markdown",
   "metadata": {},
   "source": [
    "#### **Task 6**: How many states cover 50% of US air traffic? "
   ]
  },
  {
   "cell_type": "code",
   "execution_count": null,
   "metadata": {},
   "outputs": [],
   "source": [
    "# SPLIT DATA INTO STATES AND CITIES\n",
    "def split_dest_city_state(df):\n",
    "    \"\"\" separates destination city and states into own columns\"\"\"\n",
    "    df['dest_state'] = df['dest_city_name']\n",
    "    df['dest_city'] = df['dest_city_name']\n",
    "    \n",
    "    f_state= lambda x: x.split(sep=', ')[1]\n",
    "    f_city= lambda x: x.split(sep=', ')[0]\n",
    "\n",
    "    df['dest_state'] = df['dest_state'].apply(f_state)\n",
    "    df['dest_city'] = df['dest_city'].apply(f_city)\n",
    "    return df\n",
    "\n",
    "def split_origin_city_state(df):\n",
    "    \"\"\" separates origin city and states into own columns\"\"\"\n",
    "    df['origin_state'] = df['origin_city_name']\n",
    "    df['origin_city'] = df['origin_city_name']\n",
    "    \n",
    "    f_state= lambda x: x.split(sep=', ')[1]\n",
    "    f_city= lambda x: x.split(sep=', ')[0]\n",
    "\n",
    "    df['origin_state'] = df['origin_state'].apply(f_state)\n",
    "    df['origin_city'] = df['origin_city'].apply(f_city)\n",
    "    return df\n",
    "\n",
    "df = split_dest_city_state(df)\n",
    "df = split_origin_city_state(df)\n",
    "\n",
    "# CALCULATE FLIGHT COUNTS PER STATES\n",
    "state_count_orig = df[['origin_state', 'index']].groupby('origin_state', as_index=False).count().sort_values(by='index')\n",
    "state_count_dest = df[['dest_state', 'index']].groupby('dest_state', as_index=False).count().sort_values(by='index')\n",
    "state_count= state_count_orig.merge(state_count_dest, left_on='origin_state', right_on='dest_state')\n",
    "\n",
    "state_count['total_flights'] = state_count['index_x']+state_count['index_y']\n",
    "state_count.rename(columns = {'origin_state': 'state'}, inplace=True)\n",
    "state_count.drop(['index_x', 'dest_state', 'index_y'], axis=1, inplace=True)\n",
    "\n",
    "state_count= state_count.sort_values(by='total_flights', ascending=False)\n",
    "\n",
    "# CALULATE HOW MANY STATES ACCOUNT FOR 50% OF ALL TRAFFIC IN USA\n",
    "state_list = list(state_count.state)\n",
    "flight_count_list = list(state_count.total_flights)\n",
    "\n",
    "total_flights = state_count.total_flights.sum()\n",
    "total_flights\n",
    "\n",
    "top_state=[]\n",
    "flight_counts=0\n",
    "i=0\n",
    "while flight_counts < total_flights/2:\n",
    "    top_state.append(state_list[i])\n",
    "\n",
    "    flight_counts += flight_count_list[i]\n",
    "    i+=1\n",
    "\n",
    "\n",
    "print(\"Number of top trafficed states accounting for 50% of traffic: \", len(top_state))\n",
    "top_state\n"
   ]
  },
  {
   "cell_type": "code",
   "execution_count": null,
   "metadata": {},
   "outputs": [],
   "source": [
    "# PLOT NUMBER OF FLIGHTS PER STATE\n",
    "# import matplotlib\n",
    "import matplotlib.pyplot as plt\n",
    "\n",
    "x1 = state_count_orig['origin_state']\n",
    "x2 = state_count_dest['dest_state']\n",
    "\n",
    "y1 = state_count_orig['index']\n",
    "y2 = state_count_dest['index']\n",
    "\n",
    "fig, [ax1, ax2] = plt.subplots(nrows=1, ncols=2, figsize = (20,15))\n",
    "\n",
    "ax1.barh(x1,y1)\n",
    "ax1.set_ylabel('Number of Flights Outbound per State', fontsize=12)\n",
    "ax1.set_xlabel('State', fontsize=12)\n",
    "ax1.set_title('Number of OUTBOUND Flights STATE', fontsize=20, y=1.05)\n",
    "\n",
    "ax2.barh(x2,y2)\n",
    "ax2.set_ylabel('Number of  Flights Inbound per State', fontsize=12)\n",
    "ax2.set_xlabel('State', fontsize=12)\n",
    "ax2.set_title('Number of INBOUND Flights STATE', fontsize=20, y=1.05)\n",
    "# add legend\n",
    "\n",
    "plt.show()\n",
    "\n",
    "# Can see 3 teirs of aiport size (CA-CO, PA-MD, and VA-and below)\n",
    "# use quantile - qcut 4 try 4 or 10 "
   ]
  },
  {
   "cell_type": "markdown",
   "metadata": {},
   "source": [
    "#### **Task 7**: Test the hypothesis whether planes fly faster when there is the departure delay? "
   ]
  },
  {
   "cell_type": "code",
   "execution_count": null,
   "metadata": {},
   "outputs": [],
   "source": []
  },
  {
   "cell_type": "code",
   "execution_count": null,
   "metadata": {},
   "outputs": [],
   "source": []
  },
  {
   "cell_type": "markdown",
   "metadata": {},
   "source": [
    "#### **Task 8**: When (which hour) do most 'LONG', 'SHORT', 'MEDIUM' haul flights take off?"
   ]
  },
  {
   "cell_type": "code",
   "execution_count": null,
   "metadata": {},
   "outputs": [],
   "source": [
    "# CREATE HOUR OF DAY AND HAUL TYPE COLUMNS\n",
    "\n",
    "def split_time_of_day_departure(df):\n",
    "    \"\"\" takes estimated time of departure and splits in to hours 24 hour clock (local time) \"\"\"\n",
    "    df['dep_hour'] = df['crs_dep_time']\n",
    "    df['dep_hour'] = np.floor(df['dep_hour']/100).astype(\"int\")\n",
    "    return df\n",
    "  \n",
    "def create_haul_type(df):\n",
    "    \"\"\" adds short:0, mid:1, long:2 range haul types from crs_elapsed_time (scheduled) \"\"\"\n",
    "\n",
    "    df[\"haul_type\"] = df['crs_elapsed_time']\n",
    "    df[\"haul_type\"].mask(df[\"haul_type\"].values < 180, 0, inplace=True)\n",
    "    df[\"haul_type\"].mask((df[\"haul_type\"] >= 180) & (df[\"haul_type\"] < 360), 1, inplace=True)\n",
    "    df[\"haul_type\"].mask((df[\"haul_type\"] >= 360), 2, inplace=True) \n",
    "    df[\"haul_type\"]= df[\"haul_type\"].astype('int')\n",
    "    return df  \n",
    "\n",
    "df = split_time_of_day_departure(df)\n",
    "df = create_haul_type(df)\n",
    "df.haul_type.unique()\n",
    "\n",
    "\n"
   ]
  },
  {
   "cell_type": "code",
   "execution_count": null,
   "metadata": {},
   "outputs": [],
   "source": [
    "# want departure time for each category - SPLIT APART\n",
    "\n",
    "df_haul_type = df[['haul_type', 'dep_hour', 'index']]\n",
    "df_haul_type = df_haul_type.groupby(['dep_hour','haul_type'], as_index=False).count()\n",
    "\n",
    "short_haul = df_haul_type[df_haul_type.haul_type == 0]\n",
    "med_haul = df_haul_type[df_haul_type.haul_type == 1]\n",
    "long_haul = df_haul_type[df_haul_type.haul_type == 2]"
   ]
  },
  {
   "cell_type": "code",
   "execution_count": null,
   "metadata": {},
   "outputs": [],
   "source": [
    "# PLOT EACH HAUL TYPE TO VISULIZE\n",
    "import matplotlib.pyplot as plt\n",
    "# Long Haul Plot\n",
    "\n",
    "x = long_haul.dep_hour\n",
    "y = long_haul['index']\n",
    "\n",
    "fig, ax = plt.subplots( figsize = (7,7))\n",
    "\n",
    "ax.bar(x,y)\n",
    "ax.set_ylabel('Number of flights departing', fontsize=12)\n",
    "ax.set_xlabel('Hour of Day', fontsize=12)\n",
    "ax.set_title('Long Haul Departure time', fontsize=20, y=1.05)\n",
    "\n",
    "plt.show()"
   ]
  },
  {
   "cell_type": "code",
   "execution_count": null,
   "metadata": {},
   "outputs": [],
   "source": [
    "# Mid Haul Plot\n",
    "\n",
    "x = med_haul.dep_hour\n",
    "y = med_haul['index']\n",
    "\n",
    "fig, ax = plt.subplots( figsize = (7,7))\n",
    "\n",
    "ax.bar(x,y)\n",
    "ax.set_ylabel('Number of flights departing', fontsize=12)\n",
    "ax.set_xlabel('Hour of Day', fontsize=12)\n",
    "ax.set_title('Med Haul Departure time', fontsize=20, y=1.05)\n",
    "\n",
    "plt.show()"
   ]
  },
  {
   "cell_type": "code",
   "execution_count": null,
   "metadata": {},
   "outputs": [],
   "source": [
    "# short Haul Plot\n",
    "\n",
    "x = short_haul.dep_hour\n",
    "y = short_haul['index']\n",
    "\n",
    "fig, ax = plt.subplots( figsize = (7,7))\n",
    "\n",
    "ax.bar(x,y)\n",
    "ax.set_ylabel('Number of flights departing', fontsize=12)\n",
    "ax.set_xlabel('Hour of Day', fontsize=12)\n",
    "ax.set_title('Short Haul Departure time', fontsize=20, y=1.05)\n",
    "\n",
    "plt.show()"
   ]
  },
  {
   "cell_type": "code",
   "execution_count": null,
   "metadata": {},
   "outputs": [],
   "source": [
    "\"\"\" Looks like short haul more uniformly distributed, med haul declines slowly throughout day\n",
    "and long haul is binomially split - which all make sense intuitively \"\"\""
   ]
  },
  {
   "cell_type": "code",
   "execution_count": null,
   "metadata": {},
   "outputs": [],
   "source": [
    "# SEE IF CORRELATION HAUL TYPE AND ARR DELAY"
   ]
  },
  {
   "cell_type": "markdown",
   "metadata": {},
   "source": [
    "#### **Task 9**: Find the top 10 the bussiest airports. Does the biggest number of flights mean that the biggest number of passengers went through the particular airport? How much traffic do these 10 airports cover?"
   ]
  },
  {
   "cell_type": "code",
   "execution_count": null,
   "metadata": {},
   "outputs": [],
   "source": [
    "# CALCULATE FLIGHT COUNTS PER AIRPORTS\n",
    "airport_count_orig = df[['origin_airport_id', 'index']].groupby('origin_airport_id', as_index=False).count().sort_values(by='index', ascending = False)\n",
    "airport_count_dest = df[['dest_airport_id', 'index']].groupby('dest_airport_id', as_index=False).count().sort_values(by='index')\n",
    "airport_count= airport_count_orig.merge(airport_count_dest, left_on='origin_airport_id', right_on='dest_airport_id')\n",
    "\n",
    "airport_count['total_flights'] = airport_count['index_x']+airport_count['index_y']\n",
    "airport_count.rename(columns = {'origin_airport_id': 'airport_id'}, inplace=True)\n",
    "airport_count.drop(['index_x', 'dest_airport_id', 'index_y'], axis=1, inplace=True)\n",
    "airport_count.head()\n",
    "\n",
    "df_new = df.copy()\n",
    "# df_new['total_flight_origin'] =\n",
    "df[['dest_airport_id','origin_airport_id']]"
   ]
  },
  {
   "cell_type": "code",
   "execution_count": null,
   "metadata": {},
   "outputs": [],
   "source": [
    "airport_count.head()"
   ]
  },
  {
   "cell_type": "code",
   "execution_count": null,
   "metadata": {},
   "outputs": [],
   "source": [
    "# CALULATE TOP 10 AIRPORTS\n",
    "top_airport_counts = airport_count.sort_values(by='total_flights', ascending=False).head(50)\n",
    "\n",
    "top_airport_counts.airport_id= top_airport_counts.airport_id.astype('string')\n",
    "top_airport_counts.head()\n",
    "\n",
    "# TRY TO GET HUMAN READABLE AIRPORT CODE\n",
    "# airport_code = []\n",
    "# for i in range(len(top_airport_counts)):\n",
    "#     airport_code.append(df[df['origin_airport_id'] == top_airport_counts.iloc[i].airport_id].origin)\n",
    "# top_airport_counts.airport_code "
   ]
  },
  {
   "cell_type": "code",
   "execution_count": null,
   "metadata": {},
   "outputs": [],
   "source": [
    "def make_bin_column(df, col_name, n_bin_range):\n",
    "    '''\n",
    "    Convert a numeric column to a categorical ordinal column.\n",
    "    Assumption: the column that is going to be binned\n",
    "    must be positive numeric numbers\n",
    "    input:\n",
    "      - df: data frame\n",
    "      - col_name: column in string\n",
    "      - n_bin_range: number of bin required\n",
    "    return: a data frame with the newly binned column  \n",
    "    '''\n",
    "    # make bins and bin labels\n",
    "    bin_ranges = np.linspace(0, df[col_name].max(), n_bin_range+1)\n",
    "    bin_names = range(1, n_bin_range+1)\n",
    "    \n",
    "    # perform the binning\n",
    "    new_col_name = col_name + '_bin'\n",
    "    df[new_col_name] = pd.cut(np.array(df[col_name]), \n",
    "                              bins=bin_ranges, \n",
    "                              labels=bin_names)\n",
    "    return df"
   ]
  },
  {
   "cell_type": "code",
   "execution_count": null,
   "metadata": {},
   "outputs": [],
   "source": [
    "airport_count = make_bin_column(airport_count, 'total_flights', 5)"
   ]
  },
  {
   "cell_type": "code",
   "execution_count": null,
   "metadata": {},
   "outputs": [],
   "source": [
    "# merge the encoding with origin airport\n",
    "airport_count.rename(columns={'airport_id': 'origin_airport_id'}, inplace=True)\n",
    "airport_count.rename(columns={'total_flights_bin': 'origin_total_flights_bin'}, inplace=True)\n",
    "df = df.merge(airport_count, on='origin_airport_id')\n",
    "df.drop(columns='total_flights', axis=1, inplace=True)\n",
    "\n",
    "# merge the encoding with destination airport\n",
    "airport_count.rename(columns={'origin_airport_id': 'dest_airport_id'}, inplace=True)\n",
    "airport_count.rename(columns={'origin_total_flights_bin': 'dest_total_flights_bin'}, inplace=True)\n",
    "df = df.merge(airport_count, on='dest_airport_id')\n",
    "df.drop(columns='total_flights', axis=1, inplace=True)"
   ]
  },
  {
   "cell_type": "code",
   "execution_count": null,
   "metadata": {},
   "outputs": [],
   "source": [
    "df.head()"
   ]
  },
  {
   "cell_type": "code",
   "execution_count": null,
   "metadata": {},
   "outputs": [],
   "source": [
    "# PLOT AIRPORT FLIGHT VOLUME\n",
    "\n",
    "import matplotlib.pyplot as plt\n",
    "\n",
    "x = top_airport_counts.airport_id\n",
    "\n",
    "y = top_airport_counts.total_flights\n",
    "\n",
    "fig, ax = plt.subplots( figsize = (10,10))\n",
    "\n",
    "ax.bar(x,y)\n",
    "ax.set_ylabel('Total Number of Flights per Airport', fontsize=12)\n",
    "ax.set_xlabel('Airport', fontsize=12)\n",
    "ax.set_title('Number of Flights', fontsize=20, y=1.05)\n",
    "\n",
    "plt.show()\n",
    "\n",
    "# Can split into 6 teirs as well or qcut"
   ]
  },
  {
   "cell_type": "markdown",
   "metadata": {},
   "source": [
    "#### **Task 10**: Do bigger delays lead to bigger fuel comsumption per passenger? \n",
    "We need to do four things to answer this as accurate as possible:\n",
    "- Find out average monthly delay per air carrier (monthly delay is sum of all delays in 1 month)\n",
    "- Find out distance covered monthly by different air carriers\n",
    "- Find out number of passengers that were carried by different air carriers\n",
    "- Find out total fuel comsumption per air carrier.\n",
    "\n",
    "Use this information to get the average fuel comsumption per passenger per km. Is this higher for the airlines with bigger average delays?"
   ]
  },
  {
   "cell_type": "code",
   "execution_count": null,
   "metadata": {},
   "outputs": [],
   "source": []
  },
  {
   "cell_type": "code",
   "execution_count": null,
   "metadata": {},
   "outputs": [],
   "source": []
  },
  {
   "cell_type": "markdown",
   "metadata": {},
   "source": [
    "#### Extra Task: Cities "
   ]
  },
  {
   "cell_type": "code",
   "execution_count": null,
   "metadata": {},
   "outputs": [],
   "source": [
    "# CALCULATE FLIGHT COUNTS CITY  - run Task 6 first to split out city columns\n",
    "city_count_orig = df[['origin_city', 'index']].groupby('origin_city', as_index=False).count().sort_values(by='index')\n",
    "city_count_dest = df[['dest_city', 'index']].groupby('dest_city', as_index=False).count().sort_values(by='index')\n",
    "city_count= city_count_orig.merge(city_count_dest, left_on='origin_city', right_on='dest_city')\n",
    "\n",
    "city_count['total_flights'] = city_count['index_x']+city_count['index_y']\n",
    "city_count.rename(columns = {'origin_city': 'city'}, inplace=True)\n",
    "city_count.drop(['index_x', 'dest_city', 'index_y'], axis=1, inplace=True)\n",
    "\n",
    "city_count= city_count.sort_values(by='total_flights', ascending=False)\n",
    "city_count"
   ]
  },
  {
   "cell_type": "code",
   "execution_count": null,
   "metadata": {},
   "outputs": [],
   "source": [
    "# PLOT CITY FLIGHT VOLUME \n",
    "top_city_count= city_count.head(20)\n",
    "import matplotlib.pyplot as plt\n",
    "\n",
    "x = top_city_count.city\n",
    "y = top_city_count.total_flights\n",
    "\n",
    "fig, ax = plt.subplots( figsize = (10,10))\n",
    "\n",
    "ax.bar(x,y)\n",
    "ax.set_ylabel('Total Number of Flights per City', fontsize=12)\n",
    "ax.set_xlabel('City', fontsize=12)\n",
    "ax.set_title('Number of Flights', fontsize=20, y=1.05)\n",
    "plt.xticks(rotation = 90)\n",
    "plt.show()\n",
    "\n",
    "# Can split into 6 teirs as well or qcut"
   ]
  },
  {
   "cell_type": "code",
   "execution_count": null,
   "metadata": {},
   "outputs": [],
   "source": []
  }
 ],
 "metadata": {
  "kernelspec": {
   "display_name": "Python 3 (ipykernel)",
   "language": "python",
   "name": "python3"
  },
  "language_info": {
   "codemirror_mode": {
    "name": "ipython",
    "version": 3
   },
   "file_extension": ".py",
   "mimetype": "text/x-python",
   "name": "python",
   "nbconvert_exporter": "python",
   "pygments_lexer": "ipython3",
   "version": "3.8.11"
  },
  "toc": {
   "base_numbering": 1,
   "nav_menu": {},
   "number_sections": true,
   "sideBar": true,
   "skip_h1_title": false,
   "title_cell": "Table of Contents",
   "title_sidebar": "Contents",
   "toc_cell": false,
   "toc_position": {},
   "toc_section_display": true,
   "toc_window_display": false
  },
  "varInspector": {
   "cols": {
    "lenName": 16,
    "lenType": 16,
    "lenVar": 40
   },
   "kernels_config": {
    "python": {
     "delete_cmd_postfix": "",
     "delete_cmd_prefix": "del ",
     "library": "var_list.py",
     "varRefreshCmd": "print(var_dic_list())"
    },
    "r": {
     "delete_cmd_postfix": ") ",
     "delete_cmd_prefix": "rm(",
     "library": "var_list.r",
     "varRefreshCmd": "cat(var_dic_list()) "
    }
   },
   "types_to_exclude": [
    "module",
    "function",
    "builtin_function_or_method",
    "instance",
    "_Feature"
   ],
   "window_display": false
  }
 },
 "nbformat": 4,
 "nbformat_minor": 4
}
