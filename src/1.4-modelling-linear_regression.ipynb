{
 "cells": [
  {
   "cell_type": "markdown",
   "id": "d762ca93-c9bb-4d0a-8e0c-3d60c23cfcd6",
   "metadata": {},
   "source": [
    "## Linear Regression \n",
    "\n",
    "This model was used for a baseline and helped us in the feature selection process. This one is trained with the final training set.from sklearn.ensemble import RandomForestRegressor"
   ]
  },
  {
   "cell_type": "code",
   "execution_count": null,
   "id": "ff4a62a7-1d7f-4763-89af-6ab99d8bfe62",
   "metadata": {},
   "outputs": [],
   "source": [
    "from sklearn.ensemble import LinearRegression\n",
    "\n",
    "from sklearn.model_selection import train_test_split\n",
    "from sklearn.model_selection import GridSearchCV\n",
    "from sklearn.metrics import r2_score, mean_squared_error, mean_absolute_error\n",
    "\n",
    "import pandas as pd\n",
    "import numpy as np\n",
    "\n",
    "import pickle"
   ]
  },
  {
   "cell_type": "code",
   "execution_count": null,
   "id": "b5771239-6b40-4a72-883d-dbbe0a2b2535",
   "metadata": {},
   "outputs": [],
   "source": [
    "# get training data\n",
    "df = pd.read_csv('../data/encoded_training_data.csv')"
   ]
  },
  {
   "cell_type": "code",
   "execution_count": null,
   "id": "d63f440c-d92d-4bbe-a857-a6940a44111e",
   "metadata": {},
   "outputs": [],
   "source": [
    "# test train fit\n",
    "y = df.arr_delay.to_numpy()\n",
    "X = df.drop(columns=['arr_delay']).to_numpy()\n",
    "X_train, X_test, y_train, y_test = train_test_split(X, y, test_size=0.2, random_state=88)\n",
    "\n",
    "# fit model\n",
    "lr = LinearRegression()\n",
    "lr.fit(X_train, y_train)\n",
    "\n",
    "# Save pickle file\n",
    "model = lr\n",
    "filename = '../model/linear_regression.pkl'\n",
    "pickle.dump(model, open(filename, 'wb'))\n",
    "\n",
    "y_pred = lr.predict(X_test)\n",
    "\n",
    "r2 = r2_score(y_test, y_pred)\n",
    "MSE = mean_squared_error(y_test,y_pred) \n",
    "RMSE = mean_squared_error(y_test,y_pred,squared=False)\n",
    "MAE = mean_absolute_error(y_test,y_pred)\n",
    "\n",
    "print(f' r2: {r2}\\n MSE: {MSE}\\n MAE: {MAE}\\n')"
   ]
  },
  {
   "cell_type": "code",
   "execution_count": null,
   "id": "16b87f9f-58a2-46a8-9792-e60d531dae4b",
   "metadata": {},
   "outputs": [],
   "source": [
    "# kfold\n",
    "lm = LinearRegression()\n",
    "folds = KFold(n_splits = 5, shuffle = True, random_state = 100)\n",
    "scores = cross_val_score(lm, X_train, y_train, scoring='r2', cv=folds)\n",
    "scores   "
   ]
  },
  {
   "cell_type": "code",
   "execution_count": null,
   "id": "a43abe61-4c43-42ac-99e1-f6b47641dbee",
   "metadata": {},
   "outputs": [],
   "source": [
    "# or MSE\n",
    "scores = cross_val_score(lm, X_train, y_train, scoring='neg_mean_squared_error', cv=5)\n",
    "scores"
   ]
  }
 ],
 "metadata": {
  "kernelspec": {
   "display_name": "bootcamp_env",
   "language": "python",
   "name": "bootcamp_env"
  },
  "language_info": {
   "codemirror_mode": {
    "name": "ipython",
    "version": 3
   },
   "file_extension": ".py",
   "mimetype": "text/x-python",
   "name": "python",
   "nbconvert_exporter": "python",
   "pygments_lexer": "ipython3",
   "version": "3.8.5"
  }
 },
 "nbformat": 4,
 "nbformat_minor": 5
}
