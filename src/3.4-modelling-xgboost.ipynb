{
 "cells": [
  {
   "cell_type": "markdown",
   "id": "d026d6d2",
   "metadata": {},
   "source": [
    "# XGBoost Model"
   ]
  },
  {
   "cell_type": "markdown",
   "id": "029e6b46",
   "metadata": {},
   "source": [
    "## Import modules"
   ]
  },
  {
   "cell_type": "code",
   "execution_count": 1,
   "id": "7cd1b53b-9c2b-4af8-aee4-cc933a0a5096",
   "metadata": {},
   "outputs": [],
   "source": [
    "import numpy as np\n",
    "import pandas as pd\n",
    "import sklearn\n",
    "import pickle\n",
    "\n",
    "from sklearn.model_selection import train_test_split\n",
    "from sklearn.model_selection import cross_validate\n",
    "from sklearn.model_selection import KFold\n",
    "from sklearn.model_selection import cross_val_score\n",
    "from sklearn.model_selection import GridSearchCV\n",
    "from sklearn.preprocessing import PolynomialFeatures\n",
    "from sklearn.model_selection import GridSearchCV\n",
    "from sklearn.metrics import mean_squared_error, r2_score, mean_absolute_error\n",
    "\n",
    "import xgboost as xgb"
   ]
  },
  {
   "cell_type": "markdown",
   "id": "26c1c4e8",
   "metadata": {},
   "source": [
    "# Load the data set"
   ]
  },
  {
   "cell_type": "code",
   "execution_count": 2,
   "id": "ae238814",
   "metadata": {},
   "outputs": [],
   "source": [
    "df = pd.read_csv('../data/encoded_training_data_v7.csv')"
   ]
  },
  {
   "cell_type": "markdown",
   "id": "d4fcd3e5",
   "metadata": {},
   "source": [
    "## Train Test Split"
   ]
  },
  {
   "cell_type": "code",
   "execution_count": 3,
   "id": "09a9f689",
   "metadata": {},
   "outputs": [],
   "source": [
    "# convert to numpy array\n",
    "y = df.arr_delay.to_numpy()\n",
    "X = df.drop(columns=['arr_delay']).to_numpy()\n",
    "\n",
    "# train test split\n",
    "X_train, X_test, y_train, y_test = train_test_split(X, y, test_size=0.20)\n"
   ]
  },
  {
   "cell_type": "markdown",
   "id": "217dd449",
   "metadata": {},
   "source": [
    "## Grid Search"
   ]
  },
  {
   "cell_type": "code",
   "execution_count": 1,
   "id": "dada4aec",
   "metadata": {},
   "outputs": [],
   "source": [
    "# convert the format\n",
    "data_dmatrix = xgb.DMatrix(data=X_train, label=y_train)\n",
    "\n",
    "# instantiate a xgboost object\n",
    "xgb_estimator = xgb.XGBRegressor()\n",
    "\n",
    "# setting parameters\n",
    "params = {\n",
    "#        'learning_rate': [0.4],\n",
    "#        'max_depth': [8],\n",
    "#        'alpha': [67],\n",
    "#        'n_estimators': [210],\n",
    "#        'colsample_bytree': [0.75],\n",
    "#        'reg_lambda': [47],\n",
    "#        'subsample': [0.85],\n",
    "    \n",
    "#     'learning_rate': np.arange(0.39, 0.41, 0.05),\n",
    "#     'max_depth': np.arange(2, 7, 1),\n",
    "#     'alpha': np.arange(70, 75, 1),\n",
    "#     'n_estimators': np.arange(110, 240, 100),\n",
    "#     'colsample_bytree': np.arange(0.4, 0.6, 0.1),\n",
    "#     'reg_lambda': np.arange(46, 47, 0.2),\n",
    "#     'subsample': np.arange(0.5, 0.8, 0.1)\n",
    "    }\n",
    "\n",
    "scorers = ['r2']  # setting the metrics \n",
    "\n",
    "# perform the search\n",
    "grid_search_xg = GridSearchCV(xgb_estimator, \n",
    "                              param_grid=params, \n",
    "                              cv=5, \n",
    "                              n_jobs=-1, \n",
    "                              error_score='raise', \n",
    "                              scoring=scorers,\n",
    "                              refit='r2',\n",
    "                              verbose=True\n",
    "                              )\n",
    "# fit the model\n",
    "grid_search_xg.fit(X_train, y_train)\n",
    "\n",
    "# display the training results\n",
    "print('\\nTRAINING RESULTS: \\n')\n",
    "print('Best Training Score: ', grid_search_xg.best_score_, '\\n')\n",
    "print('Best Training Params: ', grid_search_xg.best_params_, '\\n')\n",
    "\n",
    "# Perform the test with the model\n",
    "# predict the test set\n",
    "y_pred = grid_search_xg.predict(X_test)\n",
    "\n",
    "# display the test results\n",
    "print('\\nTESTING RESULTS: \\n')\n",
    "print(f'MSE(test): {mean_squared_error(y_test, y_pred)}\\n')\n",
    "print(f'R2(test): {r2_score(y_test, y_pred)}\\n')\n",
    "print(f'MAE(test): {mean_absolute_error(y_test, y_pred)}')"
   ]
  },
  {
   "cell_type": "markdown",
   "id": "1db19ffc",
   "metadata": {},
   "source": [
    "## Final Model"
   ]
  },
  {
   "cell_type": "code",
   "execution_count": null,
   "id": "06a2219b",
   "metadata": {},
   "outputs": [],
   "source": [
    "\n",
    "data_dmatrix = xgb.DMatrix(data=X_train, label=y_train)\n",
    "\n",
    "# instantiate an object\n",
    "xgb_reg = xgb.XGBRegressor(objective = 'reg:squarederror',\n",
    "                           max_depth = 8,\n",
    "                           learning_rate = 0.40,\n",
    "                           alpha = 67,  \n",
    "                           n_estimators = 210,\n",
    "                           colsample_bytree = 0.75,\n",
    "                           reg_lambda = 47                           \n",
    "                          )\n",
    "\n",
    "\n",
    "# fit and predict\n",
    "xgb_reg.fit(X_train, y_train)\n",
    "y_pred = xgb_reg.predict(X_test)\n",
    "\n",
    "print(f'MSE(test): {mean_squared_error(y_test, y_pred)}')\n",
    "print(f'R2(test): {r2_score(y_test, y_pred)}') \n",
    "print(f'MAE(test): {mean_absolute_error(y_test, y_pred)}')"
   ]
  },
  {
   "cell_type": "markdown",
   "id": "cc040b11",
   "metadata": {},
   "source": [
    "## Result"
   ]
  },
  {
   "cell_type": "markdown",
   "id": "70080b42",
   "metadata": {},
   "source": [
    "```\n",
    "TRAINING RESULTS: \n",
    "\n",
    "Best Training Score:  0.12707881846818264 \n",
    "\n",
    "Best Training Params:  {'alpha': 67, 'colsample_bytree': 0.75, 'learning_rate': 0.4, 'max_depth': 8, 'n_estimators': 210, 'reg_lambda': 47} \n",
    "\n",
    "\n",
    "TESTING RESULTS: \n",
    "\n",
    "MSE(test): 256.0030885554617\n",
    "\n",
    "R2(test): 0.1387974194963002\n",
    "\n",
    "MAE(test): 12.371004241235651\n",
    "```"
   ]
  },
  {
   "cell_type": "markdown",
   "id": "c7b9888b",
   "metadata": {},
   "source": [
    "## Save the Model"
   ]
  },
  {
   "cell_type": "code",
   "execution_count": null,
   "id": "5d8806fa",
   "metadata": {},
   "outputs": [],
   "source": [
    "pickle.dump(xgb_reg, open('xgboost_regressor_flight_delay_prediction.pkl', 'wb'))"
   ]
  },
  {
   "cell_type": "code",
   "execution_count": null,
   "id": "eb94f593",
   "metadata": {},
   "outputs": [],
   "source": []
  }
 ],
 "metadata": {
  "kernelspec": {
   "display_name": "Python 3",
   "language": "python",
   "name": "python3"
  },
  "language_info": {
   "codemirror_mode": {
    "name": "ipython",
    "version": 3
   },
   "file_extension": ".py",
   "mimetype": "text/x-python",
   "name": "python",
   "nbconvert_exporter": "python",
   "pygments_lexer": "ipython3",
   "version": "3.8.5"
  }
 },
 "nbformat": 4,
 "nbformat_minor": 5
}
