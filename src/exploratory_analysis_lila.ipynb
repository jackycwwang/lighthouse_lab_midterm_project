{
 "cells": [
  {
   "cell_type": "markdown",
   "metadata": {},
   "source": [
    "## Exploratory Data Analysis\n",
    "\n",
    "Use this notebook to get familiar with the datasets we have. There is 10 questions we need to answer during the EDA.\n",
    "\n",
    "\n",
    "We shouldn't limit our EDA to these 10 questions. Let's be creative :)."
   ]
  },
  {
   "cell_type": "code",
   "execution_count": 4,
   "metadata": {},
   "outputs": [],
   "source": [
    "import numpy as np\n",
    "import pandas as pd\n",
    "import seaborn as sns\n",
    "import matplotlib.pyplot as plt"
   ]
  },
  {
   "cell_type": "code",
   "execution_count": 5,
   "metadata": {},
   "outputs": [],
   "source": [
    "df = pd.read_csv('flights_samp.csv')"
   ]
  },
  {
   "cell_type": "code",
   "execution_count": null,
   "metadata": {},
   "outputs": [],
   "source": []
  },
  {
   "cell_type": "code",
   "execution_count": null,
   "metadata": {},
   "outputs": [],
   "source": []
  },
  {
   "cell_type": "markdown",
   "metadata": {},
   "source": [
    "#### **Task 1**: Test the hypothesis that the delay is from Normal distribution. and that **mean** of the delay is 0. Be careful about the outliers."
   ]
  },
  {
   "cell_type": "code",
   "execution_count": 8,
   "metadata": {},
   "outputs": [
    {
     "data": {
      "text/plain": [
       "0       -6.0\n",
       "1       -1.0\n",
       "2        6.0\n",
       "3       -3.0\n",
       "4       16.0\n",
       "        ... \n",
       "4995    -1.0\n",
       "4996   -10.0\n",
       "4997    -6.0\n",
       "4998    -6.0\n",
       "4999    12.0\n",
       "Name: dep_delay, Length: 5000, dtype: float64"
      ]
     },
     "execution_count": 8,
     "metadata": {},
     "output_type": "execute_result"
    }
   ],
   "source": [
    "df.dep_delay"
   ]
  },
  {
   "cell_type": "code",
   "execution_count": 31,
   "metadata": {},
   "outputs": [
    {
     "data": {
      "image/png": "[encoded data removed]",
      "text/plain": [
       "<Figure size 432x288 with 1 Axes>"
      ]
     },
     "metadata": {
      "needs_background": "light"
     },
     "output_type": "display_data"
    }
   ],
   "source": [
    "plt.hist(df.arr_delay, bins=np.arange(-30,90, 1.6));"
   ]
  },
  {
   "cell_type": "code",
   "execution_count": 3,
   "metadata": {},
   "outputs": [],
   "source": [
    "col_index_drop = df.isnull().sum() / df.shape[0] > 0.5\n",
    "col_to_drop = np.append(df.columns[col_index_drop], ['index', 'dup', 'tail_num', 'crs_elapsed_time'])"
   ]
  },
  {
   "cell_type": "code",
   "execution_count": 4,
   "metadata": {},
   "outputs": [
    {
     "data": {
      "text/plain": [
       "array(['cancellation_code', 'carrier_delay', 'weather_delay', 'nas_delay',\n",
       "       'security_delay', 'late_aircraft_delay', 'first_dep_time',\n",
       "       'total_add_gtime', 'longest_add_gtime', 'no_name', 'index', 'dup',\n",
       "       'tail_num', 'crs_elapsed_time'], dtype=object)"
      ]
     },
     "execution_count": 4,
     "metadata": {},
     "output_type": "execute_result"
    }
   ],
   "source": [
    "col_to_drop"
   ]
  },
  {
   "cell_type": "code",
   "execution_count": 5,
   "metadata": {},
   "outputs": [],
   "source": [
    "df = df.drop(columns=col_to_drop, axis=1)"
   ]
  },
  {
   "cell_type": "code",
   "execution_count": 6,
   "metadata": {},
   "outputs": [
    {
     "data": {
      "text/plain": [
       "Index(['fl_date', 'mkt_unique_carrier', 'branded_code_share', 'mkt_carrier',\n",
       "       'mkt_carrier_fl_num', 'op_unique_carrier', 'op_carrier_fl_num',\n",
       "       'origin_airport_id', 'origin', 'origin_city_name', 'dest_airport_id',\n",
       "       'dest', 'dest_city_name', 'crs_dep_time', 'dep_time', 'dep_delay',\n",
       "       'taxi_out', 'wheels_off', 'wheels_on', 'taxi_in', 'crs_arr_time',\n",
       "       'arr_time', 'arr_delay', 'cancelled', 'diverted', 'actual_elapsed_time',\n",
       "       'air_time', 'flights', 'distance'],\n",
       "      dtype='object')"
      ]
     },
     "execution_count": 6,
     "metadata": {},
     "output_type": "execute_result"
    }
   ],
   "source": [
    "df.columns"
   ]
  },
  {
   "cell_type": "markdown",
   "metadata": {},
   "source": [
    "#### **Task 2**: Is average/median monthly delay different during the year? If yes, which are months with the biggest delays and what could be the reason?"
   ]
  },
  {
   "cell_type": "code",
   "execution_count": 6,
   "metadata": {},
   "outputs": [
    {
     "data": {
      "text/html": [
       "<div>\n",
       "<style scoped>\n",
       "    .dataframe tbody tr th:only-of-type {\n",
       "        vertical-align: middle;\n",
       "    }\n",
       "\n",
       "    .dataframe tbody tr th {\n",
       "        vertical-align: top;\n",
       "    }\n",
       "\n",
       "    .dataframe thead th {\n",
       "        text-align: right;\n",
       "    }\n",
       "</style>\n",
       "<table border=\"1\" class=\"dataframe\">\n",
       "  <thead>\n",
       "    <tr style=\"text-align: right;\">\n",
       "      <th></th>\n",
       "      <th>index</th>\n",
       "      <th>fl_date</th>\n",
       "      <th>mkt_unique_carrier</th>\n",
       "      <th>branded_code_share</th>\n",
       "      <th>mkt_carrier</th>\n",
       "      <th>mkt_carrier_fl_num</th>\n",
       "      <th>op_unique_carrier</th>\n",
       "      <th>tail_num</th>\n",
       "      <th>op_carrier_fl_num</th>\n",
       "      <th>origin_airport_id</th>\n",
       "      <th>...</th>\n",
       "      <th>carrier_delay</th>\n",
       "      <th>weather_delay</th>\n",
       "      <th>nas_delay</th>\n",
       "      <th>security_delay</th>\n",
       "      <th>late_aircraft_delay</th>\n",
       "      <th>first_dep_time</th>\n",
       "      <th>total_add_gtime</th>\n",
       "      <th>longest_add_gtime</th>\n",
       "      <th>no_name</th>\n",
       "      <th>weekday</th>\n",
       "    </tr>\n",
       "  </thead>\n",
       "  <tbody>\n",
       "    <tr>\n",
       "      <th>0</th>\n",
       "      <td>244649</td>\n",
       "      <td>2019-01-07</td>\n",
       "      <td>AA</td>\n",
       "      <td>AA</td>\n",
       "      <td>AA</td>\n",
       "      <td>362</td>\n",
       "      <td>AA</td>\n",
       "      <td>N161AA</td>\n",
       "      <td>362</td>\n",
       "      <td>12892</td>\n",
       "      <td>...</td>\n",
       "      <td>NaN</td>\n",
       "      <td>NaN</td>\n",
       "      <td>NaN</td>\n",
       "      <td>NaN</td>\n",
       "      <td>NaN</td>\n",
       "      <td>NaN</td>\n",
       "      <td>NaN</td>\n",
       "      <td>NaN</td>\n",
       "      <td>NaN</td>\n",
       "      <td>0</td>\n",
       "    </tr>\n",
       "    <tr>\n",
       "      <th>1</th>\n",
       "      <td>190528</td>\n",
       "      <td>2019-01-04</td>\n",
       "      <td>UA</td>\n",
       "      <td>UA_CODESHARE</td>\n",
       "      <td>UA</td>\n",
       "      <td>3788</td>\n",
       "      <td>ZW</td>\n",
       "      <td>N437AW</td>\n",
       "      <td>3788</td>\n",
       "      <td>13930</td>\n",
       "      <td>...</td>\n",
       "      <td>NaN</td>\n",
       "      <td>NaN</td>\n",
       "      <td>NaN</td>\n",
       "      <td>NaN</td>\n",
       "      <td>NaN</td>\n",
       "      <td>NaN</td>\n",
       "      <td>NaN</td>\n",
       "      <td>NaN</td>\n",
       "      <td>NaN</td>\n",
       "      <td>4</td>\n",
       "    </tr>\n",
       "    <tr>\n",
       "      <th>2</th>\n",
       "      <td>50595</td>\n",
       "      <td>2018-12-29</td>\n",
       "      <td>WN</td>\n",
       "      <td>WN</td>\n",
       "      <td>WN</td>\n",
       "      <td>5741</td>\n",
       "      <td>WN</td>\n",
       "      <td>N7738A</td>\n",
       "      <td>5741</td>\n",
       "      <td>13871</td>\n",
       "      <td>...</td>\n",
       "      <td>NaN</td>\n",
       "      <td>NaN</td>\n",
       "      <td>NaN</td>\n",
       "      <td>NaN</td>\n",
       "      <td>NaN</td>\n",
       "      <td>NaN</td>\n",
       "      <td>NaN</td>\n",
       "      <td>NaN</td>\n",
       "      <td>NaN</td>\n",
       "      <td>5</td>\n",
       "    </tr>\n",
       "    <tr>\n",
       "      <th>3</th>\n",
       "      <td>116214</td>\n",
       "      <td>2019-01-01</td>\n",
       "      <td>WN</td>\n",
       "      <td>WN</td>\n",
       "      <td>WN</td>\n",
       "      <td>1641</td>\n",
       "      <td>WN</td>\n",
       "      <td>N423WN</td>\n",
       "      <td>1641</td>\n",
       "      <td>15304</td>\n",
       "      <td>...</td>\n",
       "      <td>NaN</td>\n",
       "      <td>NaN</td>\n",
       "      <td>NaN</td>\n",
       "      <td>NaN</td>\n",
       "      <td>NaN</td>\n",
       "      <td>NaN</td>\n",
       "      <td>NaN</td>\n",
       "      <td>NaN</td>\n",
       "      <td>NaN</td>\n",
       "      <td>1</td>\n",
       "    </tr>\n",
       "    <tr>\n",
       "      <th>4</th>\n",
       "      <td>134474</td>\n",
       "      <td>2019-01-02</td>\n",
       "      <td>UA</td>\n",
       "      <td>UA_CODESHARE</td>\n",
       "      <td>UA</td>\n",
       "      <td>4233</td>\n",
       "      <td>EV</td>\n",
       "      <td>N14558</td>\n",
       "      <td>4233</td>\n",
       "      <td>11618</td>\n",
       "      <td>...</td>\n",
       "      <td>0.0</td>\n",
       "      <td>0.0</td>\n",
       "      <td>22.0</td>\n",
       "      <td>0.0</td>\n",
       "      <td>0.0</td>\n",
       "      <td>NaN</td>\n",
       "      <td>NaN</td>\n",
       "      <td>NaN</td>\n",
       "      <td>NaN</td>\n",
       "      <td>2</td>\n",
       "    </tr>\n",
       "    <tr>\n",
       "      <th>...</th>\n",
       "      <td>...</td>\n",
       "      <td>...</td>\n",
       "      <td>...</td>\n",
       "      <td>...</td>\n",
       "      <td>...</td>\n",
       "      <td>...</td>\n",
       "      <td>...</td>\n",
       "      <td>...</td>\n",
       "      <td>...</td>\n",
       "      <td>...</td>\n",
       "      <td>...</td>\n",
       "      <td>...</td>\n",
       "      <td>...</td>\n",
       "      <td>...</td>\n",
       "      <td>...</td>\n",
       "      <td>...</td>\n",
       "      <td>...</td>\n",
       "      <td>...</td>\n",
       "      <td>...</td>\n",
       "      <td>...</td>\n",
       "      <td>...</td>\n",
       "    </tr>\n",
       "    <tr>\n",
       "      <th>4995</th>\n",
       "      <td>118168</td>\n",
       "      <td>2019-01-01</td>\n",
       "      <td>DL</td>\n",
       "      <td>DL</td>\n",
       "      <td>DL</td>\n",
       "      <td>2173</td>\n",
       "      <td>DL</td>\n",
       "      <td>N535US</td>\n",
       "      <td>2173</td>\n",
       "      <td>12892</td>\n",
       "      <td>...</td>\n",
       "      <td>NaN</td>\n",
       "      <td>NaN</td>\n",
       "      <td>NaN</td>\n",
       "      <td>NaN</td>\n",
       "      <td>NaN</td>\n",
       "      <td>NaN</td>\n",
       "      <td>NaN</td>\n",
       "      <td>NaN</td>\n",
       "      <td>NaN</td>\n",
       "      <td>1</td>\n",
       "    </tr>\n",
       "    <tr>\n",
       "      <th>4996</th>\n",
       "      <td>306574</td>\n",
       "      <td>2019-01-10</td>\n",
       "      <td>G4</td>\n",
       "      <td>G4</td>\n",
       "      <td>G4</td>\n",
       "      <td>1608</td>\n",
       "      <td>G4</td>\n",
       "      <td>253NV</td>\n",
       "      <td>1608</td>\n",
       "      <td>14082</td>\n",
       "      <td>...</td>\n",
       "      <td>NaN</td>\n",
       "      <td>NaN</td>\n",
       "      <td>NaN</td>\n",
       "      <td>NaN</td>\n",
       "      <td>NaN</td>\n",
       "      <td>NaN</td>\n",
       "      <td>NaN</td>\n",
       "      <td>NaN</td>\n",
       "      <td>NaN</td>\n",
       "      <td>3</td>\n",
       "    </tr>\n",
       "    <tr>\n",
       "      <th>4997</th>\n",
       "      <td>303601</td>\n",
       "      <td>2019-01-10</td>\n",
       "      <td>DL</td>\n",
       "      <td>DL_CODESHARE</td>\n",
       "      <td>DL</td>\n",
       "      <td>3289</td>\n",
       "      <td>9E</td>\n",
       "      <td>N294PQ</td>\n",
       "      <td>3289</td>\n",
       "      <td>11003</td>\n",
       "      <td>...</td>\n",
       "      <td>NaN</td>\n",
       "      <td>NaN</td>\n",
       "      <td>NaN</td>\n",
       "      <td>NaN</td>\n",
       "      <td>NaN</td>\n",
       "      <td>NaN</td>\n",
       "      <td>NaN</td>\n",
       "      <td>NaN</td>\n",
       "      <td>NaN</td>\n",
       "      <td>3</td>\n",
       "    </tr>\n",
       "    <tr>\n",
       "      <th>4998</th>\n",
       "      <td>346537</td>\n",
       "      <td>2019-01-12</td>\n",
       "      <td>AA</td>\n",
       "      <td>AA</td>\n",
       "      <td>AA</td>\n",
       "      <td>2809</td>\n",
       "      <td>AA</td>\n",
       "      <td>N338RS</td>\n",
       "      <td>2809</td>\n",
       "      <td>12953</td>\n",
       "      <td>...</td>\n",
       "      <td>NaN</td>\n",
       "      <td>NaN</td>\n",
       "      <td>NaN</td>\n",
       "      <td>NaN</td>\n",
       "      <td>NaN</td>\n",
       "      <td>NaN</td>\n",
       "      <td>NaN</td>\n",
       "      <td>NaN</td>\n",
       "      <td>NaN</td>\n",
       "      <td>5</td>\n",
       "    </tr>\n",
       "    <tr>\n",
       "      <th>4999</th>\n",
       "      <td>128750</td>\n",
       "      <td>2019-01-02</td>\n",
       "      <td>AA</td>\n",
       "      <td>AA_CODESHARE</td>\n",
       "      <td>AA</td>\n",
       "      <td>5981</td>\n",
       "      <td>YV</td>\n",
       "      <td>N906FJ</td>\n",
       "      <td>5981</td>\n",
       "      <td>11298</td>\n",
       "      <td>...</td>\n",
       "      <td>NaN</td>\n",
       "      <td>NaN</td>\n",
       "      <td>NaN</td>\n",
       "      <td>NaN</td>\n",
       "      <td>NaN</td>\n",
       "      <td>NaN</td>\n",
       "      <td>NaN</td>\n",
       "      <td>NaN</td>\n",
       "      <td>NaN</td>\n",
       "      <td>2</td>\n",
       "    </tr>\n",
       "  </tbody>\n",
       "</table>\n",
       "<p>5000 rows × 44 columns</p>\n",
       "</div>"
      ],
      "text/plain": [
       "       index     fl_date mkt_unique_carrier branded_code_share mkt_carrier  \\\n",
       "0     244649  2019-01-07                 AA                 AA          AA   \n",
       "1     190528  2019-01-04                 UA       UA_CODESHARE          UA   \n",
       "2      50595  2018-12-29                 WN                 WN          WN   \n",
       "3     116214  2019-01-01                 WN                 WN          WN   \n",
       "4     134474  2019-01-02                 UA       UA_CODESHARE          UA   \n",
       "...      ...         ...                ...                ...         ...   \n",
       "4995  118168  2019-01-01                 DL                 DL          DL   \n",
       "4996  306574  2019-01-10                 G4                 G4          G4   \n",
       "4997  303601  2019-01-10                 DL       DL_CODESHARE          DL   \n",
       "4998  346537  2019-01-12                 AA                 AA          AA   \n",
       "4999  128750  2019-01-02                 AA       AA_CODESHARE          AA   \n",
       "\n",
       "      mkt_carrier_fl_num op_unique_carrier tail_num  op_carrier_fl_num  \\\n",
       "0                    362                AA   N161AA                362   \n",
       "1                   3788                ZW   N437AW               3788   \n",
       "2                   5741                WN   N7738A               5741   \n",
       "3                   1641                WN   N423WN               1641   \n",
       "4                   4233                EV   N14558               4233   \n",
       "...                  ...               ...      ...                ...   \n",
       "4995                2173                DL   N535US               2173   \n",
       "4996                1608                G4    253NV               1608   \n",
       "4997                3289                9E   N294PQ               3289   \n",
       "4998                2809                AA   N338RS               2809   \n",
       "4999                5981                YV   N906FJ               5981   \n",
       "\n",
       "      origin_airport_id  ... carrier_delay weather_delay  nas_delay  \\\n",
       "0                 12892  ...           NaN           NaN        NaN   \n",
       "1                 13930  ...           NaN           NaN        NaN   \n",
       "2                 13871  ...           NaN           NaN        NaN   \n",
       "3                 15304  ...           NaN           NaN        NaN   \n",
       "4                 11618  ...           0.0           0.0       22.0   \n",
       "...                 ...  ...           ...           ...        ...   \n",
       "4995              12892  ...           NaN           NaN        NaN   \n",
       "4996              14082  ...           NaN           NaN        NaN   \n",
       "4997              11003  ...           NaN           NaN        NaN   \n",
       "4998              12953  ...           NaN           NaN        NaN   \n",
       "4999              11298  ...           NaN           NaN        NaN   \n",
       "\n",
       "     security_delay late_aircraft_delay  first_dep_time  total_add_gtime  \\\n",
       "0               NaN                 NaN             NaN              NaN   \n",
       "1               NaN                 NaN             NaN              NaN   \n",
       "2               NaN                 NaN             NaN              NaN   \n",
       "3               NaN                 NaN             NaN              NaN   \n",
       "4               0.0                 0.0             NaN              NaN   \n",
       "...             ...                 ...             ...              ...   \n",
       "4995            NaN                 NaN             NaN              NaN   \n",
       "4996            NaN                 NaN             NaN              NaN   \n",
       "4997            NaN                 NaN             NaN              NaN   \n",
       "4998            NaN                 NaN             NaN              NaN   \n",
       "4999            NaN                 NaN             NaN              NaN   \n",
       "\n",
       "      longest_add_gtime  no_name  weekday  \n",
       "0                   NaN      NaN        0  \n",
       "1                   NaN      NaN        4  \n",
       "2                   NaN      NaN        5  \n",
       "3                   NaN      NaN        1  \n",
       "4                   NaN      NaN        2  \n",
       "...                 ...      ...      ...  \n",
       "4995                NaN      NaN        1  \n",
       "4996                NaN      NaN        3  \n",
       "4997                NaN      NaN        3  \n",
       "4998                NaN      NaN        5  \n",
       "4999                NaN      NaN        2  \n",
       "\n",
       "[5000 rows x 44 columns]"
      ]
     },
     "execution_count": 6,
     "metadata": {},
     "output_type": "execute_result"
    }
   ],
   "source": [
    "# We've chosen to take a more narrow sample to closely represent what model will be testing (first week of January, and 5 days on either side - not including Dec 25)\n",
    "# However, the day of week/ holiday phenomenon would be interesting to look at\n",
    "def add_weekday(df):\n",
    "    \"\"\" creates boolean column to indicate day of week \n",
    "        https://pandas.pydata.org/docs/reference/api/pandas.DatetimeIndex.weekday.html\n",
    "        week starts 0 with monday) \"\"\"\n",
    "\n",
    "    df['weekday'] = df['fl_date'].astype('datetime64[ns]')\n",
    "\n",
    "    f = lambda x: x.weekday()     \n",
    "    df['weekday'] = df['weekday'].apply(f).astype('int32')\n",
    "    return df\n",
    "\n",
    "add_weekday(df)"
   ]
  },
  {
   "cell_type": "code",
   "execution_count": 7,
   "metadata": {},
   "outputs": [
    {
     "data": {
      "text/html": [
       "<div>\n",
       "<style scoped>\n",
       "    .dataframe tbody tr th:only-of-type {\n",
       "        vertical-align: middle;\n",
       "    }\n",
       "\n",
       "    .dataframe tbody tr th {\n",
       "        vertical-align: top;\n",
       "    }\n",
       "\n",
       "    .dataframe thead th {\n",
       "        text-align: right;\n",
       "    }\n",
       "</style>\n",
       "<table border=\"1\" class=\"dataframe\">\n",
       "  <thead>\n",
       "    <tr style=\"text-align: right;\">\n",
       "      <th></th>\n",
       "      <th>weekday</th>\n",
       "      <th>avg_arr_delay</th>\n",
       "    </tr>\n",
       "  </thead>\n",
       "  <tbody>\n",
       "    <tr>\n",
       "      <th>0</th>\n",
       "      <td>M</td>\n",
       "      <td>4.451327</td>\n",
       "    </tr>\n",
       "    <tr>\n",
       "      <th>1</th>\n",
       "      <td>Tu</td>\n",
       "      <td>0.657986</td>\n",
       "    </tr>\n",
       "    <tr>\n",
       "      <th>2</th>\n",
       "      <td>W</td>\n",
       "      <td>1.334507</td>\n",
       "    </tr>\n",
       "    <tr>\n",
       "      <th>3</th>\n",
       "      <td>Th</td>\n",
       "      <td>10.921986</td>\n",
       "    </tr>\n",
       "    <tr>\n",
       "      <th>4</th>\n",
       "      <td>F</td>\n",
       "      <td>7.058885</td>\n",
       "    </tr>\n",
       "    <tr>\n",
       "      <th>5</th>\n",
       "      <td>Sa</td>\n",
       "      <td>4.023486</td>\n",
       "    </tr>\n",
       "    <tr>\n",
       "      <th>6</th>\n",
       "      <td>Su</td>\n",
       "      <td>4.179739</td>\n",
       "    </tr>\n",
       "  </tbody>\n",
       "</table>\n",
       "</div>"
      ],
      "text/plain": [
       "  weekday  avg_arr_delay\n",
       "0       M       4.451327\n",
       "1      Tu       0.657986\n",
       "2       W       1.334507\n",
       "3      Th      10.921986\n",
       "4       F       7.058885\n",
       "5      Sa       4.023486\n",
       "6      Su       4.179739"
      ]
     },
     "execution_count": 7,
     "metadata": {},
     "output_type": "execute_result"
    }
   ],
   "source": [
    "# CALCULATE MEAN FLIGHT DELAY PER DAY OF WEEK\n",
    "weekday_mean = df[['weekday', 'arr_delay']]\n",
    "weekday_mean = weekday_mean.groupby(['weekday'], as_index=False).mean()\n",
    "weekday_mean=weekday_mean.rename(columns={'arr_delay': 'avg_arr_delay'})\n",
    "weekday_mean=weekday_mean.replace({0: 'M', 1:'Tu',2:'W',3:'Th',4:'F',5:'Sa',6:'Su'})\n",
    "weekday_mean"
   ]
  },
  {
   "cell_type": "code",
   "execution_count": 8,
   "metadata": {},
   "outputs": [
    {
     "data": {
      "image/png": "[encoded data removed]",
      "text/plain": [
       "<Figure size 360x360 with 1 Axes>"
      ]
     },
     "metadata": {
      "needs_background": "light"
     },
     "output_type": "display_data"
    }
   ],
   "source": [
    "# PLOT WEEKDAY AVG DELAY\n",
    "\n",
    "x = weekday_mean.weekday\n",
    "y = weekday_mean.avg_arr_delay\n",
    "\n",
    "fig, ax = plt.subplots( figsize = (5,5))\n",
    "\n",
    "ax.bar(x,y)\n",
    "ax.set_ylabel('Average flight delay (minutes)', fontsize=12)\n",
    "ax.set_xlabel('', fontsize=12)\n",
    "ax.set_title('Delays per Day of Week', fontsize=20, y=1.05)\n",
    "\n",
    "plt.show()"
   ]
  },
  {
   "cell_type": "code",
   "execution_count": 9,
   "metadata": {},
   "outputs": [
    {
     "data": {
      "text/html": [
       "<div>\n",
       "<style scoped>\n",
       "    .dataframe tbody tr th:only-of-type {\n",
       "        vertical-align: middle;\n",
       "    }\n",
       "\n",
       "    .dataframe tbody tr th {\n",
       "        vertical-align: top;\n",
       "    }\n",
       "\n",
       "    .dataframe thead th {\n",
       "        text-align: right;\n",
       "    }\n",
       "</style>\n",
       "<table border=\"1\" class=\"dataframe\">\n",
       "  <thead>\n",
       "    <tr style=\"text-align: right;\">\n",
       "      <th></th>\n",
       "      <th>weekday</th>\n",
       "      <th>median_arr_delay</th>\n",
       "    </tr>\n",
       "  </thead>\n",
       "  <tbody>\n",
       "    <tr>\n",
       "      <th>0</th>\n",
       "      <td>M</td>\n",
       "      <td>-6.0</td>\n",
       "    </tr>\n",
       "    <tr>\n",
       "      <th>1</th>\n",
       "      <td>Tu</td>\n",
       "      <td>-8.0</td>\n",
       "    </tr>\n",
       "    <tr>\n",
       "      <th>2</th>\n",
       "      <td>W</td>\n",
       "      <td>-5.0</td>\n",
       "    </tr>\n",
       "    <tr>\n",
       "      <th>3</th>\n",
       "      <td>Th</td>\n",
       "      <td>-5.0</td>\n",
       "    </tr>\n",
       "    <tr>\n",
       "      <th>4</th>\n",
       "      <td>F</td>\n",
       "      <td>-5.0</td>\n",
       "    </tr>\n",
       "    <tr>\n",
       "      <th>5</th>\n",
       "      <td>Sa</td>\n",
       "      <td>-7.0</td>\n",
       "    </tr>\n",
       "    <tr>\n",
       "      <th>6</th>\n",
       "      <td>Su</td>\n",
       "      <td>-4.0</td>\n",
       "    </tr>\n",
       "  </tbody>\n",
       "</table>\n",
       "</div>"
      ],
      "text/plain": [
       "  weekday  median_arr_delay\n",
       "0       M              -6.0\n",
       "1      Tu              -8.0\n",
       "2       W              -5.0\n",
       "3      Th              -5.0\n",
       "4       F              -5.0\n",
       "5      Sa              -7.0\n",
       "6      Su              -4.0"
      ]
     },
     "execution_count": 9,
     "metadata": {},
     "output_type": "execute_result"
    }
   ],
   "source": [
    "# CALCULATE MEDIAN FLIGHT DELAY PER DAY OF WEEK\n",
    "weekday_med = df[['weekday', 'arr_delay']]\n",
    "weekday_med = weekday_med.groupby(['weekday'], as_index=False).median()\n",
    "weekday_med=weekday_med.rename(columns={'arr_delay': 'median_arr_delay'})\n",
    "weekday_med=weekday_med.replace({0: 'M', 1:'Tu',2:'W',3:'Th',4:'F',5:'Sa',6:'Su'})\n",
    "weekday_med"
   ]
  },
  {
   "cell_type": "code",
   "execution_count": 10,
   "metadata": {},
   "outputs": [
    {
     "data": {
      "image/png": "[encoded data removed]",
      "text/plain": [
       "<Figure size 360x360 with 1 Axes>"
      ]
     },
     "metadata": {
      "needs_background": "light"
     },
     "output_type": "display_data"
    }
   ],
   "source": [
    "# PLOT WEEKDAY MEDIAN DELAY\n",
    "\n",
    "x = weekday_med.weekday\n",
    "y = weekday_med.median_arr_delay\n",
    "\n",
    "fig, ax = plt.subplots( figsize = (5,5))\n",
    "\n",
    "ax.bar(x,y)\n",
    "ax.set_ylabel('Average flight delay (minutes)', fontsize=12)\n",
    "ax.set_xlabel('', fontsize=12)\n",
    "ax.set_title('Delays per Day of Week', fontsize=20, y=1.05)\n",
    "\n",
    "plt.show()"
   ]
  },
  {
   "cell_type": "code",
   "execution_count": 29,
   "metadata": {},
   "outputs": [],
   "source": [
    "# Interesting - Looks Like theres different factors comming into play here - will plot together... must be a number of outliers affecting the mean"
   ]
  },
  {
   "cell_type": "code",
   "execution_count": 14,
   "metadata": {},
   "outputs": [
    {
     "data": {
      "image/png": "[encoded data removed]",
      "text/plain": [
       "<Figure size 432x288 with 1 Axes>"
      ]
     },
     "metadata": {
      "needs_background": "light"
     },
     "output_type": "display_data"
    }
   ],
   "source": [
    "# PLOT BOTH MEASURES OF MIDDLE TOGETHER\n",
    "\n",
    "X = weekday_mean.weekday\n",
    "y_med = weekday_med.median_arr_delay\n",
    "y_mean = weekday_mean.avg_arr_delay\n",
    "\n",
    "  \n",
    "X_axis = np.arange(len(X))\n",
    "  \n",
    "plt.bar(X_axis - 0.2, y_med, 0.4, label = 'Median')\n",
    "plt.bar(X_axis + 0.2, y_mean, 0.4, label = 'Mean')\n",
    "  \n",
    "plt.xticks(X_axis, X)\n",
    "plt.xlabel(\"Days Of Week\")\n",
    "plt.ylabel(\"Arrival Delay (minutes)\")\n",
    "plt.title(\"Flight Delay Per Day of Week\")\n",
    "plt.legend()\n",
    "plt.show()"
   ]
  },
  {
   "cell_type": "markdown",
   "metadata": {},
   "source": [
    "#### **Task 3**: Does the weather affect the delay? \n",
    "Use the API to pull the weather information for flights. There is no need to get weather for ALL flights. We can choose the right representative sample. Let's focus on four weather types:\n",
    "- sunny\n",
    "- cloudy\n",
    "- rainy\n",
    "- snow.\n",
    "Test the hypothesis that these 4 delays are from the same distribution. If they are not, which ones are significantly different?"
   ]
  },
  {
   "cell_type": "code",
   "execution_count": 3,
   "metadata": {},
   "outputs": [],
   "source": [
    "hhmm = []\n",
    "crs_hm = df.crs_dep_time.astype('str')\n",
    "for t in crs_hm:\n",
    "    if len(t) == 1:\n",
    "        hhmm.append('0' + t + ':00:00')\n",
    "    elif (len(t) == 2) & (t < '24'):\n",
    "        hhmm.append(t + ':00:00')\n",
    "    elif (len(t) == 2) & (t > '24'):\n",
    "        hhmm.append('00:' + t + ':00')\n",
    "    elif len(t) == 3:\n",
    "        hhmm.append('0' + t[0] + ':' + t[1:] + ':00')\n",
    "    else:\n",
    "        hhmm.append(t[:2] + ':' + t[2:] + \":00\")"
   ]
  },
  {
   "cell_type": "code",
   "execution_count": 4,
   "metadata": {},
   "outputs": [],
   "source": [
    "df['crs_dep_time_hhmm'] = hhmm"
   ]
  },
  {
   "cell_type": "code",
   "execution_count": 5,
   "metadata": {},
   "outputs": [
    {
     "data": {
      "text/plain": [
       "0       00:59:00\n",
       "1       21:35:00\n",
       "2       16:40:00\n",
       "3       10:15:00\n",
       "4       18:25:00\n",
       "          ...   \n",
       "4995    11:00:00\n",
       "4996    07:20:00\n",
       "4997    16:46:00\n",
       "4998    19:29:00\n",
       "4999    04:00:00\n",
       "Name: crs_dep_time_hhmm, Length: 5000, dtype: object"
      ]
     },
     "execution_count": 5,
     "metadata": {},
     "output_type": "execute_result"
    }
   ],
   "source": [
    "df['crs_dep_time_hhmm']"
   ]
  },
  {
   "cell_type": "code",
   "execution_count": 6,
   "metadata": {},
   "outputs": [],
   "source": [
    "data_sub = df[['crs_dep_time_hhmm', 'origin_city_name', 'fl_date']].copy()"
   ]
  },
  {
   "cell_type": "code",
   "execution_count": 7,
   "metadata": {},
   "outputs": [],
   "source": [
    "data_sub.loc[:, 'origin_city_name'] = data_sub.loc[:, 'origin_city_name'].str.replace(' ', '')"
   ]
  },
  {
   "cell_type": "code",
   "execution_count": 8,
   "metadata": {},
   "outputs": [
    {
     "data": {
      "text/html": [
       "<div>\n",
       "<style scoped>\n",
       "    .dataframe tbody tr th:only-of-type {\n",
       "        vertical-align: middle;\n",
       "    }\n",
       "\n",
       "    .dataframe tbody tr th {\n",
       "        vertical-align: top;\n",
       "    }\n",
       "\n",
       "    .dataframe thead th {\n",
       "        text-align: right;\n",
       "    }\n",
       "</style>\n",
       "<table border=\"1\" class=\"dataframe\">\n",
       "  <thead>\n",
       "    <tr style=\"text-align: right;\">\n",
       "      <th></th>\n",
       "      <th>crs_dep_time_hhmm</th>\n",
       "      <th>origin_city_name</th>\n",
       "      <th>fl_date</th>\n",
       "    </tr>\n",
       "  </thead>\n",
       "  <tbody>\n",
       "    <tr>\n",
       "      <th>0</th>\n",
       "      <td>00:59:00</td>\n",
       "      <td>LosAngeles,CA</td>\n",
       "      <td>2019-01-07</td>\n",
       "    </tr>\n",
       "    <tr>\n",
       "      <th>1</th>\n",
       "      <td>21:35:00</td>\n",
       "      <td>Chicago,IL</td>\n",
       "      <td>2019-01-04</td>\n",
       "    </tr>\n",
       "    <tr>\n",
       "      <th>2</th>\n",
       "      <td>16:40:00</td>\n",
       "      <td>Omaha,NE</td>\n",
       "      <td>2018-12-29</td>\n",
       "    </tr>\n",
       "    <tr>\n",
       "      <th>3</th>\n",
       "      <td>10:15:00</td>\n",
       "      <td>Tampa,FL</td>\n",
       "      <td>2019-01-01</td>\n",
       "    </tr>\n",
       "    <tr>\n",
       "      <th>4</th>\n",
       "      <td>18:25:00</td>\n",
       "      <td>Newark,NJ</td>\n",
       "      <td>2019-01-02</td>\n",
       "    </tr>\n",
       "  </tbody>\n",
       "</table>\n",
       "</div>"
      ],
      "text/plain": [
       "  crs_dep_time_hhmm origin_city_name     fl_date\n",
       "0          00:59:00    LosAngeles,CA  2019-01-07\n",
       "1          21:35:00       Chicago,IL  2019-01-04\n",
       "2          16:40:00         Omaha,NE  2018-12-29\n",
       "3          10:15:00         Tampa,FL  2019-01-01\n",
       "4          18:25:00        Newark,NJ  2019-01-02"
      ]
     },
     "execution_count": 8,
     "metadata": {},
     "output_type": "execute_result"
    }
   ],
   "source": [
    "data_sub.head()"
   ]
  },
  {
   "cell_type": "code",
   "execution_count": 26,
   "metadata": {},
   "outputs": [],
   "source": [
    "data_temp = data_sub.sample(30)"
   ]
  },
  {
   "cell_type": "code",
   "execution_count": 11,
   "metadata": {},
   "outputs": [],
   "source": [
    "import requests\n",
    "import config as cfg\n",
    "unit_group=\"us\"\n",
    "api_key = cfg.visual_crossing['config/api_key']\n",
    "requestUrl = 'https://weather.visualcrossing.com/VisualCrossingWebServices/rest/services/timeline'"
   ]
  },
  {
   "cell_type": "code",
   "execution_count": 28,
   "metadata": {
    "scrolled": true
   },
   "outputs": [
    {
     "name": "stdout",
     "output_type": "stream",
     "text": [
      "Query Count:  1\n",
      "Query Count:  2\n",
      "Query Count:  3\n",
      "Query Count:  4\n",
      "Query Count:  5\n",
      "Query Count:  6\n",
      "Query Count:  7\n",
      "Query Count:  8\n",
      "Query Count:  9\n",
      "Query Count:  10\n",
      "Query Count:  11\n",
      "Query Count:  12\n",
      "Query Count:  13\n",
      "Query Count:  14\n",
      "Query Count:  15\n",
      "Query Count:  16\n",
      "Query Count:  17\n",
      "Query Count:  18\n",
      "Query Count:  19\n",
      "Query Count:  20\n",
      "Query Count:  21\n",
      "Query Count:  22\n",
      "Query Count:  23\n",
      "Query Count:  24\n",
      "Query Count:  25\n",
      "Query Count:  26\n",
      "Query Count:  27\n",
      "Query Count:  28\n",
      "Query Count:  29\n",
      "Query Count:  30\n"
     ]
    }
   ],
   "source": [
    "weather_dict = {\n",
    "    'conditions':[]\n",
    "}\n",
    "count = 1\n",
    "for row in data_temp.values:\n",
    "    print('Query Count: ', count)\n",
    "    time = row[0]\n",
    "    loc = row[1]\n",
    "    date = row[2]\n",
    "    url = requestUrl + '/' + loc + '/' + date + 'T' + time + '?key=' + api_key      \n",
    "    res = requests.get(url)\n",
    "    if res.status_code == 200:\n",
    "        weather_json = res.json()\n",
    "        try:\n",
    "            condition = weather_json['days'][0]['conditions']\n",
    "        except:\n",
    "            condition = 'NA'\n",
    "        else:        \n",
    "            weather_dict['conditions'].append(condition)\n",
    "    else:\n",
    "        print('Error: ', res.status_code)        \n",
    "    count += 1"
   ]
  },
  {
   "cell_type": "code",
   "execution_count": 29,
   "metadata": {},
   "outputs": [
    {
     "data": {
      "text/plain": [
       "{'conditions': ['NA',\n",
       "  'NA',\n",
       "  'NA',\n",
       "  'NA',\n",
       "  'NA',\n",
       "  'NA',\n",
       "  'NA',\n",
       "  'NA',\n",
       "  'NA',\n",
       "  'NA',\n",
       "  'NA',\n",
       "  'NA',\n",
       "  'NA',\n",
       "  'NA',\n",
       "  'NA',\n",
       "  'NA',\n",
       "  'NA',\n",
       "  'NA',\n",
       "  'NA',\n",
       "  'NA',\n",
       "  'NA',\n",
       "  'NA',\n",
       "  'NA',\n",
       "  'NA',\n",
       "  'NA',\n",
       "  'NA',\n",
       "  'NA',\n",
       "  'NA',\n",
       "  'NA',\n",
       "  'NA']}"
      ]
     },
     "execution_count": 29,
     "metadata": {},
     "output_type": "execute_result"
    }
   ],
   "source": [
    "weather_dict"
   ]
  },
  {
   "cell_type": "markdown",
   "metadata": {},
   "source": [
    "#### **Task 4**: How taxi times changing during the day? Does higher traffic lead to bigger taxi times?"
   ]
  },
  {
   "cell_type": "code",
   "execution_count": 11,
   "metadata": {},
   "outputs": [],
   "source": [
    "def split_time_of_day_departure(df):\n",
    "    \"\"\" takes estimated time of departure and splits in to hours 24 hour clock (local time) \"\"\"\n",
    "    df['dep_hour'] = df['crs_dep_time']\n",
    "    df['dep_hour'] = np.floor(df['dep_hour']/100).astype(\"int\")\n",
    "    return df\n",
    "df = split_time_of_day_departure(df)\n",
    "\n",
    "def split_time_of_day_arrival(df):\n",
    "    \"\"\" takes estimated time of arrival and splits in to hours 24 hour clock (local time) \"\"\"\n",
    "    df['arr_hour'] = df['crs_arr_time']\n",
    "    df['arr_hour'] = np.floor(df['arr_hour']/100).astype(\"int\")\n",
    "    return df\n",
    "df = split_time_of_day_arrival(df)\n",
    "\n"
   ]
  },
  {
   "cell_type": "code",
   "execution_count": null,
   "metadata": {},
   "outputs": [],
   "source": [
    "# sample from diff airports for taxi times"
   ]
  },
  {
   "cell_type": "markdown",
   "metadata": {},
   "source": [
    "#### **Task 5**: What is the average percentage of delays that is already created before departure? (aka are arrival delays caused by departure delays?) Are airlines able to lower the delay during the flights?"
   ]
  },
  {
   "cell_type": "code",
   "execution_count": 37,
   "metadata": {},
   "outputs": [
    {
     "name": "stdout",
     "output_type": "stream",
     "text": [
      " Percentage of flights delayed before departure is 73.64%\n"
     ]
    }
   ],
   "source": [
    "# CALCULATE DIFF BETWEEN ACTUAL DEPARTURE AND SCHEDULED DEPARTURE AND RELATE TO TYPES OF DELAYS - 'dep_delay' column contains this\n",
    "\n",
    "# delayed have positive delay values\n",
    "total_delayed = df[df['arr_delay'] >0].copy()\n",
    "\n",
    "# calculate percentage of departure delays from total delays\n",
    "percentage_dep_delay = total_delayed[total_delayed['dep_delay'] > 0].count()/total_delayed['dep_delay'].count()\n",
    "print(\" Percentage of flights delayed before departure is {:.2%}\".format(percentage_dep_delay['index']))"
   ]
  },
  {
   "cell_type": "code",
   "execution_count": 36,
   "metadata": {},
   "outputs": [
    {
     "name": "stdout",
     "output_type": "stream",
     "text": [
      "Mean difference between departure delay and arrival delay is 5.4 minutes and median is 7.0 minutes, but airlines are able to have negative values indicating they are able to make up time during flights\n"
     ]
    }
   ],
   "source": [
    "# Find diff of dep delay vs arr delay \n",
    "\n",
    "total_delayed['delay_diff'] = total_delayed.dep_delay - total_delayed.arr_delay # if this value is negative, then reduced delay in air\n",
    "total_delayed['delay_diff'].mean()\n",
    "total_delayed['delay_diff'].median()\n",
    "print(f\"Mean difference between departure delay and arrival delay is {dep_delayed['delay_diff'].mean():.2} minutes and median is {dep_delayed['delay_diff'].median()} minutes, but airlines are able to have negative values indicating they are able to make up time during flights\" )"
   ]
  },
  {
   "cell_type": "markdown",
   "metadata": {},
   "source": [
    "#### **Task 6**: How many states cover 50% of US air traffic? "
   ]
  },
  {
   "cell_type": "code",
   "execution_count": 43,
   "metadata": {},
   "outputs": [
    {
     "name": "stdout",
     "output_type": "stream",
     "text": [
      "Number of top trafficed states accounting for 50% of traffic:  8\n"
     ]
    },
    {
     "data": {
      "text/plain": [
       "['CA', 'TX', 'FL', 'IL', 'NY', 'GA', 'NC', 'CO']"
      ]
     },
     "execution_count": 43,
     "metadata": {},
     "output_type": "execute_result"
    }
   ],
   "source": [
    "# SPLIT DATA INTO STATES AND CITIES\n",
    "def split_dest_city_state(df):\n",
    "    \"\"\" separates destination city and states into own columns\"\"\"\n",
    "    df['dest_state'] = df['dest_city_name']\n",
    "    df['dest_city'] = df['dest_city_name']\n",
    "    \n",
    "    f_state= lambda x: x.split(sep=', ')[1]\n",
    "    f_city= lambda x: x.split(sep=', ')[0]\n",
    "\n",
    "    df['dest_state'] = df['dest_state'].apply(f_state)\n",
    "    df['dest_city'] = df['dest_city'].apply(f_city)\n",
    "    return df\n",
    "\n",
    "def split_origin_city_state(df):\n",
    "    \"\"\" separates origin city and states into own columns\"\"\"\n",
    "    df['origin_state'] = df['origin_city_name']\n",
    "    df['origin_city'] = df['origin_city_name']\n",
    "    \n",
    "    f_state= lambda x: x.split(sep=', ')[1]\n",
    "    f_city= lambda x: x.split(sep=', ')[0]\n",
    "\n",
    "    df['origin_state'] = df['origin_state'].apply(f_state)\n",
    "    df['origin_city'] = df['origin_city'].apply(f_city)\n",
    "    return df\n",
    "\n",
    "df = split_dest_city_state(df)\n",
    "df = split_origin_city_state(df)\n",
    "\n",
    "# CALCULATE FLIGHT COUNTS PER STATES\n",
    "state_count_orig = df[['origin_state', 'index']].groupby('origin_state', as_index=False).count().sort_values(by='index')\n",
    "state_count_dest = df[['dest_state', 'index']].groupby('dest_state', as_index=False).count().sort_values(by='index')\n",
    "state_count= state_count_orig.merge(state_count_dest, left_on='origin_state', right_on='dest_state')\n",
    "\n",
    "state_count['total_flights'] = state_count['index_x']+state_count['index_y']\n",
    "state_count.rename(columns = {'origin_state': 'state'}, inplace=True)\n",
    "state_count.drop(['index_x', 'dest_state', 'index_y'], axis=1, inplace=True)\n",
    "\n",
    "state_count= state_count.sort_values(by='total_flights', ascending=False)\n",
    "\n",
    "# CALULATE HOW MANY STATES ACCOUNT FOR 50% OF ALL TRAFFIC IN USA\n",
    "state_list = list(state_count.state)\n",
    "flight_count_list = list(state_count.total_flights)\n",
    "\n",
    "total_flights = state_count.total_flights.sum()\n",
    "total_flights\n",
    "\n",
    "top_state=[]\n",
    "flight_counts=0\n",
    "i=0\n",
    "while flight_counts < total_flights/2:\n",
    "    top_state.append(state_list[i])\n",
    "\n",
    "    flight_counts += flight_count_list[i]\n",
    "    i+=1\n",
    "\n",
    "\n",
    "print(\"Number of top trafficed states accounting for 50% of traffic: \", len(top_state))\n",
    "top_state\n"
   ]
  },
  {
   "cell_type": "code",
   "execution_count": 13,
   "metadata": {},
   "outputs": [
    {
     "data": {
      "image/png": "[encoded data removed]",
      "text/plain": [
       "<Figure size 1440x1080 with 2 Axes>"
      ]
     },
     "metadata": {
      "needs_background": "light"
     },
     "output_type": "display_data"
    }
   ],
   "source": [
    "# PLOT NUMBER OF FLIGHTS PER STATE\n",
    "# import matplotlib\n",
    "import matplotlib.pyplot as plt\n",
    "\n",
    "x1 = state_count_orig['origin_state']\n",
    "x2 = state_count_dest['dest_state']\n",
    "\n",
    "y1 = state_count_orig['index']\n",
    "y2 = state_count_dest['index']\n",
    "\n",
    "fig, [ax1, ax2] = plt.subplots(nrows=1, ncols=2, figsize = (20,15))\n",
    "\n",
    "ax1.barh(x1,y1)\n",
    "ax1.set_ylabel('Number of Flights Outbound per State', fontsize=12)\n",
    "ax1.set_xlabel('State', fontsize=12)\n",
    "ax1.set_title('Number of OUTBOUND Flights STATE', fontsize=20, y=1.05)\n",
    "\n",
    "ax2.barh(x2,y2)\n",
    "ax2.set_ylabel('Number of  Flights Inbound per State', fontsize=12)\n",
    "ax2.set_xlabel('State', fontsize=12)\n",
    "ax2.set_title('Number of INBOUND Flights STATE', fontsize=20, y=1.05)\n",
    "# add legend\n",
    "\n",
    "plt.show()\n",
    "\n",
    "# Can see 3 teirs of aiport size (CA-CO, PA-MD, and VA-and below)\n",
    "# use quantile - qcut 4 try 4 or 10 "
   ]
  },
  {
   "cell_type": "markdown",
   "metadata": {},
   "source": [
    "#### **Task 7**: Test the hypothesis whether planes fly faster when there is the departure delay? "
   ]
  },
  {
   "cell_type": "code",
   "execution_count": null,
   "metadata": {},
   "outputs": [],
   "source": []
  },
  {
   "cell_type": "code",
   "execution_count": null,
   "metadata": {},
   "outputs": [],
   "source": []
  },
  {
   "cell_type": "markdown",
   "metadata": {},
   "source": [
    "#### **Task 8**: When (which hour) do most 'LONG', 'SHORT', 'MEDIUM' haul flights take off?"
   ]
  },
  {
   "cell_type": "code",
   "execution_count": 14,
   "metadata": {},
   "outputs": [
    {
     "data": {
      "text/plain": [
       "array([1, 0, 2])"
      ]
     },
     "execution_count": 14,
     "metadata": {},
     "output_type": "execute_result"
    }
   ],
   "source": [
    "# CREATE HOUR OF DAY AND HAUL TYPE COLUMNS\n",
    "\n",
    "def split_time_of_day_departure(df):\n",
    "    \"\"\" takes estimated time of departure and splits in to hours 24 hour clock (local time) \"\"\"\n",
    "    df['dep_hour'] = df['crs_dep_time']\n",
    "    df['dep_hour'] = np.floor(df['dep_hour']/100).astype(\"int\")\n",
    "    return df\n",
    "  \n",
    "def create_haul_type(df):\n",
    "    \"\"\" adds short:0, mid:1, long:2 range haul types from crs_elapsed_time (scheduled) \"\"\"\n",
    "\n",
    "    df[\"haul_type\"] = df['crs_elapsed_time']\n",
    "    df[\"haul_type\"].mask(df[\"haul_type\"].values < 180, 0, inplace=True)\n",
    "    df[\"haul_type\"].mask((df[\"haul_type\"] >= 180) & (df[\"haul_type\"] < 360), 1, inplace=True)\n",
    "    df[\"haul_type\"].mask((df[\"haul_type\"] >= 360), 2, inplace=True) \n",
    "    df[\"haul_type\"]= df[\"haul_type\"].astype('int')\n",
    "    return df  \n",
    "\n",
    "df = split_time_of_day_departure(df)\n",
    "df = create_haul_type(df)\n",
    "df.haul_type.unique()\n",
    "\n",
    "\n"
   ]
  },
  {
   "cell_type": "code",
   "execution_count": 15,
   "metadata": {},
   "outputs": [],
   "source": [
    "# want departure time for each category - SPLIT APART\n",
    "\n",
    "df_haul_type = df[['haul_type', 'dep_hour', 'index']]\n",
    "df_haul_type = df_haul_type.groupby(['dep_hour','haul_type'], as_index=False).count()\n",
    "\n",
    "short_haul = df_haul_type[df_haul_type.haul_type == 0]\n",
    "med_haul = df_haul_type[df_haul_type.haul_type == 1]\n",
    "long_haul = df_haul_type[df_haul_type.haul_type == 2]"
   ]
  },
  {
   "cell_type": "code",
   "execution_count": 16,
   "metadata": {},
   "outputs": [
    {
     "data": {
      "image/png": "[encoded data removed]",
      "text/plain": [
       "<Figure size 504x504 with 1 Axes>"
      ]
     },
     "metadata": {
      "needs_background": "light"
     },
     "output_type": "display_data"
    }
   ],
   "source": [
    "# PLOT EACH HAUL TYPE TO VISULIZE\n",
    "import matplotlib.pyplot as plt\n",
    "# Long Haul Plot\n",
    "\n",
    "x = long_haul.dep_hour\n",
    "y = long_haul['index']\n",
    "\n",
    "fig, ax = plt.subplots( figsize = (7,7))\n",
    "\n",
    "ax.bar(x,y)\n",
    "ax.set_ylabel('Number of flights departing', fontsize=12)\n",
    "ax.set_xlabel('Hour of Day', fontsize=12)\n",
    "ax.set_title('Long Haul Departure time', fontsize=20, y=1.05)\n",
    "\n",
    "plt.show()"
   ]
  },
  {
   "cell_type": "code",
   "execution_count": 17,
   "metadata": {},
   "outputs": [
    {
     "data": {
      "image/png": "[encoded data removed]",
      "text/plain": [
       "<Figure size 504x504 with 1 Axes>"
      ]
     },
     "metadata": {
      "needs_background": "light"
     },
     "output_type": "display_data"
    }
   ],
   "source": [
    "# Mid Haul Plot\n",
    "\n",
    "x = med_haul.dep_hour\n",
    "y = med_haul['index']\n",
    "\n",
    "fig, ax = plt.subplots( figsize = (7,7))\n",
    "\n",
    "ax.bar(x,y)\n",
    "ax.set_ylabel('Number of flights departing', fontsize=12)\n",
    "ax.set_xlabel('Hour of Day', fontsize=12)\n",
    "ax.set_title('Med Haul Departure time', fontsize=20, y=1.05)\n",
    "\n",
    "plt.show()"
   ]
  },
  {
   "cell_type": "code",
   "execution_count": 18,
   "metadata": {},
   "outputs": [
    {
     "data": {
      "image/png": "[encoded data removed]",
      "text/plain": [
       "<Figure size 504x504 with 1 Axes>"
      ]
     },
     "metadata": {
      "needs_background": "light"
     },
     "output_type": "display_data"
    }
   ],
   "source": [
    "# short Haul Plot\n",
    "\n",
    "x = short_haul.dep_hour\n",
    "y = short_haul['index']\n",
    "\n",
    "fig, ax = plt.subplots( figsize = (7,7))\n",
    "\n",
    "ax.bar(x,y)\n",
    "ax.set_ylabel('Number of flights departing', fontsize=12)\n",
    "ax.set_xlabel('Hour of Day', fontsize=12)\n",
    "ax.set_title('Short Haul Departure time', fontsize=20, y=1.05)\n",
    "\n",
    "plt.show()"
   ]
  },
  {
   "cell_type": "code",
   "execution_count": null,
   "metadata": {},
   "outputs": [],
   "source": [
    "\"\"\" Looks like short haul more uniformly distributed, med haul declines slowly throughout day\n",
    "and long haul is binomially split - which all make sense intuitively \"\"\""
   ]
  },
  {
   "cell_type": "code",
   "execution_count": null,
   "metadata": {},
   "outputs": [],
   "source": [
    "# SEE IF CORRELATION HAUL TYPE AND ARR DELAY"
   ]
  },
  {
   "cell_type": "markdown",
   "metadata": {},
   "source": [
    "#### **Task 9**: Find the top 10 the bussiest airports. Does the biggest number of flights mean that the biggest number of passengers went through the particular airport? How much traffic do these 10 airports cover?"
   ]
  },
  {
   "cell_type": "code",
   "execution_count": 41,
   "metadata": {},
   "outputs": [
    {
     "data": {
      "text/html": [
       "<div>\n",
       "<style scoped>\n",
       "    .dataframe tbody tr th:only-of-type {\n",
       "        vertical-align: middle;\n",
       "    }\n",
       "\n",
       "    .dataframe tbody tr th {\n",
       "        vertical-align: top;\n",
       "    }\n",
       "\n",
       "    .dataframe thead th {\n",
       "        text-align: right;\n",
       "    }\n",
       "</style>\n",
       "<table border=\"1\" class=\"dataframe\">\n",
       "  <thead>\n",
       "    <tr style=\"text-align: right;\">\n",
       "      <th></th>\n",
       "      <th>dest_airport_id</th>\n",
       "      <th>origin_airport_id</th>\n",
       "    </tr>\n",
       "  </thead>\n",
       "  <tbody>\n",
       "    <tr>\n",
       "      <th>0</th>\n",
       "      <td>13930</td>\n",
       "      <td>12892</td>\n",
       "    </tr>\n",
       "    <tr>\n",
       "      <th>1</th>\n",
       "      <td>10469</td>\n",
       "      <td>13930</td>\n",
       "    </tr>\n",
       "    <tr>\n",
       "      <th>2</th>\n",
       "      <td>14107</td>\n",
       "      <td>13871</td>\n",
       "    </tr>\n",
       "    <tr>\n",
       "      <th>3</th>\n",
       "      <td>13495</td>\n",
       "      <td>15304</td>\n",
       "    </tr>\n",
       "    <tr>\n",
       "      <th>4</th>\n",
       "      <td>11278</td>\n",
       "      <td>11618</td>\n",
       "    </tr>\n",
       "    <tr>\n",
       "      <th>...</th>\n",
       "      <td>...</td>\n",
       "      <td>...</td>\n",
       "    </tr>\n",
       "    <tr>\n",
       "      <th>4995</th>\n",
       "      <td>13487</td>\n",
       "      <td>12892</td>\n",
       "    </tr>\n",
       "    <tr>\n",
       "      <th>4996</th>\n",
       "      <td>13230</td>\n",
       "      <td>14082</td>\n",
       "    </tr>\n",
       "    <tr>\n",
       "      <th>4997</th>\n",
       "      <td>10397</td>\n",
       "      <td>11003</td>\n",
       "    </tr>\n",
       "    <tr>\n",
       "      <th>4998</th>\n",
       "      <td>13303</td>\n",
       "      <td>12953</td>\n",
       "    </tr>\n",
       "    <tr>\n",
       "      <th>4999</th>\n",
       "      <td>11413</td>\n",
       "      <td>11298</td>\n",
       "    </tr>\n",
       "  </tbody>\n",
       "</table>\n",
       "<p>5000 rows × 2 columns</p>\n",
       "</div>"
      ],
      "text/plain": [
       "      dest_airport_id  origin_airport_id\n",
       "0               13930              12892\n",
       "1               10469              13930\n",
       "2               14107              13871\n",
       "3               13495              15304\n",
       "4               11278              11618\n",
       "...               ...                ...\n",
       "4995            13487              12892\n",
       "4996            13230              14082\n",
       "4997            10397              11003\n",
       "4998            13303              12953\n",
       "4999            11413              11298\n",
       "\n",
       "[5000 rows x 2 columns]"
      ]
     },
     "execution_count": 41,
     "metadata": {},
     "output_type": "execute_result"
    }
   ],
   "source": [
    "# CALCULATE FLIGHT COUNTS PER AIRPORTS\n",
    "airport_count_orig = df[['origin_airport_id', 'index']].groupby('origin_airport_id', as_index=False).count().sort_values(by='index', ascending = False)\n",
    "airport_count_dest = df[['dest_airport_id', 'index']].groupby('dest_airport_id', as_index=False).count().sort_values(by='index')\n",
    "airport_count= airport_count_orig.merge(airport_count_dest, left_on='origin_airport_id', right_on='dest_airport_id')\n",
    "\n",
    "airport_count['total_flights'] = airport_count['index_x']+airport_count['index_y']\n",
    "airport_count.rename(columns = {'origin_airport_id': 'airport_id'}, inplace=True)\n",
    "airport_count.drop(['index_x', 'dest_airport_id', 'index_y'], axis=1, inplace=True)\n",
    "airport_count.head()\n",
    "\n",
    "df_new = df.copy()\n",
    "# df_new['total_flight_origin'] =\n",
    "df[['dest_airport_id','origin_airport_id']]"
   ]
  },
  {
   "cell_type": "code",
   "execution_count": 42,
   "metadata": {},
   "outputs": [
    {
     "data": {
      "text/html": [
       "<div>\n",
       "<style scoped>\n",
       "    .dataframe tbody tr th:only-of-type {\n",
       "        vertical-align: middle;\n",
       "    }\n",
       "\n",
       "    .dataframe tbody tr th {\n",
       "        vertical-align: top;\n",
       "    }\n",
       "\n",
       "    .dataframe thead th {\n",
       "        text-align: right;\n",
       "    }\n",
       "</style>\n",
       "<table border=\"1\" class=\"dataframe\">\n",
       "  <thead>\n",
       "    <tr style=\"text-align: right;\">\n",
       "      <th></th>\n",
       "      <th>airport_id</th>\n",
       "      <th>total_flights</th>\n",
       "    </tr>\n",
       "  </thead>\n",
       "  <tbody>\n",
       "    <tr>\n",
       "      <th>0</th>\n",
       "      <td>10397</td>\n",
       "      <td>472</td>\n",
       "    </tr>\n",
       "    <tr>\n",
       "      <th>1</th>\n",
       "      <td>13930</td>\n",
       "      <td>448</td>\n",
       "    </tr>\n",
       "    <tr>\n",
       "      <th>2</th>\n",
       "      <td>11292</td>\n",
       "      <td>351</td>\n",
       "    </tr>\n",
       "    <tr>\n",
       "      <th>3</th>\n",
       "      <td>11298</td>\n",
       "      <td>372</td>\n",
       "    </tr>\n",
       "    <tr>\n",
       "      <th>4</th>\n",
       "      <td>11057</td>\n",
       "      <td>314</td>\n",
       "    </tr>\n",
       "  </tbody>\n",
       "</table>\n",
       "</div>"
      ],
      "text/plain": [
       "   airport_id  total_flights\n",
       "0       10397            472\n",
       "1       13930            448\n",
       "2       11292            351\n",
       "3       11298            372\n",
       "4       11057            314"
      ]
     },
     "execution_count": 42,
     "metadata": {},
     "output_type": "execute_result"
    }
   ],
   "source": [
    "airport_count.head()"
   ]
  },
  {
   "cell_type": "code",
   "execution_count": 55,
   "metadata": {},
   "outputs": [
    {
     "data": {
      "text/html": [
       "<div>\n",
       "<style scoped>\n",
       "    .dataframe tbody tr th:only-of-type {\n",
       "        vertical-align: middle;\n",
       "    }\n",
       "\n",
       "    .dataframe tbody tr th {\n",
       "        vertical-align: top;\n",
       "    }\n",
       "\n",
       "    .dataframe thead th {\n",
       "        text-align: right;\n",
       "    }\n",
       "</style>\n",
       "<table border=\"1\" class=\"dataframe\">\n",
       "  <thead>\n",
       "    <tr style=\"text-align: right;\">\n",
       "      <th></th>\n",
       "      <th>airport_id</th>\n",
       "      <th>total_flights</th>\n",
       "    </tr>\n",
       "  </thead>\n",
       "  <tbody>\n",
       "    <tr>\n",
       "      <th>0</th>\n",
       "      <td>10397</td>\n",
       "      <td>472</td>\n",
       "    </tr>\n",
       "    <tr>\n",
       "      <th>1</th>\n",
       "      <td>13930</td>\n",
       "      <td>448</td>\n",
       "    </tr>\n",
       "    <tr>\n",
       "      <th>3</th>\n",
       "      <td>11298</td>\n",
       "      <td>372</td>\n",
       "    </tr>\n",
       "    <tr>\n",
       "      <th>2</th>\n",
       "      <td>11292</td>\n",
       "      <td>351</td>\n",
       "    </tr>\n",
       "    <tr>\n",
       "      <th>4</th>\n",
       "      <td>11057</td>\n",
       "      <td>314</td>\n",
       "    </tr>\n",
       "  </tbody>\n",
       "</table>\n",
       "</div>"
      ],
      "text/plain": [
       "  airport_id  total_flights\n",
       "0      10397            472\n",
       "1      13930            448\n",
       "3      11298            372\n",
       "2      11292            351\n",
       "4      11057            314"
      ]
     },
     "execution_count": 55,
     "metadata": {},
     "output_type": "execute_result"
    }
   ],
   "source": [
    "# CALULATE TOP 10 AIRPORTS\n",
    "top_airport_counts = airport_count.sort_values(by='total_flights', ascending=False).head(150)\n",
    "\n",
    "top_airport_counts.airport_id= top_airport_counts.airport_id.astype('string')\n",
    "top_airport_counts.head()\n",
    "\n",
    "# TRY TO GET HUMAN READABLE AIRPORT CODE\n",
    "# airport_code = []\n",
    "# for i in range(len(top_airport_counts)):\n",
    "#     airport_code.append(df[df['origin_airport_id'] == top_airport_counts.iloc[i].airport_id].origin)\n",
    "# top_airport_counts.airport_code "
   ]
  },
  {
   "cell_type": "code",
   "execution_count": 56,
   "metadata": {},
   "outputs": [
    {
     "data": {
      "image/png": "[encoded data removed]",
      "text/plain": [
       "<Figure size 1440x720 with 1 Axes>"
      ]
     },
     "metadata": {
      "needs_background": "light"
     },
     "output_type": "display_data"
    }
   ],
   "source": [
    "# PLOT AIRPORT FLIGHT VOLUME\n",
    "\n",
    "import matplotlib.pyplot as plt\n",
    "\n",
    "x = top_airport_counts.airport_id\n",
    "\n",
    "y = top_airport_counts.total_flights\n",
    "\n",
    "fig, ax = plt.subplots( figsize = (20,10))\n",
    "\n",
    "ax.bar(x,y)\n",
    "ax.set_ylabel('Total Number of Flights per Airport', fontsize=12)\n",
    "ax.set_xlabel('Airport', fontsize=12)\n",
    "ax.set_title('Number of Flights', fontsize=20, y=1.05)\n",
    "plt.xticks(rotation = 90)\n",
    "plt.show()\n",
    "\n",
    "# Can split into 6 teirs as well or qcut - note this is "
   ]
  },
  {
   "cell_type": "markdown",
   "metadata": {},
   "source": [
    "#### **Task 10**: Do bigger delays lead to bigger fuel comsumption per passenger? \n",
    "We need to do four things to answer this as accurate as possible:\n",
    "- Find out average monthly delay per air carrier (monthly delay is sum of all delays in 1 month)\n",
    "- Find out distance covered monthly by different air carriers\n",
    "- Find out number of passengers that were carried by different air carriers\n",
    "- Find out total fuel comsumption per air carrier.\n",
    "\n",
    "Use this information to get the average fuel comsumption per passenger per km. Is this higher for the airlines with bigger average delays?"
   ]
  },
  {
   "cell_type": "code",
   "execution_count": null,
   "metadata": {},
   "outputs": [],
   "source": []
  },
  {
   "cell_type": "code",
   "execution_count": null,
   "metadata": {},
   "outputs": [],
   "source": []
  },
  {
   "cell_type": "markdown",
   "metadata": {},
   "source": [
    "#### Extra Task: Cities "
   ]
  },
  {
   "cell_type": "code",
   "execution_count": 45,
   "metadata": {},
   "outputs": [
    {
     "data": {
      "text/html": [
       "<div>\n",
       "<style scoped>\n",
       "    .dataframe tbody tr th:only-of-type {\n",
       "        vertical-align: middle;\n",
       "    }\n",
       "\n",
       "    .dataframe tbody tr th {\n",
       "        vertical-align: top;\n",
       "    }\n",
       "\n",
       "    .dataframe thead th {\n",
       "        text-align: right;\n",
       "    }\n",
       "</style>\n",
       "<table border=\"1\" class=\"dataframe\">\n",
       "  <thead>\n",
       "    <tr style=\"text-align: right;\">\n",
       "      <th></th>\n",
       "      <th>city</th>\n",
       "      <th>total_flights</th>\n",
       "    </tr>\n",
       "  </thead>\n",
       "  <tbody>\n",
       "    <tr>\n",
       "      <th>235</th>\n",
       "      <td>Chicago</td>\n",
       "      <td>553</td>\n",
       "    </tr>\n",
       "    <tr>\n",
       "      <th>234</th>\n",
       "      <td>Atlanta</td>\n",
       "      <td>472</td>\n",
       "    </tr>\n",
       "    <tr>\n",
       "      <th>233</th>\n",
       "      <td>New York</td>\n",
       "      <td>382</td>\n",
       "    </tr>\n",
       "    <tr>\n",
       "      <th>231</th>\n",
       "      <td>Dallas/Fort Worth</td>\n",
       "      <td>372</td>\n",
       "    </tr>\n",
       "    <tr>\n",
       "      <th>232</th>\n",
       "      <td>Denver</td>\n",
       "      <td>351</td>\n",
       "    </tr>\n",
       "    <tr>\n",
       "      <th>...</th>\n",
       "      <td>...</td>\n",
       "      <td>...</td>\n",
       "    </tr>\n",
       "    <tr>\n",
       "      <th>25</th>\n",
       "      <td>Twin Falls</td>\n",
       "      <td>2</td>\n",
       "    </tr>\n",
       "    <tr>\n",
       "      <th>26</th>\n",
       "      <td>Toledo</td>\n",
       "      <td>2</td>\n",
       "    </tr>\n",
       "    <tr>\n",
       "      <th>31</th>\n",
       "      <td>Rock Springs</td>\n",
       "      <td>2</td>\n",
       "    </tr>\n",
       "    <tr>\n",
       "      <th>28</th>\n",
       "      <td>Texarkana</td>\n",
       "      <td>2</td>\n",
       "    </tr>\n",
       "    <tr>\n",
       "      <th>0</th>\n",
       "      <td>Aberdeen</td>\n",
       "      <td>2</td>\n",
       "    </tr>\n",
       "  </tbody>\n",
       "</table>\n",
       "<p>236 rows × 2 columns</p>\n",
       "</div>"
      ],
      "text/plain": [
       "                  city  total_flights\n",
       "235            Chicago            553\n",
       "234            Atlanta            472\n",
       "233           New York            382\n",
       "231  Dallas/Fort Worth            372\n",
       "232             Denver            351\n",
       "..                 ...            ...\n",
       "25          Twin Falls              2\n",
       "26              Toledo              2\n",
       "31        Rock Springs              2\n",
       "28           Texarkana              2\n",
       "0             Aberdeen              2\n",
       "\n",
       "[236 rows x 2 columns]"
      ]
     },
     "execution_count": 45,
     "metadata": {},
     "output_type": "execute_result"
    }
   ],
   "source": [
    "# CALCULATE FLIGHT COUNTS CITY  - run Task 6 first to split out city columns\n",
    "city_count_orig = df[['origin_city', 'index']].groupby('origin_city', as_index=False).count().sort_values(by='index')\n",
    "city_count_dest = df[['dest_city', 'index']].groupby('dest_city', as_index=False).count().sort_values(by='index')\n",
    "city_count= city_count_orig.merge(city_count_dest, left_on='origin_city', right_on='dest_city')\n",
    "\n",
    "city_count['total_flights'] = city_count['index_x']+city_count['index_y']\n",
    "city_count.rename(columns = {'origin_city': 'city'}, inplace=True)\n",
    "city_count.drop(['index_x', 'dest_city', 'index_y'], axis=1, inplace=True)\n",
    "\n",
    "city_count= city_count.sort_values(by='total_flights', ascending=False)\n",
    "city_count"
   ]
  },
  {
   "cell_type": "code",
   "execution_count": 48,
   "metadata": {},
   "outputs": [
    {
     "data": {
      "image/png": "[encoded data removed]",
      "text/plain": [
       "<Figure size 720x720 with 1 Axes>"
      ]
     },
     "metadata": {
      "needs_background": "light"
     },
     "output_type": "display_data"
    }
   ],
   "source": [
    "# PLOT CITY FLIGHT VOLUME \n",
    "top_city_count= city_count.head(20)\n",
    "import matplotlib.pyplot as plt\n",
    "\n",
    "x = top_city_count.city\n",
    "y = top_city_count.total_flights\n",
    "\n",
    "fig, ax = plt.subplots( figsize = (10,10))\n",
    "\n",
    "ax.bar(x,y)\n",
    "ax.set_ylabel('Total Number of Flights per City', fontsize=12)\n",
    "ax.set_xlabel('City', fontsize=12)\n",
    "ax.set_title('Number of Flights', fontsize=20, y=1.05)\n",
    "plt.xticks(rotation = 90)\n",
    "plt.show()\n",
    "\n",
    "# Can split into 6 teirs as well or qcut"
   ]
  },
  {
   "cell_type": "code",
   "execution_count": null,
   "metadata": {},
   "outputs": [],
   "source": []
  }
 ],
 "metadata": {
  "kernelspec": {
   "display_name": "bootcamp_env",
   "language": "python",
   "name": "bootcamp_env"
  },
  "language_info": {
   "codemirror_mode": {
    "name": "ipython",
    "version": 3
   },
   "file_extension": ".py",
   "mimetype": "text/x-python",
   "name": "python",
   "nbconvert_exporter": "python",
   "pygments_lexer": "ipython3",
   "version": "3.8.5"
  },
  "toc": {
   "base_numbering": 1,
   "nav_menu": {},
   "number_sections": true,
   "sideBar": true,
   "skip_h1_title": false,
   "title_cell": "Table of Contents",
   "title_sidebar": "Contents",
   "toc_cell": false,
   "toc_position": {},
   "toc_section_display": true,
   "toc_window_display": false
  },
  "varInspector": {
   "cols": {
    "lenName": 16,
    "lenType": 16,
    "lenVar": 40
   },
   "kernels_config": {
    "python": {
     "delete_cmd_postfix": "",
     "delete_cmd_prefix": "del ",
     "library": "var_list.py",
     "varRefreshCmd": "print(var_dic_list())"
    },
    "r": {
     "delete_cmd_postfix": ") ",
     "delete_cmd_prefix": "rm(",
     "library": "var_list.r",
     "varRefreshCmd": "cat(var_dic_list()) "
    }
   },
   "types_to_exclude": [
    "module",
    "function",
    "builtin_function_or_method",
    "instance",
    "_Feature"
   ],
   "window_display": false
  }
 },
 "nbformat": 4,
 "nbformat_minor": 4
}
