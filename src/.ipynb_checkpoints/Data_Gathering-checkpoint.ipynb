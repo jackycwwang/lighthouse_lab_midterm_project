{
 "cells": [
  {
   "cell_type": "code",
   "execution_count": 1,
   "id": "0e973739",
   "metadata": {},
   "outputs": [],
   "source": [
    "import pandas as pd\n",
    "import psycopg2\n",
    "import pandas.io.sql as sqlio\n",
    "\n",
    "import config as cfg"
   ]
  },
  {
   "cell_type": "code",
   "execution_count": 2,
   "id": "9a3ab141-eb1e-4d8b-ac73-f938c5642068",
   "metadata": {},
   "outputs": [],
   "source": [
    "df_fl = pd.read_csv('../data/flights_samp.csv')\n",
    "df_ap = pd.read_csv('../data/airports.csv')"
   ]
  },
  {
   "cell_type": "code",
   "execution_count": 3,
   "id": "16b8c758",
   "metadata": {},
   "outputs": [
    {
     "name": "stdout",
     "output_type": "stream",
     "text": [
      "Database opened successfully\n"
     ]
    }
   ],
   "source": [
    "host= cfg.db['host']\n",
    "port = cfg.db['port']\n",
    "user = cfg.db['user']\n",
    "pwd = cfg.db['pwd']\n",
    "database= cfg.db['database']\n",
    "\n",
    "\n",
    "con = psycopg2.connect(database=database, user=user, password=pwd, host=host, port=port)\n",
    "\n",
    "print(\"Database opened successfully\")"
   ]
  },
  {
   "cell_type": "code",
   "execution_count": 29,
   "id": "c6a9ca9a",
   "metadata": {},
   "outputs": [],
   "source": [
    "sql = '''\n",
    "SELECT * from flights \n",
    "where fl_date >= '2018-12-27' and fl_date <= '2019-01-12';\n",
    "'''\n",
    "\n",
    "# data = sqlio.read_sql_query(sql, con)"
   ]
  },
  {
   "cell_type": "code",
   "execution_count": 31,
   "id": "81525b37",
   "metadata": {},
   "outputs": [],
   "source": [
    "data.to_csv('flights.csv', index=False)"
   ]
  },
  {
   "cell_type": "code",
   "execution_count": 33,
   "id": "a1b07abc",
   "metadata": {},
   "outputs": [],
   "source": [
    "data_samp = data.sample(n = 5000, random_state=0).reset_index()"
   ]
  },
  {
   "cell_type": "code",
   "execution_count": 35,
   "id": "eea963a4",
   "metadata": {},
   "outputs": [],
   "source": [
    "data_samp.to_csv('flights_samp.csv', index=False)"
   ]
  },
  {
   "cell_type": "code",
   "execution_count": 1,
   "id": "e846edc4",
   "metadata": {},
   "outputs": [],
   "source": [
    "def to_hhmmss(df_time_col):\n",
    "    '''\n",
    "    Change the format of the time in hhmm\n",
    "    to hh:mm:ss, where ss is 00 in this case\n",
    "    Input: `df_time_col`: a Pandas Series\n",
    "    Return: a Pandas Series\n",
    "    '''\n",
    "    \n",
    "    hhmm = []\n",
    "    crs_hm = df_time_col.astype('str')\n",
    "    for t in crs_hm:\n",
    "        if len(t) == 1:\n",
    "            hhmm.append('0' + t + ':00:00')\n",
    "        elif (len(t) == 2) & (t < '24'):\n",
    "            hhmm.append(t + ':00:00')\n",
    "        elif (len(t) == 2) & (t > '24'):\n",
    "            hhmm.append('00:' + t + ':00')\n",
    "        elif len(t) == 3:\n",
    "            hhmm.append('0' + t[0] + ':' + t[1:] + ':00')\n",
    "        else:\n",
    "            hhmm.append(t[:2] + ':' + t[2:] + \":00\")\n",
    "    return hhmm"
   ]
  },
  {
   "cell_type": "code",
   "execution_count": null,
   "id": "17366c44-60cd-43b1-8e85-6ba40ddd4ec7",
   "metadata": {},
   "outputs": [],
   "source": [
    "df['crs_dep_time_hhmm'] = to_hhmmss(df.crs_dep_time)"
   ]
  },
  {
   "cell_type": "code",
   "execution_count": null,
   "id": "eb842a5f-629f-4b46-86b4-9ac89a99b9e6",
   "metadata": {},
   "outputs": [],
   "source": [
    "def to_city_state(city_state_col):\n",
    "    '''\n",
    "    Change the format of `city1/city2, state`\n",
    "    to `city1, state` \n",
    "    Input: A Pandas Series\n",
    "    Output: A Pandas Series\n",
    "    '''\n",
    "    return pd.Series(map(lambda x: x[0].split('/')[0] + ',' + x[-1].strip() ,\n",
    "                    city_state_col.str.split(',')))"
   ]
  },
  {
   "cell_type": "code",
   "execution_count": null,
   "id": "08c0e8b7-421d-4268-96ca-f612a7f0222f",
   "metadata": {},
   "outputs": [],
   "source": [
    "df.origin_city_name = to_city_state(df.origin_city_name)"
   ]
  },
  {
   "cell_type": "code",
   "execution_count": null,
   "id": "327287a8-8d60-4dac-b1de-02403517cee7",
   "metadata": {},
   "outputs": [],
   "source": [
    "def request_weather(df):\n",
    "    '''\n",
    "    request weather information\n",
    "    input: a data frame in which\n",
    "        - first column: time \n",
    "        - second column: location\n",
    "        - third column: date\n",
    "    output: a dictionary \n",
    "    '''\n",
    "    unit_group=\"us\"\n",
    "    api_key = cfg.visual_crossing['api_key']\n",
    "    requestUrl = 'https://weather.visualcrossing.com/VisualCrossingWebServices/rest/services/timeline'\n",
    "    weather_dict = { 'conditions': [] }\n",
    "    count = 1\n",
    "    for row in df.values:\n",
    "        print('Query Count: ', count)\n",
    "        time = row[0]\n",
    "        loc = row[1]\n",
    "        date = row[2]\n",
    "        url = requestUrl + '/' + loc + '/' + date + 'T' + time + '?key=' + api_key   \n",
    "        res = requests.get(url)\n",
    "        if res.status_code == 200:\n",
    "            weather_json = res.json()\n",
    "            try:\n",
    "                condition = weather_json['days'][0]['conditions']\n",
    "            except:\n",
    "                condition = 'NA'\n",
    "            else:        \n",
    "                weather_dict['conditions'].append(condition)\n",
    "        else:\n",
    "            weather_dict['conditions'].append('NA')\n",
    "            print('Error: ', res.status_code)    \n",
    "        count += 1\n",
    "    return weather_dict"
   ]
  },
  {
   "cell_type": "code",
   "execution_count": 4,
   "id": "d4c1135b-53ba-45b6-b312-ae95e609b4da",
   "metadata": {},
   "outputs": [],
   "source": []
  },
  {
   "cell_type": "code",
   "execution_count": null,
   "id": "efc7560f-f91f-4b07-9521-35bf648bbb09",
   "metadata": {},
   "outputs": [],
   "source": [
    "key = cfg.rapid_api['key']\n",
    "base_url = \"https://dark-sky.p.rapidapi.com\"\n",
    "url = base_url + '/' + ll + ',' + date + 'T' + time\n",
    "\n",
    "headers = {\n",
    "    'x-rapidapi-host': \"dark-sky.p.rapidapi.com\",\n",
    "    'x-rapidapi-key': key\n",
    "    }\n",
    "\n",
    "response = requests.request(\"GET\", url, headers=headers)\n",
    "\n",
    "print(response.text)"
   ]
  },
  {
   "cell_type": "code",
   "execution_count": null,
   "id": "2dca9de4-54e3-4e10-81e6-91633f5f1533",
   "metadata": {},
   "outputs": [],
   "source": []
  }
 ],
 "metadata": {
  "kernelspec": {
   "display_name": "bootcamp",
   "language": "python",
   "name": "bootcamp"
  },
  "language_info": {
   "codemirror_mode": {
    "name": "ipython",
    "version": 3
   },
   "file_extension": ".py",
   "mimetype": "text/x-python",
   "name": "python",
   "nbconvert_exporter": "python",
   "pygments_lexer": "ipython3",
   "version": "3.8.5"
  }
 },
 "nbformat": 4,
 "nbformat_minor": 5
}
