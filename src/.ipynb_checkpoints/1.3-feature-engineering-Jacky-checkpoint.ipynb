{
 "cells": [
  {
   "cell_type": "markdown",
   "id": "d762ca93-c9bb-4d0a-8e0c-3d60c23cfcd6",
   "metadata": {},
   "source": [
    "## Feature Engineering "
   ]
  },
  {
   "cell_type": "code",
   "execution_count": 74,
   "id": "c6b2d1e8-7fcd-41df-8279-7ad7a6081d3e",
   "metadata": {},
   "outputs": [],
   "source": [
    "import numpy as np\n",
    "import pandas as pd\n",
    "from scipy import stats\n",
    "import modules.help_functions as hf\n",
    "import sklearn\n",
    "from sklearn.preprocessing import StandardScaler\n",
    "from sklearn.preprocessing import MinMaxScaler\n",
    "from sklearn.linear_model import LinearRegression\n",
    "from sklearn.model_selection import train_test_split\n",
    "from sklearn.model_selection import cross_validate\n",
    "from sklearn.model_selection import KFold\n",
    "from sklearn.model_selection import cross_val_score\n",
    "from sklearn.model_selection import GridSearchCV\n",
    "from sklearn.preprocessing import PolynomialFeatures\n",
    "\n",
    "from sklearn.feature_selection import VarianceThreshold\n",
    "from sklearn.feature_selection import RFE\n",
    "\n",
    "import pickle\n",
    "\n",
    "from sklearn.pipeline import make_pipeline\n",
    "import matplotlib.pyplot as plt\n",
    "import seaborn as sns"
   ]
  },
  {
   "cell_type": "code",
   "execution_count": 75,
   "id": "dbb17ee8-0353-44f0-8975-d72d4dd314d4",
   "metadata": {},
   "outputs": [],
   "source": [
    "# read in file\n",
    "df = pd.read_csv('../data/flights.csv')\n",
    "df_delays = hf.get_avg_dest_delay(df, ['carrier_delay', 'weather_delay', 'nas_delay', 'security_delay', 'late_aircraft_delay'])"
   ]
  },
  {
   "cell_type": "code",
   "execution_count": 76,
   "id": "56c2ec26-f7f1-4d14-9f67-28182d3bbf1b",
   "metadata": {},
   "outputs": [],
   "source": [
    "def convert_testtrain_data_to_test_format(df):\n",
    "    \"\"\" Convert our testing data to be in the same format as the data to test (drop columns and reformat date)\"\"\"\n",
    "    \n",
    "    #convert date to datetime with 0's\n",
    "    df.fl_date = (df.fl_date + ' 00:00:00')\n",
    "    pd.to_datetime(df['fl_date'])\n",
    "    \n",
    "    #drop columns not present in test format\n",
    "    df.drop(columns=['dep_time',\n",
    "       'dep_delay', 'taxi_out', 'wheels_off', 'wheels_on', 'taxi_in', 'arr_time', 'cancelled',\n",
    "       'cancellation_code', 'diverted', 'actual_elapsed_time', 'air_time', \n",
    "       'carrier_delay', 'weather_delay', 'nas_delay', 'security_delay',\n",
    "       'late_aircraft_delay', 'first_dep_time', 'total_add_gtime',\n",
    "       'longest_add_gtime','no_name'], inplace = True)\n",
    "    return df\n"
   ]
  },
  {
   "cell_type": "code",
   "execution_count": 77,
   "id": "f530f145-393c-4c98-b130-b111f684dd88",
   "metadata": {},
   "outputs": [],
   "source": [
    "def convert_from_test_format_to_fit_predict_format(df):\n",
    "    \"\"\"Adds in columns for model fitting and converts to numeric/ encoded categorical for ML model\"\"\"\n",
    "    \n",
    "    # Split crs_arr_time and crs_dep_time into hour of day (local)\n",
    "    df = hf.split_time_of_day_departure(df)\n",
    "    df = hf.split_time_of_day_arrival(df)\n",
    "    df.drop(columns=['crs_dep_time', 'crs_arr_time'], inplace=True)\n",
    "    \n",
    "    #take log distance\n",
    "    df['distance_log'] = np.log(df.distance)\n",
    "    df.drop(columns=['distance'], inplace=True)\n",
    "    \n",
    "    # encode hour of day departure\n",
    "    f = lambda x: str(int(np.floor(x)))\n",
    "    df['dep_hour'] = df['dep_hour'].apply(f)\n",
    "    df['arr_hour'] = df['arr_hour'].apply(f)\n",
    "    df = hf.encode_and_bind(df, 'dep_hour')\n",
    "    df = hf.encode_and_bind(df, 'arr_hour')\n",
    " \n",
    "    # Convert fl_date into day of week  # NOTE MAY WANT TO ADD BACK IN MONTH OR JAN 1 days\n",
    "    df = hf.add_weekday(df)\n",
    "    df.drop(columns=['fl_date'], inplace=True)\n",
    "    df = hf.encode_and_bind(df, 'weekday')\n",
    "    \n",
    "    # Add average delays to dest\n",
    "    df = df.merge(df_delays, on='dest', how='left')\n",
    "    \n",
    "    # Split city and state \n",
    "    hf.split_origin_city_state(df)\n",
    "    hf.split_dest_city_state(df)\n",
    "    df.drop(columns=['dest_city_name', 'origin_city_name'], inplace=True)\n",
    "    \n",
    "    # Encode top 10 cities in terms of traffic\n",
    "#     df = hf.make_col_value_qbins(df, 'origin_city', 'origin_city_bin', 10)\n",
    "#     df = hf.make_col_value_qbins(df, 'dest_city', 'dest_city_bin', 10)\n",
    "    \n",
    "    city_list = ['Chicago','Atlanta','New York','Dallas/Fort Worth','Denver','Charlotte','Houston','Washington','Los Angeles','Seattle']    \n",
    "    df.dest_city = np.where(df.dest_city.isin(city_list),df.dest_city, '0')\n",
    "    df.origin_city = np.where(df.origin_city.isin(city_list),df.origin_city, '0')\n",
    "    df = hf.encode_and_bind(df, 'origin_city')\n",
    "    df = hf.encode_and_bind(df, 'dest_city')\n",
    "    df.drop(columns=['dest_city', 'origin_city'], inplace=True)\n",
    "    \n",
    "    #Top 20 airport codes\n",
    "    # DOES AIRPORT TRAFFIC CORRELATED WITH ARR_DELAY?\n",
    "#     df = hf.make_col_value_qbins(df, 'origin', 'origin_bin', 15)\n",
    "#     df = hf.make_col_value_qbins(df, 'dest', 'dest_bin', 15)\n",
    "\n",
    "    top20_airport_code = ['LAX', 'ORD', 'EWR', 'SFO', 'LGA', 'DFW', 'LAS', 'CLT', 'DEN',\n",
    "                      'PHL', 'IAH', 'SEA', 'ATL', 'PHX', 'MCO', 'DTW', 'SLC', 'BOS',\n",
    "                      'JFK', 'MSP']\n",
    "    df.dest = np.where(df.dest.isin(top20_airport_code),df.dest, '0')\n",
    "    df.origin = np.where(df.origin.isin(top20_airport_code),df.origin, '0')\n",
    "    df = hf.encode_and_bind(df, 'dest')\n",
    "    df = hf.encode_and_bind(df, 'origin')\n",
    "    \n",
    "    #REMOVE negative targets (arr_delay - set to zero)\n",
    "#     df.arr_delay = np.where(df.arr_delay >0,df.arr_delay, 0)\n",
    "    \n",
    "    # State - Encode (based on # flights)\n",
    "    # DOES NUMBER OF FLIGHTS IN STATE CORRELATED WITH ARR_DELAY?\n",
    "    state_list = ['CA','TX', 'FL', 'IL', 'NY', 'GA', 'NC', 'CO', 'PA', 'WA']\n",
    "\n",
    "#     df = hf.make_col_value_qbins(df, 'origin_state', 'origin_state_bin', 15)\n",
    "#     df = hf.make_col_value_qbins(df, 'dest_state', 'dest_state_bin', 15)\n",
    "    df.dest_state = np.where(df.dest_state.isin(state_list),df.dest_state, '0')\n",
    "    df.origin_state = np.where(df.origin_state.isin(state_list),df.origin_state, '0')\n",
    "    df = hf.encode_and_bind(df, 'origin_state')\n",
    "    df = hf.encode_and_bind(df, 'dest_state')\n",
    "    df.drop(columns=['dest_state', 'origin_state'], inplace=True)\n",
    "          \n",
    "    # Convert Airline Carrier - Encode \n",
    "    df = hf.encode_and_bind(df, 'mkt_unique_carrier')\n",
    "    df.drop(columns = ['mkt_unique_carrier'], inplace=True)\n",
    "\n",
    "    # Origin Airport - Encode top 10 (rest in 'other') OR BIN according to passenger or flight volume\n",
    "    df = hf.make_col_value_bins(df, 'origin', 'origin_airport_fl_amt_bin', 7) \n",
    "    \n",
    "    \n",
    "    # Dest Airport - Encode top 10 or bin according to passenger of flight volume \n",
    "    df = hf.make_col_value_bins(df, 'dest', 'dest_airport_fl_amt_bin', 7) \n",
    "   \n",
    "    # Flight number ??? # drop for now? \n",
    "    df.drop(columns = ['mkt_carrier_fl_num'], inplace=True)\n",
    "    \n",
    "    # crs_elapsed # USE LONG HAUL SHORT HAUL\n",
    "    df['log_crs_elapsed_time'] = np.log(df.crs_elapsed_time)\n",
    "    df = hf.make_bin_column(df, 'log_crs_elapsed_time', 20) # 8-2/0.3\n",
    "    # crs_elapsed # USE LONG HAUL SHORT HAUL\n",
    "    df['log_crs_elapsed_time'] = np.log(df.crs_elapsed_time)\n",
    "    df = hf.make_bin_column(df, 'log_crs_elapsed_time', 10) # 8-2/0.3\n",
    "    df.log_crs_elapsed_time_bin = df.log_crs_elapsed_time_bin.replace({1:'a', 2: 'b',3:'c',4:'d', 5:'e', 6:'f', 7:'g',8:'h', 9:'i', 10:'j'}) \n",
    "    df = hf.encode_and_bind(df, 'log_crs_elapsed_time_bin')\n",
    "    df.drop(columns = ['crs_elapsed_time','log_crs_elapsed_time', 'log_crs_elapsed_time_bin' ], inplace=True)\n",
    "\n",
    "    # Drop rest\n",
    "    df.drop(columns=['branded_code_share', 'mkt_carrier','op_unique_carrier', 'tail_num', \n",
    "                     'op_carrier_fl_num', 'dep_hour', 'origin_airport_id', 'arr_hour','dest_airport_id',  'dup', 'flights'], errors='ignore', inplace = True)\n",
    "\n",
    "    return df"
   ]
  },
  {
   "cell_type": "code",
   "execution_count": 78,
   "id": "1d9b6a22-8164-4eff-b766-25cabfb70fcc",
   "metadata": {},
   "outputs": [],
   "source": [
    "def load_preprocessed_data():\n",
    "    \"\"\" read in data file, convert to the format the given test data is in and add / format columns per feature engineering \"\"\"\n",
    "   \n",
    "    df = pd.read_csv('../data/flights.csv')\n",
    "    \n",
    "    # remove non-landing flights\n",
    "    df.dropna(subset=['arr_delay'], inplace=True)\n",
    "    \n",
    "#     remove outliers ### IS THIS GOING TO BACKFIRE?\n",
    "#     df_rm = df_rm[(np.abs(stats.zscore(df_rm['arr_delay'])) < 3)]\n",
    "    cols = ['arr_delay'] \n",
    "    Q1 = df[cols].quantile(0.25)\n",
    "    Q3 = df[cols].quantile(0.75)\n",
    "    IQR = Q3 - Q1\n",
    "    df = df[~((df[cols] < (Q1 - 1.5 * IQR)) |(df[cols] > (Q3 + 1.5 * IQR))).any(axis=1)]\n",
    "    \n",
    "    # convert\n",
    "    df = convert_testtrain_data_to_test_format(df)\n",
    "    df = convert_from_test_format_to_fit_predict_format(df)\n",
    "    return df"
   ]
  },
  {
   "cell_type": "code",
   "execution_count": 79,
   "id": "57802728-4cd6-4a5e-8bdd-893e53d5b682",
   "metadata": {},
   "outputs": [],
   "source": [
    "df = load_preprocessed_data()"
   ]
  },
  {
   "cell_type": "markdown",
   "id": "e23285e9-5b67-45c6-b17d-51ae8161bbb5",
   "metadata": {},
   "source": [
    "### Scale"
   ]
  },
  {
   "cell_type": "code",
   "execution_count": 95,
   "id": "2a7e8fb6-fe7b-4d47-981a-70c3bab74812",
   "metadata": {},
   "outputs": [],
   "source": [
    "# list(df.columns)"
   ]
  },
  {
   "cell_type": "code",
   "execution_count": 80,
   "id": "ad6a6ab1-f54b-4d2d-b782-3f1846d42357",
   "metadata": {},
   "outputs": [],
   "source": [
    "# rescale the features\n",
    "# scaler = MinMaxScaler()\n",
    "scaler = StandardScaler()\n",
    "\n",
    "# apply scaler() to all the numeric columns \n",
    "numeric_vars = ['avg_carrier_delay', \n",
    "                 'avg_weather_delay', \n",
    "                 'avg_nas_delay', \n",
    "                 'avg_security_delay', \n",
    "                 'avg_late_aircraft_delay', 'distance_log'\n",
    "                 ]\n",
    "df[numeric_vars] = scaler.fit_transform(df[numeric_vars])\n",
    "# list(df.columns)"
   ]
  },
  {
   "cell_type": "markdown",
   "id": "bfb32053-5a65-4012-9be4-0ea143809e7d",
   "metadata": {},
   "source": [
    "### Remove Highly Correlated Features and small Variance"
   ]
  },
  {
   "cell_type": "code",
   "execution_count": 339,
   "id": "b11b98e7-84c2-490b-aad9-ab74ee3af0d7",
   "metadata": {},
   "outputs": [],
   "source": [
    " def remove_small_variance(x, variance_threshold = 0.1):\n",
    "    # Assumptions - target variable removed, df is numeric\n",
    "    # import:\n",
    "    # from sklearn.feature_selection import VarianceThreshold\n",
    "    vt = VarianceThreshold(variance_threshold)\n",
    "    x_transformed = vt.fit_transform(x)\n",
    "    selected_columns = x.columns[vt.get_support()]\n",
    "    x_transformed = pd.DataFrame(x_transformed, columns = selected_columns)\n",
    "    return(x_transformed)"
   ]
  },
  {
   "cell_type": "code",
   "execution_count": 340,
   "id": "5e03a20d-8bc8-468b-b1a5-a12fa5c5e706",
   "metadata": {},
   "outputs": [],
   "source": [
    "def remove_highly_correlated_features(df, correlation_threshold=0.8):\n",
    "    #     Anything above correlation threshold will be tossed\n",
    "    # Assumptions - all numeric, target variable removed\n",
    "    # step 1\n",
    "    df_corr = df.corr().abs()\n",
    "\n",
    "    # step 2\n",
    "    indices = np.where(df_corr > correlation_threshold)\n",
    "    indices = [(df_corr.index[x], df_corr.columns[y])\n",
    "    for x, y in zip(*indices)\n",
    "        if x != y and x < y]\n",
    "\n",
    "    # step 3\n",
    "    for idx in indices: #each pair\n",
    "        try:\n",
    "            df.drop(idx[1], axis = 1, inplace=True)\n",
    "        except KeyError:\n",
    "            pass\n",
    "    return(df)\n",
    "\n"
   ]
  },
  {
   "cell_type": "markdown",
   "id": "708b7822-5936-4e68-ac1e-d0ae755892ed",
   "metadata": {},
   "source": [
    "#### Linear Regression"
   ]
  },
  {
   "cell_type": "code",
   "execution_count": 81,
   "id": "a382e85f-7e09-4cc7-bf63-a3d5b80a46b1",
   "metadata": {},
   "outputs": [
    {
     "name": "stdout",
     "output_type": "stream",
     "text": [
      " r2: 0.07427494575472515\n",
      " MSE: 272.3466579324841\n",
      " MAE: 12.85659017572506\n",
      " model_fit 0.07427494575472515\n"
     ]
    }
   ],
   "source": [
    "from sklearn.metrics import r2_score, mean_squared_error, mean_absolute_error\n",
    "y = df.arr_delay.to_numpy()\n",
    "X = df.drop(columns=['arr_delay']).to_numpy()\n",
    "X_train, X_test, y_train, y_test = train_test_split(X, y, test_size=0.2, random_state=88)\n",
    "\n",
    "lr_baseline = LinearRegression()\n",
    "lr_baseline.fit(X_train, y_train)\n",
    "\n",
    "# Save pickle file\n",
    "# model = lr_baseline\n",
    "# filename = '../model/linear_regression_all_features_except_neg_target.pkl'\n",
    "# pickle.dump(model, open(filename, 'wb'))\n",
    "\n",
    "\n",
    "y_pred = lr_baseline.predict(X_test)\n",
    "\n",
    "r2_baseline = r2_score(y_test, y_pred)\n",
    "MSE_baseline = mean_squared_error(y_test,y_pred) \n",
    "RMSE_baseline = mean_squared_error(y_test,y_pred,squared=False)\n",
    "MAE_baseline = mean_absolute_error(y_test,y_pred)\n",
    "\n",
    "print(f' r2: {r2_baseline}\\n MSE: {MSE_baseline}\\n MAE: {MAE_baseline}\\n model_fit {r2_baseline}')"
   ]
  },
  {
   "cell_type": "markdown",
   "id": "0a71c14f",
   "metadata": {},
   "source": [
    "### Lasso"
   ]
  },
  {
   "cell_type": "code",
   "execution_count": 319,
   "id": "08e7e061",
   "metadata": {},
   "outputs": [
    {
     "data": {
      "text/plain": [
       "GridSearchCV(cv=5, estimator=Lasso(), n_jobs=-1,\n",
       "             param_grid={'alpha': array([0.1 , 0.11, 0.12, 0.13, 0.14, 0.15, 0.16, 0.17, 0.18, 0.19, 0.2 ,\n",
       "       0.21, 0.22, 0.23, 0.24, 0.25, 0.26, 0.27, 0.28, 0.29])})"
      ]
     },
     "execution_count": 319,
     "metadata": {},
     "output_type": "execute_result"
    }
   ],
   "source": [
    "# Grid search for Lasso\n",
    "from sklearn.model_selection import GridSearchCV\n",
    "from sklearn.linear_model import Lasso, Ridge\n",
    "from sklearn.metrics import mean_squared_error, r2_score\n",
    "y = df.arr_delay.to_numpy()\n",
    "X = df.drop(columns=['arr_delay']).to_numpy()\n",
    "X_train, X_test, y_train, y_test = train_test_split(X, y, test_size=0.2)\n",
    "\n",
    "lr = Lasso()\n",
    "params = {'alpha': np.arange(0.1, 0.3, 0.01)}\n",
    "gs_lasso = GridSearchCV(lr, param_grid=params, cv=5, n_jobs=-1)\n",
    "gs_lasso.fit(X_train, y_train)"
   ]
  },
  {
   "cell_type": "code",
   "execution_count": 322,
   "id": "7dc81dd7",
   "metadata": {},
   "outputs": [
    {
     "data": {
      "text/plain": [
       "({'alpha': 0.1}, 0.039387931896349836)"
      ]
     },
     "execution_count": 322,
     "metadata": {},
     "output_type": "execute_result"
    }
   ],
   "source": [
    "gs_lasso.best_params_, gs_lasso.best_score_"
   ]
  },
  {
   "cell_type": "code",
   "execution_count": 109,
   "id": "ff5cb701",
   "metadata": {},
   "outputs": [
    {
     "data": {
      "text/plain": [
       "({'alpha': 0.1}, 0.0424644632677655)"
      ]
     },
     "execution_count": 109,
     "metadata": {},
     "output_type": "execute_result"
    }
   ],
   "source": [
    "gs_lasso.best_params_, gs_lasso.best_score_"
   ]
  },
  {
   "cell_type": "code",
   "execution_count": 323,
   "id": "675b4ffa",
   "metadata": {},
   "outputs": [
    {
     "name": "stderr",
     "output_type": "stream",
     "text": [
      "C:\\Users\\jacky\\anaconda3\\envs\\bootcamp\\lib\\site-packages\\sklearn\\base.py:557: FutureWarning: Arrays of bytes/strings is being converted to decimal numbers if dtype='numeric'. This behavior is deprecated in 0.24 and will be removed in 1.1 (renaming of 0.26). Please convert your data to numeric values explicitly instead.\n",
      "  X = check_array(X, **check_params)\n"
     ]
    },
    {
     "name": "stdout",
     "output_type": "stream",
     "text": [
      "MSE: 274.96746142721105 R2: 0.06420325018031958\n"
     ]
    }
   ],
   "source": [
    "# create the model\n",
    "from sklearn.linear_model import Lasso\n",
    "from sklearn.metrics import mean_squared_error, r2_score\n",
    "y = df.arr_delay.to_numpy()\n",
    "X = df.drop(columns=['arr_delay']).to_numpy()\n",
    "X_train, X_test, y_train, y_test = train_test_split(X, y, test_size=0.25)\n",
    "\n",
    "lr = Lasso(alpha=0.001, max_iter=2000)\n",
    "lr.fit(X_train, y_train)\n",
    "y_pred = lr.predict(X_test)\n",
    "print(f'MSE: {mean_squared_error(y_test, y_pred)}', f'R2: {r2_score(y_test, y_pred)}')"
   ]
  },
  {
   "cell_type": "code",
   "execution_count": 324,
   "id": "6f38399d",
   "metadata": {},
   "outputs": [],
   "source": [
    "lr_coeff = pd.DataFrame(data={'feature':X.columns.tolist(), 'coeff':lr.coef_})"
   ]
  },
  {
   "cell_type": "code",
   "execution_count": 326,
   "id": "ebba7f45",
   "metadata": {},
   "outputs": [
    {
     "name": "stderr",
     "output_type": "stream",
     "text": [
      "<ipython-input-326-013c309d8eb8>:1: UserWarning: Boolean Series key will be reindexed to match DataFrame index.\n",
      "  lr_coeff[df_coeff.coeff == 0]\n"
     ]
    },
    {
     "data": {
      "text/html": [
       "<div>\n",
       "<style scoped>\n",
       "    .dataframe tbody tr th:only-of-type {\n",
       "        vertical-align: middle;\n",
       "    }\n",
       "\n",
       "    .dataframe tbody tr th {\n",
       "        vertical-align: top;\n",
       "    }\n",
       "\n",
       "    .dataframe thead th {\n",
       "        text-align: right;\n",
       "    }\n",
       "</style>\n",
       "<table border=\"1\" class=\"dataframe\">\n",
       "  <thead>\n",
       "    <tr style=\"text-align: right;\">\n",
       "      <th></th>\n",
       "      <th>feature</th>\n",
       "      <th>coeff</th>\n",
       "    </tr>\n",
       "  </thead>\n",
       "  <tbody>\n",
       "    <tr>\n",
       "      <th>2</th>\n",
       "      <td>weekday_0</td>\n",
       "      <td>0.000000</td>\n",
       "    </tr>\n",
       "    <tr>\n",
       "      <th>12</th>\n",
       "      <td>avg_security_delay</td>\n",
       "      <td>0.032615</td>\n",
       "    </tr>\n",
       "    <tr>\n",
       "      <th>13</th>\n",
       "      <td>avg_late_aircraft_delay</td>\n",
       "      <td>0.153493</td>\n",
       "    </tr>\n",
       "    <tr>\n",
       "      <th>14</th>\n",
       "      <td>origin_city_0</td>\n",
       "      <td>-2.645503</td>\n",
       "    </tr>\n",
       "    <tr>\n",
       "      <th>37</th>\n",
       "      <td>dest_ATL</td>\n",
       "      <td>0.000000</td>\n",
       "    </tr>\n",
       "    <tr>\n",
       "      <th>42</th>\n",
       "      <td>dest_DTW</td>\n",
       "      <td>-0.060952</td>\n",
       "    </tr>\n",
       "    <tr>\n",
       "      <th>48</th>\n",
       "      <td>dest_LGA</td>\n",
       "      <td>-4.770523</td>\n",
       "    </tr>\n",
       "    <tr>\n",
       "      <th>51</th>\n",
       "      <td>dest_ORD</td>\n",
       "      <td>-0.803531</td>\n",
       "    </tr>\n",
       "    <tr>\n",
       "      <th>57</th>\n",
       "      <td>origin_0</td>\n",
       "      <td>0.000000</td>\n",
       "    </tr>\n",
       "    <tr>\n",
       "      <th>71</th>\n",
       "      <td>origin_MSP</td>\n",
       "      <td>-6.198259</td>\n",
       "    </tr>\n",
       "    <tr>\n",
       "      <th>76</th>\n",
       "      <td>origin_SFO</td>\n",
       "      <td>4.881523</td>\n",
       "    </tr>\n",
       "    <tr>\n",
       "      <th>85</th>\n",
       "      <td>origin_state_NY</td>\n",
       "      <td>-1.818715</td>\n",
       "    </tr>\n",
       "    <tr>\n",
       "      <th>87</th>\n",
       "      <td>origin_state_TX</td>\n",
       "      <td>-0.882091</td>\n",
       "    </tr>\n",
       "    <tr>\n",
       "      <th>88</th>\n",
       "      <td>origin_state_WA</td>\n",
       "      <td>-0.000000</td>\n",
       "    </tr>\n",
       "    <tr>\n",
       "      <th>91</th>\n",
       "      <td>dest_state_CO</td>\n",
       "      <td>-0.349159</td>\n",
       "    </tr>\n",
       "    <tr>\n",
       "      <th>94</th>\n",
       "      <td>dest_state_IL</td>\n",
       "      <td>-0.000000</td>\n",
       "    </tr>\n",
       "    <tr>\n",
       "      <th>106</th>\n",
       "      <td>mkt_unique_carrier_HA</td>\n",
       "      <td>4.878272</td>\n",
       "    </tr>\n",
       "  </tbody>\n",
       "</table>\n",
       "</div>"
      ],
      "text/plain": [
       "                     feature     coeff\n",
       "2                  weekday_0  0.000000\n",
       "12        avg_security_delay  0.032615\n",
       "13   avg_late_aircraft_delay  0.153493\n",
       "14             origin_city_0 -2.645503\n",
       "37                  dest_ATL  0.000000\n",
       "42                  dest_DTW -0.060952\n",
       "48                  dest_LGA -4.770523\n",
       "51                  dest_ORD -0.803531\n",
       "57                  origin_0  0.000000\n",
       "71                origin_MSP -6.198259\n",
       "76                origin_SFO  4.881523\n",
       "85           origin_state_NY -1.818715\n",
       "87           origin_state_TX -0.882091\n",
       "88           origin_state_WA -0.000000\n",
       "91             dest_state_CO -0.349159\n",
       "94             dest_state_IL -0.000000\n",
       "106    mkt_unique_carrier_HA  4.878272"
      ]
     },
     "execution_count": 326,
     "metadata": {},
     "output_type": "execute_result"
    }
   ],
   "source": [
    "lr_coeff[df_coeff.coeff == 0]"
   ]
  },
  {
   "cell_type": "code",
   "execution_count": 327,
   "id": "974e2bc2",
   "metadata": {},
   "outputs": [
    {
     "data": {
      "text/plain": [
       "['arr_delay',\n",
       " 'distance_log',\n",
       " 'weekday',\n",
       " 'weekday_0',\n",
       " 'weekday_1',\n",
       " 'weekday_2',\n",
       " 'weekday_3',\n",
       " 'weekday_4',\n",
       " 'weekday_5',\n",
       " 'weekday_6',\n",
       " 'avg_carrier_delay',\n",
       " 'avg_weather_delay',\n",
       " 'avg_nas_delay',\n",
       " 'avg_security_delay',\n",
       " 'avg_late_aircraft_delay',\n",
       " 'origin_city_0',\n",
       " 'origin_city_Atlanta',\n",
       " 'origin_city_Charlotte',\n",
       " 'origin_city_Chicago',\n",
       " 'origin_city_Dallas/Fort Worth',\n",
       " 'origin_city_Denver',\n",
       " 'origin_city_Houston',\n",
       " 'origin_city_Los Angeles',\n",
       " 'origin_city_New York',\n",
       " 'origin_city_Seattle',\n",
       " 'origin_city_Washington',\n",
       " 'dest_city_0',\n",
       " 'dest_city_Atlanta',\n",
       " 'dest_city_Charlotte',\n",
       " 'dest_city_Chicago',\n",
       " 'dest_city_Dallas/Fort Worth',\n",
       " 'dest_city_Denver',\n",
       " 'dest_city_Houston',\n",
       " 'dest_city_Los Angeles',\n",
       " 'dest_city_New York',\n",
       " 'dest_city_Seattle',\n",
       " 'dest_city_Washington',\n",
       " 'dest_0',\n",
       " 'dest_ATL',\n",
       " 'dest_BOS',\n",
       " 'dest_CLT',\n",
       " 'dest_DEN',\n",
       " 'dest_DFW',\n",
       " 'dest_DTW',\n",
       " 'dest_EWR',\n",
       " 'dest_IAH',\n",
       " 'dest_JFK',\n",
       " 'dest_LAS',\n",
       " 'dest_LAX',\n",
       " 'dest_LGA',\n",
       " 'dest_MCO',\n",
       " 'dest_MSP',\n",
       " 'dest_ORD',\n",
       " 'dest_PHL',\n",
       " 'dest_PHX',\n",
       " 'dest_SEA',\n",
       " 'dest_SFO',\n",
       " 'dest_SLC',\n",
       " 'origin_0',\n",
       " 'origin_ATL',\n",
       " 'origin_BOS',\n",
       " 'origin_CLT',\n",
       " 'origin_DEN',\n",
       " 'origin_DFW',\n",
       " 'origin_DTW',\n",
       " 'origin_EWR',\n",
       " 'origin_IAH',\n",
       " 'origin_JFK',\n",
       " 'origin_LAS',\n",
       " 'origin_LAX',\n",
       " 'origin_LGA',\n",
       " 'origin_MCO',\n",
       " 'origin_MSP',\n",
       " 'origin_ORD',\n",
       " 'origin_PHL',\n",
       " 'origin_PHX',\n",
       " 'origin_SEA',\n",
       " 'origin_SFO',\n",
       " 'origin_SLC',\n",
       " 'origin_state_0',\n",
       " 'origin_state_CA',\n",
       " 'origin_state_CO',\n",
       " 'origin_state_FL',\n",
       " 'origin_state_GA',\n",
       " 'origin_state_IL',\n",
       " 'origin_state_NC',\n",
       " 'origin_state_NY',\n",
       " 'origin_state_PA',\n",
       " 'origin_state_TX',\n",
       " 'origin_state_WA',\n",
       " 'dest_state_0',\n",
       " 'dest_state_CA',\n",
       " 'dest_state_CO',\n",
       " 'dest_state_FL',\n",
       " 'dest_state_GA',\n",
       " 'dest_state_IL',\n",
       " 'dest_state_NC',\n",
       " 'dest_state_NY',\n",
       " 'dest_state_PA',\n",
       " 'dest_state_TX',\n",
       " 'dest_state_WA',\n",
       " 'mkt_unique_carrier_AA',\n",
       " 'mkt_unique_carrier_AS',\n",
       " 'mkt_unique_carrier_B6',\n",
       " 'mkt_unique_carrier_DL',\n",
       " 'mkt_unique_carrier_F9',\n",
       " 'mkt_unique_carrier_G4',\n",
       " 'mkt_unique_carrier_HA',\n",
       " 'mkt_unique_carrier_NK',\n",
       " 'mkt_unique_carrier_UA',\n",
       " 'mkt_unique_carrier_WN',\n",
       " 'origin_airport_fl_amt_bin',\n",
       " 'dest_airport_fl_amt_bin',\n",
       " 'log_crs_elapsed_time_bin_a',\n",
       " 'log_crs_elapsed_time_bin_b',\n",
       " 'log_crs_elapsed_time_bin_c',\n",
       " 'log_crs_elapsed_time_bin_d',\n",
       " 'log_crs_elapsed_time_bin_e',\n",
       " 'log_crs_elapsed_time_bin_f',\n",
       " 'log_crs_elapsed_time_bin_g',\n",
       " 'log_crs_elapsed_time_bin_h',\n",
       " 'log_crs_elapsed_time_bin_i',\n",
       " 'log_crs_elapsed_time_bin_j']"
      ]
     },
     "execution_count": 327,
     "metadata": {},
     "output_type": "execute_result"
    }
   ],
   "source": [
    "list(df.columns)"
   ]
  },
  {
   "cell_type": "markdown",
   "id": "774b7544",
   "metadata": {},
   "source": [
    "### Ridge"
   ]
  },
  {
   "cell_type": "code",
   "execution_count": 98,
   "id": "2d4e99e4",
   "metadata": {},
   "outputs": [
    {
     "data": {
      "text/plain": [
       "GridSearchCV(cv=5, estimator=Ridge(), n_jobs=-1,\n",
       "             param_grid={'alpha': array([0.001, 0.011, 0.021, 0.031, 0.041, 0.051, 0.061, 0.071, 0.081,\n",
       "       0.091])})"
      ]
     },
     "execution_count": 98,
     "metadata": {},
     "output_type": "execute_result"
    }
   ],
   "source": [
    "# Grid Search for Ridge\n",
    "from sklearn.model_selection import GridSearchCV\n",
    "from sklearn.linear_model import Lasso, Ridge\n",
    "from sklearn.metrics import mean_squared_error, r2_score\n",
    "\n",
    "y = df.arr_delay.to_numpy()\n",
    "X = df.drop(columns=['arr_delay']).to_numpy()\n",
    "X_train, X_test, y_train, y_test = train_test_split(X, y, test_size=0.2)\n",
    "\n",
    "rr = Ridge()\n",
    "params = {'alpha': np.arange(0.001, 0.1, 0.01)}\n",
    "gs_ridge = GridSearchCV(rr, param_grid=params, cv=5, n_jobs=-1)\n",
    "gs_ridge.fit(X_train, y_train)"
   ]
  },
  {
   "cell_type": "code",
   "execution_count": 83,
   "id": "4ce9136c",
   "metadata": {},
   "outputs": [
    {
     "data": {
      "text/plain": [
       "{'alpha': 0.49}"
      ]
     },
     "execution_count": 83,
     "metadata": {},
     "output_type": "execute_result"
    }
   ],
   "source": [
    "gs_ridge.best_params_"
   ]
  },
  {
   "cell_type": "code",
   "execution_count": 94,
   "id": "f8f68302",
   "metadata": {},
   "outputs": [
    {
     "data": {
      "text/plain": [
       "0.07322351348448844"
      ]
     },
     "execution_count": 94,
     "metadata": {},
     "output_type": "execute_result"
    }
   ],
   "source": [
    "gs_ridge.best_score_"
   ]
  },
  {
   "cell_type": "code",
   "execution_count": 97,
   "id": "0b1cbf79",
   "metadata": {},
   "outputs": [
    {
     "data": {
      "text/plain": [
       "({'alpha': 0.6900000000000002}, 0.07322246866107178)"
      ]
     },
     "execution_count": 97,
     "metadata": {},
     "output_type": "execute_result"
    }
   ],
   "source": [
    "gs_ridge.best_params_, gs_ridge.best_score_"
   ]
  },
  {
   "cell_type": "code",
   "execution_count": 99,
   "id": "03441243",
   "metadata": {},
   "outputs": [
    {
     "data": {
      "text/plain": [
       "({'alpha': 0.09099999999999998}, 0.07327123466059556)"
      ]
     },
     "execution_count": 99,
     "metadata": {},
     "output_type": "execute_result"
    }
   ],
   "source": [
    "gs_ridge.best_params_, gs_ridge.best_score_"
   ]
  },
  {
   "cell_type": "code",
   "execution_count": 329,
   "id": "5bb28f0b",
   "metadata": {
    "scrolled": true
   },
   "outputs": [
    {
     "name": "stderr",
     "output_type": "stream",
     "text": [
      "C:\\Users\\jacky\\anaconda3\\envs\\bootcamp\\lib\\site-packages\\sklearn\\base.py:557: FutureWarning: Arrays of bytes/strings is being converted to decimal numbers if dtype='numeric'. This behavior is deprecated in 0.24 and will be removed in 1.1 (renaming of 0.26). Please convert your data to numeric values explicitly instead.\n",
      "  X = check_array(X, **check_params)\n"
     ]
    },
    {
     "name": "stdout",
     "output_type": "stream",
     "text": [
      "MSE: 277.33621523977234 R2: 0.061400392980568874\n"
     ]
    }
   ],
   "source": [
    "from sklearn.linear_model import Ridge\n",
    "from sklearn.metrics import mean_squared_error, r2_score\n",
    "\n",
    "y = df.arr_delay.to_numpy()\n",
    "X = df.drop(columns=['arr_delay']).to_numpy()\n",
    "X_train, X_test, y_train, y_test = train_test_split(X, y, test_size=0.25)\n",
    "\n",
    "rr = Ridge(alpha=0.09)\n",
    "rr.fit(X_train, y_train)\n",
    "y_pred = rr.predict(X_test)\n",
    "print(f'MSE: {mean_squared_error(y_test, y_pred)}', f'R2: {r2_score(y_test, y_pred)}')"
   ]
  },
  {
   "cell_type": "code",
   "execution_count": 121,
   "id": "6876ca07",
   "metadata": {},
   "outputs": [
    {
     "data": {
      "text/plain": [
       "array([ 3.08270912e+00, -2.05525393e+00, -1.88646538e+00, -2.85367693e-01,\n",
       "       -5.83085293e-02,  1.43494588e-01,  2.80688016e-01,  2.23515396e-01,\n",
       "       -2.75292441e-01, -3.88367825e-02,  2.16630739e-01,  2.84691886e-01,\n",
       "       -3.25039483e-01, -9.31384672e-01, -3.47247217e-01,  5.85643981e-01,\n",
       "       -4.18504168e-01,  5.87447153e-02,  7.85361178e+00,  7.10973049e+00,\n",
       "       -3.10080872e+00, -2.94137489e+00, -2.13540117e+00, -1.01966673e+00,\n",
       "       -9.37799086e-01,  2.23859927e+00,  5.65807329e+00, -9.45068832e-01,\n",
       "       -1.01908564e+00, -1.48321223e+00, -1.24050464e+00, -8.22436913e-01,\n",
       "       -1.07953222e+00, -3.86867970e-01,  3.47623498e-01,  8.55180516e-01,\n",
       "        7.39498613e-01,  1.12213158e-01,  9.77468058e-01,  6.80069156e-01,\n",
       "        5.71168424e-01,  6.49336130e-01, -1.02764589e-01,  3.32645978e+00,\n",
       "       -2.71089736e+00, -1.73455330e+00, -1.35077993e+00, -1.40091909e+00,\n",
       "       -7.31210972e-01, -1.14785564e+00,  1.81212023e-01,  3.80463245e-01,\n",
       "       -1.23771820e+00, -3.94883155e-04,  9.18745723e-01,  6.71878764e-01,\n",
       "       -3.73823816e-01, -3.59152803e-01,  1.07198137e-01,  1.23477427e-03,\n",
       "        2.25887355e+00, -7.12731887e-04, -3.31831472e-02, -1.58673623e+00,\n",
       "        2.16297940e-01,  3.59065417e-01,  3.38180786e+00,  1.26113623e+00,\n",
       "       -2.35791992e+00,  4.63702262e-01, -5.61359984e-01,  4.57590942e-01,\n",
       "        8.72204631e-01, -2.50579602e+00, -6.41240175e-01,  1.14048990e+00,\n",
       "        5.73968053e-01,  2.02754788e+00,  7.50799239e-01,  3.85677519e-01,\n",
       "       -1.63335084e+00,  7.68598176e-01, -2.44970479e+00,  1.11166924e+00,\n",
       "       -2.03444776e+00,  3.18367995e-02,  1.14049007e+00,  9.79737052e-01,\n",
       "        5.73968151e-01,  3.85677633e-01,  7.50799211e-01,  7.94291031e-01,\n",
       "       -4.17885553e+00,  2.03055046e-01,  1.55277048e+00,  2.81334541e+00,\n",
       "        7.68598414e-01, -4.00247570e+00,  1.50237330e+00, -1.23188662e-01,\n",
       "       -3.78911040e-01, -7.91789505e-01,  3.24539352e+00,  1.11166933e+00,\n",
       "       -1.04133775e+01,  4.03458432e+00, -2.18495529e-03,  2.16297765e-01,\n",
       "       -4.58665414e-01,  3.59065236e-01, -2.35792018e+00,  1.26113601e+00,\n",
       "       -5.24853219e+00,  4.22556317e+00, -5.64723056e-01,  9.20119132e-01,\n",
       "        2.34454075e+00, -5.61360102e-01, -4.62528538e-01, -5.44482043e-01,\n",
       "       -6.55339359e+00, -7.53667581e-01, -5.12374371e-01,  1.40198603e+00,\n",
       "        8.72205233e-01,  4.59781564e+00,  1.82110066e+00, -6.26535746e-01,\n",
       "        5.91861202e-01,  3.93348054e+00,  2.02756772e+00,  6.56877083e-01,\n",
       "       -7.42703394e-01,  6.06150080e-02, -2.07054785e+00, -2.09747828e+00,\n",
       "       -1.35663844e+00, -3.76501727e-01, -3.20644567e-01,  5.65357010e-01,\n",
       "       -7.35762259e-01, -3.05068519e-01, -3.39863084e-02, -4.39316180e-01,\n",
       "        1.95265040e-01,  5.23970991e-02, -1.03625643e+00,  1.63048043e+00,\n",
       "        4.27530556e-01, -2.04620042e-01, -2.50753757e-01, -5.69329950e-01,\n",
       "       -4.41395293e+00, -5.36701107e-01,  1.57436570e+00,  4.89030270e+00,\n",
       "       -1.70684182e+00, -7.31712865e-01,  1.94924208e+00, -1.31153395e-02,\n",
       "        1.91046929e-01,  1.63104569e+01,  9.69019469e+00,  8.44520762e+00,\n",
       "        5.17477736e+00,  1.79139730e+00, -1.12196345e+00, -4.36742762e+00,\n",
       "       -7.41533693e+00, -1.21233812e+01, -1.63839265e+01])"
      ]
     },
     "execution_count": 121,
     "metadata": {},
     "output_type": "execute_result"
    }
   ],
   "source": [
    "rr.coef_"
   ]
  },
  {
   "cell_type": "code",
   "execution_count": 122,
   "id": "8283c518",
   "metadata": {},
   "outputs": [],
   "source": [
    "rr_coeff = pd.DataFrame(data={'feature':X.columns.tolist(), 'coeff':rr.coef_})"
   ]
  },
  {
   "cell_type": "code",
   "execution_count": 131,
   "id": "f3c5bfb6",
   "metadata": {
    "scrolled": true
   },
   "outputs": [
    {
     "data": {
      "text/html": [
       "<div>\n",
       "<style scoped>\n",
       "    .dataframe tbody tr th:only-of-type {\n",
       "        vertical-align: middle;\n",
       "    }\n",
       "\n",
       "    .dataframe tbody tr th {\n",
       "        vertical-align: top;\n",
       "    }\n",
       "\n",
       "    .dataframe thead th {\n",
       "        text-align: right;\n",
       "    }\n",
       "</style>\n",
       "<table border=\"1\" class=\"dataframe\">\n",
       "  <thead>\n",
       "    <tr style=\"text-align: right;\">\n",
       "      <th></th>\n",
       "      <th>feature</th>\n",
       "      <th>coeff</th>\n",
       "    </tr>\n",
       "  </thead>\n",
       "  <tbody>\n",
       "    <tr>\n",
       "      <th>4</th>\n",
       "      <td>dep_hour_11</td>\n",
       "      <td>-0.058309</td>\n",
       "    </tr>\n",
       "    <tr>\n",
       "      <th>5</th>\n",
       "      <td>dep_hour_12</td>\n",
       "      <td>0.143495</td>\n",
       "    </tr>\n",
       "    <tr>\n",
       "      <th>9</th>\n",
       "      <td>dep_hour_16</td>\n",
       "      <td>-0.038837</td>\n",
       "    </tr>\n",
       "    <tr>\n",
       "      <th>17</th>\n",
       "      <td>dep_hour_23</td>\n",
       "      <td>0.058745</td>\n",
       "    </tr>\n",
       "    <tr>\n",
       "      <th>37</th>\n",
       "      <td>arr_hour_2</td>\n",
       "      <td>0.112213</td>\n",
       "    </tr>\n",
       "    <tr>\n",
       "      <th>42</th>\n",
       "      <td>arr_hour_24</td>\n",
       "      <td>-0.102765</td>\n",
       "    </tr>\n",
       "    <tr>\n",
       "      <th>50</th>\n",
       "      <td>weekday</td>\n",
       "      <td>0.181212</td>\n",
       "    </tr>\n",
       "    <tr>\n",
       "      <th>53</th>\n",
       "      <td>weekday_2</td>\n",
       "      <td>-0.000395</td>\n",
       "    </tr>\n",
       "    <tr>\n",
       "      <th>58</th>\n",
       "      <td>avg_carrier_delay</td>\n",
       "      <td>0.107198</td>\n",
       "    </tr>\n",
       "    <tr>\n",
       "      <th>59</th>\n",
       "      <td>avg_weather_delay</td>\n",
       "      <td>0.001235</td>\n",
       "    </tr>\n",
       "    <tr>\n",
       "      <th>61</th>\n",
       "      <td>avg_security_delay</td>\n",
       "      <td>-0.000713</td>\n",
       "    </tr>\n",
       "    <tr>\n",
       "      <th>62</th>\n",
       "      <td>avg_late_aircraft_delay</td>\n",
       "      <td>-0.033183</td>\n",
       "    </tr>\n",
       "    <tr>\n",
       "      <th>85</th>\n",
       "      <td>dest_0</td>\n",
       "      <td>0.031837</td>\n",
       "    </tr>\n",
       "    <tr>\n",
       "      <th>99</th>\n",
       "      <td>dest_MSP</td>\n",
       "      <td>-0.123189</td>\n",
       "    </tr>\n",
       "    <tr>\n",
       "      <th>106</th>\n",
       "      <td>origin_0</td>\n",
       "      <td>-0.002185</td>\n",
       "    </tr>\n",
       "    <tr>\n",
       "      <th>133</th>\n",
       "      <td>origin_state_NC</td>\n",
       "      <td>0.060615</td>\n",
       "    </tr>\n",
       "    <tr>\n",
       "      <th>142</th>\n",
       "      <td>dest_state_GA</td>\n",
       "      <td>-0.033986</td>\n",
       "    </tr>\n",
       "    <tr>\n",
       "      <th>144</th>\n",
       "      <td>dest_state_NC</td>\n",
       "      <td>0.195265</td>\n",
       "    </tr>\n",
       "    <tr>\n",
       "      <th>145</th>\n",
       "      <td>dest_state_NY</td>\n",
       "      <td>0.052397</td>\n",
       "    </tr>\n",
       "    <tr>\n",
       "      <th>159</th>\n",
       "      <td>origin_airport_fl_amt_bin</td>\n",
       "      <td>-0.013115</td>\n",
       "    </tr>\n",
       "    <tr>\n",
       "      <th>160</th>\n",
       "      <td>dest_airport_fl_amt_bin</td>\n",
       "      <td>0.191047</td>\n",
       "    </tr>\n",
       "  </tbody>\n",
       "</table>\n",
       "</div>"
      ],
      "text/plain": [
       "                       feature     coeff\n",
       "4                  dep_hour_11 -0.058309\n",
       "5                  dep_hour_12  0.143495\n",
       "9                  dep_hour_16 -0.038837\n",
       "17                 dep_hour_23  0.058745\n",
       "37                  arr_hour_2  0.112213\n",
       "42                 arr_hour_24 -0.102765\n",
       "50                     weekday  0.181212\n",
       "53                   weekday_2 -0.000395\n",
       "58           avg_carrier_delay  0.107198\n",
       "59           avg_weather_delay  0.001235\n",
       "61          avg_security_delay -0.000713\n",
       "62     avg_late_aircraft_delay -0.033183\n",
       "85                      dest_0  0.031837\n",
       "99                    dest_MSP -0.123189\n",
       "106                   origin_0 -0.002185\n",
       "133            origin_state_NC  0.060615\n",
       "142              dest_state_GA -0.033986\n",
       "144              dest_state_NC  0.195265\n",
       "145              dest_state_NY  0.052397\n",
       "159  origin_airport_fl_amt_bin -0.013115\n",
       "160    dest_airport_fl_amt_bin  0.191047"
      ]
     },
     "execution_count": 131,
     "metadata": {},
     "output_type": "execute_result"
    }
   ],
   "source": [
    "threshold = 0.2\n",
    "rr_coeff[np.abs(rr_coeff.coeff) < threshold]"
   ]
  },
  {
   "cell_type": "markdown",
   "id": "7ddff9b0",
   "metadata": {},
   "source": [
    "### LDA analysis"
   ]
  },
  {
   "cell_type": "code",
   "execution_count": 124,
   "id": "7a4b7725",
   "metadata": {},
   "outputs": [],
   "source": [
    "y = df.arr_delay\n",
    "X = df.drop(columns=['arr_delay'])"
   ]
  },
  {
   "cell_type": "code",
   "execution_count": 120,
   "id": "cac46c55",
   "metadata": {},
   "outputs": [
    {
     "data": {
      "image/png": "[encoded data removed]",
      "text/plain": [
       "<Figure size 432x288 with 1 Axes>"
      ]
     },
     "metadata": {
      "needs_background": "light"
     },
     "output_type": "display_data"
    }
   ],
   "source": [
    "plt.hist(y, bins=np.linspace(-60, 60, 43));"
   ]
  },
  {
   "cell_type": "code",
   "execution_count": 121,
   "id": "6ceea969",
   "metadata": {},
   "outputs": [
    {
     "data": {
      "text/plain": [
       "array([ 1,  2,  3,  4,  5,  6,  7,  8,  9, 10, 11, 12, 13, 14, 15, 16, 17,\n",
       "       18, 19, 20, 21, 22, 23, 24, 25, 26, 27, 28, 29, 30, 31, 32, 33, 34,\n",
       "       35, 36, 37, 38, 39, 40, 41, 42, 43])"
      ]
     },
     "execution_count": 121,
     "metadata": {},
     "output_type": "execute_result"
    }
   ],
   "source": [
    "np.arange(1, 44, 1)"
   ]
  },
  {
   "cell_type": "code",
   "execution_count": 128,
   "id": "71dc3194",
   "metadata": {},
   "outputs": [],
   "source": [
    "labels = np.arange(1, 40, 1)\n",
    "y = pd.qcut(y, q=40, duplicates='drop', labels=labels)"
   ]
  },
  {
   "cell_type": "code",
   "execution_count": 129,
   "id": "2d8f308f",
   "metadata": {},
   "outputs": [
    {
     "data": {
      "text/plain": [
       "LinearDiscriminantAnalysis()"
      ]
     },
     "execution_count": 129,
     "metadata": {},
     "output_type": "execute_result"
    }
   ],
   "source": [
    "from sklearn.discriminant_analysis import LinearDiscriminantAnalysis\n",
    "from sklearn.metrics import mean_squared_error, r2_score\n",
    "\n",
    "y = df.arr_delay\n",
    "X = df.drop(columns=['arr_delay'])\n",
    "X_train, X_test, y_train, y_test = train_test_split(X, y, test_size=0.25)\n",
    "\n",
    "lda = LinearDiscriminantAnalysis()\n",
    "lda.fit(X_train, y_train)"
   ]
  },
  {
   "cell_type": "code",
   "execution_count": 193,
   "id": "dc1948c5",
   "metadata": {},
   "outputs": [
    {
     "data": {
      "text/plain": [
       "array([0.65164704, 0.16550048, 0.07236323, 0.0175777 , 0.01043113,\n",
       "       0.00589833, 0.00566196, 0.00489947, 0.00456412, 0.00431464,\n",
       "       0.00417148, 0.00399047, 0.0038059 , 0.00364057, 0.00347665,\n",
       "       0.00326825, 0.0032009 , 0.0028574 , 0.00276812, 0.0026184 ,\n",
       "       0.00242478, 0.00227058, 0.00224553, 0.00216911, 0.00195257,\n",
       "       0.00184915, 0.00173507, 0.00150957, 0.00139335, 0.00132268,\n",
       "       0.00120594, 0.00118131, 0.0010962 , 0.00098795])"
      ]
     },
     "execution_count": 193,
     "metadata": {},
     "output_type": "execute_result"
    }
   ],
   "source": [
    "lda.explained_variance_ratio_"
   ]
  },
  {
   "cell_type": "code",
   "execution_count": 135,
   "id": "cdf889a6",
   "metadata": {},
   "outputs": [],
   "source": [
    "feature_index = []\n",
    "for each_comp in lda.coef_:\n",
    "    feature_index.append(np.argmax(each_comp))"
   ]
  },
  {
   "cell_type": "code",
   "execution_count": 147,
   "id": "f4c20330",
   "metadata": {},
   "outputs": [],
   "source": [
    "most_important_features = np.unique(np.array(feature_index), return_counts=True)"
   ]
  },
  {
   "cell_type": "code",
   "execution_count": 148,
   "id": "b398483c",
   "metadata": {},
   "outputs": [
    {
     "data": {
      "text/plain": [
       "(array([  2,  13,  18,  19,  37,  42,  43,  44,  77, 104, 161, 162, 163,\n",
       "        169, 170], dtype=int64),\n",
       " array([ 2,  8,  6,  8,  2, 13, 11,  1,  1,  1, 12,  6,  1,  8, 20],\n",
       "       dtype=int64))"
      ]
     },
     "execution_count": 148,
     "metadata": {},
     "output_type": "execute_result"
    }
   ],
   "source": [
    "most_important_features"
   ]
  },
  {
   "cell_type": "code",
   "execution_count": 149,
   "id": "06db2a31",
   "metadata": {},
   "outputs": [
    {
     "data": {
      "text/plain": [
       "Index(['dep_hour_1', 'dep_hour_2', 'dep_hour_3', 'dep_hour_4', 'arr_hour_2',\n",
       "       'arr_hour_24', 'arr_hour_3', 'arr_hour_4', 'dest_city_Chicago',\n",
       "       'dest_SFO', 'log_crs_elapsed_time_bin_a', 'log_crs_elapsed_time_bin_b',\n",
       "       'log_crs_elapsed_time_bin_c', 'log_crs_elapsed_time_bin_i',\n",
       "       'log_crs_elapsed_time_bin_j'],\n",
       "      dtype='object')"
      ]
     },
     "execution_count": 149,
     "metadata": {},
     "output_type": "execute_result"
    }
   ],
   "source": [
    "X.columns[most_important_features[0]]"
   ]
  },
  {
   "cell_type": "code",
   "execution_count": 152,
   "id": "1025ac54",
   "metadata": {},
   "outputs": [
    {
     "data": {
      "text/plain": [
       "['distance_log',\n",
       " 'dep_hour_0',\n",
       " 'dep_hour_1',\n",
       " 'dep_hour_10',\n",
       " 'dep_hour_11',\n",
       " 'dep_hour_12',\n",
       " 'dep_hour_13',\n",
       " 'dep_hour_14',\n",
       " 'dep_hour_15',\n",
       " 'dep_hour_16',\n",
       " 'dep_hour_17',\n",
       " 'dep_hour_18',\n",
       " 'dep_hour_19',\n",
       " 'dep_hour_2',\n",
       " 'dep_hour_20',\n",
       " 'dep_hour_21',\n",
       " 'dep_hour_22',\n",
       " 'dep_hour_23',\n",
       " 'dep_hour_3',\n",
       " 'dep_hour_4',\n",
       " 'dep_hour_5',\n",
       " 'dep_hour_6',\n",
       " 'dep_hour_7',\n",
       " 'dep_hour_8',\n",
       " 'dep_hour_9',\n",
       " 'arr_hour_0',\n",
       " 'arr_hour_1',\n",
       " 'arr_hour_10',\n",
       " 'arr_hour_11',\n",
       " 'arr_hour_12',\n",
       " 'arr_hour_13',\n",
       " 'arr_hour_14',\n",
       " 'arr_hour_15',\n",
       " 'arr_hour_16',\n",
       " 'arr_hour_17',\n",
       " 'arr_hour_18',\n",
       " 'arr_hour_19',\n",
       " 'arr_hour_2',\n",
       " 'arr_hour_20',\n",
       " 'arr_hour_21',\n",
       " 'arr_hour_22',\n",
       " 'arr_hour_23',\n",
       " 'arr_hour_24',\n",
       " 'arr_hour_3',\n",
       " 'arr_hour_4',\n",
       " 'arr_hour_5',\n",
       " 'arr_hour_6',\n",
       " 'arr_hour_7',\n",
       " 'arr_hour_8',\n",
       " 'arr_hour_9',\n",
       " 'weekday',\n",
       " 'weekday_0',\n",
       " 'weekday_1',\n",
       " 'weekday_2',\n",
       " 'weekday_3',\n",
       " 'weekday_4',\n",
       " 'weekday_5',\n",
       " 'weekday_6',\n",
       " 'avg_carrier_delay',\n",
       " 'avg_weather_delay',\n",
       " 'avg_nas_delay',\n",
       " 'avg_security_delay',\n",
       " 'avg_late_aircraft_delay',\n",
       " 'origin_city_0',\n",
       " 'origin_city_Atlanta',\n",
       " 'origin_city_Charlotte',\n",
       " 'origin_city_Chicago',\n",
       " 'origin_city_Dallas/Fort Worth',\n",
       " 'origin_city_Denver',\n",
       " 'origin_city_Houston',\n",
       " 'origin_city_Los Angeles',\n",
       " 'origin_city_New York',\n",
       " 'origin_city_Seattle',\n",
       " 'origin_city_Washington',\n",
       " 'dest_city_0',\n",
       " 'dest_city_Atlanta',\n",
       " 'dest_city_Charlotte',\n",
       " 'dest_city_Chicago',\n",
       " 'dest_city_Dallas/Fort Worth',\n",
       " 'dest_city_Denver',\n",
       " 'dest_city_Houston',\n",
       " 'dest_city_Los Angeles',\n",
       " 'dest_city_New York',\n",
       " 'dest_city_Seattle',\n",
       " 'dest_city_Washington',\n",
       " 'dest_0',\n",
       " 'dest_ATL',\n",
       " 'dest_BOS',\n",
       " 'dest_CLT',\n",
       " 'dest_DEN',\n",
       " 'dest_DFW',\n",
       " 'dest_DTW',\n",
       " 'dest_EWR',\n",
       " 'dest_IAH',\n",
       " 'dest_JFK',\n",
       " 'dest_LAS',\n",
       " 'dest_LAX',\n",
       " 'dest_LGA',\n",
       " 'dest_MCO',\n",
       " 'dest_MSP',\n",
       " 'dest_ORD',\n",
       " 'dest_PHL',\n",
       " 'dest_PHX',\n",
       " 'dest_SEA',\n",
       " 'dest_SFO',\n",
       " 'dest_SLC',\n",
       " 'origin_0',\n",
       " 'origin_ATL',\n",
       " 'origin_BOS',\n",
       " 'origin_CLT',\n",
       " 'origin_DEN',\n",
       " 'origin_DFW',\n",
       " 'origin_DTW',\n",
       " 'origin_EWR',\n",
       " 'origin_IAH',\n",
       " 'origin_JFK',\n",
       " 'origin_LAS',\n",
       " 'origin_LAX',\n",
       " 'origin_LGA',\n",
       " 'origin_MCO',\n",
       " 'origin_MSP',\n",
       " 'origin_ORD',\n",
       " 'origin_PHL',\n",
       " 'origin_PHX',\n",
       " 'origin_SEA',\n",
       " 'origin_SFO',\n",
       " 'origin_SLC',\n",
       " 'origin_state_0',\n",
       " 'origin_state_CA',\n",
       " 'origin_state_CO',\n",
       " 'origin_state_FL',\n",
       " 'origin_state_GA',\n",
       " 'origin_state_IL',\n",
       " 'origin_state_NC',\n",
       " 'origin_state_NY',\n",
       " 'origin_state_PA',\n",
       " 'origin_state_TX',\n",
       " 'origin_state_WA',\n",
       " 'dest_state_0',\n",
       " 'dest_state_CA',\n",
       " 'dest_state_CO',\n",
       " 'dest_state_FL',\n",
       " 'dest_state_GA',\n",
       " 'dest_state_IL',\n",
       " 'dest_state_NC',\n",
       " 'dest_state_NY',\n",
       " 'dest_state_PA',\n",
       " 'dest_state_TX',\n",
       " 'dest_state_WA',\n",
       " 'mkt_unique_carrier_AA',\n",
       " 'mkt_unique_carrier_AS',\n",
       " 'mkt_unique_carrier_B6',\n",
       " 'mkt_unique_carrier_DL',\n",
       " 'mkt_unique_carrier_F9',\n",
       " 'mkt_unique_carrier_G4',\n",
       " 'mkt_unique_carrier_HA',\n",
       " 'mkt_unique_carrier_NK',\n",
       " 'mkt_unique_carrier_UA',\n",
       " 'mkt_unique_carrier_WN',\n",
       " 'origin_airport_fl_amt_bin',\n",
       " 'dest_airport_fl_amt_bin',\n",
       " 'log_crs_elapsed_time_bin_a',\n",
       " 'log_crs_elapsed_time_bin_b',\n",
       " 'log_crs_elapsed_time_bin_c',\n",
       " 'log_crs_elapsed_time_bin_d',\n",
       " 'log_crs_elapsed_time_bin_e',\n",
       " 'log_crs_elapsed_time_bin_f',\n",
       " 'log_crs_elapsed_time_bin_g',\n",
       " 'log_crs_elapsed_time_bin_h',\n",
       " 'log_crs_elapsed_time_bin_i',\n",
       " 'log_crs_elapsed_time_bin_j']"
      ]
     },
     "execution_count": 152,
     "metadata": {},
     "output_type": "execute_result"
    }
   ],
   "source": [
    "list(X.columns)"
   ]
  },
  {
   "cell_type": "code",
   "execution_count": 176,
   "id": "4c935308",
   "metadata": {},
   "outputs": [
    {
     "data": {
      "image/png": "[encoded data removed]",
      "text/plain": [
       "<Figure size 1008x5760 with 2 Axes>"
      ]
     },
     "metadata": {
      "needs_background": "light"
     },
     "output_type": "display_data"
    }
   ],
   "source": [
    "fig, ax = plt.subplots(1, 2, figsize=(14, 80))\n",
    "# plt.subplot(1, 2, 1)\n",
    "ax[0].barh(y=X.columns, width=np.abs(lda.coef_[0]));\n",
    "# plt.subplot(1, 2, 2)\n",
    "ax[1].barh(y=X.columns, width=np.abs(lda.coef_[1]));"
   ]
  },
  {
   "cell_type": "code",
   "execution_count": null,
   "id": "04635bed",
   "metadata": {},
   "outputs": [],
   "source": [
    "cols_to_drop = ['origin_airport_fl_amt_bin', \n",
    "                'dest_airport_fl_amt_bin', \n",
    "                'dest_0', \n",
    "                'weekday_0', 'weekday_1', 'weekday_2', 'weekday_3', 'weekday_4', \n",
    "                'weekday_5', 'weekday_6', \n",
    "                'origin_city_0', \n",
    "                'origin_state_0']    "
   ]
  },
  {
   "cell_type": "code",
   "execution_count": null,
   "id": "d0f917a2",
   "metadata": {},
   "outputs": [],
   "source": [
    "states_to_drop = [\n",
    " 'origin_state_CA',\n",
    " 'origin_state_CO',\n",
    " 'origin_state_FL',\n",
    " 'origin_state_GA',\n",
    " 'origin_state_IL',\n",
    " 'origin_state_NC',\n",
    " 'origin_state_NY',\n",
    " 'origin_state_PA',\n",
    " 'origin_state_TX',\n",
    " 'origin_state_WA', \n",
    " 'dest_state_CA',\n",
    " 'dest_state_CO',\n",
    " 'dest_state_FL',\n",
    " 'dest_state_GA',\n",
    " 'dest_state_IL',\n",
    " 'dest_state_NC',\n",
    " 'dest_state_NY',\n",
    " 'dest_state_PA',\n",
    " 'dest_state_TX',\n",
    " 'dest_state_WA',]"
   ]
  },
  {
   "cell_type": "code",
   "execution_count": 168,
   "id": "8e8f34ac",
   "metadata": {},
   "outputs": [
    {
     "data": {
      "text/plain": [
       "['distance_log',\n",
       " 'dep_hour_0',\n",
       " 'dep_hour_1',\n",
       " 'dep_hour_10',\n",
       " 'dep_hour_11',\n",
       " 'dep_hour_12',\n",
       " 'dep_hour_13',\n",
       " 'dep_hour_14',\n",
       " 'dep_hour_15',\n",
       " 'dep_hour_16',\n",
       " 'dep_hour_17',\n",
       " 'dep_hour_18',\n",
       " 'dep_hour_19',\n",
       " 'dep_hour_2',\n",
       " 'dep_hour_20',\n",
       " 'dep_hour_21',\n",
       " 'dep_hour_22',\n",
       " 'dep_hour_23',\n",
       " 'dep_hour_3',\n",
       " 'dep_hour_4',\n",
       " 'dep_hour_5',\n",
       " 'dep_hour_6',\n",
       " 'dep_hour_7',\n",
       " 'dep_hour_8',\n",
       " 'dep_hour_9',\n",
       " 'arr_hour_0',\n",
       " 'arr_hour_1',\n",
       " 'arr_hour_10',\n",
       " 'arr_hour_11',\n",
       " 'arr_hour_12',\n",
       " 'arr_hour_13',\n",
       " 'arr_hour_14',\n",
       " 'arr_hour_15',\n",
       " 'arr_hour_16',\n",
       " 'arr_hour_17',\n",
       " 'arr_hour_18',\n",
       " 'arr_hour_19',\n",
       " 'arr_hour_2',\n",
       " 'arr_hour_20',\n",
       " 'arr_hour_21',\n",
       " 'arr_hour_22',\n",
       " 'arr_hour_23',\n",
       " 'arr_hour_24',\n",
       " 'arr_hour_3',\n",
       " 'arr_hour_4',\n",
       " 'arr_hour_5',\n",
       " 'arr_hour_6',\n",
       " 'arr_hour_7',\n",
       " 'arr_hour_8',\n",
       " 'arr_hour_9',\n",
       " 'weekday',\n",
       " 'weekday_0',\n",
       " 'weekday_1',\n",
       " 'weekday_2',\n",
       " 'weekday_3',\n",
       " 'weekday_4',\n",
       " 'weekday_5',\n",
       " 'weekday_6',\n",
       " 'avg_carrier_delay',\n",
       " 'avg_weather_delay',\n",
       " 'avg_nas_delay',\n",
       " 'avg_security_delay',\n",
       " 'avg_late_aircraft_delay',\n",
       " 'origin_city_0',\n",
       " 'origin_city_Atlanta',\n",
       " 'origin_city_Charlotte',\n",
       " 'origin_city_Chicago',\n",
       " 'origin_city_Dallas/Fort Worth',\n",
       " 'origin_city_Denver',\n",
       " 'origin_city_Houston',\n",
       " 'origin_city_Los Angeles',\n",
       " 'origin_city_New York',\n",
       " 'origin_city_Seattle',\n",
       " 'origin_city_Washington',\n",
       " 'dest_city_0',\n",
       " 'dest_city_Atlanta',\n",
       " 'dest_city_Charlotte',\n",
       " 'dest_city_Chicago',\n",
       " 'dest_city_Dallas/Fort Worth',\n",
       " 'dest_city_Denver',\n",
       " 'dest_city_Houston',\n",
       " 'dest_city_Los Angeles',\n",
       " 'dest_city_New York',\n",
       " 'dest_city_Seattle',\n",
       " 'dest_city_Washington',\n",
       " 'dest_0',\n",
       " 'dest_ATL',\n",
       " 'dest_BOS',\n",
       " 'dest_CLT',\n",
       " 'dest_DEN',\n",
       " 'dest_DFW',\n",
       " 'dest_DTW',\n",
       " 'dest_EWR',\n",
       " 'dest_IAH',\n",
       " 'dest_JFK',\n",
       " 'dest_LAS',\n",
       " 'dest_LAX',\n",
       " 'dest_LGA',\n",
       " 'dest_MCO',\n",
       " 'dest_MSP',\n",
       " 'dest_ORD',\n",
       " 'dest_PHL',\n",
       " 'dest_PHX',\n",
       " 'dest_SEA',\n",
       " 'dest_SFO',\n",
       " 'dest_SLC',\n",
       " 'origin_0',\n",
       " 'origin_ATL',\n",
       " 'origin_BOS',\n",
       " 'origin_CLT',\n",
       " 'origin_DEN',\n",
       " 'origin_DFW',\n",
       " 'origin_DTW',\n",
       " 'origin_EWR',\n",
       " 'origin_IAH',\n",
       " 'origin_JFK',\n",
       " 'origin_LAS',\n",
       " 'origin_LAX',\n",
       " 'origin_LGA',\n",
       " 'origin_MCO',\n",
       " 'origin_MSP',\n",
       " 'origin_ORD',\n",
       " 'origin_PHL',\n",
       " 'origin_PHX',\n",
       " 'origin_SEA',\n",
       " 'origin_SFO',\n",
       " 'origin_SLC',\n",
       " 'origin_state_0',\n",
       " 'origin_state_CA',\n",
       " 'origin_state_CO',\n",
       " 'origin_state_FL',\n",
       " 'origin_state_GA',\n",
       " 'origin_state_IL',\n",
       " 'origin_state_NC',\n",
       " 'origin_state_NY',\n",
       " 'origin_state_PA',\n",
       " 'origin_state_TX',\n",
       " 'origin_state_WA',\n",
       " 'dest_state_0',\n",
       " 'dest_state_CA',\n",
       " 'dest_state_CO',\n",
       " 'dest_state_FL',\n",
       " 'dest_state_GA',\n",
       " 'dest_state_IL',\n",
       " 'dest_state_NC',\n",
       " 'dest_state_NY',\n",
       " 'dest_state_PA',\n",
       " 'dest_state_TX',\n",
       " 'dest_state_WA',\n",
       " 'mkt_unique_carrier_AA',\n",
       " 'mkt_unique_carrier_AS',\n",
       " 'mkt_unique_carrier_B6',\n",
       " 'mkt_unique_carrier_DL',\n",
       " 'mkt_unique_carrier_F9',\n",
       " 'mkt_unique_carrier_G4',\n",
       " 'mkt_unique_carrier_HA',\n",
       " 'mkt_unique_carrier_NK',\n",
       " 'mkt_unique_carrier_UA',\n",
       " 'mkt_unique_carrier_WN',\n",
       " 'origin_airport_fl_amt_bin',\n",
       " 'dest_airport_fl_amt_bin',\n",
       " 'log_crs_elapsed_time_bin_a',\n",
       " 'log_crs_elapsed_time_bin_b',\n",
       " 'log_crs_elapsed_time_bin_c',\n",
       " 'log_crs_elapsed_time_bin_d',\n",
       " 'log_crs_elapsed_time_bin_e',\n",
       " 'log_crs_elapsed_time_bin_f',\n",
       " 'log_crs_elapsed_time_bin_g',\n",
       " 'log_crs_elapsed_time_bin_h',\n",
       " 'log_crs_elapsed_time_bin_i',\n",
       " 'log_crs_elapsed_time_bin_j']"
      ]
     },
     "execution_count": 168,
     "metadata": {},
     "output_type": "execute_result"
    }
   ],
   "source": [
    "list(X.columns)"
   ]
  },
  {
   "cell_type": "code",
   "execution_count": 154,
   "id": "ddd8e419",
   "metadata": {},
   "outputs": [
    {
     "data": {
      "text/plain": [
       "0         1\n",
       "1         7\n",
       "2         1\n",
       "3         7\n",
       "4         1\n",
       "         ..\n",
       "321519    1\n",
       "321520    7\n",
       "321521    1\n",
       "321522    7\n",
       "321523    1\n",
       "Name: dest_airport_fl_amt_bin, Length: 321524, dtype: category\n",
       "Categories (7, int64): [1 < 2 < 3 < 4 < 5 < 6 < 7]"
      ]
     },
     "execution_count": 154,
     "metadata": {},
     "output_type": "execute_result"
    }
   ],
   "source": [
    "X.dest_airport_fl_amt_bin"
   ]
  },
  {
   "cell_type": "markdown",
   "id": "56495763",
   "metadata": {},
   "source": [
    "### Feature Selection"
   ]
  },
  {
   "cell_type": "code",
   "execution_count": 209,
   "id": "f6bbad6b",
   "metadata": {},
   "outputs": [],
   "source": [
    "y = df.arr_delay\n",
    "X = df.drop(columns=['arr_delay'])"
   ]
  },
  {
   "cell_type": "code",
   "execution_count": 198,
   "id": "9b2786a8",
   "metadata": {},
   "outputs": [],
   "source": [
    "from sklearn.feature_selection import SelectKBest\n",
    "from sklearn.feature_selection import chi2"
   ]
  },
  {
   "cell_type": "code",
   "execution_count": 223,
   "id": "9d8bbc63",
   "metadata": {},
   "outputs": [
    {
     "name": "stderr",
     "output_type": "stream",
     "text": [
      "C:\\Users\\jacky\\anaconda3\\envs\\bootcamp\\lib\\site-packages\\sklearn\\utils\\validation.py:956: FutureWarning: Arrays of bytes/strings is being converted to decimal numbers if dtype='numeric'. This behavior is deprecated in 0.24 and will be removed in 1.1 (renaming of 0.26). Please convert your data to numeric values explicitly instead.\n",
      "  X = check_array(\n"
     ]
    }
   ],
   "source": [
    "y = df.arr_delay.to_numpy()\n",
    "X = df.drop(columns=['arr_delay']).to_numpy()\n",
    "X_train, X_test, y_train, y_test = train_test_split(X, y, test_size=0.25)\n",
    "\n",
    "# Feature extraction\n",
    "\n",
    "test = SelectKBest(k=5)\n",
    "test.fit(X_train, y_train)\n",
    "\n",
    "# Set precision\n",
    "np.set_printoptions(precision=3)\n",
    "\n"
   ]
  },
  {
   "cell_type": "code",
   "execution_count": 225,
   "id": "9f148c47",
   "metadata": {},
   "outputs": [],
   "source": [
    "df_kbest = pd.DataFrame(data={'feature':X.columns, 'score':test.scores_})"
   ]
  },
  {
   "cell_type": "code",
   "execution_count": 255,
   "id": "7c250283",
   "metadata": {},
   "outputs": [
    {
     "data": {
      "text/html": [
       "<div>\n",
       "<style scoped>\n",
       "    .dataframe tbody tr th:only-of-type {\n",
       "        vertical-align: middle;\n",
       "    }\n",
       "\n",
       "    .dataframe tbody tr th {\n",
       "        vertical-align: top;\n",
       "    }\n",
       "\n",
       "    .dataframe thead th {\n",
       "        text-align: right;\n",
       "    }\n",
       "</style>\n",
       "<table border=\"1\" class=\"dataframe\">\n",
       "  <thead>\n",
       "    <tr style=\"text-align: right;\">\n",
       "      <th></th>\n",
       "      <th>feature</th>\n",
       "      <th>score</th>\n",
       "    </tr>\n",
       "  </thead>\n",
       "  <tbody>\n",
       "    <tr>\n",
       "      <th>1</th>\n",
       "      <td>dep_hour_0</td>\n",
       "      <td>1.081689</td>\n",
       "    </tr>\n",
       "    <tr>\n",
       "      <th>2</th>\n",
       "      <td>dep_hour_1</td>\n",
       "      <td>0.938924</td>\n",
       "    </tr>\n",
       "    <tr>\n",
       "      <th>3</th>\n",
       "      <td>dep_hour_10</td>\n",
       "      <td>0.932629</td>\n",
       "    </tr>\n",
       "    <tr>\n",
       "      <th>5</th>\n",
       "      <td>dep_hour_12</td>\n",
       "      <td>1.167193</td>\n",
       "    </tr>\n",
       "    <tr>\n",
       "      <th>6</th>\n",
       "      <td>dep_hour_13</td>\n",
       "      <td>1.285651</td>\n",
       "    </tr>\n",
       "    <tr>\n",
       "      <th>18</th>\n",
       "      <td>dep_hour_3</td>\n",
       "      <td>1.118276</td>\n",
       "    </tr>\n",
       "    <tr>\n",
       "      <th>19</th>\n",
       "      <td>dep_hour_4</td>\n",
       "      <td>0.895625</td>\n",
       "    </tr>\n",
       "    <tr>\n",
       "      <th>31</th>\n",
       "      <td>arr_hour_14</td>\n",
       "      <td>1.256504</td>\n",
       "    </tr>\n",
       "    <tr>\n",
       "      <th>32</th>\n",
       "      <td>arr_hour_15</td>\n",
       "      <td>1.156937</td>\n",
       "    </tr>\n",
       "    <tr>\n",
       "      <th>33</th>\n",
       "      <td>arr_hour_16</td>\n",
       "      <td>1.157165</td>\n",
       "    </tr>\n",
       "    <tr>\n",
       "      <th>42</th>\n",
       "      <td>arr_hour_24</td>\n",
       "      <td>1.046918</td>\n",
       "    </tr>\n",
       "    <tr>\n",
       "      <th>56</th>\n",
       "      <td>weekday_5</td>\n",
       "      <td>1.240534</td>\n",
       "    </tr>\n",
       "    <tr>\n",
       "      <th>76</th>\n",
       "      <td>dest_city_Charlotte</td>\n",
       "      <td>1.146948</td>\n",
       "    </tr>\n",
       "    <tr>\n",
       "      <th>79</th>\n",
       "      <td>dest_city_Denver</td>\n",
       "      <td>1.178628</td>\n",
       "    </tr>\n",
       "    <tr>\n",
       "      <th>88</th>\n",
       "      <td>dest_CLT</td>\n",
       "      <td>1.146948</td>\n",
       "    </tr>\n",
       "    <tr>\n",
       "      <th>89</th>\n",
       "      <td>dest_DEN</td>\n",
       "      <td>1.178628</td>\n",
       "    </tr>\n",
       "    <tr>\n",
       "      <th>98</th>\n",
       "      <td>dest_MCO</td>\n",
       "      <td>1.009278</td>\n",
       "    </tr>\n",
       "    <tr>\n",
       "      <th>140</th>\n",
       "      <td>dest_state_CO</td>\n",
       "      <td>1.265189</td>\n",
       "    </tr>\n",
       "    <tr>\n",
       "      <th>161</th>\n",
       "      <td>log_crs_elapsed_time_bin_a</td>\n",
       "      <td>0.910600</td>\n",
       "    </tr>\n",
       "  </tbody>\n",
       "</table>\n",
       "</div>"
      ],
      "text/plain": [
       "                        feature     score\n",
       "1                    dep_hour_0  1.081689\n",
       "2                    dep_hour_1  0.938924\n",
       "3                   dep_hour_10  0.932629\n",
       "5                   dep_hour_12  1.167193\n",
       "6                   dep_hour_13  1.285651\n",
       "18                   dep_hour_3  1.118276\n",
       "19                   dep_hour_4  0.895625\n",
       "31                  arr_hour_14  1.256504\n",
       "32                  arr_hour_15  1.156937\n",
       "33                  arr_hour_16  1.157165\n",
       "42                  arr_hour_24  1.046918\n",
       "56                    weekday_5  1.240534\n",
       "76          dest_city_Charlotte  1.146948\n",
       "79             dest_city_Denver  1.178628\n",
       "88                     dest_CLT  1.146948\n",
       "89                     dest_DEN  1.178628\n",
       "98                     dest_MCO  1.009278\n",
       "140               dest_state_CO  1.265189\n",
       "161  log_crs_elapsed_time_bin_a  0.910600"
      ]
     },
     "execution_count": 255,
     "metadata": {},
     "output_type": "execute_result"
    }
   ],
   "source": [
    "df_kbest[df_kbest.score < 1.3]"
   ]
  },
  {
   "cell_type": "code",
   "execution_count": 262,
   "id": "f1fe912d",
   "metadata": {},
   "outputs": [
    {
     "name": "stderr",
     "output_type": "stream",
     "text": [
      "C:\\Users\\jacky\\anaconda3\\envs\\bootcamp\\lib\\site-packages\\sklearn\\utils\\validation.py:956: FutureWarning: Arrays of bytes/strings is being converted to decimal numbers if dtype='numeric'. This behavior is deprecated in 0.24 and will be removed in 1.1 (renaming of 0.26). Please convert your data to numeric values explicitly instead.\n",
      "  X = check_array(\n"
     ]
    },
    {
     "name": "stdout",
     "output_type": "stream",
     "text": [
      "Fitting estimator with 171 features.\n",
      "Fitting estimator with 170 features.\n",
      "Fitting estimator with 169 features.\n",
      "Fitting estimator with 168 features.\n",
      "Fitting estimator with 167 features.\n",
      "Fitting estimator with 166 features.\n",
      "Fitting estimator with 165 features.\n",
      "Fitting estimator with 164 features.\n",
      "Fitting estimator with 163 features.\n",
      "Fitting estimator with 162 features.\n",
      "Fitting estimator with 161 features.\n",
      "Fitting estimator with 160 features.\n",
      "Fitting estimator with 159 features.\n",
      "Fitting estimator with 158 features.\n",
      "Fitting estimator with 157 features.\n",
      "Fitting estimator with 156 features.\n",
      "Fitting estimator with 155 features.\n",
      "Fitting estimator with 154 features.\n",
      "Fitting estimator with 153 features.\n",
      "Fitting estimator with 152 features.\n",
      "Fitting estimator with 151 features.\n",
      "Fitting estimator with 150 features.\n",
      "Fitting estimator with 149 features.\n",
      "Fitting estimator with 148 features.\n",
      "Fitting estimator with 147 features.\n",
      "Fitting estimator with 146 features.\n",
      "Fitting estimator with 145 features.\n",
      "Fitting estimator with 144 features.\n",
      "Fitting estimator with 143 features.\n",
      "Fitting estimator with 142 features.\n",
      "Fitting estimator with 141 features.\n",
      "Fitting estimator with 140 features.\n",
      "Fitting estimator with 139 features.\n",
      "Fitting estimator with 138 features.\n",
      "Fitting estimator with 137 features.\n",
      "Fitting estimator with 136 features.\n",
      "Fitting estimator with 135 features.\n",
      "Fitting estimator with 134 features.\n",
      "Fitting estimator with 133 features.\n",
      "Fitting estimator with 132 features.\n",
      "Fitting estimator with 131 features.\n",
      "Fitting estimator with 130 features.\n",
      "Fitting estimator with 129 features.\n",
      "Fitting estimator with 128 features.\n",
      "Fitting estimator with 127 features.\n",
      "Fitting estimator with 126 features.\n",
      "Fitting estimator with 125 features.\n",
      "Fitting estimator with 124 features.\n",
      "Fitting estimator with 123 features.\n",
      "Fitting estimator with 122 features.\n",
      "Fitting estimator with 121 features.\n",
      "Fitting estimator with 120 features.\n",
      "Num Features: 136\n",
      "Selected Features: [False  True False  True  True  True  True  True  True  True  True  True\n",
      " False  True False  True  True  True  True  True False False False  True\n",
      "  True  True  True  True  True  True  True  True  True  True  True  True\n",
      "  True  True  True  True  True  True  True  True  True  True  True  True\n",
      "  True  True False  True  True  True  True  True  True  True False False\n",
      " False False False False  True  True False  True  True False  True  True\n",
      " False False  True  True  True  True  True  True  True  True  True  True\n",
      "  True  True False  True  True  True  True  True  True  True  True  True\n",
      " False  True  True  True  True  True  True  True  True  True False  True\n",
      " False  True  True  True False False False  True False  True  True False\n",
      " False False False False False False False  True  True  True  True  True\n",
      "  True  True  True  True  True  True  True  True  True  True  True  True\n",
      "  True  True  True  True  True  True  True  True  True  True  True  True\n",
      "  True  True  True False  True  True  True  True  True  True  True  True\n",
      "  True  True  True]\n",
      "Feature Ranking: [31  1  3  1  1  1  1  1  1  1  1  1  2  1  4  1  1  1  1  1  7  6  5  1\n",
      "  1  1  1  1  1  1  1  1  1  1  1  1  1  1  1  1  1  1  1  1  1  1  1  1\n",
      "  1  1 11  1  1  1  1  1  1  1 34 36 32 35 33 26  1  1 28  1  1 27  1  1\n",
      " 10 25  1  1  1  1  1  1  1  1  1  1  1  1 29  1  1  1  1  1  1  1  1  1\n",
      "  8  1  1  1  1  1  1  1  1  1 19  1 22  1  1  1 23 13 17  1 15  1  1 21\n",
      " 24 18 20 16  9 12 14  1  1  1  1  1  1  1  1  1  1  1  1  1  1  1  1  1\n",
      "  1  1  1  1  1  1  1  1  1  1  1  1  1  1  1 30  1  1  1  1  1  1  1  1\n",
      "  1  1  1]\n"
     ]
    }
   ],
   "source": [
    "# Import your necessary dependencies\n",
    "from sklearn.feature_selection import RFE\n",
    "from sklearn.linear_model import LinearRegression\n",
    "\n",
    "y = df.arr_delay.to_numpy()\n",
    "X = df.drop(columns=['arr_delay']).to_numpy()\n",
    "\n",
    "model = LinearRegression()\n",
    "rfe = RFE(model, n_features_to_select=0.7, verbose=True)\n",
    "rfe.fit(X_train, y_train)\n",
    "print(\"Num Features: %s\" % (fit.n_features_))\n",
    "print(\"Selected Features: %s\" % (fit.support_))\n",
    "print(\"Feature Ranking: %s\" % (fit.ranking_))"
   ]
  },
  {
   "cell_type": "code",
   "execution_count": 263,
   "id": "02ffcdcb",
   "metadata": {},
   "outputs": [
    {
     "data": {
      "text/plain": [
       "Index(['distance_log', 'dep_hour_1', 'dep_hour_19', 'dep_hour_20',\n",
       "       'dep_hour_5', 'dep_hour_6', 'dep_hour_7', 'weekday',\n",
       "       'avg_carrier_delay', 'avg_weather_delay', 'avg_nas_delay',\n",
       "       'avg_security_delay', 'avg_late_aircraft_delay', 'origin_city_0',\n",
       "       'origin_city_Chicago', 'origin_city_Houston', 'origin_city_Seattle',\n",
       "       'origin_city_Washington', 'dest_ATL', 'dest_LAX', 'origin_0',\n",
       "       'origin_BOS', 'origin_DTW', 'origin_EWR', 'origin_IAH', 'origin_LAS',\n",
       "       'origin_MCO', 'origin_MSP', 'origin_ORD', 'origin_PHL', 'origin_PHX',\n",
       "       'origin_SEA', 'origin_SFO', 'origin_SLC', 'origin_airport_fl_amt_bin'],\n",
       "      dtype='object')"
      ]
     },
     "execution_count": 263,
     "metadata": {},
     "output_type": "execute_result"
    }
   ],
   "source": [
    "X.columns[~fit.support_]"
   ]
  },
  {
   "cell_type": "code",
   "execution_count": 276,
   "id": "eab7feb0",
   "metadata": {},
   "outputs": [
    {
     "data": {
      "text/plain": [
       "['dep_hour_0',\n",
       " 'dep_hour_10',\n",
       " 'dep_hour_11',\n",
       " 'dep_hour_12',\n",
       " 'dep_hour_13',\n",
       " 'dep_hour_14',\n",
       " 'dep_hour_15',\n",
       " 'dep_hour_16',\n",
       " 'dep_hour_17',\n",
       " 'dep_hour_18',\n",
       " 'dep_hour_2',\n",
       " 'dep_hour_21',\n",
       " 'dep_hour_22',\n",
       " 'dep_hour_23',\n",
       " 'dep_hour_3',\n",
       " 'dep_hour_4',\n",
       " 'dep_hour_8',\n",
       " 'dep_hour_9',\n",
       " 'arr_hour_0',\n",
       " 'arr_hour_1',\n",
       " 'arr_hour_10',\n",
       " 'arr_hour_11',\n",
       " 'arr_hour_12',\n",
       " 'arr_hour_13',\n",
       " 'arr_hour_14',\n",
       " 'arr_hour_15',\n",
       " 'arr_hour_16',\n",
       " 'arr_hour_17',\n",
       " 'arr_hour_18',\n",
       " 'arr_hour_19',\n",
       " 'arr_hour_2',\n",
       " 'arr_hour_20',\n",
       " 'arr_hour_21',\n",
       " 'arr_hour_22',\n",
       " 'arr_hour_23',\n",
       " 'arr_hour_24',\n",
       " 'arr_hour_3',\n",
       " 'arr_hour_4',\n",
       " 'arr_hour_5',\n",
       " 'arr_hour_6',\n",
       " 'arr_hour_7',\n",
       " 'arr_hour_8',\n",
       " 'arr_hour_9',\n",
       " 'weekday_0',\n",
       " 'weekday_1',\n",
       " 'weekday_2',\n",
       " 'weekday_3',\n",
       " 'weekday_4',\n",
       " 'weekday_5',\n",
       " 'weekday_6',\n",
       " 'origin_city_Atlanta',\n",
       " 'origin_city_Charlotte',\n",
       " 'origin_city_Dallas/Fort Worth',\n",
       " 'origin_city_Denver',\n",
       " 'origin_city_Los Angeles',\n",
       " 'origin_city_New York',\n",
       " 'dest_city_0',\n",
       " 'dest_city_Atlanta',\n",
       " 'dest_city_Charlotte',\n",
       " 'dest_city_Chicago',\n",
       " 'dest_city_Dallas/Fort Worth',\n",
       " 'dest_city_Denver',\n",
       " 'dest_city_Houston',\n",
       " 'dest_city_Los Angeles',\n",
       " 'dest_city_New York',\n",
       " 'dest_city_Seattle',\n",
       " 'dest_city_Washington',\n",
       " 'dest_0',\n",
       " 'dest_BOS',\n",
       " 'dest_CLT',\n",
       " 'dest_DEN',\n",
       " 'dest_DFW',\n",
       " 'dest_DTW',\n",
       " 'dest_EWR',\n",
       " 'dest_IAH',\n",
       " 'dest_JFK',\n",
       " 'dest_LAS',\n",
       " 'dest_LGA',\n",
       " 'dest_MCO',\n",
       " 'dest_MSP',\n",
       " 'dest_ORD',\n",
       " 'dest_PHL',\n",
       " 'dest_PHX',\n",
       " 'dest_SEA',\n",
       " 'dest_SFO',\n",
       " 'dest_SLC',\n",
       " 'origin_ATL',\n",
       " 'origin_CLT',\n",
       " 'origin_DEN',\n",
       " 'origin_DFW',\n",
       " 'origin_JFK',\n",
       " 'origin_LAX',\n",
       " 'origin_LGA',\n",
       " 'origin_state_0',\n",
       " 'origin_state_CA',\n",
       " 'origin_state_CO',\n",
       " 'origin_state_FL',\n",
       " 'origin_state_GA',\n",
       " 'origin_state_IL',\n",
       " 'origin_state_NC',\n",
       " 'origin_state_NY',\n",
       " 'origin_state_PA',\n",
       " 'origin_state_TX',\n",
       " 'origin_state_WA',\n",
       " 'dest_state_0',\n",
       " 'dest_state_CA',\n",
       " 'dest_state_CO',\n",
       " 'dest_state_FL',\n",
       " 'dest_state_GA',\n",
       " 'dest_state_IL',\n",
       " 'dest_state_NC',\n",
       " 'dest_state_NY',\n",
       " 'dest_state_PA',\n",
       " 'dest_state_TX',\n",
       " 'dest_state_WA',\n",
       " 'mkt_unique_carrier_AA',\n",
       " 'mkt_unique_carrier_AS',\n",
       " 'mkt_unique_carrier_B6',\n",
       " 'mkt_unique_carrier_DL',\n",
       " 'mkt_unique_carrier_F9',\n",
       " 'mkt_unique_carrier_G4',\n",
       " 'mkt_unique_carrier_HA',\n",
       " 'mkt_unique_carrier_NK',\n",
       " 'mkt_unique_carrier_UA',\n",
       " 'mkt_unique_carrier_WN',\n",
       " 'dest_airport_fl_amt_bin',\n",
       " 'log_crs_elapsed_time_bin_a',\n",
       " 'log_crs_elapsed_time_bin_b',\n",
       " 'log_crs_elapsed_time_bin_c',\n",
       " 'log_crs_elapsed_time_bin_d',\n",
       " 'log_crs_elapsed_time_bin_e',\n",
       " 'log_crs_elapsed_time_bin_f',\n",
       " 'log_crs_elapsed_time_bin_g',\n",
       " 'log_crs_elapsed_time_bin_h',\n",
       " 'log_crs_elapsed_time_bin_i',\n",
       " 'log_crs_elapsed_time_bin_j']"
      ]
     },
     "execution_count": 276,
     "metadata": {},
     "output_type": "execute_result"
    }
   ],
   "source": [
    "list(X.columns[fit.ranking_ == 1])"
   ]
  },
  {
   "cell_type": "markdown",
   "id": "8cce4ee1",
   "metadata": {},
   "source": [
    "### PCA Analysis"
   ]
  },
  {
   "cell_type": "code",
   "execution_count": 290,
   "id": "99c7abf1",
   "metadata": {},
   "outputs": [
    {
     "data": {
      "text/plain": [
       "PCA()"
      ]
     },
     "execution_count": 290,
     "metadata": {},
     "output_type": "execute_result"
    }
   ],
   "source": [
    "from sklearn.decomposition import PCA\n",
    "\n",
    "y = df.arr_delay.to_numpy()\n",
    "X = df.drop(columns=['arr_delay']).to_numpy()\n",
    "\n",
    "pca = PCA()\n",
    "pca.fit(X_train, y_train)"
   ]
  },
  {
   "cell_type": "code",
   "execution_count": 296,
   "id": "c913a81d",
   "metadata": {},
   "outputs": [
    {
     "data": {
      "image/png": "[encoded data removed]",
      "text/plain": [
       "<Figure size 360x3600 with 1 Axes>"
      ]
     },
     "metadata": {
      "needs_background": "light"
     },
     "output_type": "display_data"
    }
   ],
   "source": [
    "plt.figure(figsize=(5, 50))\n",
    "plt.barh(y=X.columns, width=pca.explained_variance_ratio_);"
   ]
  },
  {
   "cell_type": "code",
   "execution_count": 308,
   "id": "9a5fc07b",
   "metadata": {},
   "outputs": [
    {
     "data": {
      "text/plain": [
       "array([ True,  True,  True,  True,  True,  True,  True,  True,  True,\n",
       "        True,  True,  True,  True,  True,  True,  True,  True,  True,\n",
       "        True,  True,  True,  True,  True,  True,  True,  True,  True,\n",
       "        True,  True,  True,  True,  True,  True,  True,  True,  True,\n",
       "        True,  True,  True,  True,  True,  True,  True,  True,  True,\n",
       "        True,  True,  True,  True,  True,  True,  True,  True,  True,\n",
       "        True,  True,  True,  True,  True,  True,  True,  True,  True,\n",
       "        True,  True,  True,  True,  True,  True,  True,  True,  True,\n",
       "        True,  True,  True,  True,  True,  True,  True,  True,  True,\n",
       "        True,  True,  True,  True,  True,  True,  True,  True,  True,\n",
       "        True,  True,  True,  True,  True,  True,  True,  True,  True,\n",
       "        True,  True,  True,  True,  True,  True,  True,  True,  True,\n",
       "        True,  True,  True,  True,  True,  True,  True,  True,  True,\n",
       "        True,  True,  True,  True,  True,  True,  True,  True,  True,\n",
       "        True,  True,  True,  True,  True,  True,  True,  True,  True,\n",
       "        True,  True,  True,  True,  True,  True,  True,  True,  True,\n",
       "        True,  True,  True,  True,  True,  True,  True,  True,  True,\n",
       "        True,  True,  True,  True,  True,  True,  True,  True,  True,\n",
       "        True,  True,  True,  True,  True,  True, False, False, False])"
      ]
     },
     "execution_count": 308,
     "metadata": {},
     "output_type": "execute_result"
    }
   ],
   "source": [
    "np.cumsum(pca.explained_variance_ratio_) < 0.40"
   ]
  },
  {
   "cell_type": "markdown",
   "id": "5fa9e30f",
   "metadata": {},
   "source": [
    "### XGBOOST"
   ]
  },
  {
   "cell_type": "code",
   "execution_count": 343,
   "id": "ae64528b",
   "metadata": {},
   "outputs": [
    {
     "name": "stdout",
     "output_type": "stream",
     "text": [
      "MSE: 267.2912702715599 R2: 0.09046366009705165\n"
     ]
    }
   ],
   "source": [
    "# XGboost model\n",
    "import xgboost as xgb\n",
    "from sklearn.metrics import mean_squared_error, r2_score\n",
    "from sklearn.model_selection import train_test_split\n",
    "\n",
    "y = df.arr_delay.to_numpy()\n",
    "X = df.drop(columns=['arr_delay']).to_numpy()\n",
    "X_train, X_test, y_train, y_test = train_test_split(X, y, test_size=0.25)\n",
    "data_dmatrix = xgb.DMatrix(data=X_train,label=y_train)\n",
    "\n",
    "xgb = xgb.XGBRegressor(learning_rate = 1.1,\n",
    "                       max_depth = 6, \n",
    "                       alpha = 51, \n",
    "                       n_estimators = 20, \n",
    "                       n_jobs=-1, \n",
    "                       )\n",
    "\n",
    "xgb.fit(X_train, y_train)\n",
    "y_pred = xgb.predict(X_test)\n",
    "print(f'MSE: {mean_squared_error(y_test, y_pred)}', f'R2: {r2_score(y_test, y_pred)}')"
   ]
  },
  {
   "cell_type": "code",
   "execution_count": 345,
   "id": "14007a82",
   "metadata": {
    "scrolled": true
   },
   "outputs": [
    {
     "name": "stdout",
     "output_type": "stream",
     "text": [
      "Fitting 5 folds for each of 640 candidates, totalling 3200 fits\n"
     ]
    },
    {
     "data": {
      "text/plain": [
       "GridSearchCV(cv=5, error_score='raise',\n",
       "             estimator=XGBRegressor(base_score=None, booster=None,\n",
       "                                    colsample_bylevel=None,\n",
       "                                    colsample_bynode=None,\n",
       "                                    colsample_bytree=None, gamma=None,\n",
       "                                    gpu_id=None, importance_type='gain',\n",
       "                                    interaction_constraints=None,\n",
       "                                    learning_rate=None, max_delta_step=None,\n",
       "                                    max_depth=None, min_child_weight=None,\n",
       "                                    missing=nan, monotone_constraints=None,\n",
       "                                    n_es...\n",
       "                                    reg_alpha=None, reg_lambda=None,\n",
       "                                    scale_pos_weight=None, subsample=None,\n",
       "                                    tree_method=None, validate_parameters=None,\n",
       "                                    verbosity=None),\n",
       "             n_jobs=-1,\n",
       "             param_grid={'colsample_bytree': array([0.3, 0.4]),\n",
       "                         'gamma': array([5, 8]),\n",
       "                         'learning_rate': array([0.5, 0.6, 0.7, 0.8, 0.9, 1. , 1.1, 1.2, 1.3, 1.4]),\n",
       "                         'max_depth': array([5, 6, 7, 8]),\n",
       "                         'n_estimators': array([15, 20]),\n",
       "                         'reg_alpha': array([10, 15])},\n",
       "             verbose=True)"
      ]
     },
     "execution_count": 345,
     "metadata": {},
     "output_type": "execute_result"
    }
   ],
   "source": [
    "# Grid Search for XBBoost\n",
    "# DON'T RUN\n",
    "from sklearn.model_selection import GridSearchCV\n",
    "# import xgboost as xgb\n",
    "from xgboost import XGBRegressor\n",
    "\n",
    "y = df.arr_delay.to_numpy()\n",
    "X = df.drop(columns=['arr_delay']).to_numpy()\n",
    "X_train, X_test, y_train, y_test = train_test_split(X, y, test_size=0.2)\n",
    "xgb = XGBRegressor()\n",
    "\n",
    "params = {\n",
    "    'learning_rate': np.arange(0.5, 1.5, 0.1),\n",
    "    'max_depth': np.arange(5, 9, 1),\n",
    "    'reg_alpha': np.arange(10, 20, 5),\n",
    "    'n_estimators': np.arange(15, 25, 5),\n",
    "    'colsample_bytree': np.arange(0.3, 0.5, 0.1),\n",
    "    'gamma': np.arange(5, 10, 3)\n",
    "}\n",
    "\n",
    "xgb_grid_search = GridSearchCV(xgb, \n",
    "                               param_grid=params, \n",
    "                               cv=5, \n",
    "                               n_jobs=-1, \n",
    "                               error_score='raise', \n",
    "                               verbose=True)\n",
    "xgb_grid_search.fit(X_train, y_train)"
   ]
  },
  {
   "cell_type": "code",
   "execution_count": null,
   "id": "525942cf",
   "metadata": {},
   "outputs": [],
   "source": [
    "grid_search.best_score_"
   ]
  },
  {
   "cell_type": "markdown",
   "id": "487c745f",
   "metadata": {},
   "source": [
    "### SVM "
   ]
  },
  {
   "cell_type": "code",
   "execution_count": 347,
   "id": "9f6b20ba",
   "metadata": {},
   "outputs": [
    {
     "name": "stdout",
     "output_type": "stream",
     "text": [
      "Fitting 5 folds for each of 150 candidates, totalling 750 fits\n"
     ]
    },
    {
     "name": "stderr",
     "output_type": "stream",
     "text": [
      "C:\\Users\\jacky\\anaconda3\\envs\\bootcamp\\lib\\site-packages\\joblib\\externals\\loky\\process_executor.py:702: UserWarning: A worker stopped while some jobs were given to the executor. This can be caused by a too short worker timeout or by a memory leak.\n",
      "  warnings.warn(\n"
     ]
    },
    {
     "ename": "ValueError",
     "evalue": "Invalid parameter probabilitybool for estimator SVC(degree=2). Check the list of available parameters with `estimator.get_params().keys()`.",
     "output_type": "error",
     "traceback": [
      "\u001b[1;31m---------------------------------------------------------------------------\u001b[0m",
      "\u001b[1;31m_RemoteTraceback\u001b[0m                          Traceback (most recent call last)",
      "\u001b[1;31m_RemoteTraceback\u001b[0m: \n\"\"\"\nTraceback (most recent call last):\n  File \"C:\\Users\\jacky\\anaconda3\\envs\\bootcamp\\lib\\site-packages\\joblib\\externals\\loky\\process_executor.py\", line 436, in _process_worker\n    r = call_item()\n  File \"C:\\Users\\jacky\\anaconda3\\envs\\bootcamp\\lib\\site-packages\\joblib\\externals\\loky\\process_executor.py\", line 288, in __call__\n    return self.fn(*self.args, **self.kwargs)\n  File \"C:\\Users\\jacky\\anaconda3\\envs\\bootcamp\\lib\\site-packages\\joblib\\_parallel_backends.py\", line 595, in __call__\n    return self.func(*args, **kwargs)\n  File \"C:\\Users\\jacky\\anaconda3\\envs\\bootcamp\\lib\\site-packages\\joblib\\parallel.py\", line 262, in __call__\n    return [func(*args, **kwargs)\n  File \"C:\\Users\\jacky\\anaconda3\\envs\\bootcamp\\lib\\site-packages\\joblib\\parallel.py\", line 262, in <listcomp>\n    return [func(*args, **kwargs)\n  File \"C:\\Users\\jacky\\anaconda3\\envs\\bootcamp\\lib\\site-packages\\sklearn\\utils\\fixes.py\", line 209, in __call__\n    return self.function(*args, **kwargs)\n  File \"C:\\Users\\jacky\\anaconda3\\envs\\bootcamp\\lib\\site-packages\\sklearn\\model_selection\\_validation.py\", line 669, in _fit_and_score\n    estimator = estimator.set_params(**cloned_parameters)\n  File \"C:\\Users\\jacky\\anaconda3\\envs\\bootcamp\\lib\\site-packages\\sklearn\\base.py\", line 240, in set_params\n    raise ValueError(\nValueError: Invalid parameter probabilitybool for estimator SVC(degree=2). Check the list of available parameters with `estimator.get_params().keys()`.\n\"\"\"",
      "\nThe above exception was the direct cause of the following exception:\n",
      "\u001b[1;31mValueError\u001b[0m                                Traceback (most recent call last)",
      "\u001b[1;32m<ipython-input-347-adc61a1c80a5>\u001b[0m in \u001b[0;36m<module>\u001b[1;34m\u001b[0m\n\u001b[0;32m     22\u001b[0m                            \u001b[0merror_score\u001b[0m\u001b[1;33m=\u001b[0m\u001b[1;34m'raise'\u001b[0m\u001b[1;33m,\u001b[0m\u001b[1;33m\u001b[0m\u001b[1;33m\u001b[0m\u001b[0m\n\u001b[0;32m     23\u001b[0m                            verbose=True)\n\u001b[1;32m---> 24\u001b[1;33m \u001b[0msvm_grid_search\u001b[0m\u001b[1;33m.\u001b[0m\u001b[0mfit\u001b[0m\u001b[1;33m(\u001b[0m\u001b[0mX_train\u001b[0m\u001b[1;33m,\u001b[0m \u001b[0my_train\u001b[0m\u001b[1;33m)\u001b[0m\u001b[1;33m\u001b[0m\u001b[1;33m\u001b[0m\u001b[0m\n\u001b[0m",
      "\u001b[1;32m~\\anaconda3\\envs\\bootcamp\\lib\\site-packages\\sklearn\\model_selection\\_search.py\u001b[0m in \u001b[0;36mfit\u001b[1;34m(self, X, y, groups, **fit_params)\u001b[0m\n\u001b[0;32m    889\u001b[0m                 \u001b[1;32mreturn\u001b[0m \u001b[0mresults\u001b[0m\u001b[1;33m\u001b[0m\u001b[1;33m\u001b[0m\u001b[0m\n\u001b[0;32m    890\u001b[0m \u001b[1;33m\u001b[0m\u001b[0m\n\u001b[1;32m--> 891\u001b[1;33m             \u001b[0mself\u001b[0m\u001b[1;33m.\u001b[0m\u001b[0m_run_search\u001b[0m\u001b[1;33m(\u001b[0m\u001b[0mevaluate_candidates\u001b[0m\u001b[1;33m)\u001b[0m\u001b[1;33m\u001b[0m\u001b[1;33m\u001b[0m\u001b[0m\n\u001b[0m\u001b[0;32m    892\u001b[0m \u001b[1;33m\u001b[0m\u001b[0m\n\u001b[0;32m    893\u001b[0m             \u001b[1;31m# multimetric is determined here because in the case of a callable\u001b[0m\u001b[1;33m\u001b[0m\u001b[1;33m\u001b[0m\u001b[1;33m\u001b[0m\u001b[0m\n",
      "\u001b[1;32m~\\anaconda3\\envs\\bootcamp\\lib\\site-packages\\sklearn\\model_selection\\_search.py\u001b[0m in \u001b[0;36m_run_search\u001b[1;34m(self, evaluate_candidates)\u001b[0m\n\u001b[0;32m   1390\u001b[0m     \u001b[1;32mdef\u001b[0m \u001b[0m_run_search\u001b[0m\u001b[1;33m(\u001b[0m\u001b[0mself\u001b[0m\u001b[1;33m,\u001b[0m \u001b[0mevaluate_candidates\u001b[0m\u001b[1;33m)\u001b[0m\u001b[1;33m:\u001b[0m\u001b[1;33m\u001b[0m\u001b[1;33m\u001b[0m\u001b[0m\n\u001b[0;32m   1391\u001b[0m         \u001b[1;34m\"\"\"Search all candidates in param_grid\"\"\"\u001b[0m\u001b[1;33m\u001b[0m\u001b[1;33m\u001b[0m\u001b[0m\n\u001b[1;32m-> 1392\u001b[1;33m         \u001b[0mevaluate_candidates\u001b[0m\u001b[1;33m(\u001b[0m\u001b[0mParameterGrid\u001b[0m\u001b[1;33m(\u001b[0m\u001b[0mself\u001b[0m\u001b[1;33m.\u001b[0m\u001b[0mparam_grid\u001b[0m\u001b[1;33m)\u001b[0m\u001b[1;33m)\u001b[0m\u001b[1;33m\u001b[0m\u001b[1;33m\u001b[0m\u001b[0m\n\u001b[0m\u001b[0;32m   1393\u001b[0m \u001b[1;33m\u001b[0m\u001b[0m\n\u001b[0;32m   1394\u001b[0m \u001b[1;33m\u001b[0m\u001b[0m\n",
      "\u001b[1;32m~\\anaconda3\\envs\\bootcamp\\lib\\site-packages\\sklearn\\model_selection\\_search.py\u001b[0m in \u001b[0;36mevaluate_candidates\u001b[1;34m(candidate_params, cv, more_results)\u001b[0m\n\u001b[0;32m    836\u001b[0m                     )\n\u001b[0;32m    837\u001b[0m \u001b[1;33m\u001b[0m\u001b[0m\n\u001b[1;32m--> 838\u001b[1;33m                 out = parallel(\n\u001b[0m\u001b[0;32m    839\u001b[0m                     delayed(_fit_and_score)(\n\u001b[0;32m    840\u001b[0m                         \u001b[0mclone\u001b[0m\u001b[1;33m(\u001b[0m\u001b[0mbase_estimator\u001b[0m\u001b[1;33m)\u001b[0m\u001b[1;33m,\u001b[0m\u001b[1;33m\u001b[0m\u001b[1;33m\u001b[0m\u001b[0m\n",
      "\u001b[1;32m~\\anaconda3\\envs\\bootcamp\\lib\\site-packages\\joblib\\parallel.py\u001b[0m in \u001b[0;36m__call__\u001b[1;34m(self, iterable)\u001b[0m\n\u001b[0;32m   1054\u001b[0m \u001b[1;33m\u001b[0m\u001b[0m\n\u001b[0;32m   1055\u001b[0m             \u001b[1;32mwith\u001b[0m \u001b[0mself\u001b[0m\u001b[1;33m.\u001b[0m\u001b[0m_backend\u001b[0m\u001b[1;33m.\u001b[0m\u001b[0mretrieval_context\u001b[0m\u001b[1;33m(\u001b[0m\u001b[1;33m)\u001b[0m\u001b[1;33m:\u001b[0m\u001b[1;33m\u001b[0m\u001b[1;33m\u001b[0m\u001b[0m\n\u001b[1;32m-> 1056\u001b[1;33m                 \u001b[0mself\u001b[0m\u001b[1;33m.\u001b[0m\u001b[0mretrieve\u001b[0m\u001b[1;33m(\u001b[0m\u001b[1;33m)\u001b[0m\u001b[1;33m\u001b[0m\u001b[1;33m\u001b[0m\u001b[0m\n\u001b[0m\u001b[0;32m   1057\u001b[0m             \u001b[1;31m# Make sure that we get a last message telling us we are done\u001b[0m\u001b[1;33m\u001b[0m\u001b[1;33m\u001b[0m\u001b[1;33m\u001b[0m\u001b[0m\n\u001b[0;32m   1058\u001b[0m             \u001b[0melapsed_time\u001b[0m \u001b[1;33m=\u001b[0m \u001b[0mtime\u001b[0m\u001b[1;33m.\u001b[0m\u001b[0mtime\u001b[0m\u001b[1;33m(\u001b[0m\u001b[1;33m)\u001b[0m \u001b[1;33m-\u001b[0m \u001b[0mself\u001b[0m\u001b[1;33m.\u001b[0m\u001b[0m_start_time\u001b[0m\u001b[1;33m\u001b[0m\u001b[1;33m\u001b[0m\u001b[0m\n",
      "\u001b[1;32m~\\anaconda3\\envs\\bootcamp\\lib\\site-packages\\joblib\\parallel.py\u001b[0m in \u001b[0;36mretrieve\u001b[1;34m(self)\u001b[0m\n\u001b[0;32m    933\u001b[0m             \u001b[1;32mtry\u001b[0m\u001b[1;33m:\u001b[0m\u001b[1;33m\u001b[0m\u001b[1;33m\u001b[0m\u001b[0m\n\u001b[0;32m    934\u001b[0m                 \u001b[1;32mif\u001b[0m \u001b[0mgetattr\u001b[0m\u001b[1;33m(\u001b[0m\u001b[0mself\u001b[0m\u001b[1;33m.\u001b[0m\u001b[0m_backend\u001b[0m\u001b[1;33m,\u001b[0m \u001b[1;34m'supports_timeout'\u001b[0m\u001b[1;33m,\u001b[0m \u001b[1;32mFalse\u001b[0m\u001b[1;33m)\u001b[0m\u001b[1;33m:\u001b[0m\u001b[1;33m\u001b[0m\u001b[1;33m\u001b[0m\u001b[0m\n\u001b[1;32m--> 935\u001b[1;33m                     \u001b[0mself\u001b[0m\u001b[1;33m.\u001b[0m\u001b[0m_output\u001b[0m\u001b[1;33m.\u001b[0m\u001b[0mextend\u001b[0m\u001b[1;33m(\u001b[0m\u001b[0mjob\u001b[0m\u001b[1;33m.\u001b[0m\u001b[0mget\u001b[0m\u001b[1;33m(\u001b[0m\u001b[0mtimeout\u001b[0m\u001b[1;33m=\u001b[0m\u001b[0mself\u001b[0m\u001b[1;33m.\u001b[0m\u001b[0mtimeout\u001b[0m\u001b[1;33m)\u001b[0m\u001b[1;33m)\u001b[0m\u001b[1;33m\u001b[0m\u001b[1;33m\u001b[0m\u001b[0m\n\u001b[0m\u001b[0;32m    936\u001b[0m                 \u001b[1;32melse\u001b[0m\u001b[1;33m:\u001b[0m\u001b[1;33m\u001b[0m\u001b[1;33m\u001b[0m\u001b[0m\n\u001b[0;32m    937\u001b[0m                     \u001b[0mself\u001b[0m\u001b[1;33m.\u001b[0m\u001b[0m_output\u001b[0m\u001b[1;33m.\u001b[0m\u001b[0mextend\u001b[0m\u001b[1;33m(\u001b[0m\u001b[0mjob\u001b[0m\u001b[1;33m.\u001b[0m\u001b[0mget\u001b[0m\u001b[1;33m(\u001b[0m\u001b[1;33m)\u001b[0m\u001b[1;33m)\u001b[0m\u001b[1;33m\u001b[0m\u001b[1;33m\u001b[0m\u001b[0m\n",
      "\u001b[1;32m~\\anaconda3\\envs\\bootcamp\\lib\\site-packages\\joblib\\_parallel_backends.py\u001b[0m in \u001b[0;36mwrap_future_result\u001b[1;34m(future, timeout)\u001b[0m\n\u001b[0;32m    540\u001b[0m         AsyncResults.get from multiprocessing.\"\"\"\n\u001b[0;32m    541\u001b[0m         \u001b[1;32mtry\u001b[0m\u001b[1;33m:\u001b[0m\u001b[1;33m\u001b[0m\u001b[1;33m\u001b[0m\u001b[0m\n\u001b[1;32m--> 542\u001b[1;33m             \u001b[1;32mreturn\u001b[0m \u001b[0mfuture\u001b[0m\u001b[1;33m.\u001b[0m\u001b[0mresult\u001b[0m\u001b[1;33m(\u001b[0m\u001b[0mtimeout\u001b[0m\u001b[1;33m=\u001b[0m\u001b[0mtimeout\u001b[0m\u001b[1;33m)\u001b[0m\u001b[1;33m\u001b[0m\u001b[1;33m\u001b[0m\u001b[0m\n\u001b[0m\u001b[0;32m    543\u001b[0m         \u001b[1;32mexcept\u001b[0m \u001b[0mCfTimeoutError\u001b[0m \u001b[1;32mas\u001b[0m \u001b[0me\u001b[0m\u001b[1;33m:\u001b[0m\u001b[1;33m\u001b[0m\u001b[1;33m\u001b[0m\u001b[0m\n\u001b[0;32m    544\u001b[0m             \u001b[1;32mraise\u001b[0m \u001b[0mTimeoutError\u001b[0m \u001b[1;32mfrom\u001b[0m \u001b[0me\u001b[0m\u001b[1;33m\u001b[0m\u001b[1;33m\u001b[0m\u001b[0m\n",
      "\u001b[1;32m~\\anaconda3\\envs\\bootcamp\\lib\\concurrent\\futures\\_base.py\u001b[0m in \u001b[0;36mresult\u001b[1;34m(self, timeout)\u001b[0m\n\u001b[0;32m    437\u001b[0m                 \u001b[1;32mraise\u001b[0m \u001b[0mCancelledError\u001b[0m\u001b[1;33m(\u001b[0m\u001b[1;33m)\u001b[0m\u001b[1;33m\u001b[0m\u001b[1;33m\u001b[0m\u001b[0m\n\u001b[0;32m    438\u001b[0m             \u001b[1;32melif\u001b[0m \u001b[0mself\u001b[0m\u001b[1;33m.\u001b[0m\u001b[0m_state\u001b[0m \u001b[1;33m==\u001b[0m \u001b[0mFINISHED\u001b[0m\u001b[1;33m:\u001b[0m\u001b[1;33m\u001b[0m\u001b[1;33m\u001b[0m\u001b[0m\n\u001b[1;32m--> 439\u001b[1;33m                 \u001b[1;32mreturn\u001b[0m \u001b[0mself\u001b[0m\u001b[1;33m.\u001b[0m\u001b[0m__get_result\u001b[0m\u001b[1;33m(\u001b[0m\u001b[1;33m)\u001b[0m\u001b[1;33m\u001b[0m\u001b[1;33m\u001b[0m\u001b[0m\n\u001b[0m\u001b[0;32m    440\u001b[0m             \u001b[1;32melse\u001b[0m\u001b[1;33m:\u001b[0m\u001b[1;33m\u001b[0m\u001b[1;33m\u001b[0m\u001b[0m\n\u001b[0;32m    441\u001b[0m                 \u001b[1;32mraise\u001b[0m \u001b[0mTimeoutError\u001b[0m\u001b[1;33m(\u001b[0m\u001b[1;33m)\u001b[0m\u001b[1;33m\u001b[0m\u001b[1;33m\u001b[0m\u001b[0m\n",
      "\u001b[1;32m~\\anaconda3\\envs\\bootcamp\\lib\\concurrent\\futures\\_base.py\u001b[0m in \u001b[0;36m__get_result\u001b[1;34m(self)\u001b[0m\n\u001b[0;32m    386\u001b[0m     \u001b[1;32mdef\u001b[0m \u001b[0m__get_result\u001b[0m\u001b[1;33m(\u001b[0m\u001b[0mself\u001b[0m\u001b[1;33m)\u001b[0m\u001b[1;33m:\u001b[0m\u001b[1;33m\u001b[0m\u001b[1;33m\u001b[0m\u001b[0m\n\u001b[0;32m    387\u001b[0m         \u001b[1;32mif\u001b[0m \u001b[0mself\u001b[0m\u001b[1;33m.\u001b[0m\u001b[0m_exception\u001b[0m\u001b[1;33m:\u001b[0m\u001b[1;33m\u001b[0m\u001b[1;33m\u001b[0m\u001b[0m\n\u001b[1;32m--> 388\u001b[1;33m             \u001b[1;32mraise\u001b[0m \u001b[0mself\u001b[0m\u001b[1;33m.\u001b[0m\u001b[0m_exception\u001b[0m\u001b[1;33m\u001b[0m\u001b[1;33m\u001b[0m\u001b[0m\n\u001b[0m\u001b[0;32m    389\u001b[0m         \u001b[1;32melse\u001b[0m\u001b[1;33m:\u001b[0m\u001b[1;33m\u001b[0m\u001b[1;33m\u001b[0m\u001b[0m\n\u001b[0;32m    390\u001b[0m             \u001b[1;32mreturn\u001b[0m \u001b[0mself\u001b[0m\u001b[1;33m.\u001b[0m\u001b[0m_result\u001b[0m\u001b[1;33m\u001b[0m\u001b[1;33m\u001b[0m\u001b[0m\n",
      "\u001b[1;31mValueError\u001b[0m: Invalid parameter probabilitybool for estimator SVC(degree=2). Check the list of available parameters with `estimator.get_params().keys()`."
     ]
    }
   ],
   "source": [
    "# Grid Search for estimator SVM\n",
    "import xgboost as xgb\n",
    "from sklearn.metrics import mean_squared_error, r2_score\n",
    "from sklearn.model_selection import train_test_split\n",
    "from sklearn.svm import SVR\n",
    "\n",
    "y = df.arr_delay.to_numpy()\n",
    "X = df.drop(columns=['arr_delay']).to_numpy()\n",
    "X_train, X_test, y_train, y_test = train_test_split(X, y, test_size=0.25)\n",
    "\n",
    "svm = svm.SVR()\n",
    "\n",
    "params = {\n",
    "    'C': np.arange(1, 2.5, 0.1),\n",
    "    'probability': [True, False],\n",
    "}\n",
    "\n",
    "svm_grid_search = GridSearchCV(svm, \n",
    "                           param_grid=params, \n",
    "                           cv=5, \n",
    "                           n_jobs=-1, \n",
    "                           error_score='raise', \n",
    "                           verbose=True)\n",
    "svm_grid_search.fit(X_train, y_train)"
   ]
  },
  {
   "cell_type": "code",
   "execution_count": null,
   "id": "bef4738f",
   "metadata": {},
   "outputs": [
    {
     "name": "stdout",
     "output_type": "stream",
     "text": [
      "[LibSVM]"
     ]
    }
   ],
   "source": [
    "# svm model\n",
    "from sklearn.smv import SVR\n",
    "from sklearn.metrics import mean_squared_error, r2_score\n",
    "\n",
    "#Create a svm Classifier\n",
    "svm_reg = SVR(verbose=True)\n",
    "\n",
    "#Train the model using the training sets\n",
    "svm_reg.fit(X_train, y_train)\n",
    "\n",
    "#Predict the response for test dataset\n",
    "y_pred = svm_reg.predict(X_test)\n",
    "print(f'MSE: {mean_squared_error(y_test, y_pred)}', f'R2: {r2_score(y_test, y_pred)}')"
   ]
  },
  {
   "cell_type": "code",
   "execution_count": null,
   "id": "70d2afef",
   "metadata": {},
   "outputs": [],
   "source": []
  }
 ],
 "metadata": {
  "kernelspec": {
   "display_name": "bootcamp",
   "language": "python",
   "name": "bootcamp"
  },
  "language_info": {
   "codemirror_mode": {
    "name": "ipython",
    "version": 3
   },
   "file_extension": ".py",
   "mimetype": "text/x-python",
   "name": "python",
   "nbconvert_exporter": "python",
   "pygments_lexer": "ipython3",
   "version": "3.8.5"
  }
 },
 "nbformat": 4,
 "nbformat_minor": 5
}
