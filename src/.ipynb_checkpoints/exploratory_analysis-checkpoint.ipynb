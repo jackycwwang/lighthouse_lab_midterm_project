{
 "cells": [
  {
   "cell_type": "markdown",
   "metadata": {},
   "source": [
    "## Exploratory Data Analysis\n",
    "\n",
    "Use this notebook to get familiar with the datasets we have. There is 10 questions we need to answer during the EDA.\n",
    "\n",
    "\n",
    "We shouldn't limit our EDA to these 10 questions. Let's be creative :)."
   ]
  },
  {
   "cell_type": "code",
   "execution_count": 5,
   "metadata": {},
   "outputs": [],
   "source": [
    "import numpy as np\n",
    "import pandas as pd\n",
    "import seaborn as sns\n",
    "import matplotlib.pyplot as plt"
   ]
  },
  {
   "cell_type": "code",
   "execution_count": 40,
   "metadata": {},
   "outputs": [],
   "source": [
    "df = pd.read_csv('../data/flights_samp.csv')"
   ]
  },
  {
   "cell_type": "code",
   "execution_count": null,
   "metadata": {},
   "outputs": [],
   "source": []
  },
  {
   "cell_type": "code",
   "execution_count": null,
   "metadata": {},
   "outputs": [],
   "source": []
  },
  {
   "cell_type": "markdown",
   "metadata": {},
   "source": [
    "#### **Task 1**: Test the hypothesis that the delay is from Normal distribution. and that **mean** of the delay is 0. Be careful about the outliers."
   ]
  },
  {
   "cell_type": "code",
   "execution_count": 38,
   "metadata": {},
   "outputs": [
    {
     "data": {
      "text/plain": [
       "0       -6.0\n",
       "1       -1.0\n",
       "2        6.0\n",
       "3       -3.0\n",
       "4       16.0\n",
       "        ... \n",
       "4995    -1.0\n",
       "4996   -10.0\n",
       "4997    -6.0\n",
       "4998    -6.0\n",
       "4999    12.0\n",
       "Name: dep_delay, Length: 5000, dtype: float64"
      ]
     },
     "execution_count": 38,
     "metadata": {},
     "output_type": "execute_result"
    }
   ],
   "source": [
    "df.dep_delay"
   ]
  },
  {
   "cell_type": "code",
   "execution_count": 39,
   "metadata": {},
   "outputs": [
    {
     "data": {
      "image/png": "[encoded data removed]",
      "text/plain": [
       "<Figure size 432x288 with 1 Axes>"
      ]
     },
     "metadata": {
      "needs_background": "light"
     },
     "output_type": "display_data"
    }
   ],
   "source": [
    "plt.hist(df.arr_delay, bins=np.arange(-30,90, 1.6));"
   ]
  },
  {
   "cell_type": "code",
   "execution_count": 40,
   "metadata": {},
   "outputs": [],
   "source": [
    "col_index_drop = df.isnull().sum() / df.shape[0] > 0.5\n",
    "col_to_drop = np.append(df.columns[col_index_drop], ['index', 'dup', 'tail_num', 'crs_elapsed_time'])"
   ]
  },
  {
   "cell_type": "code",
   "execution_count": 41,
   "metadata": {},
   "outputs": [
    {
     "data": {
      "text/plain": [
       "array(['cancellation_code', 'carrier_delay', 'weather_delay', 'nas_delay',\n",
       "       'security_delay', 'late_aircraft_delay', 'first_dep_time',\n",
       "       'total_add_gtime', 'longest_add_gtime', 'no_name', 'index', 'dup',\n",
       "       'tail_num', 'crs_elapsed_time'], dtype=object)"
      ]
     },
     "execution_count": 41,
     "metadata": {},
     "output_type": "execute_result"
    }
   ],
   "source": [
    "col_to_drop"
   ]
  },
  {
   "cell_type": "code",
   "execution_count": 42,
   "metadata": {},
   "outputs": [],
   "source": [
    "df = df.drop(columns=col_to_drop, axis=1)"
   ]
  },
  {
   "cell_type": "code",
   "execution_count": 43,
   "metadata": {},
   "outputs": [
    {
     "data": {
      "text/plain": [
       "Index(['fl_date', 'mkt_unique_carrier', 'branded_code_share', 'mkt_carrier',\n",
       "       'mkt_carrier_fl_num', 'op_unique_carrier', 'op_carrier_fl_num',\n",
       "       'origin_airport_id', 'origin', 'origin_city_name', 'dest_airport_id',\n",
       "       'dest', 'dest_city_name', 'crs_dep_time', 'dep_time', 'dep_delay',\n",
       "       'taxi_out', 'wheels_off', 'wheels_on', 'taxi_in', 'crs_arr_time',\n",
       "       'arr_time', 'arr_delay', 'cancelled', 'diverted', 'actual_elapsed_time',\n",
       "       'air_time', 'flights', 'distance'],\n",
       "      dtype='object')"
      ]
     },
     "execution_count": 43,
     "metadata": {},
     "output_type": "execute_result"
    }
   ],
   "source": [
    "df.columns"
   ]
  },
  {
   "cell_type": "markdown",
   "metadata": {},
   "source": [
    "#### **Task 2**: Is average/median monthly delay different during the year? If yes, which are months with the biggest delays and what could be the reason?"
   ]
  },
  {
   "cell_type": "code",
   "execution_count": 44,
   "metadata": {},
   "outputs": [
    {
     "data": {
      "text/html": [
       "<div>\n",
       "<style scoped>\n",
       "    .dataframe tbody tr th:only-of-type {\n",
       "        vertical-align: middle;\n",
       "    }\n",
       "\n",
       "    .dataframe tbody tr th {\n",
       "        vertical-align: top;\n",
       "    }\n",
       "\n",
       "    .dataframe thead th {\n",
       "        text-align: right;\n",
       "    }\n",
       "</style>\n",
       "<table border=\"1\" class=\"dataframe\">\n",
       "  <thead>\n",
       "    <tr style=\"text-align: right;\">\n",
       "      <th></th>\n",
       "      <th>fl_date</th>\n",
       "      <th>mkt_unique_carrier</th>\n",
       "      <th>branded_code_share</th>\n",
       "      <th>mkt_carrier</th>\n",
       "      <th>mkt_carrier_fl_num</th>\n",
       "      <th>op_unique_carrier</th>\n",
       "      <th>op_carrier_fl_num</th>\n",
       "      <th>origin_airport_id</th>\n",
       "      <th>origin</th>\n",
       "      <th>origin_city_name</th>\n",
       "      <th>...</th>\n",
       "      <th>crs_arr_time</th>\n",
       "      <th>arr_time</th>\n",
       "      <th>arr_delay</th>\n",
       "      <th>cancelled</th>\n",
       "      <th>diverted</th>\n",
       "      <th>actual_elapsed_time</th>\n",
       "      <th>air_time</th>\n",
       "      <th>flights</th>\n",
       "      <th>distance</th>\n",
       "      <th>weekday</th>\n",
       "    </tr>\n",
       "  </thead>\n",
       "  <tbody>\n",
       "    <tr>\n",
       "      <th>0</th>\n",
       "      <td>2019-01-07</td>\n",
       "      <td>AA</td>\n",
       "      <td>AA</td>\n",
       "      <td>AA</td>\n",
       "      <td>362</td>\n",
       "      <td>AA</td>\n",
       "      <td>362</td>\n",
       "      <td>12892</td>\n",
       "      <td>LAX</td>\n",
       "      <td>Los Angeles, CA</td>\n",
       "      <td>...</td>\n",
       "      <td>710</td>\n",
       "      <td>635.0</td>\n",
       "      <td>-35.0</td>\n",
       "      <td>0.0</td>\n",
       "      <td>0.0</td>\n",
       "      <td>222.0</td>\n",
       "      <td>189.0</td>\n",
       "      <td>1.0</td>\n",
       "      <td>1744.0</td>\n",
       "      <td>0</td>\n",
       "    </tr>\n",
       "    <tr>\n",
       "      <th>1</th>\n",
       "      <td>2019-01-04</td>\n",
       "      <td>UA</td>\n",
       "      <td>UA_CODESHARE</td>\n",
       "      <td>UA</td>\n",
       "      <td>3788</td>\n",
       "      <td>ZW</td>\n",
       "      <td>3788</td>\n",
       "      <td>13930</td>\n",
       "      <td>ORD</td>\n",
       "      <td>Chicago, IL</td>\n",
       "      <td>...</td>\n",
       "      <td>2333</td>\n",
       "      <td>2328.0</td>\n",
       "      <td>-5.0</td>\n",
       "      <td>0.0</td>\n",
       "      <td>0.0</td>\n",
       "      <td>54.0</td>\n",
       "      <td>25.0</td>\n",
       "      <td>1.0</td>\n",
       "      <td>122.0</td>\n",
       "      <td>4</td>\n",
       "    </tr>\n",
       "    <tr>\n",
       "      <th>2</th>\n",
       "      <td>2018-12-29</td>\n",
       "      <td>WN</td>\n",
       "      <td>WN</td>\n",
       "      <td>WN</td>\n",
       "      <td>5741</td>\n",
       "      <td>WN</td>\n",
       "      <td>5741</td>\n",
       "      <td>13871</td>\n",
       "      <td>OMA</td>\n",
       "      <td>Omaha, NE</td>\n",
       "      <td>...</td>\n",
       "      <td>1835</td>\n",
       "      <td>1807.0</td>\n",
       "      <td>-28.0</td>\n",
       "      <td>0.0</td>\n",
       "      <td>0.0</td>\n",
       "      <td>141.0</td>\n",
       "      <td>126.0</td>\n",
       "      <td>1.0</td>\n",
       "      <td>1037.0</td>\n",
       "      <td>5</td>\n",
       "    </tr>\n",
       "    <tr>\n",
       "      <th>3</th>\n",
       "      <td>2019-01-01</td>\n",
       "      <td>WN</td>\n",
       "      <td>WN</td>\n",
       "      <td>WN</td>\n",
       "      <td>1641</td>\n",
       "      <td>WN</td>\n",
       "      <td>1641</td>\n",
       "      <td>15304</td>\n",
       "      <td>TPA</td>\n",
       "      <td>Tampa, FL</td>\n",
       "      <td>...</td>\n",
       "      <td>1050</td>\n",
       "      <td>1041.0</td>\n",
       "      <td>-9.0</td>\n",
       "      <td>0.0</td>\n",
       "      <td>0.0</td>\n",
       "      <td>89.0</td>\n",
       "      <td>79.0</td>\n",
       "      <td>1.0</td>\n",
       "      <td>488.0</td>\n",
       "      <td>1</td>\n",
       "    </tr>\n",
       "    <tr>\n",
       "      <th>4</th>\n",
       "      <td>2019-01-02</td>\n",
       "      <td>UA</td>\n",
       "      <td>UA_CODESHARE</td>\n",
       "      <td>UA</td>\n",
       "      <td>4233</td>\n",
       "      <td>EV</td>\n",
       "      <td>4233</td>\n",
       "      <td>11618</td>\n",
       "      <td>EWR</td>\n",
       "      <td>Newark, NJ</td>\n",
       "      <td>...</td>\n",
       "      <td>1951</td>\n",
       "      <td>2013.0</td>\n",
       "      <td>22.0</td>\n",
       "      <td>0.0</td>\n",
       "      <td>0.0</td>\n",
       "      <td>92.0</td>\n",
       "      <td>47.0</td>\n",
       "      <td>1.0</td>\n",
       "      <td>199.0</td>\n",
       "      <td>2</td>\n",
       "    </tr>\n",
       "    <tr>\n",
       "      <th>...</th>\n",
       "      <td>...</td>\n",
       "      <td>...</td>\n",
       "      <td>...</td>\n",
       "      <td>...</td>\n",
       "      <td>...</td>\n",
       "      <td>...</td>\n",
       "      <td>...</td>\n",
       "      <td>...</td>\n",
       "      <td>...</td>\n",
       "      <td>...</td>\n",
       "      <td>...</td>\n",
       "      <td>...</td>\n",
       "      <td>...</td>\n",
       "      <td>...</td>\n",
       "      <td>...</td>\n",
       "      <td>...</td>\n",
       "      <td>...</td>\n",
       "      <td>...</td>\n",
       "      <td>...</td>\n",
       "      <td>...</td>\n",
       "      <td>...</td>\n",
       "    </tr>\n",
       "    <tr>\n",
       "      <th>4995</th>\n",
       "      <td>2019-01-01</td>\n",
       "      <td>DL</td>\n",
       "      <td>DL</td>\n",
       "      <td>DL</td>\n",
       "      <td>2173</td>\n",
       "      <td>DL</td>\n",
       "      <td>2173</td>\n",
       "      <td>12892</td>\n",
       "      <td>LAX</td>\n",
       "      <td>Los Angeles, CA</td>\n",
       "      <td>...</td>\n",
       "      <td>1640</td>\n",
       "      <td>1640.0</td>\n",
       "      <td>0.0</td>\n",
       "      <td>0.0</td>\n",
       "      <td>0.0</td>\n",
       "      <td>221.0</td>\n",
       "      <td>197.0</td>\n",
       "      <td>1.0</td>\n",
       "      <td>1535.0</td>\n",
       "      <td>1</td>\n",
       "    </tr>\n",
       "    <tr>\n",
       "      <th>4996</th>\n",
       "      <td>2019-01-10</td>\n",
       "      <td>G4</td>\n",
       "      <td>G4</td>\n",
       "      <td>G4</td>\n",
       "      <td>1608</td>\n",
       "      <td>G4</td>\n",
       "      <td>1608</td>\n",
       "      <td>14082</td>\n",
       "      <td>PGD</td>\n",
       "      <td>Punta Gorda, FL</td>\n",
       "      <td>...</td>\n",
       "      <td>948</td>\n",
       "      <td>942.0</td>\n",
       "      <td>-6.0</td>\n",
       "      <td>0.0</td>\n",
       "      <td>0.0</td>\n",
       "      <td>152.0</td>\n",
       "      <td>140.0</td>\n",
       "      <td>1.0</td>\n",
       "      <td>963.0</td>\n",
       "      <td>3</td>\n",
       "    </tr>\n",
       "    <tr>\n",
       "      <th>4997</th>\n",
       "      <td>2019-01-10</td>\n",
       "      <td>DL</td>\n",
       "      <td>DL_CODESHARE</td>\n",
       "      <td>DL</td>\n",
       "      <td>3289</td>\n",
       "      <td>9E</td>\n",
       "      <td>3289</td>\n",
       "      <td>11003</td>\n",
       "      <td>CID</td>\n",
       "      <td>Cedar Rapids/Iowa City, IA</td>\n",
       "      <td>...</td>\n",
       "      <td>1942</td>\n",
       "      <td>1932.0</td>\n",
       "      <td>-10.0</td>\n",
       "      <td>0.0</td>\n",
       "      <td>0.0</td>\n",
       "      <td>112.0</td>\n",
       "      <td>84.0</td>\n",
       "      <td>1.0</td>\n",
       "      <td>694.0</td>\n",
       "      <td>3</td>\n",
       "    </tr>\n",
       "    <tr>\n",
       "      <th>4998</th>\n",
       "      <td>2019-01-12</td>\n",
       "      <td>AA</td>\n",
       "      <td>AA</td>\n",
       "      <td>AA</td>\n",
       "      <td>2809</td>\n",
       "      <td>AA</td>\n",
       "      <td>2809</td>\n",
       "      <td>12953</td>\n",
       "      <td>LGA</td>\n",
       "      <td>New York, NY</td>\n",
       "      <td>...</td>\n",
       "      <td>2249</td>\n",
       "      <td>2220.0</td>\n",
       "      <td>-29.0</td>\n",
       "      <td>0.0</td>\n",
       "      <td>0.0</td>\n",
       "      <td>177.0</td>\n",
       "      <td>151.0</td>\n",
       "      <td>1.0</td>\n",
       "      <td>1096.0</td>\n",
       "      <td>5</td>\n",
       "    </tr>\n",
       "    <tr>\n",
       "      <th>4999</th>\n",
       "      <td>2019-01-02</td>\n",
       "      <td>AA</td>\n",
       "      <td>AA_CODESHARE</td>\n",
       "      <td>AA</td>\n",
       "      <td>5981</td>\n",
       "      <td>YV</td>\n",
       "      <td>5981</td>\n",
       "      <td>11298</td>\n",
       "      <td>DFW</td>\n",
       "      <td>Dallas/Fort Worth, TX</td>\n",
       "      <td>...</td>\n",
       "      <td>110</td>\n",
       "      <td>116.0</td>\n",
       "      <td>6.0</td>\n",
       "      <td>0.0</td>\n",
       "      <td>0.0</td>\n",
       "      <td>120.0</td>\n",
       "      <td>101.0</td>\n",
       "      <td>1.0</td>\n",
       "      <td>674.0</td>\n",
       "      <td>2</td>\n",
       "    </tr>\n",
       "  </tbody>\n",
       "</table>\n",
       "<p>5000 rows × 30 columns</p>\n",
       "</div>"
      ],
      "text/plain": [
       "         fl_date mkt_unique_carrier branded_code_share mkt_carrier  \\\n",
       "0     2019-01-07                 AA                 AA          AA   \n",
       "1     2019-01-04                 UA       UA_CODESHARE          UA   \n",
       "2     2018-12-29                 WN                 WN          WN   \n",
       "3     2019-01-01                 WN                 WN          WN   \n",
       "4     2019-01-02                 UA       UA_CODESHARE          UA   \n",
       "...          ...                ...                ...         ...   \n",
       "4995  2019-01-01                 DL                 DL          DL   \n",
       "4996  2019-01-10                 G4                 G4          G4   \n",
       "4997  2019-01-10                 DL       DL_CODESHARE          DL   \n",
       "4998  2019-01-12                 AA                 AA          AA   \n",
       "4999  2019-01-02                 AA       AA_CODESHARE          AA   \n",
       "\n",
       "      mkt_carrier_fl_num op_unique_carrier  op_carrier_fl_num  \\\n",
       "0                    362                AA                362   \n",
       "1                   3788                ZW               3788   \n",
       "2                   5741                WN               5741   \n",
       "3                   1641                WN               1641   \n",
       "4                   4233                EV               4233   \n",
       "...                  ...               ...                ...   \n",
       "4995                2173                DL               2173   \n",
       "4996                1608                G4               1608   \n",
       "4997                3289                9E               3289   \n",
       "4998                2809                AA               2809   \n",
       "4999                5981                YV               5981   \n",
       "\n",
       "      origin_airport_id origin            origin_city_name  ...  crs_arr_time  \\\n",
       "0                 12892    LAX             Los Angeles, CA  ...           710   \n",
       "1                 13930    ORD                 Chicago, IL  ...          2333   \n",
       "2                 13871    OMA                   Omaha, NE  ...          1835   \n",
       "3                 15304    TPA                   Tampa, FL  ...          1050   \n",
       "4                 11618    EWR                  Newark, NJ  ...          1951   \n",
       "...                 ...    ...                         ...  ...           ...   \n",
       "4995              12892    LAX             Los Angeles, CA  ...          1640   \n",
       "4996              14082    PGD             Punta Gorda, FL  ...           948   \n",
       "4997              11003    CID  Cedar Rapids/Iowa City, IA  ...          1942   \n",
       "4998              12953    LGA                New York, NY  ...          2249   \n",
       "4999              11298    DFW       Dallas/Fort Worth, TX  ...           110   \n",
       "\n",
       "     arr_time arr_delay  cancelled  diverted  actual_elapsed_time  air_time  \\\n",
       "0       635.0     -35.0        0.0       0.0                222.0     189.0   \n",
       "1      2328.0      -5.0        0.0       0.0                 54.0      25.0   \n",
       "2      1807.0     -28.0        0.0       0.0                141.0     126.0   \n",
       "3      1041.0      -9.0        0.0       0.0                 89.0      79.0   \n",
       "4      2013.0      22.0        0.0       0.0                 92.0      47.0   \n",
       "...       ...       ...        ...       ...                  ...       ...   \n",
       "4995   1640.0       0.0        0.0       0.0                221.0     197.0   \n",
       "4996    942.0      -6.0        0.0       0.0                152.0     140.0   \n",
       "4997   1932.0     -10.0        0.0       0.0                112.0      84.0   \n",
       "4998   2220.0     -29.0        0.0       0.0                177.0     151.0   \n",
       "4999    116.0       6.0        0.0       0.0                120.0     101.0   \n",
       "\n",
       "      flights  distance  weekday  \n",
       "0         1.0    1744.0        0  \n",
       "1         1.0     122.0        4  \n",
       "2         1.0    1037.0        5  \n",
       "3         1.0     488.0        1  \n",
       "4         1.0     199.0        2  \n",
       "...       ...       ...      ...  \n",
       "4995      1.0    1535.0        1  \n",
       "4996      1.0     963.0        3  \n",
       "4997      1.0     694.0        3  \n",
       "4998      1.0    1096.0        5  \n",
       "4999      1.0     674.0        2  \n",
       "\n",
       "[5000 rows x 30 columns]"
      ]
     },
     "execution_count": 44,
     "metadata": {},
     "output_type": "execute_result"
    }
   ],
   "source": [
    "# We've chosen to take a more narrow sample to closely represent what model will be testing (first week of January, and 5 days on either side - not including Dec 25)\n",
    "# However, the day of week/ holiday phenomenon would be interesting to look at\n",
    "def add_weekday(df):\n",
    "    \"\"\" creates boolean column to indicate day of week \n",
    "        https://pandas.pydata.org/docs/reference/api/pandas.DatetimeIndex.weekday.html\n",
    "        week starts 0 with monday) \"\"\"\n",
    "\n",
    "    df['weekday'] = df['fl_date'].astype('datetime64[ns]')\n",
    "\n",
    "    f = lambda x: x.weekday()     \n",
    "    df['weekday'] = df['weekday'].apply(f).astype('int32')\n",
    "    return df\n",
    "\n",
    "add_weekday(df)"
   ]
  },
  {
   "cell_type": "code",
   "execution_count": 45,
   "metadata": {},
   "outputs": [
    {
     "data": {
      "text/html": [
       "<div>\n",
       "<style scoped>\n",
       "    .dataframe tbody tr th:only-of-type {\n",
       "        vertical-align: middle;\n",
       "    }\n",
       "\n",
       "    .dataframe tbody tr th {\n",
       "        vertical-align: top;\n",
       "    }\n",
       "\n",
       "    .dataframe thead th {\n",
       "        text-align: right;\n",
       "    }\n",
       "</style>\n",
       "<table border=\"1\" class=\"dataframe\">\n",
       "  <thead>\n",
       "    <tr style=\"text-align: right;\">\n",
       "      <th></th>\n",
       "      <th>weekday</th>\n",
       "      <th>avg_arr_delay</th>\n",
       "    </tr>\n",
       "  </thead>\n",
       "  <tbody>\n",
       "    <tr>\n",
       "      <th>0</th>\n",
       "      <td>M</td>\n",
       "      <td>4.451327</td>\n",
       "    </tr>\n",
       "    <tr>\n",
       "      <th>1</th>\n",
       "      <td>Tu</td>\n",
       "      <td>0.657986</td>\n",
       "    </tr>\n",
       "    <tr>\n",
       "      <th>2</th>\n",
       "      <td>W</td>\n",
       "      <td>1.334507</td>\n",
       "    </tr>\n",
       "    <tr>\n",
       "      <th>3</th>\n",
       "      <td>Th</td>\n",
       "      <td>10.921986</td>\n",
       "    </tr>\n",
       "    <tr>\n",
       "      <th>4</th>\n",
       "      <td>F</td>\n",
       "      <td>7.058885</td>\n",
       "    </tr>\n",
       "    <tr>\n",
       "      <th>5</th>\n",
       "      <td>Sa</td>\n",
       "      <td>4.023486</td>\n",
       "    </tr>\n",
       "    <tr>\n",
       "      <th>6</th>\n",
       "      <td>Su</td>\n",
       "      <td>4.179739</td>\n",
       "    </tr>\n",
       "  </tbody>\n",
       "</table>\n",
       "</div>"
      ],
      "text/plain": [
       "  weekday  avg_arr_delay\n",
       "0       M       4.451327\n",
       "1      Tu       0.657986\n",
       "2       W       1.334507\n",
       "3      Th      10.921986\n",
       "4       F       7.058885\n",
       "5      Sa       4.023486\n",
       "6      Su       4.179739"
      ]
     },
     "execution_count": 45,
     "metadata": {},
     "output_type": "execute_result"
    }
   ],
   "source": [
    "# CALCULATE MEAN FLIGHT DELAY PER DAY OF WEEK\n",
    "weekday_mean = df[['weekday', 'arr_delay']]\n",
    "weekday_mean = weekday_mean.groupby(['weekday'], as_index=False).mean()\n",
    "weekday_mean=weekday_mean.rename(columns={'arr_delay': 'avg_arr_delay'})\n",
    "weekday_mean=weekday_mean.replace({0: 'M', 1:'Tu',2:'W',3:'Th',4:'F',5:'Sa',6:'Su'})\n",
    "weekday_mean"
   ]
  },
  {
   "cell_type": "code",
   "execution_count": 46,
   "metadata": {},
   "outputs": [
    {
     "data": {
      "image/png": "[encoded data removed]",
      "text/plain": [
       "<Figure size 360x360 with 1 Axes>"
      ]
     },
     "metadata": {
      "needs_background": "light"
     },
     "output_type": "display_data"
    }
   ],
   "source": [
    "# PLOT WEEKDAY AVG DELAY\n",
    "\n",
    "x = weekday_mean.weekday\n",
    "y = weekday_mean.avg_arr_delay\n",
    "\n",
    "fig, ax = plt.subplots( figsize = (5,5))\n",
    "\n",
    "ax.bar(x,y)\n",
    "ax.set_ylabel('Average flight delay (minutes)', fontsize=12)\n",
    "ax.set_xlabel('', fontsize=12)\n",
    "ax.set_title('Delays per Day of Week', fontsize=20, y=1.05)\n",
    "\n",
    "plt.show()"
   ]
  },
  {
   "cell_type": "code",
   "execution_count": 47,
   "metadata": {},
   "outputs": [
    {
     "data": {
      "text/html": [
       "<div>\n",
       "<style scoped>\n",
       "    .dataframe tbody tr th:only-of-type {\n",
       "        vertical-align: middle;\n",
       "    }\n",
       "\n",
       "    .dataframe tbody tr th {\n",
       "        vertical-align: top;\n",
       "    }\n",
       "\n",
       "    .dataframe thead th {\n",
       "        text-align: right;\n",
       "    }\n",
       "</style>\n",
       "<table border=\"1\" class=\"dataframe\">\n",
       "  <thead>\n",
       "    <tr style=\"text-align: right;\">\n",
       "      <th></th>\n",
       "      <th>weekday</th>\n",
       "      <th>median_arr_delay</th>\n",
       "    </tr>\n",
       "  </thead>\n",
       "  <tbody>\n",
       "    <tr>\n",
       "      <th>0</th>\n",
       "      <td>M</td>\n",
       "      <td>-6.0</td>\n",
       "    </tr>\n",
       "    <tr>\n",
       "      <th>1</th>\n",
       "      <td>Tu</td>\n",
       "      <td>-8.0</td>\n",
       "    </tr>\n",
       "    <tr>\n",
       "      <th>2</th>\n",
       "      <td>W</td>\n",
       "      <td>-5.0</td>\n",
       "    </tr>\n",
       "    <tr>\n",
       "      <th>3</th>\n",
       "      <td>Th</td>\n",
       "      <td>-5.0</td>\n",
       "    </tr>\n",
       "    <tr>\n",
       "      <th>4</th>\n",
       "      <td>F</td>\n",
       "      <td>-5.0</td>\n",
       "    </tr>\n",
       "    <tr>\n",
       "      <th>5</th>\n",
       "      <td>Sa</td>\n",
       "      <td>-7.0</td>\n",
       "    </tr>\n",
       "    <tr>\n",
       "      <th>6</th>\n",
       "      <td>Su</td>\n",
       "      <td>-4.0</td>\n",
       "    </tr>\n",
       "  </tbody>\n",
       "</table>\n",
       "</div>"
      ],
      "text/plain": [
       "  weekday  median_arr_delay\n",
       "0       M              -6.0\n",
       "1      Tu              -8.0\n",
       "2       W              -5.0\n",
       "3      Th              -5.0\n",
       "4       F              -5.0\n",
       "5      Sa              -7.0\n",
       "6      Su              -4.0"
      ]
     },
     "execution_count": 47,
     "metadata": {},
     "output_type": "execute_result"
    }
   ],
   "source": [
    "# CALCULATE MEDIAN FLIGHT DELAY PER DAY OF WEEK\n",
    "weekday_med = df[['weekday', 'arr_delay']]\n",
    "weekday_med = weekday_med.groupby(['weekday'], as_index=False).median()\n",
    "weekday_med=weekday_med.rename(columns={'arr_delay': 'median_arr_delay'})\n",
    "weekday_med=weekday_med.replace({0: 'M', 1:'Tu',2:'W',3:'Th',4:'F',5:'Sa',6:'Su'})\n",
    "weekday_med"
   ]
  },
  {
   "cell_type": "code",
   "execution_count": 48,
   "metadata": {},
   "outputs": [
    {
     "data": {
      "image/png": "[encoded data removed]",
      "text/plain": [
       "<Figure size 360x360 with 1 Axes>"
      ]
     },
     "metadata": {
      "needs_background": "light"
     },
     "output_type": "display_data"
    }
   ],
   "source": [
    "# PLOT WEEKDAY MEDIAN DELAY\n",
    "\n",
    "x = weekday_med.weekday\n",
    "y = weekday_med.median_arr_delay\n",
    "\n",
    "fig, ax = plt.subplots( figsize = (5,5))\n",
    "\n",
    "ax.bar(x,y)\n",
    "ax.set_ylabel('Average flight delay (minutes)', fontsize=12)\n",
    "ax.set_xlabel('', fontsize=12)\n",
    "ax.set_title('Delays per Day of Week', fontsize=20, y=1.05)\n",
    "\n",
    "plt.show()"
   ]
  },
  {
   "cell_type": "code",
   "execution_count": 49,
   "metadata": {},
   "outputs": [],
   "source": [
    "# Interesting - Looks Like theres different factors comming into play here - will plot together... must be a number of outliers affecting the mean"
   ]
  },
  {
   "cell_type": "code",
   "execution_count": 50,
   "metadata": {},
   "outputs": [
    {
     "data": {
      "image/png": "[encoded data removed]",
      "text/plain": [
       "<Figure size 432x288 with 1 Axes>"
      ]
     },
     "metadata": {
      "needs_background": "light"
     },
     "output_type": "display_data"
    }
   ],
   "source": [
    "# PLOT BOTH MEASURES OF MIDDLE TOGETHER\n",
    "\n",
    "X = weekday_mean.weekday\n",
    "y_med = weekday_med.median_arr_delay\n",
    "y_mean = weekday_mean.avg_arr_delay\n",
    "\n",
    "  \n",
    "X_axis = np.arange(len(X))\n",
    "  \n",
    "plt.bar(X_axis - 0.2, y_med, 0.4, label = 'Median')\n",
    "plt.bar(X_axis + 0.2, y_mean, 0.4, label = 'Mean')\n",
    "  \n",
    "plt.xticks(X_axis, X)\n",
    "plt.xlabel(\"Days Of Week\")\n",
    "plt.ylabel(\"Arrival Delay (minutes)\")\n",
    "plt.title(\"Flight Delay Per Day of Week\")\n",
    "plt.legend()\n",
    "plt.show()"
   ]
  },
  {
   "cell_type": "markdown",
   "metadata": {},
   "source": [
    "#### **Task 3**: Does the weather affect the delay? \n",
    "Use the API to pull the weather information for flights. There is no need to get weather for ALL flights. We can choose the right representative sample. Let's focus on four weather types:\n",
    "- sunny\n",
    "- cloudy\n",
    "- rainy\n",
    "- snow.\n",
    "Test the hypothesis that these 4 delays are from the same distribution. If they are not, which ones are significantly different?"
   ]
  },
  {
   "cell_type": "code",
   "execution_count": null,
   "metadata": {},
   "outputs": [],
   "source": []
  },
  {
   "cell_type": "markdown",
   "metadata": {},
   "source": [
    "#### **Task 4**: How taxi times changing during the day? Does higher traffic lead to bigger taxi times?"
   ]
  },
  {
   "cell_type": "code",
   "execution_count": 51,
   "metadata": {},
   "outputs": [],
   "source": [
    "def split_time_of_day_departure(df):\n",
    "    \"\"\" takes estimated time of departure and splits in to hours 24 hour clock (local time) \"\"\"\n",
    "    df['dep_hour'] = df['crs_dep_time']\n",
    "    df['dep_hour'] = np.floor(df['dep_hour']/100).astype(\"int\")\n",
    "    return df\n",
    "df = split_time_of_day_departure(df)\n",
    "\n",
    "def split_time_of_day_arrival(df):\n",
    "    \"\"\" takes estimated time of arrival and splits in to hours 24 hour clock (local time) \"\"\"\n",
    "    df['arr_hour'] = df['crs_arr_time']\n",
    "    df['arr_hour'] = np.floor(df['arr_hour']/100).astype(\"int\")\n",
    "    return df\n",
    "df = split_time_of_day_arrival(df)\n",
    "\n"
   ]
  },
  {
   "cell_type": "code",
   "execution_count": 52,
   "metadata": {},
   "outputs": [],
   "source": [
    "# sample from diff airports for taxi times"
   ]
  },
  {
   "cell_type": "markdown",
   "metadata": {},
   "source": [
    "#### **Task 5**: What is the average percentage of delays that is already created before departure? (aka are arrival delays caused by departure delays?) Are airlines able to lower the delay during the flights?"
   ]
  },
  {
   "cell_type": "code",
   "execution_count": 68,
   "metadata": {},
   "outputs": [
    {
     "data": {
      "text/plain": [
       "73.6378646119978"
      ]
     },
     "execution_count": 68,
     "metadata": {},
     "output_type": "execute_result"
    }
   ],
   "source": [
    "df_delayed = df[df['arr_delay'] >0].copy()\n",
    "\n",
    "# total number of departure delay / total number of arrival delay\n",
    "(df_delayed.dep_delay > 0).sum() / df_delayed.shape[0] * 100"
   ]
  },
  {
   "cell_type": "code",
   "execution_count": 7,
   "metadata": {},
   "outputs": [
    {
     "name": "stdout",
     "output_type": "stream",
     "text": [
      " Percentage of flights delayed before departure is 73.64%\n"
     ]
    }
   ],
   "source": [
    "# CALCULATE DIFF BETWEEN ACTUAL DEPARTURE AND SCHEDULED DEPARTURE AND RELATE TO TYPES OF DELAYS - 'dep_delay' column contains this\n",
    "\n",
    "# delayed have positive delay values\n",
    "total_delayed = df[df['arr_delay'] >0].copy()\n",
    "\n",
    "# calculate percentage of departure delays from total delays\n",
    "percentage_dep_delay = total_delayed[total_delayed['dep_delay'] > 0].count()/total_delayed['dep_delay'].count()\n",
    "print(\" Percentage of flights delayed before departure is {:.2%}\".format(percentage_dep_delay['dep_time']))"
   ]
  },
  {
   "cell_type": "code",
   "execution_count": null,
   "metadata": {},
   "outputs": [],
   "source": []
  },
  {
   "cell_type": "code",
   "execution_count": 9,
   "metadata": {},
   "outputs": [
    {
     "name": "stdout",
     "output_type": "stream",
     "text": [
      "Mean difference between departure delay and arrival delay is -2.6 minutes and median is -2.0 minutes, but airlines are able to have negative values indicating they are able to make up time during flights\n"
     ]
    }
   ],
   "source": [
    "# Find diff of dep delay vs arr delay \n",
    "\n",
    "total_delayed['delay_diff'] = total_delayed.dep_delay - total_delayed.arr_delay # if this value is negative, then reduced delay in air\n",
    "total_delayed['delay_diff'].mean()\n",
    "total_delayed['delay_diff'].median()\n",
    "print(f\"Mean difference between departure delay and arrival delay is {total_delayed['delay_diff'].mean():.2} minutes and median is {total_delayed['delay_diff'].median()} minutes, but airlines are able to have negative values indicating they are able to make up time during flights\" )"
   ]
  },
  {
   "cell_type": "markdown",
   "metadata": {},
   "source": [
    "#### **Task 6**: How many states cover 50% of US air traffic? "
   ]
  },
  {
   "cell_type": "code",
   "execution_count": 10,
   "metadata": {},
   "outputs": [
    {
     "name": "stdout",
     "output_type": "stream",
     "text": [
      "Number of top trafficed states accounting for 50% of traffic:  8\n"
     ]
    },
    {
     "data": {
      "text/plain": [
       "['CA', 'TX', 'FL', 'IL', 'NY', 'GA', 'NC', 'CO']"
      ]
     },
     "execution_count": 10,
     "metadata": {},
     "output_type": "execute_result"
    }
   ],
   "source": [
    "# SPLIT DATA INTO STATES AND CITIES\n",
    "def split_dest_city_state(df):\n",
    "    \"\"\" separates destination city and states into own columns\"\"\"\n",
    "    df['dest_state'] = df['dest_city_name']\n",
    "    df['dest_city'] = df['dest_city_name']\n",
    "    \n",
    "    f_state= lambda x: x.split(sep=', ')[1]\n",
    "    f_city= lambda x: x.split(sep=', ')[0]\n",
    "\n",
    "    df['dest_state'] = df['dest_state'].apply(f_state)\n",
    "    df['dest_city'] = df['dest_city'].apply(f_city)\n",
    "    return df\n",
    "\n",
    "def split_origin_city_state(df):\n",
    "    \"\"\" separates origin city and states into own columns\"\"\"\n",
    "    df['origin_state'] = df['origin_city_name']\n",
    "    df['origin_city'] = df['origin_city_name']\n",
    "    \n",
    "    f_state= lambda x: x.split(sep=', ')[1]\n",
    "    f_city= lambda x: x.split(sep=', ')[0]\n",
    "\n",
    "    df['origin_state'] = df['origin_state'].apply(f_state)\n",
    "    df['origin_city'] = df['origin_city'].apply(f_city)\n",
    "    return df\n",
    "\n",
    "df = split_dest_city_state(df)\n",
    "df = split_origin_city_state(df)\n",
    "\n",
    "# CALCULATE FLIGHT COUNTS PER STATES\n",
    "state_count_orig = df[['origin_state', 'index']].groupby('origin_state', as_index=False).count().sort_values(by='index')\n",
    "state_count_dest = df[['dest_state', 'index']].groupby('dest_state', as_index=False).count().sort_values(by='index')\n",
    "state_count= state_count_orig.merge(state_count_dest, left_on='origin_state', right_on='dest_state')\n",
    "\n",
    "state_count['total_flights'] = state_count['index_x']+state_count['index_y']\n",
    "state_count.rename(columns = {'origin_state': 'state'}, inplace=True)\n",
    "state_count.drop(['index_x', 'dest_state', 'index_y'], axis=1, inplace=True)\n",
    "\n",
    "state_count= state_count.sort_values(by='total_flights', ascending=False)\n",
    "\n",
    "# CALULATE HOW MANY STATES ACCOUNT FOR 50% OF ALL TRAFFIC IN USA\n",
    "state_list = list(state_count.state)\n",
    "flight_count_list = list(state_count.total_flights)\n",
    "\n",
    "total_flights = state_count.total_flights.sum()\n",
    "total_flights\n",
    "\n",
    "top_state=[]\n",
    "flight_counts=0\n",
    "i=0\n",
    "while flight_counts < total_flights/2:\n",
    "    top_state.append(state_list[i])\n",
    "\n",
    "    flight_counts += flight_count_list[i]\n",
    "    i+=1\n",
    "\n",
    "\n",
    "print(\"Number of top trafficed states accounting for 50% of traffic: \", len(top_state))\n",
    "top_state\n"
   ]
  },
  {
   "cell_type": "code",
   "execution_count": 11,
   "metadata": {},
   "outputs": [
    {
     "data": {
      "image/png": "[encoded data removed]",
      "text/plain": [
       "<Figure size 1440x1080 with 2 Axes>"
      ]
     },
     "metadata": {
      "needs_background": "light"
     },
     "output_type": "display_data"
    }
   ],
   "source": [
    "# PLOT NUMBER OF FLIGHTS PER STATE\n",
    "# import matplotlib\n",
    "import matplotlib.pyplot as plt\n",
    "\n",
    "x1 = state_count_orig['origin_state']\n",
    "x2 = state_count_dest['dest_state']\n",
    "\n",
    "y1 = state_count_orig['index']\n",
    "y2 = state_count_dest['index']\n",
    "\n",
    "fig, [ax1, ax2] = plt.subplots(nrows=1, ncols=2, figsize = (20,15))\n",
    "\n",
    "ax1.barh(x1,y1)\n",
    "ax1.set_ylabel('Number of Flights Outbound per State', fontsize=12)\n",
    "ax1.set_xlabel('State', fontsize=12)\n",
    "ax1.set_title('Number of OUTBOUND Flights STATE', fontsize=20, y=1.05)\n",
    "\n",
    "ax2.barh(x2,y2)\n",
    "ax2.set_ylabel('Number of  Flights Inbound per State', fontsize=12)\n",
    "ax2.set_xlabel('State', fontsize=12)\n",
    "ax2.set_title('Number of INBOUND Flights STATE', fontsize=20, y=1.05)\n",
    "# add legend\n",
    "\n",
    "plt.show()\n",
    "\n",
    "# Can see 3 teirs of aiport size (CA-CO, PA-MD, and VA-and below)\n",
    "# use quantile - qcut 4 try 4 or 10 "
   ]
  },
  {
   "cell_type": "markdown",
   "metadata": {},
   "source": [
    "#### **Task 7**: Test the hypothesis whether planes fly faster when there is the departure delay? "
   ]
  },
  {
   "cell_type": "code",
   "execution_count": null,
   "metadata": {},
   "outputs": [],
   "source": []
  },
  {
   "cell_type": "code",
   "execution_count": null,
   "metadata": {},
   "outputs": [],
   "source": []
  },
  {
   "cell_type": "markdown",
   "metadata": {},
   "source": [
    "#### **Task 8**: When (which hour) do most 'LONG', 'SHORT', 'MEDIUM' haul flights take off?"
   ]
  },
  {
   "cell_type": "code",
   "execution_count": null,
   "metadata": {},
   "outputs": [],
   "source": [
    "# CREATE HOUR OF DAY AND HAUL TYPE COLUMNS\n",
    "\n",
    "def split_time_of_day_departure(df):\n",
    "    \"\"\" takes estimated time of departure and splits in to hours 24 hour clock (local time) \"\"\"\n",
    "    df['dep_hour'] = df['crs_dep_time']\n",
    "    df['dep_hour'] = np.floor(df['dep_hour']/100).astype(\"int\")\n",
    "    return df\n",
    "  \n",
    "def create_haul_type(df):\n",
    "    \"\"\" adds short:0, mid:1, long:2 range haul types from crs_elapsed_time (scheduled) \"\"\"\n",
    "\n",
    "    df[\"haul_type\"] = df['crs_elapsed_time']\n",
    "    df[\"haul_type\"].mask(df[\"haul_type\"].values < 180, 0, inplace=True)\n",
    "    df[\"haul_type\"].mask((df[\"haul_type\"] >= 180) & (df[\"haul_type\"] < 360), 1, inplace=True)\n",
    "    df[\"haul_type\"].mask((df[\"haul_type\"] >= 360), 2, inplace=True) \n",
    "    df[\"haul_type\"]= df[\"haul_type\"].astype('int')\n",
    "    return df  \n",
    "\n",
    "df = split_time_of_day_departure(df)\n",
    "df = create_haul_type(df)\n",
    "df.haul_type.unique()\n",
    "\n",
    "\n"
   ]
  },
  {
   "cell_type": "code",
   "execution_count": null,
   "metadata": {},
   "outputs": [],
   "source": [
    "# want departure time for each category - SPLIT APART\n",
    "\n",
    "df_haul_type = df[['haul_type', 'dep_hour', 'index']]\n",
    "df_haul_type = df_haul_type.groupby(['dep_hour','haul_type'], as_index=False).count()\n",
    "\n",
    "short_haul = df_haul_type[df_haul_type.haul_type == 0]\n",
    "med_haul = df_haul_type[df_haul_type.haul_type == 1]\n",
    "long_haul = df_haul_type[df_haul_type.haul_type == 2]"
   ]
  },
  {
   "cell_type": "code",
   "execution_count": null,
   "metadata": {},
   "outputs": [],
   "source": [
    "# PLOT EACH HAUL TYPE TO VISULIZE\n",
    "import matplotlib.pyplot as plt\n",
    "# Long Haul Plot\n",
    "\n",
    "x = long_haul.dep_hour\n",
    "y = long_haul['index']\n",
    "\n",
    "fig, ax = plt.subplots( figsize = (7,7))\n",
    "\n",
    "ax.bar(x,y)\n",
    "ax.set_ylabel('Number of flights departing', fontsize=12)\n",
    "ax.set_xlabel('Hour of Day', fontsize=12)\n",
    "ax.set_title('Long Haul Departure time', fontsize=20, y=1.05)\n",
    "\n",
    "plt.show()"
   ]
  },
  {
   "cell_type": "code",
   "execution_count": null,
   "metadata": {},
   "outputs": [],
   "source": [
    "# Mid Haul Plot\n",
    "\n",
    "x = med_haul.dep_hour\n",
    "y = med_haul['index']\n",
    "\n",
    "fig, ax = plt.subplots( figsize = (7,7))\n",
    "\n",
    "ax.bar(x,y)\n",
    "ax.set_ylabel('Number of flights departing', fontsize=12)\n",
    "ax.set_xlabel('Hour of Day', fontsize=12)\n",
    "ax.set_title('Med Haul Departure time', fontsize=20, y=1.05)\n",
    "\n",
    "plt.show()"
   ]
  },
  {
   "cell_type": "code",
   "execution_count": null,
   "metadata": {},
   "outputs": [],
   "source": [
    "# short Haul Plot\n",
    "\n",
    "x = short_haul.dep_hour\n",
    "y = short_haul['index']\n",
    "\n",
    "fig, ax = plt.subplots( figsize = (7,7))\n",
    "\n",
    "ax.bar(x,y)\n",
    "ax.set_ylabel('Number of flights departing', fontsize=12)\n",
    "ax.set_xlabel('Hour of Day', fontsize=12)\n",
    "ax.set_title('Short Haul Departure time', fontsize=20, y=1.05)\n",
    "\n",
    "plt.show()"
   ]
  },
  {
   "cell_type": "code",
   "execution_count": null,
   "metadata": {},
   "outputs": [],
   "source": [
    "\"\"\" Looks like short haul more uniformly distributed, med haul declines slowly throughout day\n",
    "and long haul is binomially split - which all make sense intuitively \"\"\""
   ]
  },
  {
   "cell_type": "code",
   "execution_count": null,
   "metadata": {},
   "outputs": [],
   "source": [
    "# SEE IF CORRELATION HAUL TYPE AND ARR DELAY"
   ]
  },
  {
   "cell_type": "markdown",
   "metadata": {},
   "source": [
    "#### **Task 9**: Find the top 10 the bussiest airports. Does the biggest number of flights mean that the biggest number of passengers went through the particular airport? How much traffic do these 10 airports cover?"
   ]
  },
  {
   "cell_type": "code",
   "execution_count": 41,
   "metadata": {},
   "outputs": [
    {
     "data": {
      "text/html": [
       "<div>\n",
       "<style scoped>\n",
       "    .dataframe tbody tr th:only-of-type {\n",
       "        vertical-align: middle;\n",
       "    }\n",
       "\n",
       "    .dataframe tbody tr th {\n",
       "        vertical-align: top;\n",
       "    }\n",
       "\n",
       "    .dataframe thead th {\n",
       "        text-align: right;\n",
       "    }\n",
       "</style>\n",
       "<table border=\"1\" class=\"dataframe\">\n",
       "  <thead>\n",
       "    <tr style=\"text-align: right;\">\n",
       "      <th></th>\n",
       "      <th>airport_code</th>\n",
       "      <th>total_flights</th>\n",
       "    </tr>\n",
       "  </thead>\n",
       "  <tbody>\n",
       "    <tr>\n",
       "      <th>0</th>\n",
       "      <td>ATL</td>\n",
       "      <td>472</td>\n",
       "    </tr>\n",
       "    <tr>\n",
       "      <th>1</th>\n",
       "      <td>ORD</td>\n",
       "      <td>448</td>\n",
       "    </tr>\n",
       "    <tr>\n",
       "      <th>2</th>\n",
       "      <td>DEN</td>\n",
       "      <td>351</td>\n",
       "    </tr>\n",
       "    <tr>\n",
       "      <th>3</th>\n",
       "      <td>DFW</td>\n",
       "      <td>372</td>\n",
       "    </tr>\n",
       "    <tr>\n",
       "      <th>4</th>\n",
       "      <td>CLT</td>\n",
       "      <td>314</td>\n",
       "    </tr>\n",
       "  </tbody>\n",
       "</table>\n",
       "</div>"
      ],
      "text/plain": [
       "  airport_code  total_flights\n",
       "0          ATL            472\n",
       "1          ORD            448\n",
       "2          DEN            351\n",
       "3          DFW            372\n",
       "4          CLT            314"
      ]
     },
     "execution_count": 41,
     "metadata": {},
     "output_type": "execute_result"
    }
   ],
   "source": [
    "# CALCULATE FLIGHT COUNTS PER AIRPORTS\n",
    "airport_count_orig = df[['origin', 'index']].groupby('origin', as_index=False).count().sort_values(by='index', ascending = False)\n",
    "airport_count_dest = df[['dest', 'index']].groupby('dest', as_index=False).count().sort_values(by='index')\n",
    "airport_count= airport_count_orig.merge(airport_count_dest, left_on='origin', right_on='dest')\n",
    "airport_count\n",
    "airport_count['total_flights'] = airport_count['index_x']+airport_count['index_y']\n",
    "airport_count.rename(columns = {'origin': 'airport_code'}, inplace=True)\n",
    "airport_count.drop(['index_x', 'dest', 'index_y'], axis=1, inplace=True)\n",
    "airport_count.head()\n"
   ]
  },
  {
   "cell_type": "code",
   "execution_count": null,
   "metadata": {},
   "outputs": [],
   "source": []
  },
  {
   "cell_type": "code",
   "execution_count": 85,
   "metadata": {},
   "outputs": [
    {
     "data": {
      "text/html": [
       "<div>\n",
       "<style scoped>\n",
       "    .dataframe tbody tr th:only-of-type {\n",
       "        vertical-align: middle;\n",
       "    }\n",
       "\n",
       "    .dataframe tbody tr th {\n",
       "        vertical-align: top;\n",
       "    }\n",
       "\n",
       "    .dataframe thead th {\n",
       "        text-align: right;\n",
       "    }\n",
       "</style>\n",
       "<table border=\"1\" class=\"dataframe\">\n",
       "  <thead>\n",
       "    <tr style=\"text-align: right;\">\n",
       "      <th></th>\n",
       "      <th>airport_code</th>\n",
       "      <th>total_flights</th>\n",
       "      <th>total_flights_bin</th>\n",
       "    </tr>\n",
       "  </thead>\n",
       "  <tbody>\n",
       "    <tr>\n",
       "      <th>0</th>\n",
       "      <td>ATL</td>\n",
       "      <td>472</td>\n",
       "      <td>5</td>\n",
       "    </tr>\n",
       "    <tr>\n",
       "      <th>1</th>\n",
       "      <td>ORD</td>\n",
       "      <td>448</td>\n",
       "      <td>5</td>\n",
       "    </tr>\n",
       "    <tr>\n",
       "      <th>3</th>\n",
       "      <td>DFW</td>\n",
       "      <td>372</td>\n",
       "      <td>4</td>\n",
       "    </tr>\n",
       "    <tr>\n",
       "      <th>2</th>\n",
       "      <td>DEN</td>\n",
       "      <td>351</td>\n",
       "      <td>4</td>\n",
       "    </tr>\n",
       "    <tr>\n",
       "      <th>4</th>\n",
       "      <td>CLT</td>\n",
       "      <td>314</td>\n",
       "      <td>4</td>\n",
       "    </tr>\n",
       "    <tr>\n",
       "      <th>5</th>\n",
       "      <td>LAX</td>\n",
       "      <td>282</td>\n",
       "      <td>3</td>\n",
       "    </tr>\n",
       "    <tr>\n",
       "      <th>6</th>\n",
       "      <td>SEA</td>\n",
       "      <td>254</td>\n",
       "      <td>3</td>\n",
       "    </tr>\n",
       "    <tr>\n",
       "      <th>8</th>\n",
       "      <td>IAH</td>\n",
       "      <td>235</td>\n",
       "      <td>3</td>\n",
       "    </tr>\n",
       "    <tr>\n",
       "      <th>7</th>\n",
       "      <td>PHX</td>\n",
       "      <td>219</td>\n",
       "      <td>3</td>\n",
       "    </tr>\n",
       "    <tr>\n",
       "      <th>14</th>\n",
       "      <td>LGA</td>\n",
       "      <td>214</td>\n",
       "      <td>3</td>\n",
       "    </tr>\n",
       "  </tbody>\n",
       "</table>\n",
       "</div>"
      ],
      "text/plain": [
       "   airport_code  total_flights total_flights_bin\n",
       "0           ATL            472                 5\n",
       "1           ORD            448                 5\n",
       "3           DFW            372                 4\n",
       "2           DEN            351                 4\n",
       "4           CLT            314                 4\n",
       "5           LAX            282                 3\n",
       "6           SEA            254                 3\n",
       "8           IAH            235                 3\n",
       "7           PHX            219                 3\n",
       "14          LGA            214                 3"
      ]
     },
     "execution_count": 85,
     "metadata": {},
     "output_type": "execute_result"
    }
   ],
   "source": [
    "# CALULATE TOP 10 AIRPORTS\n",
    "top_airport_counts = airport_count.sort_values(by='total_flights', ascending=False).head(10)\n",
    "top_airport_counts"
   ]
  },
  {
   "cell_type": "code",
   "execution_count": 107,
   "metadata": {},
   "outputs": [
    {
     "name": "stdout",
     "output_type": "stream",
     "text": [
      " The top 10 airports account for 31.96% of the flight traffic from 245 airports.\n"
     ]
    }
   ],
   "source": [
    "# CALCULATE TRAFFIC THESE 10 AIRPORTS ACCOUNT FOR:\n",
    "\n",
    "percent_traffic = top_airport_counts.total_flights.sum()/airport_count.total_flights.sum()\n",
    "percent_traffic\n",
    "\n",
    "print(f''' The top 10 airports account for {percent_traffic:.2%} of the flight traffic from {airport_count.airport_code.count()} airports.''')"
   ]
  },
  {
   "cell_type": "code",
   "execution_count": 43,
   "metadata": {},
   "outputs": [],
   "source": [
    "def make_bin_column(df, col_name, n_bin_range):\n",
    "    '''\n",
    "    Convert a numeric column to a categorical ordinal column.\n",
    "    Assumption: the column that is going to be binned\n",
    "    must be positive numeric numbers\n",
    "    input:\n",
    "      - df: data frame\n",
    "      - col_name: column in string\n",
    "      - n_bin_range: number of bin required\n",
    "    return: a data frame with the newly binned column  \n",
    "    '''\n",
    "    # make bins and bin labels\n",
    "    bin_ranges = np.linspace(0, df[col_name].max(), n_bin_range+1)\n",
    "    bin_names = range(1, n_bin_range+1)\n",
    "    \n",
    "    # perform the binning\n",
    "    new_col_name = col_name + '_bin'\n",
    "    df[new_col_name] = pd.cut(np.array(df[col_name]), \n",
    "                              bins=bin_ranges, \n",
    "                              labels=bin_names)\n",
    "    return df"
   ]
  },
  {
   "cell_type": "code",
   "execution_count": 44,
   "metadata": {},
   "outputs": [],
   "source": [
    "airport_count = make_bin_column(airport_count, 'total_flights', 5)"
   ]
  },
  {
   "cell_type": "code",
   "execution_count": 45,
   "metadata": {},
   "outputs": [
    {
     "data": {
      "text/html": [
       "<div>\n",
       "<style scoped>\n",
       "    .dataframe tbody tr th:only-of-type {\n",
       "        vertical-align: middle;\n",
       "    }\n",
       "\n",
       "    .dataframe tbody tr th {\n",
       "        vertical-align: top;\n",
       "    }\n",
       "\n",
       "    .dataframe thead th {\n",
       "        text-align: right;\n",
       "    }\n",
       "</style>\n",
       "<table border=\"1\" class=\"dataframe\">\n",
       "  <thead>\n",
       "    <tr style=\"text-align: right;\">\n",
       "      <th></th>\n",
       "      <th>airport_code</th>\n",
       "      <th>total_flights</th>\n",
       "      <th>total_flights_bin</th>\n",
       "    </tr>\n",
       "  </thead>\n",
       "  <tbody>\n",
       "    <tr>\n",
       "      <th>0</th>\n",
       "      <td>ATL</td>\n",
       "      <td>472</td>\n",
       "      <td>5</td>\n",
       "    </tr>\n",
       "    <tr>\n",
       "      <th>1</th>\n",
       "      <td>ORD</td>\n",
       "      <td>448</td>\n",
       "      <td>5</td>\n",
       "    </tr>\n",
       "    <tr>\n",
       "      <th>2</th>\n",
       "      <td>DEN</td>\n",
       "      <td>351</td>\n",
       "      <td>4</td>\n",
       "    </tr>\n",
       "    <tr>\n",
       "      <th>3</th>\n",
       "      <td>DFW</td>\n",
       "      <td>372</td>\n",
       "      <td>4</td>\n",
       "    </tr>\n",
       "    <tr>\n",
       "      <th>4</th>\n",
       "      <td>CLT</td>\n",
       "      <td>314</td>\n",
       "      <td>4</td>\n",
       "    </tr>\n",
       "  </tbody>\n",
       "</table>\n",
       "</div>"
      ],
      "text/plain": [
       "  airport_code  total_flights total_flights_bin\n",
       "0          ATL            472                 5\n",
       "1          ORD            448                 5\n",
       "2          DEN            351                 4\n",
       "3          DFW            372                 4\n",
       "4          CLT            314                 4"
      ]
     },
     "execution_count": 45,
     "metadata": {},
     "output_type": "execute_result"
    }
   ],
   "source": [
    "airport_count.head()"
   ]
  },
  {
   "cell_type": "code",
   "execution_count": 50,
   "metadata": {},
   "outputs": [],
   "source": [
    "# # merge the encoding with origin airport\n",
    "# airport_count.rename(columns={'airport_id': 'origin_airport_id'}, inplace=True)\n",
    "# airport_count.rename(columns={'total_flights_bin': 'origin_total_flights_bin'}, inplace=True)\n",
    "# df = df.merge(airport_count, on='origin_airport_id')\n",
    "# df.drop(columns='total_flights', axis=1, inplace=True)\n",
    "\n",
    "# # merge the encoding with destination airport\n",
    "# airport_count.rename(columns={'origin_airport_id': 'dest_airport_id'}, inplace=True)\n",
    "# airport_count.rename(columns={'origin_total_flights_bin': 'dest_total_flights_bin'}, inplace=True)\n",
    "# df = df.merge(airport_count, on='dest_airport_id')\n",
    "# df.drop(columns='total_flights', axis=1, inplace=True)"
   ]
  },
  {
   "cell_type": "code",
   "execution_count": 69,
   "metadata": {},
   "outputs": [],
   "source": [
    "# ADD FLIGHT NUMBER BINS TO DF (changed to use airport_code rather than id)\n",
    "\n",
    "# # merge the encoding with origin airport\n",
    "merge_airport_count = airport_count.copy()\n",
    "merge_airport_count.rename(columns={'airport_code': 'origin'}, inplace=True)\n",
    "merge_airport_count.rename(columns={'total_flights_bin': 'origin_total_flights_bin'}, inplace=True)\n",
    "df = df.merge(merge_airport_count, on='origin')\n",
    "df.drop(columns='total_flights', axis=1, inplace=True)\n",
    "\n",
    "# merge the encoding with destination airport\n",
    "merge_airport_count.rename(columns={'origin': 'dest'}, inplace=True)\n",
    "merge_airport_count.rename(columns={'origin_total_flights_bin': 'dest_total_flights_bin'}, inplace=True)\n",
    "df = df.merge(merge_airport_count, on='dest')\n",
    "df.drop(columns='total_flights', axis=1, inplace=True)\n"
   ]
  },
  {
   "cell_type": "code",
   "execution_count": 51,
   "metadata": {},
   "outputs": [
    {
     "data": {
      "image/png": "[encoded data removed]",
      "text/plain": [
       "<Figure size 720x720 with 1 Axes>"
      ]
     },
     "metadata": {
      "needs_background": "light"
     },
     "output_type": "display_data"
    }
   ],
   "source": [
    "# PLOT AIRPORT FLIGHT VOLUME\n",
    "\n",
    "import matplotlib.pyplot as plt\n",
    "\n",
    "x = top_airport_counts.airport_code\n",
    "\n",
    "y = top_airport_counts.total_flights\n",
    "\n",
    "fig, ax = plt.subplots( figsize = (10,10))\n",
    "\n",
    "ax.bar(x,y)\n",
    "ax.set_ylabel('Total Number of Flights per Airport', fontsize=12)\n",
    "ax.set_xlabel('Airport', fontsize=12)\n",
    "ax.set_title('Number of Flights', fontsize=20, y=1.05)\n",
    "plt.xticks(rotation=90)\n",
    "plt.show()\n",
    "\n",
    "# Can split into 6 teirs as well or qcut"
   ]
  },
  {
   "cell_type": "code",
   "execution_count": null,
   "metadata": {},
   "outputs": [],
   "source": [
    "\n"
   ]
  },
  {
   "cell_type": "markdown",
   "metadata": {},
   "source": [
    "### Extra Task - see impact of airport size and delay"
   ]
  },
  {
   "cell_type": "code",
   "execution_count": null,
   "metadata": {},
   "outputs": [],
   "source": []
  },
  {
   "cell_type": "code",
   "execution_count": null,
   "metadata": {},
   "outputs": [],
   "source": [
    "# ADD Number of flights TO DF (for plotting below)\n",
    "\n",
    "# # merge the encoding with origin airport\n",
    "merge_airport_count = airport_count.copy()\n",
    "merge_airport_count.rename(columns={'airport_code': 'origin'}, inplace=True)\n",
    "merge_airport_count.rename(columns={'total_flights_bin': 'origin_total_flights_bin', 'total_flights': 'origin_total_flights'}, inplace=True)\n",
    "df = df.merge(merge_airport_count, on='origin')\n",
    "# df.drop(columns='total_flights', axis=1, inplace=True)\n",
    "\n",
    "# merge the encoding with destination airport\n",
    "merge_airport_count.rename(columns={'origin': 'dest'}, inplace=True)\n",
    "merge_airport_count.rename(columns={'origin_total_flights_bin': 'dest_total_flights_bin', 'origin_total_flights': 'dest_total_flights'}, inplace=True)\n",
    "df = df.merge(merge_airport_count, on='dest')\n",
    "# df.drop(columns='total_flights', axis=1, inplace=True)\n",
    "\n",
    "# NEED TO DROP COLUMNS!!!"
   ]
  },
  {
   "cell_type": "code",
   "execution_count": 141,
   "metadata": {},
   "outputs": [
    {
     "data": {
      "image/png": "[encoded data removed]",
      "text/plain": [
       "<Figure size 360x360 with 1 Axes>"
      ]
     },
     "metadata": {
      "needs_background": "light"
     },
     "output_type": "display_data"
    },
    {
     "data": {
      "image/png": "[encoded data removed]",
      "text/plain": [
       "<Figure size 360x360 with 1 Axes>"
      ]
     },
     "metadata": {
      "needs_background": "light"
     },
     "output_type": "display_data"
    }
   ],
   "source": [
    "# PLOT DEPARTURE DELAYS BASED ON SIZE OF ORIGIN AIRPORT\n",
    "\n",
    "delays_origin =df[['origin','dep_delay','origin_total_flights']]\n",
    "delays_origin_mean = delays_origin.groupby('origin', as_index=False).mean()\n",
    "delays_origin_median = delays_origin.groupby('origin', as_index=False).median()\n",
    "\n",
    "ax =sns.lmplot(x='origin_total_flights', y='dep_delay', data = delays_origin_mean)\n",
    "ax.set(title='Avg Delay for Airport Size')\n",
    "plt.show()\n",
    "\n",
    "ax =sns.lmplot(x='origin_total_flights', y='dep_delay', data = delays_origin_median)\n",
    "ax.set(title='Med Delay for Airport Size')\n",
    "plt.show()\n",
    "\n"
   ]
  },
  {
   "cell_type": "code",
   "execution_count": 142,
   "metadata": {},
   "outputs": [
    {
     "data": {
      "image/png": "[encoded data removed]",
      "text/plain": [
       "<Figure size 360x360 with 1 Axes>"
      ]
     },
     "metadata": {
      "needs_background": "light"
     },
     "output_type": "display_data"
    },
    {
     "data": {
      "image/png": "[encoded data removed]",
      "text/plain": [
       "<Figure size 360x360 with 1 Axes>"
      ]
     },
     "metadata": {
      "needs_background": "light"
     },
     "output_type": "display_data"
    }
   ],
   "source": [
    "# PLOT ARRIVAL DELAYS BASED ON SIZE OF DESTINATION AIRPORT\n",
    "\n",
    "delays_dest =df[['dest','arr_delay', 'dest_total_flights']]\n",
    "delays_dest_mean = delays_dest.groupby('dest', as_index=False).mean()\n",
    "delays_dest_median = delays_dest.groupby('dest', as_index=False).median()\n",
    "\n",
    "ax =sns.lmplot(x='dest_total_flights', y='arr_delay', data = delays_dest_mean)\n",
    "ax.set(title='Avg Delay for Airport Size')\n",
    "plt.show()\n",
    "\n",
    "ax =sns.lmplot(x='dest_total_flights', y='arr_delay', data = delays_dest_median)\n",
    "ax.set(title='Med Delay for Airport Size')\n",
    "plt.show()"
   ]
  },
  {
   "cell_type": "code",
   "execution_count": 144,
   "metadata": {},
   "outputs": [
    {
     "data": {
      "image/png": "[encoded data removed]",
      "text/plain": [
       "<Figure size 432x288 with 2 Axes>"
      ]
     },
     "metadata": {
      "needs_background": "light"
     },
     "output_type": "display_data"
    }
   ],
   "source": [
    "# Plot airport size (flights and arrival delay)\n",
    "\n",
    "# average\n",
    "plot_airpot_delays = df[['origin', 'arr_delay']]\n",
    " \n",
    "plot_airpot_delays =plot_airpot_delays.groupby(['origin'], as_index=False).mean()\n",
    "plot_airpot_delays =  airport_count.merge(plot_airpot_delays, right_on='origin', left_on='airport_code')\n",
    "plot_airpot_delays = plot_airpot_delays.rename({'arr_delay': 'avg_arr_delay'})\n",
    "\n",
    "# plot\n",
    "plot_x=plot_airpot_delays[['airport_code','total_flights','arr_delay']]\n",
    "\n",
    "plot_x.plot( kind= 'bar' , secondary_y= 'arr_delay' , rot= 0 )\n",
    "plt.show()"
   ]
  },
  {
   "cell_type": "code",
   "execution_count": 146,
   "metadata": {},
   "outputs": [
    {
     "data": {
      "image/png": "[encoded data removed]",
      "text/plain": [
       "<Figure size 432x288 with 2 Axes>"
      ]
     },
     "metadata": {
      "needs_background": "light"
     },
     "output_type": "display_data"
    }
   ],
   "source": [
    "# median\n",
    "plot_airpot_delays = df[['origin', 'arr_delay']]\n",
    " \n",
    "plot_airpot_delays =plot_airpot_delays.groupby(['origin'], as_index=False).median()\n",
    "plot_airpot_delays =  airport_count.merge(plot_airpot_delays, right_on='origin', left_on='airport_code')\n",
    "plot_airpot_delays = plot_airpot_delays.rename({'arr_delay': 'median_arr_delay'})\n",
    "\n",
    "# plot\n",
    "plot_x=plot_airpot_delays[['airport_code','total_flights','arr_delay']]\n",
    "\n",
    "plot_x.plot( kind= 'bar' , secondary_y= 'arr_delay' , rot= 0 )\n",
    "plt.show()\n",
    "\n",
    "# This makes sense - law of large numbers"
   ]
  },
  {
   "cell_type": "code",
   "execution_count": null,
   "metadata": {},
   "outputs": [],
   "source": []
  },
  {
   "cell_type": "markdown",
   "metadata": {},
   "source": [
    "#### **Task 10**: Do bigger delays lead to bigger fuel comsumption per passenger? \n",
    "We need to do four things to answer this as accurate as possible:\n",
    "- Find out average monthly delay per air carrier (monthly delay is sum of all delays in 1 month)\n",
    "- Find out distance covered monthly by different air carriers\n",
    "- Find out number of passengers that were carried by different air carriers\n",
    "- Find out total fuel comsumption per air carrier.\n",
    "\n",
    "Use this information to get the average fuel comsumption per passenger per km. Is this higher for the airlines with bigger average delays?"
   ]
  },
  {
   "cell_type": "code",
   "execution_count": null,
   "metadata": {},
   "outputs": [],
   "source": []
  },
  {
   "cell_type": "code",
   "execution_count": null,
   "metadata": {},
   "outputs": [],
   "source": []
  },
  {
   "cell_type": "markdown",
   "metadata": {},
   "source": [
    "#### Extra Task: Cities "
   ]
  },
  {
   "cell_type": "code",
   "execution_count": null,
   "metadata": {},
   "outputs": [],
   "source": [
    "# CALCULATE FLIGHT COUNTS CITY  - run Task 6 first to split out city columns\n",
    "city_count_orig = df[['origin_city', 'index']].groupby('origin_city', as_index=False).count().sort_values(by='index')\n",
    "city_count_dest = df[['dest_city', 'index']].groupby('dest_city', as_index=False).count().sort_values(by='index')\n",
    "city_count= city_count_orig.merge(city_count_dest, left_on='origin_city', right_on='dest_city')\n",
    "\n",
    "city_count['total_flights'] = city_count['index_x']+city_count['index_y']\n",
    "city_count.rename(columns = {'origin_city': 'city'}, inplace=True)\n",
    "city_count.drop(['index_x', 'dest_city', 'index_y'], axis=1, inplace=True)\n",
    "\n",
    "city_count= city_count.sort_values(by='total_flights', ascending=False)\n",
    "city_count"
   ]
  },
  {
   "cell_type": "code",
   "execution_count": null,
   "metadata": {},
   "outputs": [],
   "source": [
    "# PLOT CITY FLIGHT VOLUME \n",
    "top_city_count= city_count.head(20)\n",
    "import matplotlib.pyplot as plt\n",
    "\n",
    "x = top_city_count.city\n",
    "y = top_city_count.total_flights\n",
    "\n",
    "fig, ax = plt.subplots( figsize = (10,10))\n",
    "\n",
    "ax.bar(x,y)\n",
    "ax.set_ylabel('Total Number of Flights per City', fontsize=12)\n",
    "ax.set_xlabel('City', fontsize=12)\n",
    "ax.set_title('Number of Flights', fontsize=20, y=1.05)\n",
    "plt.xticks(rotation = 90)\n",
    "plt.show()\n",
    "\n",
    "# Can split into 6 teirs as well or qcut"
   ]
  },
  {
   "cell_type": "code",
   "execution_count": null,
   "metadata": {},
   "outputs": [],
   "source": []
  }
 ],
 "metadata": {
  "kernelspec": {
   "display_name": "Python 3 (ipykernel)",
   "language": "python",
   "name": "python3"
  },
  "language_info": {
   "codemirror_mode": {
    "name": "ipython",
    "version": 3
   },
   "file_extension": ".py",
   "mimetype": "text/x-python",
   "name": "python",
   "nbconvert_exporter": "python",
   "pygments_lexer": "ipython3",
   "version": "3.8.11"
  },
  "toc": {
   "base_numbering": 1,
   "nav_menu": {},
   "number_sections": true,
   "sideBar": true,
   "skip_h1_title": false,
   "title_cell": "Table of Contents",
   "title_sidebar": "Contents",
   "toc_cell": false,
   "toc_position": {},
   "toc_section_display": true,
   "toc_window_display": false
  },
  "varInspector": {
   "cols": {
    "lenName": 16,
    "lenType": 16,
    "lenVar": 40
   },
   "kernels_config": {
    "python": {
     "delete_cmd_postfix": "",
     "delete_cmd_prefix": "del ",
     "library": "var_list.py",
     "varRefreshCmd": "print(var_dic_list())"
    },
    "r": {
     "delete_cmd_postfix": ") ",
     "delete_cmd_prefix": "rm(",
     "library": "var_list.r",
     "varRefreshCmd": "cat(var_dic_list()) "
    }
   },
   "types_to_exclude": [
    "module",
    "function",
    "builtin_function_or_method",
    "instance",
    "_Feature"
   ],
   "window_display": false
  }
 },
 "nbformat": 4,
 "nbformat_minor": 4
}
