{
 "cells": [
  {
   "cell_type": "markdown",
   "id": "d544f8a1-ee71-40d9-bdc7-724dbb7d5ebb",
   "metadata": {},
   "source": [
    "## Data Wrangling and Data Exploration Functions"
   ]
  },
  {
   "cell_type": "code",
   "execution_count": 1,
   "id": "69a792dd-00a5-444b-9d8f-55ad38c1369d",
   "metadata": {},
   "outputs": [],
   "source": [
    "class Data_wrangling:\n",
    "    \n",
    "    def __init__(self, df):\n",
    "        self.df = df\n",
    "        \n",
    "    def drop_columns(self, column_names_as_list):\n",
    "        \"\"\" removes columns if exist in dataframe\n",
    "        Note ones that probably should be removed are [\"dup\", \"index\", \"no_name\", \"cancellation_code\" ]\"\"\"\n",
    "        for i in range(len(column_names_as_list)):\n",
    "            if column_names_as_list[i] in df:\n",
    "                self.df = self.df.drop(column_names_as_list[i], axis = 1)\n",
    "        return self.df\n",
    "\n",
    "    def create_haul_type(self):\n",
    "        \"\"\" adds short:0, mid:1, long:2 range haul types from crs_elapsed_time (scheduled) \"\"\"\n",
    "\n",
    "        self.df[\"haul_type\"] = self.df['crs_elapsed_time']\n",
    "        self.df[\"haul_type\"].mask(self.df[\"haul_type\"].values < 180, 0, inplace=True)\n",
    "        self.df[\"haul_type\"].mask((self.df[\"haul_type\"] > 180) & (self.df[\"haul_type\"] < 360), 1, inplace=True)\n",
    "        self.df[\"haul_type\"].mask((self.df[\"haul_type\"] > 360), 2, inplace=True) \n",
    "        return self.df\n",
    "    \n",
    "\n",
    "    def split_time_of_day_arrival(df):\n",
    "    \n",
    "    def split_time_of_day_departure(df):\n",
    "        \n",
    "def hour_of_day(df):\n",
    "    \"\"\" taks arrival time of day and splits in\"\"\"\n",
    "    df['arr_time_of_day'] = df['arr_time']\n",
    "    df['arr_time_of_day'] = np.floor(df['arr_time']/100).stype(\"int\")\n",
    "    df['arr_time_of_day']\n",
    "    \n",
    "    \n",
    "def add_states(df):\n",
    "    #download data (from https://ourairports.com/airports/)\n",
    "    airports = pd.read_csv(\"data/airports.csv\")\n",
    "    \n",
    "    #grab relevent columns and rename to merge with df for origin locations\n",
    "    airports = airports[['id', 'ident', 'iso_region']]\n",
    "    airports_origin = airports.rename(columns={'ident': \"origin_airport_identifier\", 'id':'origin_airport_id', 'iso_region': 'origin_iso_region'})\n",
    "    df = df.merge(airports_origin, how= 'left', on='origin_airport_id')\n",
    "    \n",
    "    # for destination states\n",
    "    airports = airports[['id', 'ident', 'iso_region']]\n",
    "    airports_dest = airports.rename(columns={'ident': \"dest_airport_identifier\", 'id':'dest_airport_id', 'iso_region': 'dest_iso_region'})\n",
    "    df = df.merge(airports_dest, how= 'left', on='dest_airport_id')\n",
    "    \n",
    "    return df"
   ]
  },
  {
   "cell_type": "markdown",
   "id": "57ad28a3-a547-4995-9c13-2d7914bf48f7",
   "metadata": {},
   "source": [
    "## Preprocessing"
   ]
  },
  {
   "cell_type": "code",
   "execution_count": null,
   "id": "2a984f61-75f5-45d0-9a82-360842c50574",
   "metadata": {},
   "outputs": [],
   "source": [
    "class Preprocessing:\n",
    "    def __init__(self, df):\n",
    "        self.df = df\n",
    "        \n",
    "    def split_numeric_categorical(self):\n",
    "        pass\n",
    "        \n",
    "    def scale(self, scalar):\n",
    "        pass\n",
    "    \n",
    "    def remove_highly_correlated_columns(self):\n",
    "        pass\n",
    "    \n",
    "    def drop_targets(self):\n",
    "        \"\"\" removes target variables before modelling\"\"\"\n",
    "        return drop_columns(self.df, ['carrier_delay', 'weather_delay', 'nas_delay', 'security_delay'])"
   ]
  }
 ],
 "metadata": {
  "kernelspec": {
   "display_name": "bootcamp_env",
   "language": "python",
   "name": "bootcamp_env"
  },
  "language_info": {
   "codemirror_mode": {
    "name": "ipython",
    "version": 3
   },
   "file_extension": ".py",
   "mimetype": "text/x-python",
   "name": "python",
   "nbconvert_exporter": "python",
   "pygments_lexer": "ipython3",
   "version": "3.8.5"
  }
 },
 "nbformat": 4,
 "nbformat_minor": 5
}
