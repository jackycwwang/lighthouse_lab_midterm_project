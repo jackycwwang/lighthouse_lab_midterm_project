{
 "cells": [
  {
   "cell_type": "markdown",
   "id": "d544f8a1-ee71-40d9-bdc7-724dbb7d5ebb",
   "metadata": {},
   "source": [
    "## Data Wrangling and Data Exploration Functions"
   ]
  },
  {
   "cell_type": "code",
   "execution_count": 1,
   "id": "69a792dd-00a5-444b-9d8f-55ad38c1369d",
   "metadata": {},
   "outputs": [],
   "source": [
    "class data_wrangling:\n",
    "    \n",
    "    def __init__(self, df):\n",
    "        self.df = df\n",
    "        \n",
    "    def drop_columns(self, column_names_as_list):\n",
    "        \"\"\" removes columns if exist in dataframe\"\"\"\n",
    "        for i in range(len(column_names_as_list)):\n",
    "            if column_names_as_list[i] in df:\n",
    "                self.df = self.df.drop(column_names_as_list[i], axis = 1)\n",
    "        return self.df\n",
    "\n",
    "    def drop_targets(self):\n",
    "        \"\"\" removes target variables before modelling\"\"\"\n",
    "        return drop_columns(self.df, ['carrier_delay', 'weather_delay', 'nas_delay', 'security_delay'])\n",
    "\n",
    "    def create_haul_type(self):\n",
    "        \"\"\" adds short:0, mid:1, long:2 range haul types from crs_elapsed_time (scheduled) \"\"\"\n",
    "\n",
    "        self.df[\"haul_type\"] = self.df['crs_elapsed_time']\n",
    "        self.df[\"haul_type\"].mask(self.df[\"haul_type\"].values < 180, 0, inplace=True)\n",
    "        self.df[\"haul_type\"].mask((self.df[\"haul_type\"] > 180) & (self.df[\"haul_type\"] < 360), 1, inplace=True)\n",
    "        self.df[\"haul_type\"].mask((self.df[\"haul_type\"] > 360), 2, inplace=True) \n",
    "        return self.df"
   ]
  },
  {
   "cell_type": "code",
   "execution_count": null,
   "id": "2a984f61-75f5-45d0-9a82-360842c50574",
   "metadata": {},
   "outputs": [],
   "source": []
  }
 ],
 "metadata": {
  "kernelspec": {
   "display_name": "bootcamp_env",
   "language": "python",
   "name": "bootcamp_env"
  },
  "language_info": {
   "codemirror_mode": {
    "name": "ipython",
    "version": 3
   },
   "file_extension": ".py",
   "mimetype": "text/x-python",
   "name": "python",
   "nbconvert_exporter": "python",
   "pygments_lexer": "ipython3",
   "version": "3.8.5"
  }
 },
 "nbformat": 4,
 "nbformat_minor": 5
}
