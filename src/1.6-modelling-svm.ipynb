{
 "cells": [
  {
   "cell_type": "code",
   "execution_count": null,
   "id": "1c1686ec-06c3-45c0-a733-33bab172313c",
   "metadata": {},
   "outputs": [],
   "source": [
    "import numpy as np\n",
    "import pandas as pd\n",
    "from sklearn.model_selection import train_test_split\n",
    "from sklearn.model_selection import GridSearchCV\n",
    "from sklearn import svm"
   ]
  },
  {
   "cell_type": "code",
   "execution_count": null,
   "id": "107b1287-ac01-4291-9aab-96b69ffdeb21",
   "metadata": {},
   "outputs": [],
   "source": [
    "# load data test train split\n",
    "\n",
    "from sklearn.model_selection import train_test_split\n",
    "from sklearn import svm\n",
    "\n",
    "# Split dataset into training set and test set\n",
    "X_train, X_test, y_train, y_test = train_test_split(cancer.data, cancer.target, test_size=0.3,random_state=109) # 70% training and 30% test"
   ]
  },
  {
   "cell_type": "code",
   "execution_count": null,
   "id": "9e80a115-e4b6-4360-9e1a-ef84428368b9",
   "metadata": {},
   "outputs": [],
   "source": [
    "clf = svm.SVC(kernel='poly')\n",
    "clf.fit(X_train, y_train)"
   ]
  },
  {
   "cell_type": "code",
   "execution_count": null,
   "id": "7a533191-eb2d-42e1-844e-330c611d570e",
   "metadata": {},
   "outputs": [],
   "source": [
    "parameter_candidates = [\n",
    "  {'C': [1, 10, 100, 500], 'gamma': [0.01, 0.001, 0.0001], 'kernel': ['rbf']},\n",
    "]\n",
    "# try polynomial next"
   ]
  },
  {
   "cell_type": "code",
   "execution_count": null,
   "id": "4011b91b-1956-4561-8ef2-1743724424b2",
   "metadata": {},
   "outputs": [],
   "source": [
    "\n",
    "reg = GridSearchCV(estimator=svm.SVC(), param_grid=parameter_candidates, n_jobs=-1) # defaults to 5 fold cross validation\n",
    "\n",
    "# Train the classifier on data1's feature and target data\n",
    "reg.fit(data1_features, data1_target)   \n",
    "\n",
    "y_pred = reg.predict(X_test)"
   ]
  },
  {
   "cell_type": "code",
   "execution_count": null,
   "id": "c8092f50-5dca-4e47-af57-faf5a0a693c4",
   "metadata": {},
   "outputs": [],
   "source": [
    "print('Best score for data1:', reg.best_score_) \n",
    "print('Best C:',reg.best_estimator_.C) \n",
    "print('Best Kernel:',reg.best_estimator_.kernel)\n",
    "print('Best Gamma:',reg.best_estimator_.gamma)"
   ]
  }
 ],
 "metadata": {
  "kernelspec": {
   "display_name": "bootcamp_env",
   "language": "python",
   "name": "bootcamp_env"
  },
  "language_info": {
   "codemirror_mode": {
    "name": "ipython",
    "version": 3
   },
   "file_extension": ".py",
   "mimetype": "text/x-python",
   "name": "python",
   "nbconvert_exporter": "python",
   "pygments_lexer": "ipython3",
   "version": "3.8.5"
  }
 },
 "nbformat": 4,
 "nbformat_minor": 5
}
