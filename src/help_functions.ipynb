{
 "cells": [
  {
   "cell_type": "code",
   "execution_count": 91,
   "id": "dd9c6291",
   "metadata": {},
   "outputs": [],
   "source": [
    "import numpy as np\n",
    "import pandas as pd\n",
    "import seaborn as sns\n",
    "import matplotlib.pyplot as plt\n",
    "import requests\n",
    "import config as cfg"
   ]
  },
  {
   "cell_type": "code",
   "execution_count": 78,
   "id": "0136e947",
   "metadata": {},
   "outputs": [],
   "source": [
    "df = pd.read_csv('../data/flights_samp.csv')"
   ]
  },
  {
   "cell_type": "code",
   "execution_count": 18,
   "id": "b433df97",
   "metadata": {},
   "outputs": [],
   "source": [
    "def split_numeric_categorical(df, numeric=True):\n",
    "    '''    \n",
    "    Return either numerical columns, or categorical columns in a data frame\n",
    "    numeric: default True, return dataframe of all numerical columns    \n",
    "    input: a data frame\n",
    "    output: a data frame\n",
    "    \n",
    "    '''\n",
    "    numeric_data = df.select_dtypes(include=[np.number])\n",
    "    categorical_data = df.select_dtypes(include='category')\n",
    "    if numeric:\n",
    "        return numeric_data\n",
    "    else:\n",
    "        return categorical_data"
   ]
  },
  {
   "cell_type": "code",
   "execution_count": 82,
   "id": "7a18b2f3",
   "metadata": {},
   "outputs": [],
   "source": [
    "def make_categorical(df, cols):\n",
    "    '''\n",
    "    Convert columns in `cols` to type `categorical`\n",
    "    input: df - data frame, cols - a list of columns\n",
    "    output: a copy of the data frame with the converted columns\n",
    "    '''\n",
    "    col_dict = {col:'category' for col in cols}\n",
    "    df = df.astype(col_dict)\n",
    "    return df"
   ]
  },
  {
   "cell_type": "code",
   "execution_count": 79,
   "id": "059ec8c3",
   "metadata": {},
   "outputs": [],
   "source": [
    "cols = ['mkt_carrier', 'tail_num']"
   ]
  },
  {
   "cell_type": "code",
   "execution_count": 80,
   "id": "75a643ea",
   "metadata": {},
   "outputs": [],
   "source": [
    "df1 = make_categorical(df, cols)"
   ]
  },
  {
   "cell_type": "code",
   "execution_count": 83,
   "id": "e2d33a31",
   "metadata": {},
   "outputs": [],
   "source": [
    "def to_hhmmss(df_time_col):\n",
    "    '''\n",
    "    Change the format of the time in hhmm\n",
    "    to hh:mm:ss, where ss is 00 in this case\n",
    "    Input: `df_time_col`: a Pandas Series\n",
    "    Return: a Pandas Series\n",
    "    '''\n",
    "    \n",
    "    hhmm = []\n",
    "    crs_hm = df_time_col.astype('str')\n",
    "    for t in crs_hm:\n",
    "        if len(t) == 1:\n",
    "            hhmm.append('0' + t + ':00:00')\n",
    "        elif (len(t) == 2) & (t < '24'):\n",
    "            hhmm.append(t + ':00:00')\n",
    "        elif (len(t) == 2) & (t > '24'):\n",
    "            hhmm.append('00:' + t + ':00')\n",
    "        elif len(t) == 3:\n",
    "            hhmm.append('0' + t[0] + ':' + t[1:] + ':00')\n",
    "        else:\n",
    "            hhmm.append(t[:2] + ':' + t[2:] + \":00\")\n",
    "    return hhmm"
   ]
  },
  {
   "cell_type": "code",
   "execution_count": 84,
   "id": "a11583d2",
   "metadata": {},
   "outputs": [],
   "source": [
    "df['crs_dep_time_hhmm'] = to_hhmmss(df.crs_dep_time)"
   ]
  },
  {
   "cell_type": "code",
   "execution_count": 85,
   "id": "4d7c9643",
   "metadata": {},
   "outputs": [],
   "source": [
    "def to_city_state(city_state_col):\n",
    "    '''\n",
    "    Change the format of `city1/city2, state`\n",
    "    to `city1, state` \n",
    "    Input: A Pandas Series\n",
    "    Output: A Pandas Series\n",
    "    '''\n",
    "    return pd.Series(map(lambda x: x[0].split('/')[0] + ',' + x[-1].strip() ,\n",
    "                    city_state_col.str.split(',')))"
   ]
  },
  {
   "cell_type": "code",
   "execution_count": 86,
   "id": "17cdfa7e",
   "metadata": {},
   "outputs": [],
   "source": [
    "df.origin_city_name = to_city_state(df.origin_city_name)"
   ]
  },
  {
   "cell_type": "code",
   "execution_count": 90,
   "id": "651285f3",
   "metadata": {},
   "outputs": [],
   "source": [
    "def request_weather(df):\n",
    "    '''\n",
    "    request weather information\n",
    "    input: a data frame in which\n",
    "        - first column: time \n",
    "        - second column: location\n",
    "        - third column: date\n",
    "    output: a dictionary \n",
    "    '''\n",
    "    unit_group=\"us\"\n",
    "    api_key = cfg.visual_crossing['api_key']\n",
    "    requestUrl = 'https://weather.visualcrossing.com/VisualCrossingWebServices/rest/services/timeline'\n",
    "    weather_dict = { 'conditions': [] }\n",
    "    count = 1\n",
    "    for row in df.values:\n",
    "        print('Query Count: ', count)\n",
    "        time = row[0]\n",
    "        loc = row[1]\n",
    "        date = row[2]\n",
    "        url = requestUrl + '/' + loc + '/' + date + 'T' + time + '?key=' + api_key   \n",
    "        res = requests.get(url)\n",
    "        if res.status_code == 200:\n",
    "            weather_json = res.json()\n",
    "            try:\n",
    "                condition = weather_json['days'][0]['conditions']\n",
    "            except:\n",
    "                condition = 'NA'\n",
    "            else:        \n",
    "                weather_dict['conditions'].append(condition)\n",
    "        else:\n",
    "            weather_dict['conditions'].append('NA')\n",
    "            print('Error: ', res.status_code)    \n",
    "        count += 1\n",
    "    return weather_dict"
   ]
  },
  {
   "cell_type": "code",
   "execution_count": null,
   "id": "83bc0da3",
   "metadata": {},
   "outputs": [],
   "source": []
  }
 ],
 "metadata": {
  "kernelspec": {
   "display_name": "bootcamp_env",
   "language": "python",
   "name": "bootcamp_env"
  },
  "language_info": {
   "codemirror_mode": {
    "name": "ipython",
    "version": 3
   },
   "file_extension": ".py",
   "mimetype": "text/x-python",
   "name": "python",
   "nbconvert_exporter": "python",
   "pygments_lexer": "ipython3",
   "version": "3.8.5"
  }
 },
 "nbformat": 4,
 "nbformat_minor": 5
}
