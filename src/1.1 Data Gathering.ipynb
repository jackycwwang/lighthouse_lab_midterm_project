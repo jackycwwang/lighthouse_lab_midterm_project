{
 "cells": [
  {
   "cell_type": "code",
   "execution_count": 16,
   "id": "0e973739",
   "metadata": {},
   "outputs": [],
   "source": [
    "import pandas as pd\n",
    "import psycopg2\n",
    "import pandas.io.sql as sqlio"
   ]
  },
  {
   "cell_type": "code",
   "execution_count": 2,
   "id": "16b8c758",
   "metadata": {},
   "outputs": [
    {
     "name": "stdout",
     "output_type": "stream",
     "text": [
      "Database opened successfully\n"
     ]
    }
   ],
   "source": [
    "host= 'mid-term-project.ca2jkepgjpne.us-east-2.rds.amazonaws.com'\n",
    "port = 5432\n",
    "user = 'lhl_student'\n",
    "pwd = 'lhl_student'\n",
    "database= 'mid_term_project'\n",
    "\n",
    "\n",
    "con = psycopg2.connect(database=database, user=user, password=pwd, host=host, port=port)\n",
    "\n",
    "print(\"Database opened successfully\")"
   ]
  },
  {
   "cell_type": "code",
   "execution_count": 29,
   "id": "c6a9ca9a",
   "metadata": {},
   "outputs": [],
   "source": [
    "sql = '''\n",
    "SELECT * from flights \n",
    "where fl_date >= '2018-12-27' and fl_date <= '2019-01-12';\n",
    "'''\n",
    "\n",
    "data = sqlio.read_sql_query(sql, con)"
   ]
  },
  {
   "cell_type": "code",
   "execution_count": 31,
   "id": "81525b37",
   "metadata": {},
   "outputs": [],
   "source": [
    "data.to_csv('flights.csv', index=False)"
   ]
  },
  {
   "cell_type": "code",
   "execution_count": 33,
   "id": "a1b07abc",
   "metadata": {},
   "outputs": [],
   "source": [
    "data_samp = data.sample(n = 5000, random_state=0).reset_index()"
   ]
  },
  {
   "cell_type": "code",
   "execution_count": 35,
   "id": "eea963a4",
   "metadata": {},
   "outputs": [],
   "source": [
    "data_samp.to_csv('flights_samp.csv', index=False)"
   ]
  },
  {
   "cell_type": "code",
   "execution_count": null,
   "id": "e846edc4",
   "metadata": {},
   "outputs": [],
   "source": []
  }
 ],
 "metadata": {
  "kernelspec": {
   "display_name": "bootcamp",
   "language": "python",
   "name": "bootcamp"
  },
  "language_info": {
   "codemirror_mode": {
    "name": "ipython",
    "version": 3
   },
   "file_extension": ".py",
   "mimetype": "text/x-python",
   "name": "python",
   "nbconvert_exporter": "python",
   "pygments_lexer": "ipython3",
   "version": "3.8.5"
  }
 },
 "nbformat": 4,
 "nbformat_minor": 5
}
