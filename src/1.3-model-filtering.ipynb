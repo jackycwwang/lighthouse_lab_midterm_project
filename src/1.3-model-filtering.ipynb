{
 "cells": [
  {
   "cell_type": "markdown",
   "id": "a81e9afa-393b-435c-84d8-09c30dc196ad",
   "metadata": {},
   "source": [
    "# Model Filtering"
   ]
  },
  {
   "cell_type": "markdown",
   "id": "54992ffb-85e3-4691-bc26-2d6cf3c31a27",
   "metadata": {},
   "source": [
    "## Load Modules"
   ]
  },
  {
   "cell_type": "code",
   "execution_count": null,
   "id": "d9e78e74-3b32-4409-bb66-cddb665e2e79",
   "metadata": {},
   "outputs": [],
   "source": [
    "import numpy as np\n",
    "import pandas as pd\n",
    "from scipy import stats\n",
    "import modules.help_functions as hf\n",
    "import sklearn\n",
    "from sklearn.preprocessing import StandardScaler\n",
    "from sklearn.preprocessing import MinMaxScaler\n",
    "from sklearn.linear_model import LinearRegression\n",
    "from sklearn.model_selection import train_test_split\n",
    "from sklearn.model_selection import cross_validate\n",
    "from sklearn.model_selection import KFold\n",
    "from sklearn.model_selection import cross_val_score\n",
    "from sklearn.model_selection import GridSearchCV\n",
    "from sklearn.preprocessing import PolynomialFeatures\n",
    "\n",
    "from sklearn.feature_selection import VarianceThreshold\n",
    "from sklearn.feature_selection import RFE\n",
    "\n",
    "import pickle\n",
    "\n",
    "from sklearn.pipeline import make_pipeline\n",
    "import matplotlib.pyplot as plt\n",
    "import seaborn as sns"
   ]
  },
  {
   "cell_type": "markdown",
   "id": "e3c76006-14ce-41db-9fef-5983430f0bce",
   "metadata": {},
   "source": [
    "## Load the .csv File"
   ]
  },
  {
   "cell_type": "code",
   "execution_count": null,
   "id": "0a42d9d8-63fa-4647-a9d5-d833ba725387",
   "metadata": {},
   "outputs": [],
   "source": [
    "df = pd.read_csv('../data/encoded_training_data_v7.csv')"
   ]
  },
  {
   "cell_type": "markdown",
   "id": "62132b31-07d7-43f2-be0c-061891b65a51",
   "metadata": {},
   "source": [
    "## AdaBoost Regressor"
   ]
  },
  {
   "cell_type": "code",
   "execution_count": null,
   "id": "bce3fb41-3b5f-4e29-af2a-d8a26c78c195",
   "metadata": {},
   "outputs": [],
   "source": [
    "from sklearn.ensemble import AdaBoostRegressor\n",
    "from sklearn.metrics import mean_squared_error, r2_score, mean_absolute_error\n",
    "from sklearn.model_selection import train_test_split\n",
    "\n",
    "y = df.arr_delay.to_numpy()\n",
    "X = df.drop(columns=['arr_delay']).to_numpy()\n",
    "X_train, X_test, y_train, y_test = train_test_split(X, y, test_size=0.2)\n",
    "\n",
    "ada = AdaBoostRegressor()\n",
    "\n",
    "ada.fit(X_train, y_train)\n",
    "y_pred = ada.predict(X_test)\n",
    "\n",
    "print(f'MSE(test): {mean_squared_error(y_test, y_pred)}',\n",
    "      f'R2(test): {r2_score(y_test, y_pred)}', \n",
    "      f'MAE(test): {mean_absolute_error(y_test, y_pred)}')"
   ]
  },
  {
   "cell_type": "markdown",
   "id": "5b8323b2-8689-4e4d-b8d2-0b4eb7642a23",
   "metadata": {},
   "source": [
    "## SVM"
   ]
  },
  {
   "cell_type": "code",
   "execution_count": null,
   "id": "2a7139df-2e92-4309-a3b1-4863dc1414f3",
   "metadata": {},
   "outputs": [],
   "source": [
    "from sklearn.svm import SVR\n",
    "from sklearn.metrics import mean_squared_error, r2_score, mean_absolute_error\n",
    "from sklearn.model_selection import train_test_split\n",
    "\n",
    "y = df.arr_delay.to_numpy()\n",
    "X = df.drop(columns=['arr_delay']).to_numpy()\n",
    "X_train, X_test, y_train, y_test = train_test_split(X, y, test_size=0.25, random_state=88)\n",
    "\n",
    "svr = SVR()\n",
    "\n",
    "svr.fit(X_train, y_train)\n",
    "y_pred = svr.predict(X_test)\n",
    "\n",
    "print(f'MSE(test): {mean_squared_error(y_test, y_pred)}',\n",
    "      f'R2(test): {r2_score(y_test, y_pred)}', \n",
    "      f'MAE(test): {mean_absolute_error(y_test, y_pred)}')"
   ]
  },
  {
   "cell_type": "markdown",
   "id": "86d28564-f041-4ba2-a8fb-e41e214ce113",
   "metadata": {},
   "source": [
    "## Random Forest"
   ]
  },
  {
   "cell_type": "code",
   "execution_count": null,
   "id": "e6a44a38-c76e-479b-8d12-bcc6d6268c83",
   "metadata": {},
   "outputs": [],
   "source": [
    "from sklearn.ensemble import RandomForestRegressor\n",
    "from sklearn.metrics import mean_squared_error, r2_score, mean_absolute_error\n",
    "from sklearn.model_selection import train_test_split\n",
    "\n",
    "y = df.arr_delay.to_numpy()\n",
    "X = df.drop(columns=['arr_delay']).to_numpy()\n",
    "X_train, X_test, y_train, y_test = train_test_split(X, y, test_size=0.25, random_state=88)\n",
    "\n",
    "\n",
    "rfr = RandomForestRegressor()\n",
    "\n",
    "rfr.fit(X_train, y_train)\n",
    "y_pred = rfr.predict(X_test)\n",
    "\n",
    "print(f'MSE(test): {mean_squared_error(y_test, y_pred)}',\n",
    "      f'R2(test): {r2_score(y_test, y_pred)}', \n",
    "      f'MAE(test): {mean_absolute_error(y_test, y_pred)}')"
   ]
  },
  {
   "cell_type": "markdown",
   "id": "a1593eb0-b754-4e61-a543-12532a7da578",
   "metadata": {},
   "source": [
    "## Bagging"
   ]
  },
  {
   "cell_type": "code",
   "execution_count": null,
   "id": "4156db8f-b29d-4c85-a2a3-6831a2581891",
   "metadata": {},
   "outputs": [],
   "source": [
    "from sklearn.ensemble import BaggingRegressor\n",
    "from sklearn.metrics import mean_squared_error, r2_score, mean_absolute_error\n",
    "from sklearn.model_selection import train_test_split\n",
    "\n",
    "y = df.arr_delay.to_numpy()\n",
    "X = df.drop(columns=['arr_delay']).to_numpy()\n",
    "X_train, X_test, y_train, y_test = train_test_split(X, y, test_size=0.2)\n",
    "\n",
    "bag = BaggingRegressor()\n",
    "\n",
    "bag.fit(X_train, y_train)\n",
    "y_pred = bag.predict(X_test)\n",
    "\n",
    "print(f'MSE(test): {mean_squared_error(y_test, y_pred)}',\n",
    "      f'R2(test): {r2_score(y_test, y_pred)}', \n",
    "      f'MAE(test): {mean_absolute_error(y_test, y_pred)}')"
   ]
  },
  {
   "cell_type": "markdown",
   "id": "653cd944-6887-47fe-829e-771a3e27d72e",
   "metadata": {},
   "source": [
    "## Gradient Boosting"
   ]
  },
  {
   "cell_type": "code",
   "execution_count": null,
   "id": "15d1dae4-8192-4ad9-b772-2b194c8ddc4c",
   "metadata": {},
   "outputs": [],
   "source": [
    "from sklearn.ensemble import GradientBoostingRegressor\n",
    "from sklearn.metrics import mean_squared_error, r2_score, mean_absolute_error\n",
    "from sklearn.model_selection import train_test_split\n",
    "\n",
    "y = df.arr_delay.to_numpy()\n",
    "X = df.drop(columns=['arr_delay']).to_numpy()\n",
    "X_train, X_test, y_train, y_test = train_test_split(X, y, test_size=0.2)\n",
    "\n",
    "gb_reg = GradientBoostingRegressor()\n",
    "\n",
    "gb_reg.fit(X_train, y_train)\n",
    "y_pred = gb_reg.predict(X_test)\n",
    "\n",
    "print(f'MSE(test): {mean_squared_error(y_test, y_pred)}',\n",
    "      f'R2(test): {r2_score(y_test, y_pred)}', \n",
    "      f'MAE(test): {mean_absolute_error(y_test, y_pred)}')"
   ]
  },
  {
   "cell_type": "markdown",
   "id": "2f5dfc80-4e33-4b41-b87b-8b74bf4c1df4",
   "metadata": {},
   "source": [
    "## Hist Gradient Boosting"
   ]
  },
  {
   "cell_type": "code",
   "execution_count": null,
   "id": "c2bd5b0a-9f81-4ce7-936f-83ed003b27b1",
   "metadata": {},
   "outputs": [],
   "source": [
    "from sklearn.ensemble import HistGradientBoostingRegressor\n",
    "from sklearn.metrics import mean_squared_error, r2_score, mean_absolute_error\n",
    "from sklearn.model_selection import train_test_split\n",
    "\n",
    "y = df.arr_delay.to_numpy()\n",
    "X = df.drop(columns=['arr_delay']).to_numpy()\n",
    "X_train, X_test, y_train, y_test = train_test_split(X, y, test_size=0.20)\n",
    "\n",
    "hgb_reg = HistGradientBoostingRegressor()\n",
    "\n",
    "hgb_reg.fit(X_train, y_train)\n",
    "y_pred = hgb_reg.predict(X_test)\n",
    "\n",
    "print(f'MSE(test): {mean_squared_error(y_test, y_pred)}',\n",
    "      f'R2(test): {r2_score(y_test, y_pred)}', \n",
    "      f'MAE(test): {mean_absolute_error(y_test, y_pred)}')"
   ]
  },
  {
   "cell_type": "markdown",
   "id": "1046dc9e-1e57-4756-a26a-3736083898f5",
   "metadata": {},
   "source": [
    "## Voting"
   ]
  },
  {
   "cell_type": "code",
   "execution_count": null,
   "id": "33e46092-3e2d-4989-9b8d-53f5471c5646",
   "metadata": {},
   "outputs": [],
   "source": [
    "from sklearn.ensemble import VotingRegressor\n",
    "from sklearn.metrics import mean_squared_error, r2_score, mean_absolute_error\n",
    "from sklearn.model_selection import train_test_split\n",
    "\n",
    "y = df.arr_delay.to_numpy()\n",
    "X = df.drop(columns=['arr_delay']).to_numpy()\n",
    "X_train, X_test, y_train, y_test = train_test_split(X, y, test_size=0.2)\n",
    "\n",
    "v_reg = VotingRegressor()\n",
    "\n",
    "v_reg.fit(X_train, y_train)\n",
    "y_pred = v_reg.predict(X_test)\n",
    "\n",
    "print(f'MSE(test): {mean_squared_error(y_test, y_pred)}',\n",
    "      f'R2(test): {r2_score(y_test, y_pred)}', \n",
    "      f'MAE(test): {mean_absolute_error(y_test, y_pred)}')"
   ]
  },
  {
   "cell_type": "markdown",
   "id": "5485b2e2-c06d-43c5-8e61-a7fc2c8e6ac4",
   "metadata": {},
   "source": [
    "## Stacking"
   ]
  },
  {
   "cell_type": "code",
   "execution_count": null,
   "id": "dbc511ef-c8f6-4e71-9ca9-ed4d53d12864",
   "metadata": {},
   "outputs": [],
   "source": [
    "from sklearn.ensemble import StackingRegressor\n",
    "from sklearn.metrics import mean_squared_error, r2_score, mean_absolute_error\n",
    "from sklearn.model_selection import train_test_split\n",
    "\n",
    "y = df.arr_delay.to_numpy()\n",
    "X = df.drop(columns=['arr_delay']).to_numpy()\n",
    "X_train, X_test, y_train, y_test = train_test_split(X, y, test_size=0.2)\n",
    "data_dmatrix = xgb.DMatrix(data=X_train, label=y_train)\n",
    "\n",
    "st_reg = StackingRegressor()\n",
    "\n",
    "st_reg.fit(X_train, y_train)\n",
    "y_pred = st_reg.predict(X_test)\n",
    "\n",
    "print(f'MSE(test): {mean_squared_error(y_test, y_pred)}',\n",
    "      f'R2(test): {r2_score(y_test, y_pred)}', \n",
    "      f'MAE(test): {mean_absolute_error(y_test, y_pred)}')"
   ]
  }
 ],
 "metadata": {
  "kernelspec": {
   "display_name": "bootcamp",
   "language": "python",
   "name": "bootcamp"
  },
  "language_info": {
   "codemirror_mode": {
    "name": "ipython",
    "version": 3
   },
   "file_extension": ".py",
   "mimetype": "text/x-python",
   "name": "python",
   "nbconvert_exporter": "python",
   "pygments_lexer": "ipython3",
   "version": "3.8.5"
  }
 },
 "nbformat": 4,
 "nbformat_minor": 5
}
