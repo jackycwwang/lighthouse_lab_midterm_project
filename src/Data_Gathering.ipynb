{
 "cells": [
  {
   "cell_type": "code",
   "execution_count": 1,
   "id": "0e973739",
   "metadata": {},
   "outputs": [],
   "source": [
    "import pandas as pd\n",
    "import psycopg2\n",
    "import pandas.io.sql as sqlio\n",
    "\n",
    "import config as cfg"
   ]
  },
  {
   "cell_type": "code",
   "execution_count": 2,
   "id": "9a3ab141-eb1e-4d8b-ac73-f938c5642068",
   "metadata": {},
   "outputs": [],
   "source": [
    "df_fl = pd.read_csv('../data/flights_samp.csv')\n",
    "df_ap = pd.read_csv('../data/airports.csv')"
   ]
  },
  {
   "cell_type": "code",
   "execution_count": 3,
   "id": "16b8c758",
   "metadata": {},
   "outputs": [
    {
     "name": "stdout",
     "output_type": "stream",
     "text": [
      "Database opened successfully\n"
     ]
    }
   ],
   "source": [
    "host= cfg.db['host']\n",
    "port = cfg.db['port']\n",
    "user = cfg.db['user']\n",
    "pwd = cfg.db['pwd']\n",
    "database= cfg.db['database']\n",
    "\n",
    "\n",
    "con = psycopg2.connect(database=database, user=user, password=pwd, host=host, port=port)\n",
    "\n",
    "print(\"Database opened successfully\")"
   ]
  },
  {
   "cell_type": "code",
   "execution_count": 29,
   "id": "c6a9ca9a",
   "metadata": {},
   "outputs": [],
   "source": [
    "sql = '''\n",
    "SELECT * from flights \n",
    "where fl_date >= '2018-12-27' and fl_date <= '2019-01-12';\n",
    "'''\n",
    "\n",
    "# data = sqlio.read_sql_query(sql, con)"
   ]
  },
  {
   "cell_type": "code",
   "execution_count": 31,
   "id": "81525b37",
   "metadata": {},
   "outputs": [],
   "source": [
    "data.to_csv('flights.csv', index=False)"
   ]
  },
  {
   "cell_type": "code",
   "execution_count": 33,
   "id": "a1b07abc",
   "metadata": {},
   "outputs": [],
   "source": [
    "data_samp = data.sample(n = 5000, random_state=0).reset_index()"
   ]
  },
  {
   "cell_type": "code",
   "execution_count": 35,
   "id": "eea963a4",
   "metadata": {},
   "outputs": [],
   "source": [
    "data_samp.to_csv('flights_samp.csv', index=False)"
   ]
  },
  {
   "cell_type": "code",
   "execution_count": 1,
   "id": "e846edc4",
   "metadata": {},
   "outputs": [],
   "source": [
    "def to_hhmmss(df_time_col):\n",
    "    '''\n",
    "    Change the format of the time in hhmm\n",
    "    to hh:mm:ss, where ss is 00 in this case\n",
    "    Input: `df_time_col`: a Pandas Series\n",
    "    Return: a Pandas Series\n",
    "    '''\n",
    "    \n",
    "    hhmm = []\n",
    "    crs_hm = df_time_col.astype('str')\n",
    "    for t in crs_hm:\n",
    "        if len(t) == 1:\n",
    "            hhmm.append('0' + t + ':00:00')\n",
    "        elif (len(t) == 2) & (t < '24'):\n",
    "            hhmm.append(t + ':00:00')\n",
    "        elif (len(t) == 2) & (t > '24'):\n",
    "            hhmm.append('00:' + t + ':00')\n",
    "        elif len(t) == 3:\n",
    "            hhmm.append('0' + t[0] + ':' + t[1:] + ':00')\n",
    "        else:\n",
    "            hhmm.append(t[:2] + ':' + t[2:] + \":00\")\n",
    "    return hhmm"
   ]
  },
  {
   "cell_type": "code",
   "execution_count": null,
   "id": "17366c44-60cd-43b1-8e85-6ba40ddd4ec7",
   "metadata": {},
   "outputs": [],
   "source": [
    "df['crs_dep_time_hhmm'] = to_hhmmss(df.crs_dep_time)"
   ]
  },
  {
   "cell_type": "code",
   "execution_count": null,
   "id": "eb842a5f-629f-4b46-86b4-9ac89a99b9e6",
   "metadata": {},
   "outputs": [],
   "source": [
    "def to_city_state(city_state_col):\n",
    "    '''\n",
    "    Change the format of `city1/city2, state`\n",
    "    to `city1, state` \n",
    "    Input: A Pandas Series\n",
    "    Output: A Pandas Series\n",
    "    '''\n",
    "    return pd.Series(map(lambda x: x[0].split('/')[0] + ',' + x[-1].strip() ,\n",
    "                    city_state_col.str.split(',')))"
   ]
  },
  {
   "cell_type": "code",
   "execution_count": null,
   "id": "08c0e8b7-421d-4268-96ca-f612a7f0222f",
   "metadata": {},
   "outputs": [],
   "source": [
    "df.origin_city_name = to_city_state(df.origin_city_name)"
   ]
  },
  {
   "cell_type": "code",
   "execution_count": null,
   "id": "327287a8-8d60-4dac-b1de-02403517cee7",
   "metadata": {},
   "outputs": [],
   "source": [
    "def request_weather(df):\n",
    "    '''\n",
    "    request weather information\n",
    "    input: a data frame in which\n",
    "        - first column: time \n",
    "        - second column: location\n",
    "        - third column: date\n",
    "    output: a dictionary \n",
    "    '''\n",
    "    unit_group=\"us\"\n",
    "    api_key = cfg.visual_crossing['api_key']\n",
    "    requestUrl = 'https://weather.visualcrossing.com/VisualCrossingWebServices/rest/services/timeline'\n",
    "    weather_dict = { 'conditions': [] }\n",
    "    count = 1\n",
    "    for row in df.values:\n",
    "        print('Query Count: ', count)\n",
    "        time = row[0]\n",
    "        loc = row[1]\n",
    "        date = row[2]\n",
    "        url = requestUrl + '/' + loc + '/' + date + 'T' + time + '?key=' + api_key   \n",
    "        res = requests.get(url)\n",
    "        if res.status_code == 200:\n",
    "            weather_json = res.json()\n",
    "            try:\n",
    "                condition = weather_json['days'][0]['conditions']\n",
    "            except:\n",
    "                condition = 'NA'\n",
    "            else:        \n",
    "                weather_dict['conditions'].append(condition)\n",
    "        else:\n",
    "            weather_dict['conditions'].append('NA')\n",
    "            print('Error: ', res.status_code)    \n",
    "        count += 1\n",
    "    return weather_dict"
   ]
  },
  {
   "cell_type": "code",
   "execution_count": 4,
   "id": "d4c1135b-53ba-45b6-b312-ae95e609b4da",
   "metadata": {},
   "outputs": [],
   "source": []
  },
  {
   "cell_type": "code",
   "execution_count": null,
   "id": "b231fdac-0413-4201-b6bd-04e0e360b43f",
   "metadata": {},
   "outputs": [],
   "source": []
  },
  {
   "cell_type": "code",
   "execution_count": null,
   "id": "71aabd4e-c964-4140-8d0a-4113b325626c",
   "metadata": {},
   "outputs": [],
   "source": []
  },
  {
   "cell_type": "code",
   "execution_count": 6,
   "id": "efc7560f-f91f-4b07-9521-35bf648bbb09",
   "metadata": {},
   "outputs": [
    {
     "name": "stdout",
     "output_type": "stream",
     "text": [
      "{\"latitude\":37.774929,\"longitude\":-122.419418,\"timezone\":\"America/Los_Angeles\",\"currently\":{\"time\":1550692800,\"summary\":\"Mostly Cloudy\",\"icon\":\"partly-cloudy-day\",\"precipIntensity\":0,\"precipProbability\":0,\"temperature\":53.12,\"apparentTemperature\":53.12,\"dewPoint\":38.76,\"humidity\":0.58,\"pressure\":1014,\"windSpeed\":8.54,\"windGust\":14.74,\"windBearing\":277,\"cloudCover\":0.64,\"uvIndex\":4,\"visibility\":9.997},\"hourly\":{\"summary\":\"Partly cloudy throughout the day.\",\"icon\":\"partly-cloudy-day\",\"data\":[{\"time\":1550649600,\"summary\":\"Mostly Cloudy\",\"icon\":\"partly-cloudy-night\",\"precipIntensity\":0,\"precipProbability\":0,\"temperature\":48.34,\"apparentTemperature\":45.72,\"dewPoint\":39.56,\"humidity\":0.72,\"pressure\":1019,\"windSpeed\":5.93,\"windGust\":8.93,\"windBearing\":275,\"cloudCover\":0.61,\"uvIndex\":0,\"visibility\":9.997},{\"time\":1550653200,\"summary\":\"Mostly Cloudy\",\"icon\":\"partly-cloudy-night\",\"precipIntensity\":0,\"precipProbability\":0,\"temperature\":48.1,\"apparentTemperature\":44.66,\"dewPoint\":38.79,\"humidity\":0.7,\"pressure\":1018.8,\"windSpeed\":7.52,\"windGust\":11.57,\"windBearing\":286,\"cloudCover\":0.71,\"uvIndex\":0,\"visibility\":9.997},{\"time\":1550656800,\"summary\":\"Partly Cloudy\",\"icon\":\"partly-cloudy-night\",\"precipIntensity\":0,\"precipProbability\":0,\"temperature\":48.34,\"apparentTemperature\":45.15,\"dewPoint\":38.23,\"humidity\":0.68,\"pressure\":1018.4,\"windSpeed\":7.1,\"windGust\":12.32,\"windBearing\":299,\"cloudCover\":0.58,\"uvIndex\":0,\"visibility\":9.997},{\"time\":1550660400,\"summary\":\"Overcast\",\"icon\":\"cloudy\",\"precipIntensity\":0,\"precipProbability\":0,\"temperature\":49.09,\"apparentTemperature\":45.11,\"dewPoint\":36.94,\"humidity\":0.63,\"pressure\":1017.9,\"windSpeed\":9.43,\"windGust\":16.25,\"windBearing\":291,\"cloudCover\":0.88,\"uvIndex\":0,\"visibility\":9.997},{\"time\":1550664000,\"summary\":\"Overcast\",\"icon\":\"cloudy\",\"precipIntensity\":0,\"precipProbability\":0,\"temperature\":49.15,\"apparentTemperature\":45.45,\"dewPoint\":36.41,\"humidity\":0.61,\"pressure\":1017.1,\"windSpeed\":8.73,\"windGust\":14.99,\"windBearing\":297,\"cloudCover\":0.9,\"uvIndex\":0,\"visibility\":9.997},{\"time\":1550667600,\"summary\":\"Overcast\",\"icon\":\"cloudy\",\"precipIntensity\":0,\"precipProbability\":0,\"temperature\":48.84,\"apparentTemperature\":45.09,\"dewPoint\":37.02,\"humidity\":0.64,\"pressure\":1016.7,\"windSpeed\":8.64,\"windGust\":14.68,\"windBearing\":303,\"cloudCover\":0.92,\"uvIndex\":0,\"visibility\":9.997},{\"time\":1550671200,\"summary\":\"Mostly Cloudy\",\"icon\":\"partly-cloudy-night\",\"precipIntensity\":0,\"precipProbability\":0,\"temperature\":48.53,\"apparentTemperature\":45.46,\"dewPoint\":37.25,\"humidity\":0.65,\"pressure\":1016.1,\"windSpeed\":6.91,\"windGust\":13.57,\"windBearing\":299,\"cloudCover\":0.81,\"uvIndex\":0,\"visibility\":9.997},{\"time\":1550674800,\"summary\":\"Mostly Cloudy\",\"icon\":\"partly-cloudy-day\",\"precipIntensity\":0,\"precipProbability\":0,\"temperature\":48.07,\"apparentTemperature\":45.08,\"dewPoint\":37.55,\"humidity\":0.67,\"pressure\":1015.8,\"windSpeed\":6.56,\"windGust\":10.44,\"windBearing\":305,\"cloudCover\":0.77,\"uvIndex\":0,\"visibility\":9.997},{\"time\":1550678400,\"summary\":\"Mostly Cloudy\",\"icon\":\"partly-cloudy-day\",\"precipIntensity\":0,\"precipProbability\":0,\"temperature\":48.91,\"apparentTemperature\":45.24,\"dewPoint\":38.18,\"humidity\":0.66,\"pressure\":1015.5,\"windSpeed\":8.51,\"windGust\":13.14,\"windBearing\":276,\"cloudCover\":0.77,\"uvIndex\":0,\"visibility\":9.997},{\"time\":1550685600,\"summary\":\"Mostly Cloudy\",\"icon\":\"partly-cloudy-day\",\"precipIntensity\":0,\"precipProbability\":0,\"temperature\":49.97,\"apparentTemperature\":46.25,\"dewPoint\":39.02,\"humidity\":0.66,\"pressure\":1015.1,\"windSpeed\":9.27,\"windGust\":15.2,\"windBearing\":289,\"cloudCover\":0.87,\"uvIndex\":2,\"visibility\":9.997},{\"time\":1550689200,\"summary\":\"Partly Cloudy\",\"icon\":\"partly-cloudy-day\",\"precipIntensity\":0,\"precipProbability\":0,\"temperature\":51.31,\"apparentTemperature\":51.31,\"dewPoint\":38.87,\"humidity\":0.62,\"pressure\":1014.9,\"windSpeed\":7.91,\"windGust\":15.39,\"windBearing\":287,\"cloudCover\":0.53,\"uvIndex\":3,\"visibility\":9.997},{\"time\":1550692800,\"summary\":\"Mostly Cloudy\",\"icon\":\"partly-cloudy-day\",\"precipIntensity\":0,\"precipProbability\":0,\"temperature\":53.12,\"apparentTemperature\":53.12,\"dewPoint\":38.76,\"humidity\":0.58,\"pressure\":1014,\"windSpeed\":8.54,\"windGust\":14.74,\"windBearing\":277,\"cloudCover\":0.64,\"uvIndex\":4,\"visibility\":9.997},{\"time\":1550696400,\"summary\":\"Mostly Cloudy\",\"icon\":\"partly-cloudy-day\",\"precipIntensity\":0,\"precipProbability\":0,\"temperature\":53.46,\"apparentTemperature\":53.46,\"dewPoint\":37.35,\"humidity\":0.54,\"pressure\":1012.5,\"windSpeed\":9.21,\"windGust\":15.14,\"windBearing\":283,\"cloudCover\":0.65,\"uvIndex\":3,\"visibility\":9.997},{\"time\":1550700000,\"summary\":\"Clear\",\"icon\":\"clear-day\",\"precipIntensity\":0,\"precipProbability\":0,\"temperature\":53.8,\"apparentTemperature\":53.8,\"dewPoint\":37.56,\"humidity\":0.54,\"pressure\":1011.1,\"windSpeed\":12.59,\"windGust\":19.28,\"windBearing\":278,\"cloudCover\":0.31,\"uvIndex\":3,\"visibility\":9.997},{\"time\":1550703600,\"summary\":\"Partly Cloudy\",\"icon\":\"partly-cloudy-day\",\"precipIntensity\":0,\"precipProbability\":0,\"temperature\":53.79,\"apparentTemperature\":53.79,\"dewPoint\":37.35,\"humidity\":0.54,\"pressure\":1010.2,\"windSpeed\":12.37,\"windGust\":21.41,\"windBearing\":269,\"cloudCover\":0.32,\"uvIndex\":2,\"visibility\":9.677},{\"time\":1550707200,\"summary\":\"Clear\",\"icon\":\"clear-day\",\"precipIntensity\":0,\"precipProbability\":0,\"temperature\":53.42,\"apparentTemperature\":53.42,\"dewPoint\":37.32,\"humidity\":0.54,\"pressure\":1009.6,\"windSpeed\":10.65,\"windGust\":17.88,\"windBearing\":280,\"cloudCover\":0.29,\"uvIndex\":1,\"visibility\":9.997},{\"time\":1550710800,\"summary\":\"Partly Cloudy\",\"icon\":\"partly-cloudy-day\",\"precipIntensity\":0,\"precipProbability\":0,\"temperature\":52.97,\"apparentTemperature\":52.97,\"dewPoint\":37.83,\"humidity\":0.56,\"pressure\":1009.1,\"windSpeed\":10.58,\"windGust\":17.86,\"windBearing\":283,\"cloudCover\":0.5,\"uvIndex\":0,\"visibility\":9.357},{\"time\":1550714400,\"summary\":\"Partly Cloudy\",\"icon\":\"partly-cloudy-night\",\"precipIntensity\":0,\"precipProbability\":0,\"temperature\":50.8,\"apparentTemperature\":50.8,\"dewPoint\":36.94,\"humidity\":0.59,\"pressure\":1008.8,\"windSpeed\":12.47,\"windGust\":19.06,\"windBearing\":294,\"cloudCover\":0.48,\"uvIndex\":0,\"visibility\":9.263},{\"time\":1550718000,\"summary\":\"Clear\",\"icon\":\"clear-night\",\"precipIntensity\":0,\"precipProbability\":0,\"temperature\":49.31,\"apparentTemperature\":44.6,\"dewPoint\":37.05,\"humidity\":0.63,\"pressure\":1008.6,\"windSpeed\":11.82,\"windGust\":17.54,\"windBearing\":294,\"cloudCover\":0.31,\"uvIndex\":0,\"visibility\":9.659},{\"time\":1550721600,\"summary\":\"Clear\",\"icon\":\"clear-night\",\"precipIntensity\":0,\"precipProbability\":0,\"temperature\":48.61,\"apparentTemperature\":44.33,\"dewPoint\":36.66,\"humidity\":0.63,\"pressure\":1008.2,\"windSpeed\":9.93,\"windGust\":15.67,\"windBearing\":301,\"cloudCover\":0.17,\"uvIndex\":0,\"visibility\":9.659},{\"time\":1550725200,\"summary\":\"Clear\",\"icon\":\"clear-night\",\"precipIntensity\":0,\"precipProbability\":0,\"temperature\":48.09,\"apparentTemperature\":43.33,\"dewPoint\":35.74,\"humidity\":0.62,\"pressure\":1008,\"windSpeed\":11,\"windGust\":17.1,\"windBearing\":301,\"cloudCover\":0.08,\"uvIndex\":0,\"visibility\":9.677},{\"time\":1550728800,\"summary\":\"Clear\",\"icon\":\"clear-night\",\"precipIntensity\":0,\"precipProbability\":0,\"temperature\":47.38,\"apparentTemperature\":43.64,\"dewPoint\":34.56,\"humidity\":0.61,\"pressure\":1007.8,\"windSpeed\":7.83,\"windGust\":14.18,\"windBearing\":302,\"cloudCover\":0.18,\"uvIndex\":0,\"visibility\":9.997},{\"time\":1550732400,\"summary\":\"Partly Cloudy\",\"icon\":\"partly-cloudy-night\",\"precipIntensity\":0,\"precipProbability\":0,\"temperature\":47.18,\"apparentTemperature\":43.38,\"dewPoint\":34.62,\"humidity\":0.61,\"pressure\":1007.5,\"windSpeed\":7.89,\"windGust\":13.68,\"windBearing\":303,\"cloudCover\":0.42,\"uvIndex\":0,\"visibility\":9.997}]},\"daily\":{\"data\":[{\"time\":1550649600,\"summary\":\"Partly cloudy throughout the day.\",\"icon\":\"partly-cloudy-day\",\"sunriseTime\":1550674500,\"sunsetTime\":1550714100,\"moonPhase\":0.56,\"precipIntensity\":0,\"precipIntensityMax\":0,\"precipProbability\":0,\"temperatureHigh\":54.34,\"temperatureHighTime\":1550701620,\"temperatureLow\":42.11,\"temperatureLowTime\":1550760960,\"apparentTemperatureHigh\":53.84,\"apparentTemperatureHighTime\":1550701620,\"apparentTemperatureLow\":37.64,\"apparentTemperatureLowTime\":1550754180,\"dewPoint\":37.32,\"humidity\":0.61,\"pressure\":1012.9,\"windSpeed\":9.31,\"windGust\":21.44,\"windGustTime\":1550703300,\"windBearing\":290,\"cloudCover\":0.54,\"uvIndex\":4,\"uvIndexTime\":1550693640,\"visibility\":9.868,\"temperatureMin\":46.69,\"temperatureMinTime\":1550732400,\"temperatureMax\":54.34,\"temperatureMaxTime\":1550701620,\"apparentTemperatureMin\":43.31,\"apparentTemperatureMinTime\":1550725620,\"apparentTemperatureMax\":53.84,\"apparentTemperatureMaxTime\":1550701620}]},\"flags\":{\"sources\":[\"cmc\",\"gfs\",\"hrrr\",\"icon\",\"isd\",\"madis\",\"nam\",\"sref\"],\"nearest-station\":0.293,\"units\":\"us\"},\"offset\":-8}\n",
      "\n"
     ]
    }
   ],
   "source": [
    "key = cfg.rapid_api['key']\n",
    "base_url = \"https://dark-sky.p.rapidapi.com\"\n",
    "url = base_url + '/' + ll + ',' + date + 'T' + time\n",
    "\n",
    "headers = {\n",
    "    'x-rapidapi-host': \"dark-sky.p.rapidapi.com\",\n",
    "    'x-rapidapi-key': key\n",
    "    }\n",
    "\n",
    "response = requests.request(\"GET\", url, headers=headers)\n",
    "\n",
    "print(response.text)"
   ]
  },
  {
   "cell_type": "code",
   "execution_count": null,
   "id": "2dca9de4-54e3-4e10-81e6-91633f5f1533",
   "metadata": {},
   "outputs": [],
   "source": []
  }
 ],
 "metadata": {
  "kernelspec": {
   "display_name": "bootcamp",
   "language": "python",
   "name": "bootcamp"
  },
  "language_info": {
   "codemirror_mode": {
    "name": "ipython",
    "version": 3
   },
   "file_extension": ".py",
   "mimetype": "text/x-python",
   "name": "python",
   "nbconvert_exporter": "python",
   "pygments_lexer": "ipython3",
   "version": "3.8.5"
  }
 },
 "nbformat": 4,
 "nbformat_minor": 5
}
