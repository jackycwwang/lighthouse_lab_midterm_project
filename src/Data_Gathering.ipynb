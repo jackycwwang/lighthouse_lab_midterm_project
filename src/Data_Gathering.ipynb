{
 "cells": [
  {
   "cell_type": "code",
   "execution_count": 14,
   "id": "0e973739",
   "metadata": {},
   "outputs": [],
   "source": [
    "import pandas as pd\n",
    "import psycopg2\n",
    "import pandas.io.sql as sqlio\n",
    "import requests\n",
    "import pickle\n",
    "\n",
    "import config as cfg"
   ]
  },
  {
   "cell_type": "code",
   "execution_count": 90,
   "id": "9a3ab141-eb1e-4d8b-ac73-f938c5642068",
   "metadata": {},
   "outputs": [],
   "source": [
    "df = pd.read_csv('../data/flights_samp.csv')\n",
    "df_air = pd.read_csv('../data/airports_usa.csv')"
   ]
  },
  {
   "cell_type": "code",
   "execution_count": 91,
   "id": "3a16f2af",
   "metadata": {},
   "outputs": [
    {
     "data": {
      "text/plain": [
       "(5000, 43)"
      ]
     },
     "execution_count": 91,
     "metadata": {},
     "output_type": "execute_result"
    }
   ],
   "source": [
    "df.shape"
   ]
  },
  {
   "cell_type": "code",
   "execution_count": 3,
   "id": "16b8c758",
   "metadata": {},
   "outputs": [
    {
     "name": "stdout",
     "output_type": "stream",
     "text": [
      "Database opened successfully\n"
     ]
    }
   ],
   "source": [
    "host= cfg.db['host']\n",
    "port = cfg.db['port']\n",
    "user = cfg.db['user']\n",
    "pwd = cfg.db['pwd']\n",
    "database= cfg.db['database']\n",
    "\n",
    "\n",
    "con = psycopg2.connect(database=database, user=user, password=pwd, host=host, port=port)\n",
    "\n",
    "print(\"Database opened successfully\")"
   ]
  },
  {
   "cell_type": "code",
   "execution_count": 29,
   "id": "c6a9ca9a",
   "metadata": {},
   "outputs": [],
   "source": [
    "sql = '''\n",
    "SELECT * from flights \n",
    "where fl_date >= '2018-12-27' and fl_date <= '2019-01-12';\n",
    "'''\n",
    "\n",
    "# data = sqlio.read_sql_query(sql, con)\n",
    "# data.to_csv('flights.csv', index=False)\n",
    "# data_samp = data.sample(n = 5000, random_state=0).reset_index()\n",
    "# data_samp.to_csv('flights_samp.csv', index=False)"
   ]
  },
  {
   "cell_type": "code",
   "execution_count": 74,
   "id": "e846edc4",
   "metadata": {},
   "outputs": [],
   "source": [
    "def to_hhmmss(df_time_col):\n",
    "    '''\n",
    "    Change the format of the time in hhmm\n",
    "    to hh:mm:ss, where ss is 00 in this case\n",
    "    Input: `df_time_col`: a Pandas Series\n",
    "    Return: a Pandas Series\n",
    "    '''\n",
    "    \n",
    "    hhmm = []\n",
    "    crs_hm = df_time_col.astype('str')\n",
    "    for t in crs_hm:\n",
    "        if len(t) == 1:\n",
    "            hhmm.append('0' + t + ':00:00')\n",
    "        elif (len(t) == 2) & (t < '24'):\n",
    "            hhmm.append(t + ':00:00')\n",
    "        elif (len(t) == 2) & (t > '24'):\n",
    "            hhmm.append('00:' + t + ':00')\n",
    "        elif len(t) == 3:\n",
    "            hhmm.append('0' + t[0] + ':' + t[1:] + ':00')\n",
    "        else:\n",
    "            hhmm.append(t[:2] + ':' + t[2:] + \":00\")\n",
    "    return hhmm"
   ]
  },
  {
   "cell_type": "code",
   "execution_count": 75,
   "id": "17366c44-60cd-43b1-8e85-6ba40ddd4ec7",
   "metadata": {},
   "outputs": [],
   "source": [
    "df['crs_dep_time_hhmm'] = to_hhmmss(df.crs_dep_time)"
   ]
  },
  {
   "cell_type": "code",
   "execution_count": null,
   "id": "eb842a5f-629f-4b46-86b4-9ac89a99b9e6",
   "metadata": {},
   "outputs": [],
   "source": [
    "def to_city_state(city_state_col):\n",
    "    '''\n",
    "    Change the format of `city1/city2, state`\n",
    "    to `city1, state` \n",
    "    Input: A Pandas Series\n",
    "    Output: A Pandas Series\n",
    "    '''\n",
    "    return pd.Series(map(lambda x: x[0].split('/')[0] + ',' + x[-1].strip() ,\n",
    "                    city_state_col.str.split(',')))"
   ]
  },
  {
   "cell_type": "code",
   "execution_count": 92,
   "id": "d4c1135b-53ba-45b6-b312-ae95e609b4da",
   "metadata": {},
   "outputs": [],
   "source": [
    "df_air = df_air[['IATA_CODE', 'LATITUDE', 'LONGITUDE']]\n",
    "df_air = df_air.rename(columns={'IATA_CODE': 'origin'})"
   ]
  },
  {
   "cell_type": "code",
   "execution_count": 93,
   "id": "61774997",
   "metadata": {},
   "outputs": [
    {
     "data": {
      "text/html": [
       "<div>\n",
       "<style scoped>\n",
       "    .dataframe tbody tr th:only-of-type {\n",
       "        vertical-align: middle;\n",
       "    }\n",
       "\n",
       "    .dataframe tbody tr th {\n",
       "        vertical-align: top;\n",
       "    }\n",
       "\n",
       "    .dataframe thead th {\n",
       "        text-align: right;\n",
       "    }\n",
       "</style>\n",
       "<table border=\"1\" class=\"dataframe\">\n",
       "  <thead>\n",
       "    <tr style=\"text-align: right;\">\n",
       "      <th></th>\n",
       "      <th>origin</th>\n",
       "      <th>LATITUDE</th>\n",
       "      <th>LONGITUDE</th>\n",
       "    </tr>\n",
       "  </thead>\n",
       "  <tbody>\n",
       "    <tr>\n",
       "      <th>0</th>\n",
       "      <td>ABE</td>\n",
       "      <td>40.65236</td>\n",
       "      <td>-75.4404</td>\n",
       "    </tr>\n",
       "  </tbody>\n",
       "</table>\n",
       "</div>"
      ],
      "text/plain": [
       "  origin  LATITUDE  LONGITUDE\n",
       "0    ABE  40.65236   -75.4404"
      ]
     },
     "execution_count": 93,
     "metadata": {},
     "output_type": "execute_result"
    }
   ],
   "source": [
    "df_air.head(1)"
   ]
  },
  {
   "cell_type": "code",
   "execution_count": 94,
   "id": "71aabd4e-c964-4140-8d0a-4113b325626c",
   "metadata": {},
   "outputs": [],
   "source": [
    "top20_airport_code = ['LAX', 'ORD', 'EWR', 'SFO', 'LGA', 'DFW', 'LAS', 'CLT', 'DEN',\n",
    "                      'PHL', 'IAH', 'SEA', 'ATL', 'PHX', 'MCO', 'DTW', 'SLC', 'BOS',\n",
    "                      'JFK', 'MSP']"
   ]
  },
  {
   "cell_type": "code",
   "execution_count": 95,
   "id": "19fef297",
   "metadata": {},
   "outputs": [],
   "source": [
    "df = df.merge(df_air, on='origin', how='left')\n",
    "# df_air_origin = df_air[df_air.origin.isin(top20_airport_code)]\n",
    "df['ll'] = df.LATITUDE.astype('str') + ',' + df.LONGITUDE.astype('str')\n",
    "df.drop(columns=['LATITUDE', 'LONGITUDE'], inplace=True)"
   ]
  },
  {
   "cell_type": "code",
   "execution_count": 96,
   "id": "c8d824cd",
   "metadata": {},
   "outputs": [],
   "source": [
    "df_origin = df[df.origin.isin(top20_airport_code)]\n",
    "df_origin = df_origin [['fl_date', 'll']]\n",
    "df_origin = df_origin.drop_duplicates().reset_index(drop=True)"
   ]
  },
  {
   "cell_type": "code",
   "execution_count": 83,
   "id": "efc7560f-f91f-4b07-9521-35bf648bbb09",
   "metadata": {},
   "outputs": [],
   "source": [
    "def get_weather(df):\n",
    "    '''\n",
    "    request weather information\n",
    "    input: a data frame in which\n",
    "        - first column: date\n",
    "        - second column: location in \"latitude, longitude\"        \n",
    "    output: a dictionary \n",
    "    '''\n",
    "    key = cfg.rapid_api['key']\n",
    "    base_url = \"https://dark-sky.p.rapidapi.com\"\n",
    "    headers = { 'x-rapidapi-host': \"dark-sky.p.rapidapi.com\",\n",
    "                'x-rapidapi-key': key }\n",
    "    weather_dict = { 'weather':[] }\n",
    "\n",
    "    count = 1\n",
    "    for row in df.values:\n",
    "        print('Query Count: ', count)\n",
    "        date = row[0]\n",
    "        ll = row[1]\n",
    "        url = base_url + '/' + ll + ',' + date + 'T' + '13:00:00'        \n",
    "        res = requests.get(url, headers=headers)\n",
    "        if res.status_code == 200:\n",
    "            weather_json = res.json()\n",
    "            try:\n",
    "                weather = weather_json['currently']['summary']\n",
    "            except:\n",
    "                weather = 'NA'\n",
    "            finally:        \n",
    "                weather_dict['weather'].append(weather)\n",
    "        else:\n",
    "            weather_dict['weather'].append('NA')            \n",
    "        count += 1\n",
    "    return weather_dict"
   ]
  },
  {
   "cell_type": "code",
   "execution_count": 101,
   "id": "ce4c6460",
   "metadata": {},
   "outputs": [],
   "source": [
    "def merge_df_dict(df_time_ll, dic):\n",
    "    '''\n",
    "    Make a new dataframe with weather column,\n",
    "    then merge the new dataframe with original dataframe\n",
    "    input: df_time_ll, the dataframe where the `dic` is going to be concatenated on\n",
    "    return: The joined version of original dataframe\n",
    "    '''\n",
    "    df_time_ll = pd.concat([df_time_ll, pd.DataFrame.from_dict(dic)], axis=1)\n",
    "    df = df.merge(df_time_ll, on=['fl_date', 'll'], how='left')\n",
    "    return df"
   ]
  },
  {
   "cell_type": "code",
   "execution_count": 104,
   "id": "485664ad",
   "metadata": {},
   "outputs": [
    {
     "data": {
      "text/html": [
       "<div>\n",
       "<style scoped>\n",
       "    .dataframe tbody tr th:only-of-type {\n",
       "        vertical-align: middle;\n",
       "    }\n",
       "\n",
       "    .dataframe tbody tr th {\n",
       "        vertical-align: top;\n",
       "    }\n",
       "\n",
       "    .dataframe thead th {\n",
       "        text-align: right;\n",
       "    }\n",
       "</style>\n",
       "<table border=\"1\" class=\"dataframe\">\n",
       "  <thead>\n",
       "    <tr style=\"text-align: right;\">\n",
       "      <th></th>\n",
       "      <th>index</th>\n",
       "      <th>fl_date</th>\n",
       "      <th>mkt_unique_carrier</th>\n",
       "      <th>branded_code_share</th>\n",
       "      <th>mkt_carrier</th>\n",
       "      <th>mkt_carrier_fl_num</th>\n",
       "      <th>op_unique_carrier</th>\n",
       "      <th>tail_num</th>\n",
       "      <th>op_carrier_fl_num</th>\n",
       "      <th>origin_airport_id</th>\n",
       "      <th>...</th>\n",
       "      <th>weather_delay</th>\n",
       "      <th>nas_delay</th>\n",
       "      <th>security_delay</th>\n",
       "      <th>late_aircraft_delay</th>\n",
       "      <th>first_dep_time</th>\n",
       "      <th>total_add_gtime</th>\n",
       "      <th>longest_add_gtime</th>\n",
       "      <th>no_name</th>\n",
       "      <th>ll</th>\n",
       "      <th>weather</th>\n",
       "    </tr>\n",
       "  </thead>\n",
       "  <tbody>\n",
       "    <tr>\n",
       "      <th>0</th>\n",
       "      <td>244649</td>\n",
       "      <td>2019-01-07</td>\n",
       "      <td>AA</td>\n",
       "      <td>AA</td>\n",
       "      <td>AA</td>\n",
       "      <td>362</td>\n",
       "      <td>AA</td>\n",
       "      <td>N161AA</td>\n",
       "      <td>362</td>\n",
       "      <td>12892</td>\n",
       "      <td>...</td>\n",
       "      <td>NaN</td>\n",
       "      <td>NaN</td>\n",
       "      <td>NaN</td>\n",
       "      <td>NaN</td>\n",
       "      <td>NaN</td>\n",
       "      <td>NaN</td>\n",
       "      <td>NaN</td>\n",
       "      <td>NaN</td>\n",
       "      <td>33.94254,-118.40807</td>\n",
       "      <td>Overcast</td>\n",
       "    </tr>\n",
       "    <tr>\n",
       "      <th>1</th>\n",
       "      <td>190528</td>\n",
       "      <td>2019-01-04</td>\n",
       "      <td>UA</td>\n",
       "      <td>UA_CODESHARE</td>\n",
       "      <td>UA</td>\n",
       "      <td>3788</td>\n",
       "      <td>ZW</td>\n",
       "      <td>N437AW</td>\n",
       "      <td>3788</td>\n",
       "      <td>13930</td>\n",
       "      <td>...</td>\n",
       "      <td>NaN</td>\n",
       "      <td>NaN</td>\n",
       "      <td>NaN</td>\n",
       "      <td>NaN</td>\n",
       "      <td>NaN</td>\n",
       "      <td>NaN</td>\n",
       "      <td>NaN</td>\n",
       "      <td>NaN</td>\n",
       "      <td>41.9796,-87.90446</td>\n",
       "      <td>Partly Cloudy</td>\n",
       "    </tr>\n",
       "    <tr>\n",
       "      <th>2</th>\n",
       "      <td>50595</td>\n",
       "      <td>2018-12-29</td>\n",
       "      <td>WN</td>\n",
       "      <td>WN</td>\n",
       "      <td>WN</td>\n",
       "      <td>5741</td>\n",
       "      <td>WN</td>\n",
       "      <td>N7738A</td>\n",
       "      <td>5741</td>\n",
       "      <td>13871</td>\n",
       "      <td>...</td>\n",
       "      <td>NaN</td>\n",
       "      <td>NaN</td>\n",
       "      <td>NaN</td>\n",
       "      <td>NaN</td>\n",
       "      <td>NaN</td>\n",
       "      <td>NaN</td>\n",
       "      <td>NaN</td>\n",
       "      <td>NaN</td>\n",
       "      <td>41.30252,-95.89417</td>\n",
       "      <td>NaN</td>\n",
       "    </tr>\n",
       "    <tr>\n",
       "      <th>3</th>\n",
       "      <td>116214</td>\n",
       "      <td>2019-01-01</td>\n",
       "      <td>WN</td>\n",
       "      <td>WN</td>\n",
       "      <td>WN</td>\n",
       "      <td>1641</td>\n",
       "      <td>WN</td>\n",
       "      <td>N423WN</td>\n",
       "      <td>1641</td>\n",
       "      <td>15304</td>\n",
       "      <td>...</td>\n",
       "      <td>NaN</td>\n",
       "      <td>NaN</td>\n",
       "      <td>NaN</td>\n",
       "      <td>NaN</td>\n",
       "      <td>NaN</td>\n",
       "      <td>NaN</td>\n",
       "      <td>NaN</td>\n",
       "      <td>NaN</td>\n",
       "      <td>27.97547,-82.53325</td>\n",
       "      <td>NaN</td>\n",
       "    </tr>\n",
       "    <tr>\n",
       "      <th>4</th>\n",
       "      <td>134474</td>\n",
       "      <td>2019-01-02</td>\n",
       "      <td>UA</td>\n",
       "      <td>UA_CODESHARE</td>\n",
       "      <td>UA</td>\n",
       "      <td>4233</td>\n",
       "      <td>EV</td>\n",
       "      <td>N14558</td>\n",
       "      <td>4233</td>\n",
       "      <td>11618</td>\n",
       "      <td>...</td>\n",
       "      <td>0.0</td>\n",
       "      <td>22.0</td>\n",
       "      <td>0.0</td>\n",
       "      <td>0.0</td>\n",
       "      <td>NaN</td>\n",
       "      <td>NaN</td>\n",
       "      <td>NaN</td>\n",
       "      <td>NaN</td>\n",
       "      <td>40.6925,-74.16866</td>\n",
       "      <td>Mostly Cloudy</td>\n",
       "    </tr>\n",
       "  </tbody>\n",
       "</table>\n",
       "<p>5 rows × 45 columns</p>\n",
       "</div>"
      ],
      "text/plain": [
       "    index     fl_date mkt_unique_carrier branded_code_share mkt_carrier  \\\n",
       "0  244649  2019-01-07                 AA                 AA          AA   \n",
       "1  190528  2019-01-04                 UA       UA_CODESHARE          UA   \n",
       "2   50595  2018-12-29                 WN                 WN          WN   \n",
       "3  116214  2019-01-01                 WN                 WN          WN   \n",
       "4  134474  2019-01-02                 UA       UA_CODESHARE          UA   \n",
       "\n",
       "   mkt_carrier_fl_num op_unique_carrier tail_num  op_carrier_fl_num  \\\n",
       "0                 362                AA   N161AA                362   \n",
       "1                3788                ZW   N437AW               3788   \n",
       "2                5741                WN   N7738A               5741   \n",
       "3                1641                WN   N423WN               1641   \n",
       "4                4233                EV   N14558               4233   \n",
       "\n",
       "   origin_airport_id  ... weather_delay nas_delay  security_delay  \\\n",
       "0              12892  ...           NaN       NaN             NaN   \n",
       "1              13930  ...           NaN       NaN             NaN   \n",
       "2              13871  ...           NaN       NaN             NaN   \n",
       "3              15304  ...           NaN       NaN             NaN   \n",
       "4              11618  ...           0.0      22.0             0.0   \n",
       "\n",
       "  late_aircraft_delay first_dep_time  total_add_gtime  longest_add_gtime  \\\n",
       "0                 NaN            NaN              NaN                NaN   \n",
       "1                 NaN            NaN              NaN                NaN   \n",
       "2                 NaN            NaN              NaN                NaN   \n",
       "3                 NaN            NaN              NaN                NaN   \n",
       "4                 0.0            NaN              NaN                NaN   \n",
       "\n",
       "   no_name                   ll        weather  \n",
       "0      NaN  33.94254,-118.40807       Overcast  \n",
       "1      NaN    41.9796,-87.90446  Partly Cloudy  \n",
       "2      NaN   41.30252,-95.89417            NaN  \n",
       "3      NaN   27.97547,-82.53325            NaN  \n",
       "4      NaN    40.6925,-74.16866  Mostly Cloudy  \n",
       "\n",
       "[5 rows x 45 columns]"
      ]
     },
     "execution_count": 104,
     "metadata": {},
     "output_type": "execute_result"
    }
   ],
   "source": [
    "df.head()"
   ]
  },
  {
   "cell_type": "code",
   "execution_count": 103,
   "id": "5df3d212",
   "metadata": {},
   "outputs": [],
   "source": [
    "file = open('weather.pkl', 'wb')\n",
    "pickle.dump(weather, file)"
   ]
  },
  {
   "cell_type": "code",
   "execution_count": null,
   "id": "455709e0",
   "metadata": {},
   "outputs": [],
   "source": []
  }
 ],
 "metadata": {
  "kernelspec": {
   "display_name": "bootcamp_env",
   "language": "python",
   "name": "bootcamp_env"
  },
  "language_info": {
   "codemirror_mode": {
    "name": "ipython",
    "version": 3
   },
   "file_extension": ".py",
   "mimetype": "text/x-python",
   "name": "python",
   "nbconvert_exporter": "python",
   "pygments_lexer": "ipython3",
   "version": "3.8.5"
  }
 },
 "nbformat": 4,
 "nbformat_minor": 5
}
